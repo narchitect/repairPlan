{
 "cells": [
  {
   "cell_type": "code",
   "id": "initial_id",
   "metadata": {
    "collapsed": true,
    "ExecuteTime": {
     "end_time": "2024-11-07T20:02:26.690365Z",
     "start_time": "2024-11-07T20:02:26.396201Z"
    }
   },
   "source": [
    "from planner.planner2_StructuredJSON import load_scene_graph, generate_prompt, get_navigation_plan\n",
    "from data.robots2 import robots"
   ],
   "outputs": [],
   "execution_count": 1
  },
  {
   "metadata": {
    "ExecuteTime": {
     "end_time": "2024-11-07T20:02:26.696742Z",
     "start_time": "2024-11-07T20:02:26.691640Z"
    }
   },
   "cell_type": "code",
   "source": [
    "scene_graph = load_scene_graph(\"/Users/nayunkim/Documents/GitHub/repairPlan/data/sceneGraphs/3dsg_withSize(withoutLink).json\")\n",
    "prompt = generate_prompt(scene_graph, robots)"
   ],
   "id": "d75b0b11b878527e",
   "outputs": [],
   "execution_count": 2
  },
  {
   "metadata": {
    "ExecuteTime": {
     "end_time": "2024-11-07T20:03:05.142543Z",
     "start_time": "2024-11-07T20:02:26.697587Z"
    }
   },
   "cell_type": "code",
   "source": [
    "user_input = \"there is a stain on the ceiling in room id 320. the robot is currently in room id 332\"\n",
    "navigation_plan= get_navigation_plan(user_input, scene_graph, robots)"
   ],
   "id": "4a74a38d831a25be",
   "outputs": [
    {
     "name": "stdout",
     "output_type": "stream",
     "text": [
      "JSON 출력 부분을 찾을 수 없습니다.\n"
     ]
    },
    {
     "ename": "UnboundLocalError",
     "evalue": "local variable 'json_output' referenced before assignment",
     "output_type": "error",
     "traceback": [
      "\u001B[0;31m---------------------------------------------------------------------------\u001B[0m",
      "\u001B[0;31mUnboundLocalError\u001B[0m                         Traceback (most recent call last)",
      "Cell \u001B[0;32mIn[3], line 2\u001B[0m\n\u001B[1;32m      1\u001B[0m user_input \u001B[38;5;241m=\u001B[39m \u001B[38;5;124m\"\u001B[39m\u001B[38;5;124mthere is a stain on the ceiling in room id 320. the robot is currently in room id 332\u001B[39m\u001B[38;5;124m\"\u001B[39m\n\u001B[0;32m----> 2\u001B[0m navigation_plan\u001B[38;5;241m=\u001B[39m \u001B[43mget_navigation_plan\u001B[49m\u001B[43m(\u001B[49m\u001B[43muser_input\u001B[49m\u001B[43m,\u001B[49m\u001B[43m \u001B[49m\u001B[43mscene_graph\u001B[49m\u001B[43m,\u001B[49m\u001B[43m \u001B[49m\u001B[43mrobots\u001B[49m\u001B[43m)\u001B[49m\n",
      "File \u001B[0;32m~/Documents/GitHub/repairPlan/planner/planner3_StructuredJSON.py:146\u001B[0m, in \u001B[0;36mget_navigation_plan\u001B[0;34m(user_input, scene_graph, robots)\u001B[0m\n\u001B[1;32m    143\u001B[0m \u001B[38;5;28;01melse\u001B[39;00m:\n\u001B[1;32m    144\u001B[0m     \u001B[38;5;28mprint\u001B[39m(\u001B[38;5;124m\"\u001B[39m\u001B[38;5;124mJSON 출력 부분을 찾을 수 없습니다.\u001B[39m\u001B[38;5;124m\"\u001B[39m)\n\u001B[0;32m--> 146\u001B[0m \u001B[38;5;28;01mreturn\u001B[39;00m full_response, \u001B[43mjson_output\u001B[49m\n",
      "\u001B[0;31mUnboundLocalError\u001B[0m: local variable 'json_output' referenced before assignment"
     ]
    }
   ],
   "execution_count": 3
  },
  {
   "metadata": {},
   "cell_type": "code",
   "source": "print(navigation_plan)",
   "id": "e73fc968efe4ef8f",
   "outputs": [],
   "execution_count": null
  },
  {
   "metadata": {},
   "cell_type": "code",
   "source": [
    "\"defect_node\":\"6.382, 7.78, 0.0\",\n",
    "\"selected_robots\":{\n",
    "    \"reachable_robots\":[\"robot1\",\"robot2\",\"robot3\",\"robot5\",\"robot9\",\"robot10\"],\n",
    "    \"accessible_robots\":[\"robot1\",\"robot5\",\"robot6\",\"robot8\",\"robot10\"],\n",
    "    \"reachableAndAccessible_robots\":[\"robot1\",\"robot5\",\"robot10\"]\n",
    "},\n",
    "\"navigation_paths\":{\n",
    "    \"path\":[\"314\",\"23\",\"313\",\"21\",\"312\",\"20\",\"311\",\"28\",\"5\",\"18\",\"309\"],\n",
    "    \"rooms\":[\"314\",\"313\",\"312\",\"311\",\"5\",\"309\"],\n",
    "    \"doors\":[\"23\",\"21\",\"20\",\"28\",\"18\"]\n",
    "},\n",
    "\"reasoning\":\"\"\"\n",
    "1. **Identify Defect:** \n",
    "The task indicates a stain on the ceiling in room 309. \n",
    "Cross-referencing the scene graph, room 309 has a ceiling with a 'size' dimension key of '6.382, 7.78, 0.0'. Therefore, the defect node corresponds to the ceiling component in room 309.\\\\n\\\\n\n",
    "\n",
    "2. **Check Reachability:** \n",
    "To address the ceiling stain, we examine robots’ ‘max_reach_height'. \n",
    "The defect ceiling's height (3.7m) is key. Robots with a ‘max_reach_height’ greater than 3.7 meters can reach it. \n",
    "Robots 1, 2, 3, 5, 9, and 10 meet this criterion, making them suitable for ceiling stain tasks.\\\\n\\\\n\n",
    "\n",
    "3. **Generate Navigation Paths:** From room 314 to 309, \n",
    "I mapped a path through connecting doors: 314-313 via door 23, 313-312 via door 21, 312-311 via 20, 311-5 via 28, and finally, 5-309 via door 18. \n",
    "The complete sequence is [314,23,313,21,312,20,311,28,5,18,309].\\\\n\\\\n\n",
    "\n",
    "4. **Check Accessibility:** \n",
    "Evaluating door dimensions against robot sizes, we consider accessibility. \n",
    "Robots must fit through narrowest doors: doors like 28 have a width of approximately 0.69m. \n",
    "Robots exceeding door widths (e.g., robot4 with 1.6m width) won't fit. Robots 1, 5, 6, 8, and 10 fit through all doors. Moreover, eliminate robots who can't manage both reach and access, establishing robots 1, 5, and 10 as those suitable for the task.\\\\n\\\\n\n",
    "\n",
    "5. **Final Output:** Include the JSON schema with these findings, linking defect nodes, reachable/accessible robots and navigation pathways.\"\"\"}"
   ],
   "id": "8ec935f0bffb9274",
   "outputs": [],
   "execution_count": null
  },
  {
   "metadata": {},
   "cell_type": "code",
   "source": [
    "{\n",
    "  \"defect_node\": \"698\",\n",
    "  \"selected_robots\": [\n",
    "    {\n",
    "      \"robot_id\": \"robot10\"\n",
    "    }\n",
    "  ],\n",
    "  \"navigation_paths\": [\n",
    "    {\n",
    "      \"room_id\": \"314\",\n",
    "      \"door_id\": \"23\"\n",
    "    },\n",
    "    {\n",
    "      \"room_id\": \"313\",\n",
    "      \"door_id\": \"21\"\n",
    "    },\n",
    "    {\n",
    "      \"room_id\": \"312\",\n",
    "      \"door_id\": \"20\"\n",
    "    },\n",
    "    {\n",
    "      \"room_id\": \"311\",\n",
    "      \"door_id\": \"430\"\n",
    "    },\n",
    "    {\n",
    "      \"room_id\": \"309\",\n",
    "      \"door_id\": \"19\"\n",
    "    }\n",
    "  ],\n",
    "  \"reasoning\": {\n",
    "    \"1. Identify Defect\": {\n",
    "      \"Reasoning\": \"The user described a stain on the ceiling in room 309. Checking the scene graph, the ceilings are listed among the 'elements' with specific identifiers. Ceiling '698' corresponds to room '309'. Therefore, defect node is identified with id '698'.\"\n",
    "    },\n",
    "    \"2. Check Reachability\": {\n",
    "      \"Reasoning\": \"The defect is a stain on the ceiling, and the ceiling's height is 3.7 meters in room 309. We need a robot that can reach at least this high to address the stain. Only 'robot10' has a 'max_reach_height' of 4000 mm, which can reach the ceiling and likely perform 'CleanSurface', an action necessary for removing the stain.\"\n",
    "    },\n",
    "    \"3. Generate Navigation Paths\": {\n",
    "      \"Reasoning\": \"The robot is starting in room 314. There are doors connecting each room through which the robot must pass to reach room 309. From room 314, door 23 leads to room 313. From room 313, door 21 leads to room 312. From room 312, door 20 leads to room 311. Finally, door 19 leads from room 311 to room 309. The sequence follows accessible pathways mapped through the scene graph.\"\n",
    "    },\n",
    "    \"4. Check Accessibility\": {\n",
    "      \"Reasoning\": \"The path from room 314 to 309 is checked for door sizes. Each door dimension is compared against the largest dimensions of the selected robots. 'robot10', with a width of 500 mm, can fit through all doors listed, which have dimensions greater than the robot's width.\",\n",
    "      \"Conclusion\": \"The accessible robots are those that match the path constraints, including necessary cleaning actions. Hence, only 'robot10' is both dynamically reachable (by reach height) and statically accessible (by door size and path).\"\n",
    "    }\n",
    "  },\n",
    "  \"Final Summary\": \"The final JSON output reflects these decisions with a focus on ensuring the chosen robot can navigate to and address the defect adequately.\"\n",
    "}\n"
   ],
   "id": "104b3dd1fc6a761",
   "outputs": [],
   "execution_count": null
  }
 ],
 "metadata": {
  "kernelspec": {
   "display_name": "Python (repairPlan)",
   "language": "python",
   "name": "repairplan"
  },
  "language_info": {
   "codemirror_mode": {
    "name": "ipython",
    "version": 2
   },
   "file_extension": ".py",
   "mimetype": "text/x-python",
   "name": "python",
   "nbconvert_exporter": "python",
   "pygments_lexer": "ipython2",
   "version": "2.7.6"
  }
 },
 "nbformat": 4,
 "nbformat_minor": 5
}
