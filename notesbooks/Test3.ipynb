{
 "cells": [
  {
   "cell_type": "code",
   "id": "initial_id",
   "metadata": {
    "collapsed": true,
    "ExecuteTime": {
     "end_time": "2024-10-29T19:20:29.020369Z",
     "start_time": "2024-10-29T19:20:28.749160Z"
    }
   },
   "source": [
    "from planner3 import load_scene_graph, generate_prompt, get_navigation_plan\n",
    "from robots import robots"
   ],
   "outputs": [],
   "execution_count": 1
  },
  {
   "metadata": {
    "ExecuteTime": {
     "end_time": "2024-10-29T19:20:29.027057Z",
     "start_time": "2024-10-29T19:20:29.021395Z"
    }
   },
   "cell_type": "code",
   "source": [
    "scene_graph = load_scene_graph(\"/Users/nayunkim/Documents/GitHub/repairPlan/data/sceneGraphs/3D_Scene_Graph_large.json\")\n",
    "prompt = generate_prompt(scene_graph, robots)"
   ],
   "id": "d75b0b11b878527e",
   "outputs": [],
   "execution_count": 2
  },
  {
   "metadata": {
    "ExecuteTime": {
     "end_time": "2024-10-29T19:20:54.125026Z",
     "start_time": "2024-10-29T19:20:29.028308Z"
    }
   },
   "cell_type": "code",
   "source": [
    "user_input = \"there is a stain on the ceiling in room id 309. the robot is currently in room id 314\"\n",
    "navigation_plan = get_navigation_plan(user_input, scene_graph, robots)"
   ],
   "id": "4a74a38d831a25be",
   "outputs": [],
   "execution_count": 3
  },
  {
   "metadata": {
    "ExecuteTime": {
     "end_time": "2024-10-29T19:20:54.132122Z",
     "start_time": "2024-10-29T19:20:54.127445Z"
    }
   },
   "cell_type": "code",
   "source": "print(navigation_plan)",
   "id": "e73fc968efe4ef8f",
   "outputs": [
    {
     "name": "stdout",
     "output_type": "stream",
     "text": [
      "{\"defect_node\":\"430\",\"selected_robots\":[\"robot7\"],\"navigation_paths\":[\"314\",\"23\",\"313\",\"21\",\"312\",\"20\",\"311\",\"28\",\"5\",\"18\",\"309\"],\"reasoning\":\"1. **Identify Defect:**\\n    - Reasoning: Based on the user's description that there is a stain on the ceiling in room 309, we identify the defect node as a ceiling component located in room 309. Reviewing the 3D scene graph, we match the ceiling component's room, which is indeed in room 309. This aligns with the specific defect description provided.\\n\\n2. **Check Reachability:**\\n    - Reasoning: The stain is on the ceiling, hence at a height of approximately the room height, which is 3.7 meters. Comparing this with the robots' maximum reach heights, robot7 (with a reach height of 2.2 meters) can potentially reach if extended, especially with proper positioning. However, no robot can directly reach up to 3.7 meters without an extension or aid.\\n\\n3. **Generate Navigation Paths:**\\n    - Reasoning: Starting from room 314, the closest path going through adjacent linked rooms is critical to minimize navigation time. Room 314 connects to 313, then to room 312, and finally room 311 which connects through door 28 to the main corridor (5). Using door 18 from corridor (5), room 309 is accessible. This path uses available direct room connections via the scene graph.\\n\\n4. **Check Accessibility:**\\n    - Reasoning: Each door in the path (23, 21, 20, 28, 18) needs to be assessed against robot7’s size (width 800mm, height 2000mm). Door 21, for example, is 914mm wide, sufficient for robot7. All doors along the navigation are checked and allow passage of the selected robot.\\n\\n5. **Final Output:**\\n   - The selected robot is robot7 due to its extensive functionality, including actions like 'CleanSurface' required for stain removal on the ceiling. The navigation path fits the accessibility requirements, and the robot's capabilities match the task's needs.\"}\n"
     ]
    }
   ],
   "execution_count": 4
  },
  {
   "metadata": {
    "ExecuteTime": {
     "end_time": "2024-10-29T19:20:54.141009Z",
     "start_time": "2024-10-29T19:20:54.134464Z"
    }
   },
   "cell_type": "code",
   "source": [
    "\"defect_node\":\"6.382, 7.78, 0.0\",\n",
    "\"selected_robots\":{\n",
    "    \"reachable_robots\":[\"robot1\",\"robot2\",\"robot3\",\"robot5\",\"robot9\",\"robot10\"],\n",
    "    \"accessible_robots\":[\"robot1\",\"robot5\",\"robot6\",\"robot8\",\"robot10\"],\n",
    "    \"reachableAndAccessible_robots\":[\"robot1\",\"robot5\",\"robot10\"]\n",
    "},\n",
    "\"navigation_paths\":{\n",
    "    \"path\":[\"314\",\"23\",\"313\",\"21\",\"312\",\"20\",\"311\",\"28\",\"5\",\"18\",\"309\"],\n",
    "    \"rooms\":[\"314\",\"313\",\"312\",\"311\",\"5\",\"309\"],\n",
    "    \"doors\":[\"23\",\"21\",\"20\",\"28\",\"18\"]\n",
    "},\n",
    "\"reasoning\":\"\"\"\n",
    "1. **Identify Defect:** \n",
    "The task indicates a stain on the ceiling in room 309. \n",
    "Cross-referencing the scene graph, room 309 has a ceiling with a 'size' dimension key of '6.382, 7.78, 0.0'. Therefore, the defect node corresponds to the ceiling component in room 309.\\\\n\\\\n\n",
    "\n",
    "2. **Check Reachability:** \n",
    "To address the ceiling stain, we examine robots’ ‘max_reach_height'. \n",
    "The defect ceiling's height (3.7m) is key. Robots with a ‘max_reach_height’ greater than 3.7 meters can reach it. \n",
    "Robots 1, 2, 3, 5, 9, and 10 meet this criterion, making them suitable for ceiling stain tasks.\\\\n\\\\n\n",
    "\n",
    "3. **Generate Navigation Paths:** From room 314 to 309, \n",
    "I mapped a path through connecting doors: 314-313 via door 23, 313-312 via door 21, 312-311 via 20, 311-5 via 28, and finally, 5-309 via door 18. \n",
    "The complete sequence is [314,23,313,21,312,20,311,28,5,18,309].\\\\n\\\\n\n",
    "\n",
    "4. **Check Accessibility:** \n",
    "Evaluating door dimensions against robot sizes, we consider accessibility. \n",
    "Robots must fit through narrowest doors: doors like 28 have a width of approximately 0.69m. \n",
    "Robots exceeding door widths (e.g., robot4 with 1.6m width) won't fit. Robots 1, 5, 6, 8, and 10 fit through all doors. Moreover, eliminate robots who can't manage both reach and access, establishing robots 1, 5, and 10 as those suitable for the task.\\\\n\\\\n\n",
    "\n",
    "5. **Final Output:** Include the JSON schema with these findings, linking defect nodes, reachable/accessible robots and navigation pathways.\"\"\"}"
   ],
   "id": "8ec935f0bffb9274",
   "outputs": [
    {
     "ename": "SyntaxError",
     "evalue": "illegal target for annotation (3807811817.py, line 1)",
     "output_type": "error",
     "traceback": [
      "\u001B[0;36m  Cell \u001B[0;32mIn[5], line 1\u001B[0;36m\u001B[0m\n\u001B[0;31m    \"defect_node\":\"6.382, 7.78, 0.0\",\u001B[0m\n\u001B[0m    ^\u001B[0m\n\u001B[0;31mSyntaxError\u001B[0m\u001B[0;31m:\u001B[0m illegal target for annotation\n"
     ]
    }
   ],
   "execution_count": 5
  },
  {
   "metadata": {},
   "cell_type": "code",
   "outputs": [],
   "execution_count": null,
   "source": [
    "{\n",
    "  \"defect_node\": \"698\",\n",
    "  \"selected_robots\": [\n",
    "    {\n",
    "      \"robot_id\": \"robot10\"\n",
    "    }\n",
    "  ],\n",
    "  \"navigation_paths\": [\n",
    "    {\n",
    "      \"room_id\": \"314\",\n",
    "      \"door_id\": \"23\"\n",
    "    },\n",
    "    {\n",
    "      \"room_id\": \"313\",\n",
    "      \"door_id\": \"21\"\n",
    "    },\n",
    "    {\n",
    "      \"room_id\": \"312\",\n",
    "      \"door_id\": \"20\"\n",
    "    },\n",
    "    {\n",
    "      \"room_id\": \"311\",\n",
    "      \"door_id\": \"430\"\n",
    "    },\n",
    "    {\n",
    "      \"room_id\": \"309\",\n",
    "      \"door_id\": \"19\"\n",
    "    }\n",
    "  ],\n",
    "  \"reasoning\": {\n",
    "    \"1. Identify Defect\": {\n",
    "      \"Reasoning\": \"The user described a stain on the ceiling in room 309. Checking the scene graph, the ceilings are listed among the 'elements' with specific identifiers. Ceiling '698' corresponds to room '309'. Therefore, defect node is identified with id '698'.\"\n",
    "    },\n",
    "    \"2. Check Reachability\": {\n",
    "      \"Reasoning\": \"The defect is a stain on the ceiling, and the ceiling's height is 3.7 meters in room 309. We need a robot that can reach at least this high to address the stain. Only 'robot10' has a 'max_reach_height' of 4000 mm, which can reach the ceiling and likely perform 'CleanSurface', an action necessary for removing the stain.\"\n",
    "    },\n",
    "    \"3. Generate Navigation Paths\": {\n",
    "      \"Reasoning\": \"The robot is starting in room 314. There are doors connecting each room through which the robot must pass to reach room 309. From room 314, door 23 leads to room 313. From room 313, door 21 leads to room 312. From room 312, door 20 leads to room 311. Finally, door 19 leads from room 311 to room 309. The sequence follows accessible pathways mapped through the scene graph.\"\n",
    "    },\n",
    "    \"4. Check Accessibility\": {\n",
    "      \"Reasoning\": \"The path from room 314 to 309 is checked for door sizes. Each door dimension is compared against the largest dimensions of the selected robots. 'robot10', with a width of 500 mm, can fit through all doors listed, which have dimensions greater than the robot's width.\",\n",
    "      \"Conclusion\": \"The accessible robots are those that match the path constraints, including necessary cleaning actions. Hence, only 'robot10' is both dynamically reachable (by reach height) and statically accessible (by door size and path).\"\n",
    "    }\n",
    "  },\n",
    "  \"Final Summary\": \"The final JSON output reflects these decisions with a focus on ensuring the chosen robot can navigate to and address the defect adequately.\"\n",
    "}\n"
   ],
   "id": "104b3dd1fc6a761"
  }
 ],
 "metadata": {
  "kernelspec": {
   "display_name": "Python (repairPlan)",
   "language": "python",
   "name": "repairplan"
  },
  "language_info": {
   "codemirror_mode": {
    "name": "ipython",
    "version": 2
   },
   "file_extension": ".py",
   "mimetype": "text/x-python",
   "name": "python",
   "nbconvert_exporter": "python",
   "pygments_lexer": "ipython2",
   "version": "2.7.6"
  }
 },
 "nbformat": 4,
 "nbformat_minor": 5
}
