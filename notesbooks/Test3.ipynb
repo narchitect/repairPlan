{
 "cells": [
  {
   "cell_type": "code",
   "id": "initial_id",
   "metadata": {
    "collapsed": true,
    "ExecuteTime": {
     "end_time": "2024-10-29T15:07:52.124904Z",
     "start_time": "2024-10-29T15:07:51.869475Z"
    }
   },
   "source": [
    "from planner3 import load_scene_graph, generate_prompt, get_navigation_plan\n",
    "from robots import robots"
   ],
   "outputs": [],
   "execution_count": 1
  },
  {
   "metadata": {
    "ExecuteTime": {
     "end_time": "2024-10-29T15:07:53.281505Z",
     "start_time": "2024-10-29T15:07:53.272934Z"
    }
   },
   "cell_type": "code",
   "source": [
    "scene_graph = load_scene_graph(\"/Users/nayunkim/Documents/GitHub/repairPlan/data/sceneGraphs/3D_Scene_Graph_large.json\")\n",
    "prompt = generate_prompt(scene_graph, robots)"
   ],
   "id": "d75b0b11b878527e",
   "outputs": [],
   "execution_count": 2
  },
  {
   "metadata": {
    "ExecuteTime": {
     "end_time": "2024-10-29T15:08:38.022439Z",
     "start_time": "2024-10-29T15:07:54.937146Z"
    }
   },
   "cell_type": "code",
   "source": [
    "user_input = \"there is a stain on the ceiling in room id 309. the robot is currently in room id 314\"\n",
    "navigation_plan = get_navigation_plan(user_input, scene_graph, robots)"
   ],
   "id": "4a74a38d831a25be",
   "outputs": [],
   "execution_count": 3
  },
  {
   "metadata": {
    "ExecuteTime": {
     "end_time": "2024-10-29T15:08:41.487550Z",
     "start_time": "2024-10-29T15:08:41.483344Z"
    }
   },
   "cell_type": "code",
   "source": "print(navigation_plan)\n",
   "id": "e73fc968efe4ef8f",
   "outputs": [
    {
     "name": "stdout",
     "output_type": "stream",
     "text": [
      "{\"defect_node\":\"6.382, 7.78, 0.0\",\"selected_robots\":{\"reachable_robots\":[\"robot1\",\"robot2\",\"robot3\",\"robot5\",\"robot9\",\"robot10\"],\"accessible_robots\":[\"robot1\",\"robot5\",\"robot6\",\"robot8\",\"robot10\"],\"reachableAndAccessible_robots\":[\"robot1\",\"robot5\",\"robot10\"]},\"navigation_paths\":{\"path\":[\"314\",\"23\",\"313\",\"21\",\"312\",\"20\",\"311\",\"28\",\"5\",\"18\",\"309\"],\"rooms\":[\"314\",\"313\",\"312\",\"311\",\"5\",\"309\"],\"doors\":[\"23\",\"21\",\"20\",\"28\",\"18\"]},\"reasoning\":\"1. **Identify Defect:** The task indicates a stain on the ceiling in room 309. Cross-referencing the scene graph, room 309 has a ceiling with a 'size' dimension key of '6.382, 7.78, 0.0'. Therefore, the defect node corresponds to the ceiling component in room 309.\\\\n\\\\n2. **Check Reachability:** To address the ceiling stain, we examine robots’ ‘max_reach_height'. The defect ceiling's height (3.7m) is key. Robots with a ‘max_reach_height’ greater than 3.7 meters can reach it. Robots 1, 2, 3, 5, 9, and 10 meet this criterion, making them suitable for ceiling stain tasks.\\\\n\\\\n3. **Generate Navigation Paths:** From room 314 to 309, I mapped a path through connecting doors: 314-313 via door 23, 313-312 via door 21, 312-311 via 20, 311-5 via 28, and finally, 5-309 via door 18. The complete sequence is [314,23,313,21,312,20,311,28,5,18,309].\\\\n\\\\n4. **Check Accessibility:** Evaluating door dimensions against robot sizes, we consider accessibility. Robots must fit through narrowest doors: doors like 28 have a width of approximately 0.69m. Robots exceeding door widths (e.g., robot4 with 1.6m width) won't fit. Robots 1, 5, 6, 8, and 10 fit through all doors. Moreover, eliminate robots who can't manage both reach and access, establishing robots 1, 5, and 10 as those suitable for the task.\\\\n\\\\n5. **Final Output:** Include the JSON schema with these findings, linking defect nodes, reachable/accessible robots and navigation pathways.\"}\n"
     ]
    }
   ],
   "execution_count": 4
  },
  {
   "metadata": {},
   "cell_type": "code",
   "outputs": [],
   "execution_count": null,
   "source": [
    "\"defect_node\":\"6.382, 7.78, 0.0\",\n",
    "\"selected_robots\":{\n",
    "    \"reachable_robots\":[\"robot1\",\"robot2\",\"robot3\",\"robot5\",\"robot9\",\"robot10\"],\n",
    "    \"accessible_robots\":[\"robot1\",\"robot5\",\"robot6\",\"robot8\",\"robot10\"],\n",
    "    \"reachableAndAccessible_robots\":[\"robot1\",\"robot5\",\"robot10\"]\n",
    "},\n",
    "\"navigation_paths\":{\n",
    "    \"path\":[\"314\",\"23\",\"313\",\"21\",\"312\",\"20\",\"311\",\"28\",\"5\",\"18\",\"309\"],\n",
    "    \"rooms\":[\"314\",\"313\",\"312\",\"311\",\"5\",\"309\"],\n",
    "    \"doors\":[\"23\",\"21\",\"20\",\"28\",\"18\"]\n",
    "},\n",
    "\"reasoning\":\"\"\"\n",
    "1. **Identify Defect:** \n",
    "The task indicates a stain on the ceiling in room 309. \n",
    "Cross-referencing the scene graph, room 309 has a ceiling with a 'size' dimension key of '6.382, 7.78, 0.0'. Therefore, the defect node corresponds to the ceiling component in room 309.\\\\n\\\\n\n",
    "\n",
    "2. **Check Reachability:** \n",
    "To address the ceiling stain, we examine robots’ ‘max_reach_height'. \n",
    "The defect ceiling's height (3.7m) is key. Robots with a ‘max_reach_height’ greater than 3.7 meters can reach it. \n",
    "Robots 1, 2, 3, 5, 9, and 10 meet this criterion, making them suitable for ceiling stain tasks.\\\\n\\\\n\n",
    "\n",
    "3. **Generate Navigation Paths:** From room 314 to 309, \n",
    "I mapped a path through connecting doors: 314-313 via door 23, 313-312 via door 21, 312-311 via 20, 311-5 via 28, and finally, 5-309 via door 18. \n",
    "The complete sequence is [314,23,313,21,312,20,311,28,5,18,309].\\\\n\\\\n\n",
    "\n",
    "4. **Check Accessibility:** \n",
    "Evaluating door dimensions against robot sizes, we consider accessibility. \n",
    "Robots must fit through narrowest doors: doors like 28 have a width of approximately 0.69m. \n",
    "Robots exceeding door widths (e.g., robot4 with 1.6m width) won't fit. Robots 1, 5, 6, 8, and 10 fit through all doors. Moreover, eliminate robots who can't manage both reach and access, establishing robots 1, 5, and 10 as those suitable for the task.\\\\n\\\\n\n",
    "\n",
    "5. **Final Output:** Include the JSON schema with these findings, linking defect nodes, reachable/accessible robots and navigation pathways.\"\"\"}"
   ],
   "id": "8ec935f0bffb9274"
  }
 ],
 "metadata": {
  "kernelspec": {
   "display_name": "Python (repairPlan)",
   "language": "python",
   "name": "repairplan"
  },
  "language_info": {
   "codemirror_mode": {
    "name": "ipython",
    "version": 2
   },
   "file_extension": ".py",
   "mimetype": "text/x-python",
   "name": "python",
   "nbconvert_exporter": "python",
   "pygments_lexer": "ipython2",
   "version": "2.7.6"
  }
 },
 "nbformat": 4,
 "nbformat_minor": 5
}
