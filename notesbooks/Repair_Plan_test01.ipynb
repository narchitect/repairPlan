{
 "cells": [
  {
   "metadata": {
    "ExecuteTime": {
     "end_time": "2024-11-05T18:32:10.501446Z",
     "start_time": "2024-11-05T18:32:03.685181Z"
    }
   },
   "cell_type": "code",
   "source": [
    "from planner.planner_repairPlan import plan_robot_task\n",
    "from data.robots2 import get_robot_info_by_id\n",
    "from utils.get_room_nodes import get_associated_nodes\n",
    "defect_node_id = '537'\n",
    "robot_ids = ['1', '5', '7']\n",
    "\n",
    "user_input = \"there is a stain on the ceiling in room id 8. the robot is currently in room id 3\"\n",
    "robot_info = get_robot_info_by_id(robot_ids)\n",
    "env_info = get_associated_nodes(defect_node_id)\n",
    "\n",
    "repair_plan = plan_robot_task(user_input, robot_info, env_info)\n",
    "print(repair_plan)"
   ],
   "id": "31fa2fb13a9c079a",
   "outputs": [
    {
     "name": "stdout",
     "output_type": "stream",
     "text": [
      "Based on the provided information, the defect is a stain on the ceiling in room ID 8, which corresponds to room \"119\" in the environment data. The ceiling's height is 3.0885 meters, and the stain is likely located on the ceiling surface. The robot needs to reach this height to clean the stain.\n",
      "\n",
      "### Robot Selection:\n",
      "- **Robot 1** has a maximum reach height of 2000 mm (2 meters), which is insufficient to reach the ceiling (3.0885 meters).\n",
      "- **Robot 5** has a maximum reach height of 3700 mm (3.7 meters), which is sufficient to reach the ceiling.\n",
      "- **Robot 7** has a maximum reach height of 2000 mm (2 meters), which is also insufficient.\n",
      "\n",
      "Thus, **Robot 5** is the most efficient choice because it can reach the ceiling and has the necessary actions and equipment to clean the stain.\n",
      "\n",
      "### Action Sequence:\n",
      "1. The robot needs to navigate to room \"119\" (room ID 8).\n",
      "2. The robot should scan the ceiling to locate the stain.\n",
      "3. The robot should load the necessary cleaning equipment (spray gun and wiper).\n",
      "4. The robot should spray the cleaning solution on the stain.\n",
      "5. The robot should wipe the surface to clean the stain.\n",
      "6. Finally, the robot should unload the equipment.\n",
      "\n",
      "### Generated Action Sequence:\n",
      "```json\n",
      "{\n",
      "    \"selected_robot_id\": \"5\",\n",
      "    \"action_sequence\": [\n",
      "        \"navigateTo<119>\",\n",
      "        \"scan<373>\",\n",
      "        \"load<sprayGun>\",\n",
      "        \"spray<373><cleaning Solution>\",\n",
      "        \"unload<sprayGun>\",\n",
      "        \"load<wiper>\",\n",
      "        \"wipeSurface<373>\",\n",
      "        \"unload<wiper>\"\n",
      "    ]\n",
      "}\n",
      "```\n",
      "\n",
      "### Explanation:\n",
      "- **navigateTo<119>**: The robot navigates to room \"119\" (room ID 8).\n",
      "- **scan<373>**: The robot scans the ceiling (node ID 373) to locate the stain.\n",
      "- **load<sprayGun>**: The robot loads the spray gun.\n",
      "- **spray<373><cleaning Solution>**: The robot sprays the cleaning solution on the ceiling (node ID 373).\n",
      "- **unload<sprayGun>**: The robot unloads the spray gun.\n",
      "- **load<wiper>**: The robot loads the wiper.\n",
      "- **wipeSurface<373>**: The robot wipes the ceiling surface (node ID 373) to clean the stain.\n",
      "- **unload<wiper>**: The robot unloads the wiper after completing the task.\n",
      "\n",
      "This sequence ensures that the robot efficiently cleans the stain on the ceiling while adhering to its one-arm constraint.\n"
     ]
    }
   ],
   "execution_count": 1
  },
  {
   "cell_type": "code",
   "id": "initial_id",
   "metadata": {
    "collapsed": true
   },
   "source": [
    ""
   ],
   "outputs": [],
   "execution_count": null
  }
 ],
 "metadata": {
  "kernelspec": {
   "display_name": "Python 3",
   "language": "python",
   "name": "python3"
  },
  "language_info": {
   "codemirror_mode": {
    "name": "ipython",
    "version": 2
   },
   "file_extension": ".py",
   "mimetype": "text/x-python",
   "name": "python",
   "nbconvert_exporter": "python",
   "pygments_lexer": "ipython2",
   "version": "2.7.6"
  }
 },
 "nbformat": 4,
 "nbformat_minor": 5
}
