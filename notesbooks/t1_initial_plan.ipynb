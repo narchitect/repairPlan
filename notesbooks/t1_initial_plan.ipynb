{
 "cells": [
  {
   "cell_type": "code",
   "execution_count": 5,
   "id": "initial_id",
   "metadata": {
    "ExecuteTime": {
     "end_time": "2024-11-20T21:24:56.971634Z",
     "start_time": "2024-11-20T21:24:56.654747Z"
    },
    "collapsed": true
   },
   "outputs": [
    {
     "ename": "ModuleNotFoundError",
     "evalue": "No module named 'utils'",
     "output_type": "error",
     "traceback": [
      "\u001b[0;31m---------------------------------------------------------------------------\u001b[0m",
      "\u001b[0;31mModuleNotFoundError\u001b[0m                       Traceback (most recent call last)",
      "Cell \u001b[0;32mIn[5], line 1\u001b[0m\n\u001b[0;32m----> 1\u001b[0m \u001b[38;5;28;01mfrom\u001b[39;00m \u001b[38;5;21;01mutils\u001b[39;00m\u001b[38;5;21;01m.\u001b[39;00m\u001b[38;5;21;01mloader\u001b[39;00m \u001b[38;5;28;01mimport\u001b[39;00m load_scene_graph\n\u001b[1;32m      2\u001b[0m \u001b[38;5;28;01mfrom\u001b[39;00m \u001b[38;5;21;01mdata\u001b[39;00m\u001b[38;5;21;01m.\u001b[39;00m\u001b[38;5;21;01mrobots\u001b[39;00m \u001b[38;5;28;01mimport\u001b[39;00m robots_withConfig\n\u001b[1;32m      3\u001b[0m \u001b[38;5;28;01mfrom\u001b[39;00m \u001b[38;5;21;01mplanner\u001b[39;00m\u001b[38;5;21;01m.\u001b[39;00m\u001b[38;5;21;01mplanner_initialPlanner_o1\u001b[39;00m \u001b[38;5;28;01mimport\u001b[39;00m identify_defect_node, select_robot\n",
      "\u001b[0;31mModuleNotFoundError\u001b[0m: No module named 'utils'"
     ]
    }
   ],
   "source": [
    "from utils.loader import load_scene_graph\n",
    "from data.robots import robots_withConfig\n",
    "from planner.planner_initialPlanner_o1 import identify_defect_node, select_robot\n",
    "       \n",
    "user_description = \"there is a crak on a wall in the room id 9\"\n",
    "scene_graph = load_scene_graph(\"/Users/nayunkim/Documents/GitHub/repairPlan/data/sceneGraphs/3dsg_new_room9.json\")\n",
    "robot_DB = robots_withConfig"
   ]
  },
  {
   "cell_type": "code",
   "execution_count": null,
   "id": "a0014e8658e30c47",
   "metadata": {
    "ExecuteTime": {
     "end_time": "2024-11-20T21:25:02.286810Z",
     "start_time": "2024-11-20T21:24:57.475674Z"
    }
   },
   "outputs": [],
   "source": [
    "identify_defect_node(user_description, scene_graph)"
   ]
  },
  {
   "cell_type": "markdown",
   "id": "c90041b7b56f3516",
   "metadata": {},
   "source": [
    "420 None 1. The user's description specifies a crack on a wall with a window in room 331.\n",
    "2. First, identify all wall elements in room 331 from the 3D scene graph. The elements with type 'Wall' and room '331' are:\n",
    "   - Wall id 420\n",
    "   - Wall id 806\n",
    "   - Wall id 558\n",
    "   - Wall id 643\n",
    "3. Next, identify all window components in room 331. The components with type 'Window' and room '331' are:\n",
    "   - Window id 139\n",
    "   - Window id 266\n",
    "   - Window id 267\n",
    "4. Check the links to see which walls are connected to these windows:\n",
    "   - Wall id 420 is linked to Window id 139\n",
    "   - Wall id 806 is linked to Window id 266\n",
    "   - Wall id 558 is linked to Window id 267\n",
    "5. Since the user specified a crack on a wall with a window, we need to identify the wall that is linked to a window in room 331.\n",
    "6. Wall id 420 is linked to Window id 139, which is in room 331.\n",
    "7. Therefore, the defect node is Wall id 420, and it is located in room 331."
   ]
  },
  {
   "cell_type": "code",
   "execution_count": null,
   "id": "475aa39ca18642fe",
   "metadata": {},
   "outputs": [],
   "source": [
    "robot_id, reasoning_robot = select_robot(user_description, defect_id, robot_DB)"
   ]
  },
  {
   "cell_type": "code",
   "execution_count": null,
   "id": "9370036de2561b73",
   "metadata": {},
   "outputs": [],
   "source": [
    "print(robot_id, reasoning_robot)"
   ]
  }
 ],
 "metadata": {
  "kernelspec": {
   "display_name": "Python 3",
   "language": "python",
   "name": "python3"
  },
  "language_info": {
   "codemirror_mode": {
    "name": "ipython",
    "version": 3
   },
   "file_extension": ".py",
   "mimetype": "text/x-python",
   "name": "python",
   "nbconvert_exporter": "python",
   "pygments_lexer": "ipython3",
   "version": "3.9.20"
  }
 },
 "nbformat": 4,
 "nbformat_minor": 5
}
