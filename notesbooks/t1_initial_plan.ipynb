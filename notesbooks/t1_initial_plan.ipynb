{
 "cells": [
  {
   "cell_type": "code",
   "id": "initial_id",
   "metadata": {
    "collapsed": true,
    "ExecuteTime": {
     "end_time": "2024-11-19T18:41:42.378561Z",
     "start_time": "2024-11-19T18:41:42.362819Z"
    }
   },
   "source": [
    "from utils.loader import load_scene_graph\n",
    "from data.robots import robots_withConfig\n",
    "from planner.planner_initialPlanner2 import identify_defect_node, select_robot\n",
    "       \n",
    "user_description = \"there is a crak on a wall in the room id 331\"\n",
    "scene_graph = load_scene_graph(\"/Users/nayunkim/Documents/GitHub/repairPlan/data/sceneGraphs/3dsg_withIds.json\")\n",
    "robot_DB = robots_withConfig"
   ],
   "outputs": [],
   "execution_count": 3
  },
  {
   "cell_type": "code",
   "id": "a0014e8658e30c47",
   "metadata": {
    "ExecuteTime": {
     "end_time": "2024-11-19T18:41:44.944073Z",
     "start_time": "2024-11-19T18:41:42.380557Z"
    }
   },
   "source": "defect_id, room_id, reasoning = identify_defect_node(user_description, scene_graph)",
   "outputs": [
    {
     "name": "stdout",
     "output_type": "stream",
     "text": [
      "defect_id=420 reasoning='The user mentioned a crack on a wall in room 331. Upon reviewing the 3D scene graph data, there is only one wall element associated with room 331, which is element id 420. Therefore, this is the most likely candidate for the defect node.' questions=None\n"
     ]
    }
   ],
   "execution_count": 4
  },
  {
   "cell_type": "code",
   "id": "40ccf4cf27d0139",
   "metadata": {
    "ExecuteTime": {
     "end_time": "2024-11-19T18:41:44.950834Z",
     "start_time": "2024-11-19T18:41:44.946643Z"
    }
   },
   "source": "print(defect_id, room_id, reasoning)",
   "outputs": [
    {
     "name": "stdout",
     "output_type": "stream",
     "text": [
      "420 331 The user mentioned a crack on a wall in room 331. Upon reviewing the 3D scene graph data, there is only one wall element associated with room 331, which is element id 420. Therefore, this is the most likely candidate for the defect node.\n"
     ]
    }
   ],
   "execution_count": 5
  },
  {
   "metadata": {},
   "cell_type": "markdown",
   "source": [
    "420 None 1. The user's description specifies a crack on a wall with a window in room 331.\n",
    "2. First, identify all wall elements in room 331 from the 3D scene graph. The elements with type 'Wall' and room '331' are:\n",
    "   - Wall id 420\n",
    "   - Wall id 806\n",
    "   - Wall id 558\n",
    "   - Wall id 643\n",
    "3. Next, identify all window components in room 331. The components with type 'Window' and room '331' are:\n",
    "   - Window id 139\n",
    "   - Window id 266\n",
    "   - Window id 267\n",
    "4. Check the links to see which walls are connected to these windows:\n",
    "   - Wall id 420 is linked to Window id 139\n",
    "   - Wall id 806 is linked to Window id 266\n",
    "   - Wall id 558 is linked to Window id 267\n",
    "5. Since the user specified a crack on a wall with a window, we need to identify the wall that is linked to a window in room 331.\n",
    "6. Wall id 420 is linked to Window id 139, which is in room 331.\n",
    "7. Therefore, the defect node is Wall id 420, and it is located in room 331."
   ],
   "id": "c90041b7b56f3516"
  },
  {
   "metadata": {
    "ExecuteTime": {
     "end_time": "2024-11-19T18:41:55.599913Z",
     "start_time": "2024-11-19T18:41:44.952770Z"
    }
   },
   "cell_type": "code",
   "source": "robot_id, reasoning_robot = select_robot(user_description, defect_id, robot_DB)",
   "id": "475aa39ca18642fe",
   "outputs": [],
   "execution_count": 6
  },
  {
   "metadata": {
    "ExecuteTime": {
     "end_time": "2024-11-19T18:41:55.606733Z",
     "start_time": "2024-11-19T18:41:55.603161Z"
    }
   },
   "cell_type": "code",
   "source": "print(robot_id, reasoning_robot)",
   "id": "9370036de2561b73",
   "outputs": [
    {
     "name": "stdout",
     "output_type": "stream",
     "text": [
      "9 1. **Defect Analysis**: The defect is a crack on a wall located at coordinates (x: -0.26, y: -23.56855, z: 1.85) in room 331. The wall has a size of (x: 0.0, y: 11.78, z: 3.7). The crack is likely to require smoothing and possibly filling.\n",
      "\n",
      "2. **Task Requirements**: The task involves smoothing the surface of the wall, which suggests the need for a robot capable of performing the 'smoothSurface' action. Additionally, the robot should be able to handle 'filler' material if filling is required.\n",
      "\n",
      "3. **Robot Capability Analysis**:\n",
      "   - **Robot 1**: Can perform 'smoothSurface' but has a max reach height of 2000 mm.\n",
      "   - **Robot 2**: Can perform 'smoothSurface' with a max reach height of 3000 mm.\n",
      "   - **Robot 3**: Can perform 'smoothSurface' with a max reach height of 3700 mm.\n",
      "   - **Robot 4**: Can perform 'smoothSurface' but has a max reach height of 2000 mm.\n",
      "   - **Robot 5**: Can perform 'smoothSurface' with a max reach height of 3700 mm.\n",
      "   - **Robot 6**: Cannot perform 'smoothSurface'.\n",
      "   - **Robot 7**: Cannot perform 'smoothSurface'.\n",
      "   - **Robot 8**: Cannot perform 'smoothSurface'.\n",
      "   - **Robot 9**: Can perform 'smoothSurface' and handle 'filler' with a max reach height of 3700 mm.\n",
      "   - **Robot 10**: Cannot perform 'smoothSurface'.\n",
      "\n",
      "4. **Reachability Analysis**: The defect is located at a height of 1.85 meters (1850 mm). All robots with a max reach height of 2000 mm or more can reach this defect.\n",
      "\n",
      "5. **Best Robot Selection**: Robot 9 is selected because it can perform the 'smoothSurface' action, handle 'filler' material, and has a max reach height of 3700 mm, which is more than sufficient to reach the defect at 1850 mm. Additionally, Robot 9 is specifically equipped with a scraper and brush, which are ideal for smoothing and filling tasks.\n"
     ]
    }
   ],
   "execution_count": 7
  }
 ],
 "metadata": {
  "kernelspec": {
   "display_name": "Python 3",
   "language": "python",
   "name": "python3"
  },
  "language_info": {
   "codemirror_mode": {
    "name": "ipython",
    "version": 2
   },
   "file_extension": ".py",
   "mimetype": "text/x-python",
   "name": "python",
   "nbconvert_exporter": "python",
   "pygments_lexer": "ipython2",
   "version": "2.7.6"
  }
 },
 "nbformat": 4,
 "nbformat_minor": 5
}
