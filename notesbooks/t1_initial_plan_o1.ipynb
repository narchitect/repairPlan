{
 "cells": [
  {
   "cell_type": "code",
   "execution_count": 1,
   "id": "initial_id",
   "metadata": {
    "ExecuteTime": {
     "end_time": "2024-11-20T21:27:40.466360Z",
     "start_time": "2024-11-20T21:27:40.050057Z"
    },
    "collapsed": true
   },
   "outputs": [],
   "source": [
    "from utils.loader import load_scene_graph\n",
    "from data.robots import robots_withConfig\n",
    "from planner.planner_initialPlanner_o1 import identify_defect_node, select_robot\n",
    "       \n",
    "user_description = \"there is a crak on a wall in the room id 9\"\n",
    "scene_graph = load_scene_graph(\"/Users/nayunkim/Documents/GitHub/repairPlan/data/sceneGraphs/new_structure/3dsg_full.json\")\n",
    "robot_DB = robots_withConfig"
   ]
  },
  {
   "cell_type": "code",
   "execution_count": 2,
   "id": "a0014e8658e30c47",
   "metadata": {
    "ExecuteTime": {
     "end_time": "2024-11-20T21:27:48.252822Z",
     "start_time": "2024-11-20T21:27:41.580606Z"
    }
   },
   "outputs": [
    {
     "name": "stdout",
     "output_type": "stream",
     "text": [
      "To identify the defect node in the 3D scene graph based on the user's description, we need to determine which wall belongs to the room with ID 9. \n",
      "\n",
      "Based on the building information, the room with ID 9 has the following associated surface IDs: [1004, 1103, 3025, 1131, 2059, 1197]. We need to identify which of these surfaces is a wall.\n",
      "\n",
      "Here's a breakdown of these surfaces:\n",
      "- Surface ID 1004 is a wall.\n",
      "- Surface ID 1103 is a wall.\n",
      "- Surface ID 3025 is a floor.\n",
      "- Surface ID 1131 is a wall.\n",
      "- Surface ID 2059 is a ceiling.\n",
      "- Surface ID 1197 is a wall.\n",
      "\n",
      "From the list, the wall surface IDs in room 9 are: 1004, 1103, 1131, and 1197.\n",
      "\n",
      "Since there are multiple walls in this room, it would be prudent to ask a clarifying question to pinpoint which specific wall has the crack.\n",
      "\n",
      "```json\n",
      "{\n",
      "    \"defect_id\": null,\n",
      "    \"questions\": \"Could you please specify which wall has the crack? Is it the wall with surface ID 1004, 1103, 1131, or 1197?\"\n",
      "}\n",
      "```\n",
      "To identify the defect node in the 3D scene graph, let's first examine the spaces and walls information:\n",
      "\n",
      "1. Room with ID 9:\n",
      "   - Surfaces: [1004, 1103, 3025, 1131, 2059, 1197]\n",
      "   - Based on surface ids, we know:\n",
      "     - Wall surfaces in Room 9: 1004, 1103, 1131, 1197\n",
      "   - Windows:\n",
      "     - 1004 is linked with windows 4001 and 4002 (from the 'components' list, these IDs are window types).\n",
      "     - 1197 is linked with window 5001.\n",
      "\n",
      "The description mentions that there is a crack in a wall in Room 9 and the room has two windows. Based on this description, the wall in defect should be one which also has a window. \n",
      "\n",
      "Checking surfaces again:\n",
      "- Surface 1004 has windows [4001, 4002]\n",
      "- Surface 1197 has a window [5001]\n",
      "\n",
      "Since surface 1004 and 1197 match the condition of having window components, we have two potential defects that may fit the user's description. We need to ask a clarifying question to determine which specific wall the crack is on.\n",
      "\n",
      "Here is the JSON output with potential questions:\n",
      "\n",
      "```json\n",
      "{\n",
      "    \"defect_id\": null,\n",
      "    \"questions\": \"Is the crack on the wall with windows on both sides of the room or on a specific narrower section of a wall?\"\n",
      "}\n",
      "```\n",
      "\n",
      "Based on the given information, I need to identify a wall in room 9 that has two windows. Let's examine the surfaces in room 9 to find the wall that matches the description:\n",
      "\n",
      "- Room ID 9 has surfaces with IDs [1004, 1103, 3025, 1131, 2059, 1197].\n",
      "- The surfaces of type 'wall' (type code: 1000 series) need to be inspected for the presence of windows (type code: 4000 series in components).\n",
      "\n",
      "Let's break down the wall surfaces in Room ID 9 and check for components:\n",
      "\n",
      "1. Surface 1004:\n",
      "   - Type: wall\n",
      "   - Components: [4001, 4002] \n",
      "   - Two windows found (window IDs: 4001, 4002).\n",
      "\n",
      "2. Surface 1103 and others related to Room ID 9 do not have two windows based on components.\n",
      "\n",
      "The wall with surface ID 1004 in room 9 matches the user's description as it has 2 windows.\n",
      "\n",
      "Here's the JSON output:\n",
      "\n",
      "```json\n",
      "{\n",
      "    \"defect_id\": 1004,\n",
      "    \"questions\": null\n",
      "}\n",
      "```\n"
     ]
    }
   ],
   "source": [
    "defect_id = identify_defect_node(user_description, scene_graph)"
   ]
  },
  {
   "cell_type": "code",
   "execution_count": 3,
   "id": "3c6d75a933350265",
   "metadata": {},
   "outputs": [
    {
     "name": "stdout",
     "output_type": "stream",
     "text": [
      "Based on the information provided, we need to select the best robot from the robot database to perform a repair task for a crack on a wall. Given that the defect node ID has an error and does not provide information about where the crack is, we will assume the crack on the wall is within normal reach for wall repairs but consider the general maximum reachable height of the robots.\n",
      "\n",
      "Firstly, let's identify robots that have the necessary capabilities for wall repair, which would likely involve using a scraper or a brush with filler, often involved in crack repair:\n",
      "\n",
      "- Actions needed could involve smoothing surfaces and possibly spraying or wiping, depending on the specific repair requirements.\n",
      "\n",
      "Then examine the robots in the database:\n",
      "\n",
      "1. **Robot 3**:\n",
      "   - Actions: includes 'smoothSurface'\n",
      "   - Equipments: includes 'scraper', 'brush'\n",
      "   - Materials: includes 'filler'\n",
      "   - Max reach height: 3700 (the highest reach capability)\n",
      "\n",
      "2. **Robot 9**:\n",
      "   - Actions: includes 'smoothSurface'\n",
      "   - Equipments: includes 'scraper', 'brush'\n",
      "   - Materials: includes 'filler'\n",
      "   - Max reach height: 3700\n",
      "\n",
      "Given the defect is a crack on a wall and the highest reachable point is desirable to ensure any height can be achieved, Robot 3 and Robot 9 both meet the needs, but since Robot 9 specializes in smoothing surfaces and uses fillers, it might be more suited specifically for crack repairs without any excess capabilities not needed for this task.\n",
      "\n",
      "Therefore, the selected robot ID is 9.\n",
      "\n",
      "```json\n",
      "{\n",
      "    \"Robot_id\": 9\n",
      "}\n",
      "```\n"
     ]
    }
   ],
   "source": [
    "robot_id = select_robot(user_description, defect_id, robot_DB)"
   ]
  },
  {
   "cell_type": "code",
   "execution_count": 8,
   "id": "241202d6",
   "metadata": {},
   "outputs": [
    {
     "name": "stdout",
     "output_type": "stream",
     "text": [
      "<class 'int'>\n",
      "{'error': 'Node 1004 not found'}\n"
     ]
    }
   ],
   "source": [
    "from utils.loader import get_node_info\n",
    "\n",
    "print(type(defect_id))\n",
    "print(get_node_info(defect_id))\n"
   ]
  }
 ],
 "metadata": {
  "kernelspec": {
   "display_name": "Python 3",
   "language": "python",
   "name": "python3"
  },
  "language_info": {
   "codemirror_mode": {
    "name": "ipython",
    "version": 3
   },
   "file_extension": ".py",
   "mimetype": "text/x-python",
   "name": "python",
   "nbconvert_exporter": "python",
   "pygments_lexer": "ipython3",
   "version": "3.9.20"
  }
 },
 "nbformat": 4,
 "nbformat_minor": 5
}
