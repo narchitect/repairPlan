{
 "cells": [
  {
   "cell_type": "code",
   "execution_count": 1,
   "id": "initial_id",
   "metadata": {
    "ExecuteTime": {
     "end_time": "2024-11-20T21:27:40.466360Z",
     "start_time": "2024-11-20T21:27:40.050057Z"
    },
    "collapsed": true
   },
   "outputs": [],
   "source": [
    "from utils.loader import load_scene_graph\n",
    "from data.robots import robots_withConfig\n",
    "from planner.planner_initialPlanner_o1 import identify_defect_node, select_robot\n",
    "       \n",
    "user_description = \"there is a crak on a wall in the room id 9\"\n",
    "scene_graph = load_scene_graph(\"/Users/nayunkim/Documents/GitHub/repairPlan/data/sceneGraphs/3dsg_new.json\")\n",
    "robot_DB = robots_withConfig"
   ]
  },
  {
   "cell_type": "code",
   "execution_count": 2,
   "id": "a0014e8658e30c47",
   "metadata": {
    "ExecuteTime": {
     "end_time": "2024-11-20T21:27:48.252822Z",
     "start_time": "2024-11-20T21:27:41.580606Z"
    }
   },
   "outputs": [
    {
     "name": "stdout",
     "output_type": "stream",
     "text": [
      "To identify the defect node in the 3D scene graph based on the user's description, we need to find the wall surfaces associated with room id 9. Here's the breakdown of the spaces and surfaces:\n",
      "\n",
      "1. Identify the surfaces associated with space id 9:\n",
      "   - Surfaces in space id 9: [1004, 1103, 3025, 1131, 2059, 1197]\n",
      "\n",
      "2. From these associated surfaces, find the surfaces that are of the type 'wall':\n",
      "   - Surface 1004: type 'wall'\n",
      "   - Surface 1103: type 'wall'\n",
      "   - Surface 3025: type 'floor' (not a wall)\n",
      "   - Surface 1131: type 'wall'\n",
      "   - Surface 2059: type 'ceiling' (not a wall)\n",
      "   - Surface 1197: type 'wall'\n",
      "\n",
      "There are three surfaces of type 'wall' in room id 9: [1004, 1103, 1131, 1197].\n",
      "\n",
      "Since we have multiple wall surfaces and do not have enough specific information about which one has the crack, I would need to ask for more details.\n",
      "\n",
      "Final output:\n",
      "```json\n",
      "{\n",
      "    \"defect_id\": null,\n",
      "    \"reasoning\": \"There are multiple wall surfaces in room id 9: [1004, 1103, 1131, 1197]. Without more specific information about the location of the crack, it's difficult to pinpoint the exact surface with the defect.\",\n",
      "    \"questions\": \"Could you please provide more details about the wall with the crack? For example, is it near any particular feature or doorway?\"\n",
      "}\n",
      "```\n"
     ]
    },
    {
     "data": {
      "text/plain": [
       "'To identify the defect node in the 3D scene graph based on the user\\'s description, we need to find the wall surfaces associated with room id 9. Here\\'s the breakdown of the spaces and surfaces:\\n\\n1. Identify the surfaces associated with space id 9:\\n   - Surfaces in space id 9: [1004, 1103, 3025, 1131, 2059, 1197]\\n\\n2. From these associated surfaces, find the surfaces that are of the type \\'wall\\':\\n   - Surface 1004: type \\'wall\\'\\n   - Surface 1103: type \\'wall\\'\\n   - Surface 3025: type \\'floor\\' (not a wall)\\n   - Surface 1131: type \\'wall\\'\\n   - Surface 2059: type \\'ceiling\\' (not a wall)\\n   - Surface 1197: type \\'wall\\'\\n\\nThere are three surfaces of type \\'wall\\' in room id 9: [1004, 1103, 1131, 1197].\\n\\nSince we have multiple wall surfaces and do not have enough specific information about which one has the crack, I would need to ask for more details.\\n\\nFinal output:\\n```json\\n{\\n    \"defect_id\": null,\\n    \"reasoning\": \"There are multiple wall surfaces in room id 9: [1004, 1103, 1131, 1197]. Without more specific information about the location of the crack, it\\'s difficult to pinpoint the exact surface with the defect.\",\\n    \"questions\": \"Could you please provide more details about the wall with the crack? For example, is it near any particular feature or doorway?\"\\n}\\n```'"
      ]
     },
     "execution_count": 2,
     "metadata": {},
     "output_type": "execute_result"
    }
   ],
   "source": [
    "identify_defect_node(user_description, scene_graph)"
   ]
  },
  {
   "cell_type": "code",
   "execution_count": null,
   "id": "3c6d75a933350265",
   "metadata": {},
   "outputs": [],
   "source": []
  }
 ],
 "metadata": {
  "kernelspec": {
   "display_name": "Python 3",
   "language": "python",
   "name": "python3"
  },
  "language_info": {
   "codemirror_mode": {
    "name": "ipython",
    "version": 2
   },
   "file_extension": ".py",
   "mimetype": "text/x-python",
   "name": "python",
   "nbconvert_exporter": "python",
   "pygments_lexer": "ipython2",
   "version": "3.9.20"
  }
 },
 "nbformat": 4,
 "nbformat_minor": 5
}
