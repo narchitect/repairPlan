{
 "cells": [
  {
   "cell_type": "code",
   "id": "initial_id",
   "metadata": {
    "collapsed": true,
    "ExecuteTime": {
     "end_time": "2024-11-22T17:13:34.672433Z",
     "start_time": "2024-11-22T17:13:34.309218Z"
    }
   },
   "source": [
    "from utils.loader import load_scene_graph\n",
    "from data.robots import robots_withConfig\n",
    "from planner.planner_initialPlanner_o1 import identify_defect_node, select_robot\n",
    "       \n",
    "user_description = \"there is a crak on a wall in the room id 9\"\n",
    "scene_graph = load_scene_graph(\"/Users/nayunkim/Documents/GitHub/repairPlan/data/sceneGraphs/new_structure/3dsg_full.json\")\n",
    "robot_DB = robots_withConfig"
   ],
   "outputs": [],
   "execution_count": 1
  },
  {
   "cell_type": "code",
   "execution_count": 2,
   "id": "a0014e8658e30c47",
   "metadata": {
    "ExecuteTime": {
     "end_time": "2024-11-20T21:27:48.252822Z",
     "start_time": "2024-11-20T21:27:41.580606Z"
    }
   },
   "outputs": [
    {
     "name": "stdout",
     "output_type": "stream",
     "text": [
      "To identify the defect node in the 3D scene graph based on the user's description, we need to find the wall surfaces associated with room id 9. Here's the breakdown of the spaces and surfaces:\n",
      "\n",
      "1. Identify the surfaces associated with space id 9:\n",
      "   - Surfaces in space id 9: [1004, 1103, 3025, 1131, 2059, 1197]\n",
      "\n",
      "2. From these associated surfaces, find the surfaces that are of the type 'wall':\n",
      "   - Surface 1004: type 'wall'\n",
      "   - Surface 1103: type 'wall'\n",
      "   - Surface 3025: type 'floor' (not a wall)\n",
      "   - Surface 1131: type 'wall'\n",
      "   - Surface 2059: type 'ceiling' (not a wall)\n",
      "   - Surface 1197: type 'wall'\n",
      "\n",
      "There are three surfaces of type 'wall' in room id 9: [1004, 1103, 1131, 1197].\n",
      "\n",
      "Since we have multiple wall surfaces and do not have enough specific information about which one has the crack, I would need to ask for more details.\n",
      "\n",
      "Final output:\n",
      "```json\n",
      "{\n",
      "    \"defect_id\": null,\n",
      "    \"reasoning\": \"There are multiple wall surfaces in room id 9: [1004, 1103, 1131, 1197]. Without more specific information about the location of the crack, it's difficult to pinpoint the exact surface with the defect.\",\n",
      "    \"questions\": \"Could you please provide more details about the wall with the crack? For example, is it near any particular feature or doorway?\"\n",
      "}\n",
      "```\n"
     ]
    },
    {
     "data": {
      "text/plain": [
       "'To identify the defect node in the 3D scene graph based on the user\\'s description, we need to find the wall surfaces associated with room id 9. Here\\'s the breakdown of the spaces and surfaces:\\n\\n1. Identify the surfaces associated with space id 9:\\n   - Surfaces in space id 9: [1004, 1103, 3025, 1131, 2059, 1197]\\n\\n2. From these associated surfaces, find the surfaces that are of the type \\'wall\\':\\n   - Surface 1004: type \\'wall\\'\\n   - Surface 1103: type \\'wall\\'\\n   - Surface 3025: type \\'floor\\' (not a wall)\\n   - Surface 1131: type \\'wall\\'\\n   - Surface 2059: type \\'ceiling\\' (not a wall)\\n   - Surface 1197: type \\'wall\\'\\n\\nThere are three surfaces of type \\'wall\\' in room id 9: [1004, 1103, 1131, 1197].\\n\\nSince we have multiple wall surfaces and do not have enough specific information about which one has the crack, I would need to ask for more details.\\n\\nFinal output:\\n```json\\n{\\n    \"defect_id\": null,\\n    \"reasoning\": \"There are multiple wall surfaces in room id 9: [1004, 1103, 1131, 1197]. Without more specific information about the location of the crack, it\\'s difficult to pinpoint the exact surface with the defect.\",\\n    \"questions\": \"Could you please provide more details about the wall with the crack? For example, is it near any particular feature or doorway?\"\\n}\\n```'"
      ]
     },
     "execution_count": 2,
     "metadata": {},
     "output_type": "execute_result"
    }
   ],
   "source": [
    "identify_defect_node(user_description, scene_graph)"
   ]
  },
  {
   "cell_type": "code",
   "id": "3c6d75a933350265",
   "metadata": {
    "ExecuteTime": {
     "end_time": "2024-11-22T17:14:38.477706Z",
     "start_time": "2024-11-22T17:13:37.239800Z"
    }
   },
   "source": [
    "identify_defect_node(user_description, scene_graph)"
   ],
   "outputs": [
    {
     "name": "stdout",
     "output_type": "stream",
     "text": [
      "To identify the defect node in the 3D scene graph associated with the user's description, we begin by examining the room with ID 9 from the provided data. According to the data:\n",
      "\n",
      "1. **Room (Space) Information for ID 9:**\n",
      "   - Location: `[-18.18925, -21.56855, 7.85]`\n",
      "   - Size: `[6.381, 7.78, 3.7]`\n",
      "   - Associated surfaces: `[1004, 1103, 3025, 1131, 2059, 1197]`\n",
      "\n",
      "2. **Surfaces and Types:**\n",
      "   The associated surfaces for Room ID 9 are:\n",
      "   - Surface 1004: Wall\n",
      "   - Surface 1103: Wall\n",
      "   - Surface 3025: Floor\n",
      "   - Surface 1131: Wall\n",
      "   - Surface 2059: Ceiling\n",
      "   - Surface 1197: Wall\n",
      "\n",
      "The user's description specifies a crack on a wall in room 9. The walls associated with this room are surfaces 1004, 1103, 1131, and 1197.\n",
      "\n",
      "Given this context, we have multiple walls (1004, 1103, 1131, 1197) with the potential for defects. Therefore, I will formulate clarifying questions to help narrow down the specific wall in question.\n",
      "\n",
      "### JSON Output\n",
      "```json\n",
      "{\n",
      "    \"defect_id\": null,\n",
      "    \"questions\": \"Could you specify the location or provide details about the wall with the crack, such as the orientation or any nearby features or components?\",\n",
      "    \"reasoning\": \"Room 9 has several walls (surfaces 1004, 1103, 1131, 1197). Without additional information, it is not possible to precisely identify which wall has the crack.\"\n",
      "}\n",
      "```\n",
      "I need more information to identify the defect. Please answer the following questions:\n",
      "Could you specify the location or provide details about the wall with the crack, such as the orientation or any nearby features or components?\n",
      "To determine the defect node in the 3D scene graph based on the user's description, let's follow a logical reasoning process:\n",
      "\n",
      "1. **Identify the Room**:\n",
      "   - The user specifies the defect is in room with `id: 9`.\n",
      "\n",
      "2. **Identify the Walls in Room 9**:\n",
      "   - According to the scene graph, room with `id: 9` contains surfaces `[1004, 1103, 3025, 1131, 2059, 1197]`.\n",
      "   - We need to identify which of these are walls. From the 'surfaces' in the input data, walls are those with `'type': 'wall'`.\n",
      "\n",
      "3. **Filter Walls and Check for Windows**:\n",
      "   - Find walls that belong to room id 9 and also have windows, as specified by \"user_answer it has 2 windows\".\n",
      "   - Cross-reference with the components to check for ones marked as windows (types starting with '4000').\n",
      "\n",
      "4. **Verification**:\n",
      "   - The wall surfaces from room 9 specifically need to have windows as components to match \"has 2 windows.\"\n",
      "\n",
      "Based on these steps:\n",
      "\n",
      "- **Surface 1004** is of type \"wall\" and has window components [4001, 4002].\n",
      "- **Surface 1103** is a wall without windows.\n",
      "- **Surface 3025** is a floor.\n",
      "- **Surface 1131** is a wall with window 5000 (a door in this case).\n",
      "- **Surface 2059** is a ceiling.\n",
      "- **Surface 1197** is a wall with window 5001 (door).\n",
      "\n",
      "In conclusion, **Surface 1004** is the most likely candidate for the defective wall mentioned by the user as it fits the criteria of being a wall and having 2 windows.\n",
      "\n",
      "```json\n",
      "{\n",
      "    \"defect_id\": 1004,\n",
      "    \"questions\": null,\n",
      "    \"reasoning\": \"Room id 9 includes wall surfaces. From all available walls, surface 1004 is identified as a wall with 2 window components, matching the user's description of having '2 windows'.\"\n",
      "}\n",
      "```\n"
     ]
    },
    {
     "data": {
      "text/plain": [
       "(1004,\n",
       " \"Room id 9 includes wall surfaces. From all available walls, surface 1004 is identified as a wall with 2 window components, matching the user's description of having '2 windows'.\")"
      ]
     },
     "execution_count": 2,
     "metadata": {},
     "output_type": "execute_result"
    }
   ],
   "execution_count": 2
  },
  {
   "metadata": {
    "ExecuteTime": {
     "end_time": "2024-11-22T17:13:31.699584Z",
     "start_time": "2024-11-22T17:13:31.698136Z"
    }
   },
   "cell_type": "code",
   "source": "",
   "id": "485de54c0589d61",
   "outputs": [],
   "execution_count": null
  },
  {
   "metadata": {},
   "cell_type": "code",
   "outputs": [],
   "execution_count": null,
   "source": "",
   "id": "e0a234c4d816e296"
  }
 ],
 "metadata": {
  "kernelspec": {
   "display_name": "Python 3",
   "language": "python",
   "name": "python3"
  },
  "language_info": {
   "codemirror_mode": {
    "name": "ipython",
    "version": 3
   },
   "file_extension": ".py",
   "mimetype": "text/x-python",
   "name": "python",
   "nbconvert_exporter": "python",
   "pygments_lexer": "ipython3",
   "version": "3.9.20"
  }
 },
 "nbformat": 4,
 "nbformat_minor": 5
}
