{
 "cells": [
  {
   "cell_type": "code",
   "id": "initial_id",
   "metadata": {
    "collapsed": true,
    "ExecuteTime": {
     "end_time": "2024-11-22T17:33:34.739127Z",
     "start_time": "2024-11-22T17:33:34.398448Z"
    }
   },
   "source": [
    "from utils.loader import load_scene_graph\n",
    "from data.robots import robots_withConfig\n",
    "from planner.planner_initialPlanner_o1 import identify_defect_node, select_robot\n",
    "       \n",
    "user_description = \"there is a crak on a wall in the room id 9\"\n",
    "scene_graph = load_scene_graph(\"/Users/nayunkim/Documents/GitHub/repairPlan/data/sceneGraphs/new_structure/3dsg_full.json\")\n",
    "robot_DB = robots_withConfig"
   ],
   "outputs": [],
   "execution_count": 1
  },
  {
   "cell_type": "code",
   "execution_count": 2,
   "id": "a0014e8658e30c47",
   "metadata": {
    "ExecuteTime": {
     "end_time": "2024-11-20T21:27:48.252822Z",
     "start_time": "2024-11-20T21:27:41.580606Z"
    }
   },
   "outputs": [
    {
     "name": "stdout",
     "output_type": "stream",
     "text": [
      "To identify the defect node in the 3D scene graph based on the user's description, we need to find the wall surfaces associated with room id 9. Here's the breakdown of the spaces and surfaces:\n",
      "\n",
      "1. Identify the surfaces associated with space id 9:\n",
      "   - Surfaces in space id 9: [1004, 1103, 3025, 1131, 2059, 1197]\n",
      "\n",
      "2. From these associated surfaces, find the surfaces that are of the type 'wall':\n",
      "   - Surface 1004: type 'wall'\n",
      "   - Surface 1103: type 'wall'\n",
      "   - Surface 3025: type 'floor' (not a wall)\n",
      "   - Surface 1131: type 'wall'\n",
      "   - Surface 2059: type 'ceiling' (not a wall)\n",
      "   - Surface 1197: type 'wall'\n",
      "\n",
      "There are three surfaces of type 'wall' in room id 9: [1004, 1103, 1131, 1197].\n",
      "\n",
      "Since we have multiple wall surfaces and do not have enough specific information about which one has the crack, I would need to ask for more details.\n",
      "\n",
      "Final output:\n",
      "```json\n",
      "{\n",
      "    \"defect_id\": null,\n",
      "    \"reasoning\": \"There are multiple wall surfaces in room id 9: [1004, 1103, 1131, 1197]. Without more specific information about the location of the crack, it's difficult to pinpoint the exact surface with the defect.\",\n",
      "    \"questions\": \"Could you please provide more details about the wall with the crack? For example, is it near any particular feature or doorway?\"\n",
      "}\n",
      "```\n"
     ]
    },
    {
     "data": {
      "text/plain": [
       "'To identify the defect node in the 3D scene graph based on the user\\'s description, we need to find the wall surfaces associated with room id 9. Here\\'s the breakdown of the spaces and surfaces:\\n\\n1. Identify the surfaces associated with space id 9:\\n   - Surfaces in space id 9: [1004, 1103, 3025, 1131, 2059, 1197]\\n\\n2. From these associated surfaces, find the surfaces that are of the type \\'wall\\':\\n   - Surface 1004: type \\'wall\\'\\n   - Surface 1103: type \\'wall\\'\\n   - Surface 3025: type \\'floor\\' (not a wall)\\n   - Surface 1131: type \\'wall\\'\\n   - Surface 2059: type \\'ceiling\\' (not a wall)\\n   - Surface 1197: type \\'wall\\'\\n\\nThere are three surfaces of type \\'wall\\' in room id 9: [1004, 1103, 1131, 1197].\\n\\nSince we have multiple wall surfaces and do not have enough specific information about which one has the crack, I would need to ask for more details.\\n\\nFinal output:\\n```json\\n{\\n    \"defect_id\": null,\\n    \"reasoning\": \"There are multiple wall surfaces in room id 9: [1004, 1103, 1131, 1197]. Without more specific information about the location of the crack, it\\'s difficult to pinpoint the exact surface with the defect.\",\\n    \"questions\": \"Could you please provide more details about the wall with the crack? For example, is it near any particular feature or doorway?\"\\n}\\n```'"
      ]
     },
     "execution_count": 2,
     "metadata": {},
     "output_type": "execute_result"
    }
   ],
   "source": [
    "identify_defect_node(user_description, scene_graph)"
   ]
  },
  {
   "cell_type": "code",
   "id": "3c6d75a933350265",
   "metadata": {
    "ExecuteTime": {
     "end_time": "2024-11-22T17:34:34.569990Z",
     "start_time": "2024-11-22T17:33:36.517568Z"
    }
   },
   "source": [
    "identify_defect_node(user_description, scene_graph)"
   ],
   "outputs": [
    {
     "name": "stdout",
     "output_type": "stream",
     "text": [
      "To determine the defect node in the 3D scene graph, we need to identify the wall associated with the space (room) ID 9 that might have a crack. \n",
      "\n",
      "Looking at the provided scene graph, space ID 9 has the following information:\n",
      "\n",
      "- Location: [-18.18925, -21.56855, 7.85]\n",
      "- Size: [6.381, 7.78, 3.7]\n",
      "- Surfaces: [1004, 1103, 3025, 1131, 2059, 1197]\n",
      "\n",
      "Among the surfaces, the IDs 1004 and 1103 are walls:\n",
      "- Surface ID 1004: {'id': 1004, 'type': 'wall', 'components': [4001, 4002], 'location': [-21.38, -21.56855, 1.85], 'size': [0.0, 7.78, 3.7]}\n",
      "- Surface ID 1103: {'id': 1103, 'type': 'wall', 'components': [], 'location': [-18.18925, -25.4586, 1.85], 'size': [6.381, 0.0, 3.7]}\n",
      "\n",
      "Based on the specification, either wall ID 1004 or 1103 could have a crack since they belong to room ID 9. To further pinpoint the correct wall, we may need additional information from the user.\n",
      "\n",
      "Here's the output in the required JSON format:\n",
      "\n",
      "```json\n",
      "{\n",
      "    \"defect_id\": null,\n",
      "    \"questions\": \"Is the crack on the wall parallel to the x-axis or the y-axis in the room?\"\n",
      "}\n",
      "```\n",
      "To identify the defect node in the 3D scene graph based on the user's description, I'll look for the wall surfaces associated with room ID 9.\n",
      "\n",
      "From the provided 3D scene graph data, room ID 9 has the following surfaces: [1004, 1103, 3025, 1131, 2059, 1197]. Among these surfaces, the walls are:\n",
      "\n",
      "- Surface 1004: wall\n",
      "- Surface 1103: wall\n",
      "- Surface 1131: wall\n",
      "- Surface 1197: wall\n",
      "\n",
      "Here are some clarifying questions to specify which wall has the crack:\n",
      "\n",
      "1. Is the crack on the wall along the corridor, possibly with a window (associated with components 4001 or 4002)?\n",
      "2. Is the crack on an interior wall separating it from another room, potentially on a wall without a corridor or external window?\n",
      "\n",
      "Based on additional details or visual inspection, we could narrow down the defect further from these surfaces.\n",
      "\n",
      "Here's the JSON output based on this analysis:\n",
      "\n",
      "```json\n",
      "{\n",
      "  \"defect_id\": null,\n",
      "  \"questions\": \"Is the crack on the wall along the corridor, possibly with a window (associated with components 4001 or 4002)? Is the crack on an interior wall separating it from another room, potentially on a wall without a corridor or external window?\"\n",
      "}\n",
      "```\n",
      "To identify the defect node in the 3D scene graph, we need to find a wall in room id 9 that also contains two windows. Let's inspect the space with id 9 in the 3D scene graph data provided:\n",
      "\n",
      "Room id 9:\n",
      "- Surfaces: [1004, 1103, 3025, 1131, 2059, 1197]\n",
      "- Based on the user's answer, the surface should feature windows.\n",
      "\n",
      "Looking at the \"surfaces\" data, we have:\n",
      "- Surface id 1004: Type \"wall\" with components 4001 and 4002, which both are of type \"window\".\n",
      "\n",
      "Thus, surface id 1004 seems to be the most likely candidate for the defect. Here’s the JSON output, noting that we found a suspected defect:\n",
      "\n",
      "```json\n",
      "{\n",
      "  \"defect_id\": 1004,\n",
      "  \"questions\": null\n",
      "}\n",
      "```\n"
     ]
    },
    {
     "data": {
      "text/plain": [
       "1004"
      ]
     },
     "execution_count": 2,
     "metadata": {},
     "output_type": "execute_result"
    }
   ],
   "execution_count": 2
  },
  {
   "metadata": {
    "ExecuteTime": {
     "end_time": "2024-11-22T17:31:18.343179Z",
     "start_time": "2024-11-22T17:31:17.111225Z"
    }
   },
   "cell_type": "code",
   "source": [
    "def insername():\n",
    "    print(\"What is your name?\", flush=True)  # 즉시 출력되도록 flush=True 추가\n",
    "    name = input(\"Insert your name: \")  # Input 창 대기\n",
    "    print(f\"Hello, {name}!\")  # 입력된 이름 출력\n",
    "\n",
    "# 함수 호출\n",
    "insername()"
   ],
   "id": "485de54c0589d61",
   "outputs": [
    {
     "name": "stdout",
     "output_type": "stream",
     "text": [
      "What is your name?\n",
      "Hello, !\n"
     ]
    }
   ],
   "execution_count": 6
  },
  {
   "metadata": {},
   "cell_type": "code",
   "outputs": [],
   "execution_count": null,
   "source": "",
   "id": "e0a234c4d816e296"
  }
 ],
 "metadata": {
  "kernelspec": {
   "display_name": "Python 3",
   "language": "python",
   "name": "python3"
  },
  "language_info": {
   "codemirror_mode": {
    "name": "ipython",
    "version": 3
   },
   "file_extension": ".py",
   "mimetype": "text/x-python",
   "name": "python",
   "nbconvert_exporter": "python",
   "pygments_lexer": "ipython3",
   "version": "3.9.20"
  }
 },
 "nbformat": 4,
 "nbformat_minor": 5
}
