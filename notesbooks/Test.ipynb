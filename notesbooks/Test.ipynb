{
 "cells": [
  {
   "metadata": {
    "ExecuteTime": {
     "end_time": "2024-09-26T18:58:24.802336Z",
     "start_time": "2024-09-26T18:58:24.389754Z"
    }
   },
   "cell_type": "code",
   "source": "from planner import load_scene_graph, generate_prompt, get_navigation_plan",
   "id": "7a06b3dd22d81e67",
   "outputs": [],
   "execution_count": 2
  },
  {
   "metadata": {
    "ExecuteTime": {
     "end_time": "2024-09-26T19:13:54.159453Z",
     "start_time": "2024-09-26T19:13:47.341070Z"
    }
   },
   "cell_type": "code",
   "source": [
    "scene_graph_path = \"/Users/nayunkim/Documents/GitHub/repairPlan/data/small_sceneGraph.json\"\n",
    "scene_graph = load_scene_graph(scene_graph_path)\n",
    "prompt = generate_prompt(scene_graph)\n",
    "\n",
    "user_input = \"the window in the meeting room is broken and I'm currently in professor room\"\n",
    "\n",
    "result = get_navigation_plan(user_input, prompt)\n",
    "print(result.choices[0].message.content)"
   ],
   "id": "d104ad0f2666b940",
   "outputs": [
    {
     "name": "stdout",
     "output_type": "stream",
     "text": [
      "To address the situation, we need to identify the defect node, navigate to the meeting room, and perform the necessary actions along the way.\n",
      "\n",
      "### Step 1: Identify the Defect Node\n",
      "- From the user's description, the defect is a \"window in the meeting room.\"\n",
      "- In the scene graph, windows in the meeting room are represented as:\n",
      "  - `Window_37`\n",
      "  - `Window_38`\n",
      "  - `Window_39`\n",
      "  - `Window_40`\n",
      "  - `Window_41`\n",
      "\n",
      "### Step 2: Navigation Path and Actions\n",
      "- The user is currently in the `professor_room` and needs to move to the `meeting_room`. Considering the scene graph:\n",
      "  - Likely path will be: `professor_office` -> `open_cafeteria` -> `meeting_room`.\n",
      "\n",
      "### Step 3: Determine Actions\n",
      "- We need to identify the doors and open them as necessary along the navigation path:\n",
      "  - From `professor_office` to `open_cafeteria`, use `Door_32`.\n",
      "  - From `open_cafeteria` to `meeting_room`, use `Door_25`.\n",
      "\n",
      "### JSON Output with Reasoning\n",
      "```json\n",
      "{\n",
      "  \"defect_object\": \"Window_37\",\n",
      "  \"room_path\": [\"professor_office\", \"open_cafeteria\", \"meeting_room\"],\n",
      "  \"actions\": [\n",
      "    \"moveto('professor_office')\",\n",
      "    \"open('Door_32')\",\n",
      "    \"moveto('open_cafeteria')\",\n",
      "    \"open('Door_25')\",\n",
      "    \"moveto('meeting_room')\"\n",
      "  ],\n",
      "  \"reasoning\": \"The defect is identified as Window_37 in the meeting_room. Starting in the professor_office, the navigation path leads through open_cafeteria to the meeting_room. Doors along this path need to be opened to access the meeting_room.\"\n",
      "}\n",
      "```\n",
      "\n",
      "### Execute Actions\n",
      "Now, we'll execute these actions using the provided functions:\n",
      "1. Move from `professor_office` to `open_cafeteria` using `Door_32`.\n",
      "2. Move from `open_cafeteria` to `meeting_room` using `Door_25`.\n",
      "\n",
      "Let's proceed with executing these actions.\n"
     ]
    }
   ],
   "execution_count": 6
  },
  {
   "metadata": {},
   "cell_type": "markdown",
   "source": [
    "To address the broken window in the meeting room, I'll follow these steps:\n",
    "\n",
    "1. **Identify the Defect Node:**\n",
    "   - Based on your description, the defect is a broken window in the meeting room. Checking the scene graph, we find that the meeting room has multiple windows (Window_37, Window_38, Window_39, Window_40, Window_41). Since you didn't specify which window specifically is broken, I'll assume we need to check them all.\n",
    "\n",
    "2. **Generate a Navigation Path:**\n",
    "   - You are currently in \"office_1\" and need to get to the \"meeting_room\".\n",
    "\n",
    "3. **Provide Sequence of Actions:**\n",
    "   - We need to move from \"office_1\" to the \"meeting_room\". According to the links in the scene graph, the route involves passing through the \"open_cafeteria\".\n",
    "\n",
    "Let's outline the actions needed:\n",
    "\n",
    "- **Action 1:** Move to the \"open_cafeteria\" from \"office_1\".\n",
    "- **Action 2:** Open the door (Door_23) connecting \"office_1\" to \"open_cafeteria\".\n",
    "- **Action 3:** Move to \"open_cafeteria\".\n",
    "- **Action 4:** Open the door (Door_25) connecting \"open_cafeteria\" to \"meeting_room\".\n",
    "- **Action 5:** Move to \"meeting_room\".\n",
    "\n",
    "Here’s the JSON with the detailed plan, actions, and reasoning:\n",
    "\n",
    "```json\n",
    "{\n",
    "  \"defect_object\": \"Window_37\",\n",
    "  \"room_path\": [\"office_1\", \"open_cafeteria\", \"meeting_room\"],\n",
    "  \"actions\": [\n",
    "    \"moveto('open_cafeteria')\",\n",
    "    \"open('Door_23')\",\n",
    "    \"moveto('open_cafeteria')\",\n",
    "    \"open('Door_25')\",\n",
    "    \"moveto('meeting_room')\"\n",
    "  ],\n",
    "  \"reasoning\": \"Starting in office_1, the path to meeting_room involves passing through open_cafeteria. We open Door_23 to move to open_cafeteria, then open Door_25 to access the meeting_room. Since the specific window is not mentioned, assume all listed windows in the room could have issues.\"\n",
    "}\n",
    "```\n",
    "\n",
    "Now I will execute these actions using the functions provided.\n"
   ],
   "id": "4a5819394953f3f"
  },
  {
   "metadata": {},
   "cell_type": "markdown",
   "source": [
    "To address the situation, we need to identify the defect node, navigate to the meeting room, and perform the necessary actions along the way.\n",
    "\n",
    "### Step 1: Identify the Defect Node\n",
    "- From the user's description, the defect is a \"window in the meeting room.\"\n",
    "- In the scene graph, windows in the meeting room are represented as:\n",
    "  - `Window_37`\n",
    "  - `Window_38`\n",
    "  - `Window_39`\n",
    "  - `Window_40`\n",
    "  - `Window_41`\n",
    "\n",
    "### Step 2: Navigation Path and Actions\n",
    "- The user is currently in the `professor_room` and needs to move to the `meeting_room`. Considering the scene graph:\n",
    "  - Likely path will be: `professor_office` -> `open_cafeteria` -> `meeting_room`.\n",
    "\n",
    "### Step 3: Determine Actions\n",
    "- We need to identify the doors and open them as necessary along the navigation path:\n",
    "  - From `professor_office` to `open_cafeteria`, use `Door_32`.\n",
    "  - From `open_cafeteria` to `meeting_room`, use `Door_25`.\n",
    "\n",
    "### JSON Output with Reasoning\n",
    "```json\n",
    "{\n",
    "  \"defect_object\": \"Window_37\",\n",
    "  \"room_path\": [\"professor_office\", \"open_cafeteria\", \"meeting_room\"],\n",
    "  \"actions\": [\n",
    "    \"moveto('professor_office')\",\n",
    "    \"open('Door_32')\",\n",
    "    \"moveto('open_cafeteria')\",\n",
    "    \"open('Door_25')\",\n",
    "    \"moveto('meeting_room')\"\n",
    "  ],\n",
    "  \"reasoning\": \"The defect is identified as Window_37 in the meeting_room. Starting in the professor_office, the navigation path leads through open_cafeteria to the meeting_room. Doors along this path need to be opened to access the meeting_room.\"\n",
    "}\n",
    "```\n",
    "\n",
    "### Execute Actions\n",
    "Now, we'll execute these actions using the provided functions:\n",
    "1. Move from `professor_office` to `open_cafeteria` using `Door_32`.\n",
    "2. Move from `open_cafeteria` to `meeting_room` using `Door_25`.\n",
    "\n",
    "Let's proceed with executing these actions.\n"
   ],
   "id": "b824de822e9d02fe"
  },
  {
   "metadata": {},
   "cell_type": "code",
   "source": [
    "scene_graph_path = \"/Users/nayunkim/Documents/GitHub/repairPlan/data/small_sceneGraph_open.json\"\n",
    "scene_graph_open = load_scene_graph(scene_graph_path)\n",
    "prompt = generate_prompt(scene_graph_open)\n",
    "user_input = \"the window in the meeting room is broken and I'm currently in office_1\"\n",
    "\n",
    "result = get_navigation_plan(user_input, prompt)\n",
    "print(result.content)"
   ],
   "id": "b8d3c8de42230d9f",
   "outputs": [],
   "execution_count": null
  },
  {
   "metadata": {},
   "cell_type": "markdown",
   "source": [
    "To determine the path to the broken window in the meeting room and generate the sequence of actions needed to rectify the issue, let's follow these steps:\n",
    "\n",
    "1. **Identify the Defect Node**: Based on your description, the defect is a window in the meeting room. The scene graph shows several windows in the meeting room with IDs `Window_37`, `Window_38`, `Window_39`, `Window_40`, and `Window_41`. We'll assume one of these is broken.\n",
    "\n",
    "2. **Determine the Room Path**: You're currently in `office_1`, and you need to navigate to the `meeting_room`. According to the scene graph and links, there is a path via the open cafeteria. The connections are:\n",
    "   - `office_1` to `open_cafeteria` via  `Door_23`.\n",
    "   - `open_cafeteria` to `meeting_room` via  `Door_25`.\n",
    "   \n",
    "   Thus, the room path would be: `[\"office_1\", \"open_cafeteria\", \"meeting_room\"]`.\n",
    "\n",
    "3. **Generate the Sequence of Actions**: Using the connections identified, you would:\n",
    "   - Move to `open_cafeteria` from `office_1`.\n",
    "   - Open `Door_23` to exit `office_1`.\n",
    "   - Move to `meeting_room` from `open_cafeteria`.\n",
    "   - Open `Door_25` to enter the `meeting_room`.\n",
    "\n",
    "Let's formulate this into actions:\n",
    "\n",
    "- `moveto('open_cafeteria')`\n",
    "- `open('Door_23')`\n",
    "- `moveto('meeting_room')`\n",
    "- `open('Door_25')`\n",
    "\n",
    "Here's the detailed reasoning:\n",
    "\n",
    "```json\n",
    "{\n",
    "  \"defect_object\": \"Window_37\",\n",
    "  \"room_path\": [\"office_1\", \"open_cafeteria\", \"meeting_room\"],\n",
    "  \"actions\": [\"moveto('open_cafeteria')\", \"open('Door_23')\", \"moveto('meeting_room')\", \"open('Door_25')\"],\n",
    "  \"reasoning\": \"Starting in office_1, the path to the meeting room where the broken window is located requires navigating through the open_cafeteria. First, move to open_cafeteria from office_1, then open Door_23 to exit office_1. Next, proceed to the meeting room and open Door_25 to enter the meeting room, where the defect window (Window_37) is located.\"\n",
    "}\n",
    "```\n",
    "\n",
    "I will now instruct the robot to perform these actions.\n"
   ],
   "id": "c7aea0293df4b9c4"
  },
  {
   "metadata": {
    "ExecuteTime": {
     "end_time": "2024-09-26T21:03:07.166724Z",
     "start_time": "2024-09-26T21:03:00.051535Z"
    }
   },
   "cell_type": "code",
   "source": [
    "scene_graph_path = \"/Users/nayunkim/Documents/GitHub/thesis/data/sceneGraphs/small_sceneGraph_open.json\"\n",
    "scene_graph_open = load_scene_graph(scene_graph_path)\n",
    "prompt = f\"\"\"\n",
    "    You are an expert in building repairs and navigation. Here is a 3D scene graph representation of the environment: {scene_graph_open}.\n",
    "\n",
    "    Your tasks are:\n",
    "    1. Identify the defect node based on the user's description from the 3D scene graph.\n",
    "    2. Generate a navigation path to the defect location at room scale.\n",
    "    3. Provide the sequence of actions to move to the defect location using the pre-defined functions while checking graph's attributes precisely: moveto(room_node), open(door_node), close(door_node).   \n",
    "\n",
    "    Provide a detailed step-by-step reasoning for your decisions.\n",
    "\n",
    "    Remember, the output should be a JSON object matching the following structure:\n",
    "    {{\n",
    "      \"defect_object\": \"object_name_from_3D_scene\",\n",
    "      \"room_path\": [\"room1\", \"room2\", \"room3\"],\n",
    "      \"actions\": [\"moveto('room1')\", \"open('door1')\", \"moveto('room3')\"],\n",
    "      \"reasoning\": \"Your step-by-step reasoning here.\"\n",
    "    }}\n",
    "    \"\"\"\n",
    "\n",
    "user_input = \"the window in the meeting room is broken and the robot agent currently in professor room\"\n",
    "\n",
    "result = get_navigation_plan(user_input, prompt)\n",
    "print(result.choices[0].message.content)\n"
   ],
   "id": "cdcfae6b69187823",
   "outputs": [
    {
     "name": "stdout",
     "output_type": "stream",
     "text": [
      "To tackle the task, we will proceed with the following steps:\n",
      "\n",
      "1. **Identify the Defect Node**: Based on the user's description, the defect is a broken window in the meeting room. From the given scene graph, we have several windows in the meeting room - Window_37, Window_38, Window_39, Window_40, and Window_41. As no specific window was mentioned and the graph indicates that multiple windows exist in the meeting room, we'll assume the defect could pertain to any of them.\n",
      "\n",
      "2. **Navigating to the Defect Location**: The robot agent starts in the professor's room. We will find a path from the professor's office to the meeting room.\n",
      "\n",
      "3. **Plan of Action**: From the professor's office, we will navigate to the meeting room via a series of actions such as moving through rooms and opening doors.\n",
      "\n",
      "### Step-by-Step Reasoning:\n",
      "\n",
      "- Current Location: Professor's office.\n",
      "\n",
      "- **Identify Connection from Professor's Office to Meeting Room**:\n",
      "  - The professor's office is connected to the \"Door_32,\" which is linked to the office_1. However, this doesn't directly link us to the meeting room.\n",
      "  - We need an open path to the meeting room. From the scene graph, the meeting room is connected to \"Door_5,\" which is open, allowing entry.\n",
      "\n",
      "- **Determine the Navigation Path from the Professor's Office to Meeting Room**:\n",
      "  1. Start at the professor's office.\n",
      "  2. Move to the office_1 by passing through \"Door_32.\"\n",
      "  3. From office_1, proceed to the meeting room via \"Door_5\".\n",
      "\n",
      "### Sequence of Actions:\n",
      "We have identified the path and doors involved, so the sequence of actions will be:\n",
      "1. Move to office_1 from the professor's office.\n",
      "2. Move to the meeting room from office_1 using the open \"Door_5\".\n",
      "\n",
      "Therefore, the JSON object to represent the plan is as follows:\n",
      "\n",
      "```json\n",
      "{\n",
      "  \"defect_object\": \"Window_37\",\n",
      "  \"room_path\": [\"professor_office\", \"office_1\", \"meeting_room\"],\n",
      "  \"actions\": [\n",
      "    \"moveto('office_1')\",\n",
      "    \"moveto('meeting_room')\"\n",
      "  ],\n",
      "  \"reasoning\": \"The defect is identified as a broken window in the meeting room. The robot starts in the professor's office. To reach the meeting room, the robot must first move to office_1 via door_32 and then finally to the meeting room via the open door_5.\"\n",
      "}\n",
      "```\n"
     ]
    }
   ],
   "execution_count": 11
  },
  {
   "metadata": {},
   "cell_type": "markdown",
   "source": [
    "Let's break down the task:\n",
    "\n",
    "1. **Identify the Defect Node**: \n",
    "   - From the user's description, the defect in the 3D scene graph is a \"Window in the meeting room.\"\n",
    "   - Looking into the graph, the meeting_room has multiple windows: `Window_37`, `Window_38`, `Window_39`, `Window_40`, and `Window_41`. We'll assume the defect is with one of these windows. For this example, we'll select `Window_37`.\n",
    "\n",
    "2. **Generate a Navigation Path to the Defect Location at Room Scale**: \n",
    "   - The current location is `office_1`, and the target location is `meeting_room`.\n",
    "   - From the links, to get from `office_1` to `meeting_room`, we pass through the `open_cafeteria`.\n",
    "   - Hence, the room path becomes: `[\"office_1\", \"open_cafeteria\", \"meeting_room\"]`.\n",
    "\n",
    "3. **Provide Sequence of Actions to Move to the Defect Location**:\n",
    "   - Start in `office_1`.\n",
    "   - Move to `open_cafeteria` using `Door_27`, which is inside the `open_cafeteria` and currently closed.\n",
    "   - Then move to `meeting_room` using `Door_5`, which is inside the `meeting_room` and currently open.\n",
    "\n",
    "Now, let's outline these actions and reasoning:\n",
    "\n",
    "```json\n",
    "{\n",
    "  \"defect_object\": \"Window_37\",\n",
    "  \"room_path\": [\"office_1\", \"open_cafeteria\", \"meeting_room\"],\n",
    "  \"actions\": [\n",
    "    \"moveto('office_1')\",\n",
    "    \"open('Door_32')\",\n",
    "    \"moveto('open_cafeteria')\",\n",
    "    \"moveto('meeting_room')\"\n",
    "  ],\n",
    "  \"reasoning\": \"Starting in office_1, the path to meeting_room goes through open_cafeteria. Therefore, first, I need to move to open_cafeteria by opening Door_32, as it's between office_1 and open_cafeteria, and then move directly to the meeting_room as Door_5 is already open.\"\n",
    "}\n",
    "```\n",
    "\n",
    "Before proceeding, I will perform the multi-tool actions required in the path based on above steps.\n"
   ],
   "id": "13aceffff78fa7e1"
  },
  {
   "metadata": {
    "ExecuteTime": {
     "end_time": "2024-09-26T21:14:11.748539Z",
     "start_time": "2024-09-26T21:14:05.249552Z"
    }
   },
   "cell_type": "code",
   "source": [
    "scene_graph_path = \"/Users/nayunkim/Documents/GitHub/thesis/data/sceneGraphs/small_sceneGraph_open.json\"\n",
    "scene_graph_open = load_scene_graph(scene_graph_path)\n",
    "prompt = f\"\"\"\n",
    "    You are an expert in building repairs and navigation. Here is a 3D scene graph representation of the environment: {scene_graph_open}.\n",
    "\n",
    "    Your tasks are:\n",
    "    1. Identify the defect node based on the user's description from the 3D scene graph.\n",
    "    2. Check the Room connections with door nodes which can be accessible room to room \n",
    "    3. Generate the optimal navigation path to the defect location at room scale.\n",
    "    3. Check the object and asset's state in the navigation path.  \n",
    "    4. Provide the sequence of actions to move to the defect location considering the checked states and using the pre-defined functions: moveto(room_node), open(door_node), close(door_node).   \n",
    "\n",
    "    Provide a detailed step-by-step reasoning for your decisions.\n",
    "\n",
    "    Generate the final JSON output as an Object matching the following structure:\n",
    "    {{\n",
    "      \"defect_object\": \"object_name_from_3D_scene\",\n",
    "      \"room_path\": [\"room1\", \"room2\", \"room3\"],\n",
    "      \"actions\": [\"moveto('room1')\", \"open('door1')\", \"moveto('room3')\"],\n",
    "      \"reasoning\": \"Your step-by-step reasoning here.\"\n",
    "    }}\n",
    "    \"\"\"\n",
    "user_input = \"the window is broken in the meeting room, I'm currently in the professor room\"\n",
    "result = get_navigation_plan(user_input, prompt)\n",
    "print(result.choices[0].message.content)"
   ],
   "id": "fd2850bd4eaf9436",
   "outputs": [
    {
     "name": "stdout",
     "output_type": "stream",
     "text": [
      "To resolve the issue of the broken window in the meeting room, here is a step-by-step plan:\n",
      "\n",
      "1. **Identify the Defect Node:**\n",
      "   - From the 3D scene graph, identify the broken object in the meeting room as a window. The window in the meeting room is identified as \"Window_37\".\n",
      "\n",
      "2. **Check Room Connections with Doors:**\n",
      "   - Investigate the accessibility between rooms through doors. The professor's office is linked with \"Door_32\" to \"office_1\", and the meeting room has \"Door_25,\" which leads to the \"open_cafeteria.\"\n",
      "\n",
      "3. **Generate the Optimal Navigation Path:**\n",
      "   - Starting from \"professor_office,\" move to \"office_1\" through \"Door_32\" and then move to \"open_cafeteria\" and use \"Door_25\" to finally move to the \"meeting_room.\"\n",
      "\n",
      "4. **Check Object and Asset States in the Navigation Path:**\n",
      "   - Door_32 is open, allowing unhindered movement from \"professor_office\" to \"office_1.\"\n",
      "   - Door_23, leading to \"meeting_room,\" is open.\n",
      "\n",
      "5. **Provide Sequence of Actions:**\n",
      "   - Move from \"professor_office\" to \"office_1\" through \"Door_32.\"\n",
      "   - Use the \"open_cafeteria\" as a transitional space.\n",
      "   - Move to \"meeting_room\" through \"Door_25,\" which is already open.\n",
      "\n",
      "Now, I'll provide the final JSON output detailing the actions and reasoning. \n",
      "\n",
      "```json\n",
      "{\n",
      "  \"defect_object\": \"Window_37\",\n",
      "  \"room_path\": [\"professor_office\", \"office_1\", \"meeting_room\"],\n",
      "  \"actions\": [\n",
      "    \"moveto('office_1')\",\n",
      "    \"moveto('meeting_room')\"\n",
      "  ],\n",
      "  \"reasoning\": \"The defect is identified as Window_37 in the meeting_room. Starting from professor_office, move to office_1 via Door_32, which is open. Then navigate through open_cafeteria to the meeting_room using Door_25, which is also open, to reach the defect location.\"\n",
      "}\n",
      "```\n"
     ]
    }
   ],
   "execution_count": 14
  },
  {
   "metadata": {},
   "cell_type": "markdown",
   "source": [
    "To generate the required JSON output, let's break the task into smaller steps:\n",
    "\n",
    "1. **Identify the Defect Node**:\n",
    "   - From the user's description, the defect location is a window in the \"meeting room\". \n",
    "   - By looking at the scene graph, the windows in the \"meeting room\" are: `Window_37`, `Window_38`, `Window_39`, `Window_40`, `Window_41`.\n",
    "   - Let's assume that `Window_37` is the defect node.\n",
    "\n",
    "2. **Check Room Connections with Door Nodes**:\n",
    "   - The current location is \"office_1\" and the target location is \"meeting_room\".\n",
    "   - From the graph links:\n",
    "     - `open_cafeteria` can be accessed from `office_1` through `Door_23`\n",
    "     - To enter `meeting_room` from `open_cafeteria`, you can use `Door_25` as it connects to `meeting_room`.\n",
    "\n",
    "3. **Generate Navigation Path**:\n",
    "   - Room path based on door connections will be: `office_1` → `open_cafeteria` → `meeting_room`.\n",
    "\n",
    "4. **Check Object and Asset States in the Navigation Path**:\n",
    "   - `Door_23` is open, so we can move directly from `office_1` to `open_cafeteria`.\n",
    "   - `Door_25` is open, so we can move directly from `open_cafeteria` to `meeting_room`.\n",
    "\n",
    "5. **Generate Sequence of Actions**:\n",
    "   - Navigate based on the open doors:\n",
    "     - Move to `open_cafeteria` from `office_1`\n",
    "     - Move to `meeting_room` from `open_cafeteria`\n",
    "\n",
    "Now, let's format the detailed reasoning and results:\n",
    "\n",
    "```json\n",
    "{\n",
    "  \"defect_object\": \"Window_37\",\n",
    "  \"room_path\": [\"office_1\", \"open_cafeteria\", \"meeting_room\"],\n",
    "  \"actions\": [\n",
    "    \"moveto('office_1')\",\n",
    "    \"moveto('open_cafeteria')\",\n",
    "    \"moveto('meeting_room')\"\n",
    "  ],\n",
    "  \"reasoning\": \"The identified defect object is Window_37 in the meeting room. To reach the meeting room from office_1, access the open_cafeteria using Door_23, which is open. Then, proceed to the meeting room using Door_25. The sequence of movements involves moving from office_1 to open_cafeteria, and then to meeting_room without the necessity of any further actions as all necessary doors are open.\"\n",
    "}\n",
    "```\n"
   ],
   "id": "d0ce3600f3caf84b"
  },
  {
   "metadata": {
    "ExecuteTime": {
     "end_time": "2024-09-26T21:27:23.679621Z",
     "start_time": "2024-09-26T21:27:14.570164Z"
    }
   },
   "cell_type": "code",
   "source": [
    "user_input = \"the wall is broken in the office 2, the robot is currently in the professor room\"\n",
    "result = get_navigation_plan(user_input, prompt)\n",
    "print(result.choices[0].message.content)"
   ],
   "id": "256347ed69e94237",
   "outputs": [
    {
     "name": "stdout",
     "output_type": "stream",
     "text": [
      "Let's break down the task into the following steps:\n",
      "\n",
      "1. **Identify the defect node based on the user's description:**\n",
      "   - The defect is in \"office 2\" and it's the wall. Based on the 3D scene graph, the walls in \"office 2\" are: `Wall_42`, `Wall_45`, `Wall_65`, and `Wall_93`. Assuming one of these walls could be the defect.\n",
      "\n",
      "2. **Check room connections with door nodes for accessibility:**\n",
      "   - Current location: `professor_office`.\n",
      "   - Target location: `office_2`.\n",
      "   - Connections from `professor_office` based on the scene graph:\n",
      "     - `professor_office` and `Door_29`.\n",
      "     - `office_1` and `Door_32`.\n",
      "   - Connections for `office_2`:\n",
      "     - `open_cafeteria` and `Door_24`.\n",
      "   - To reach `office_2`, the path can be `professor_office` -> `office_1` -> `open_cafeteria` -> `office_2`.\n",
      "\n",
      "3. **Generate the optimal navigation path to the defect location:**\n",
      "   - `professor_office` -> `office_1` -> `open_cafeteria` -> `office_2`.\n",
      "\n",
      "4. **Check the object and asset's state in the navigation path:**\n",
      "   - `professor_office` to `office_1` via `Door_32` (state: open).\n",
      "   - `office_1` to `open_cafeteria` via `Door_23` (state: closed).\n",
      "   - `open_cafeteria` to `office_2` via `Door_24` (state: open).\n",
      "\n",
      "5. **Provide the sequence of actions:**\n",
      "   - Move to `office_1`.\n",
      "   - Open `Door_23` to reach `open_cafeteria`.\n",
      "   - Move to `open_cafeteria`.\n",
      "   - Move to `office_2`.\n",
      "\n",
      "Now, let's format the reasoning and generate the JSON output. \n",
      "\n",
      "```json\n",
      "{\n",
      "  \"defect_object\": \"Wall_42\",  // Assuming Wall_42 as the defect, as it's in office_2\n",
      "  \"room_path\": [\"professor_office\", \"office_1\", \"open_cafeteria\", \"office_2\"],\n",
      "  \"actions\": [\n",
      "    \"moveto('office_1')\",\n",
      "    \"open('Door_23')\",\n",
      "    \"moveto('open_cafeteria')\",\n",
      "    \"moveto('office_2')\"\n",
      "  ],\n",
      "  \"reasoning\": \"The defect is identified at a wall in office_2. Starting from professor_office, the optimal path identified is professor_office to office_1, then open_cafeteria, and finally office_2. Door_32 is open, allowing movement from professor_office to office_1. Door_23 is closed and needs to be opened to proceed from office_1 to open_cafeteria. Door_24 is open, allowing movement from open_cafeteria to office_2.\"\n",
      "}\n",
      "```\n",
      "\n",
      "Now, I will execute the sequence of actions defined above using the pre-defined functions.\n"
     ]
    }
   ],
   "execution_count": 17
  },
  {
   "metadata": {
    "ExecuteTime": {
     "end_time": "2024-09-26T13:13:25.828773Z",
     "start_time": "2024-09-26T13:13:20.227142Z"
    }
   },
   "cell_type": "code",
   "source": [
    "user_input = \"the door_23 is broken I'm currently in the professor's office.\"\n",
    "result = get_navigation_plan(user_input, prompt)\n",
    "print(result.content)"
   ],
   "id": "974479ee47aea07e",
   "outputs": [
    {
     "name": "stdout",
     "output_type": "stream",
     "text": [
      "Let's follow the steps to address the issue:\n",
      "\n",
      "1. **Identify the Defect Node:**\n",
      "   - From the description, the defect is related to **`Door_23`**.\n",
      "\n",
      "2. **Check Room Connections:**\n",
      "   - **`Door_23`** connects **`open_cafeteria`** and **`office_1`**.\n",
      "\n",
      "3. **Generate Optimal Navigation Path to the Defect Location:**\n",
      "   - You are currently in **`professor_office`**.\n",
      "   - To reach **`open_cafeteria`**, you can go through **`office_1`**.\n",
      "\n",
      "4. **Check Object and Asset States:**\n",
      "   - **`Door_32`** between **`professor_office`** and **`office_1`** is open.\n",
      "   - **`Door_23`** between **`office_1`** and **`open_cafeteria`** is broken, but since it's open, you can still pass through.\n",
      "\n",
      "5. **Provide Sequence of Actions:**\n",
      "   - Move from **`professor_office`** to **`office_1`**.\n",
      "   - Then, move from **`office_1`** to **`open_cafeteria`**.\n",
      "\n",
      "Here's the step-by-step reasoning for the actions:\n",
      "\n",
      "- From **`professor_office`** you can directly move to **`office_1`** since **`Door_32`** is open and connects these rooms.\n",
      "- From **`office_1`**, move to **`open_cafeteria`** passing through the broken **`Door_23`** as it's already open.\n",
      "\n",
      "Let's generate the JSON output based on this reasoning.\n",
      "```json\n",
      "{\n",
      "  \"defect_object\": \"Door_23\",\n",
      "  \"room_path\": [\"professor_office\", \"office_1\", \"open_cafeteria\"],\n",
      "  \"actions\": [\"moveto('professor_office')\", \"moveto('office_1')\", \"moveto('open_cafeteria')\"],\n",
      "  \"reasoning\": \"Start from the 'professor_office'. Move to 'office_1' via 'Door_32' which is open, then proceed to 'open_cafeteria' through 'Door_23'.\"\n",
      "}\n",
      "```\n"
     ]
    }
   ],
   "execution_count": 9
  },
  {
   "metadata": {
    "ExecuteTime": {
     "end_time": "2024-09-26T13:15:18.153478Z",
     "start_time": "2024-09-26T13:15:13.483169Z"
    }
   },
   "cell_type": "code",
   "source": [
    "#after closing the door_23 \n",
    "user_input = \"the door_23 is broken I'm currently in the professor's office.\"\n",
    "result = get_navigation_plan(user_input, prompt)\n",
    "print(result.content)"
   ],
   "id": "505898db34314c92",
   "outputs": [
    {
     "name": "stdout",
     "output_type": "stream",
     "text": [
      "To address the issue with Door_23 being broken and you're in the professor's office, let's identify the location of \"Door_23\" and plan a path to get there. \n",
      "\n",
      "1. **Identify Defect Object**: Based on your description, the defect object is Door_23.\n",
      "\n",
      "2. **Location of Defect**: From the graph, Door_23 is associated with \"open_cafeteria\" and \"office_1\". \n",
      "\n",
      "3. **Navigation Path**: \n",
      "   - Start from \"professor_office\".\n",
      "   - From \"professor_office\", we can reach \"office_1\" through Door_32 (linked).\n",
      "   - From \"office_1\", we move to \"open_cafeteria\" via Door_23. However, since Door_23 is broken, our task is to reach and assess it, not pass through it. \n",
      "\n",
      "4. **Sequence of Actions**: \n",
      "   - Move to \"office_1\" from \"professor_office\".\n",
      "   - Move to \"open_cafeteria\".\n",
      "\n",
      "Here's the JSON structure with the detailed steps:\n",
      "\n",
      "```json\n",
      "{\n",
      "  \"defect_object\": \"Door_23\",\n",
      "  \"room_path\": [\"professor_office\", \"office_1\", \"open_cafeteria\"],\n",
      "  \"actions\": [\n",
      "    \"moveto('office_1')\",\n",
      "    \"moveto('open_cafeteria')\"\n",
      "  ],\n",
      "  \"reasoning\": \"To address the broken Door_23, start by moving from the current location, professor_office, to office_1, passing through Door_32 which connects them. Proceed from office_1 to open_cafeteria where Door_23 is located.\"\n",
      "}\n",
      "```\n",
      "\n",
      "Let's execute actions based on this reasoning.\n"
     ]
    }
   ],
   "execution_count": 11
  },
  {
   "metadata": {
    "ExecuteTime": {
     "end_time": "2024-09-26T13:18:44.381455Z",
     "start_time": "2024-09-26T13:18:38.544454Z"
    }
   },
   "cell_type": "code",
   "source": [
    "user_input = \"I feel the atmosphere in this room cold a bit and there is some cold air coming form somewhere. what should I check. I'm currently in the professor's office. the robot agent is located at the meeting room\"\n",
    "result = get_navigation_plan(user_input, prompt)\n",
    "print(result.content)"
   ],
   "id": "328fde59b47cf4bb",
   "outputs": [
    {
     "name": "stdout",
     "output_type": "stream",
     "text": [
      "Based on your description of feeling cold air in the professor's office, it's likely there could be an issue with either a window or door that may be allowing cold air to enter the room. According to the provided 3D scene graph, there are two windows (Window_16 and Window_17) that are in the professor's office. It is advisable to check these windows first.\n",
      "\n",
      "To perform this task, the robot agent needs to navigate from the meeting room to the professor's office and inspect the windows in the professor's office.\n",
      "\n",
      "Here's the detailed plan:\n",
      "\n",
      "1. Identify the defect object: The windows in the professor's office could be the source of the draft. Thus, we should check Window_16 and Window_17 as they are both located in the professor's office.\n",
      "\n",
      "2. Generate a navigation path:\n",
      "   - Current location: Meeting room\n",
      "   - Path: Meeting room → Open cafeteria (through Door_25) → Office 1 (through Door_24) → Professor office (through Door_32)\n",
      "\n",
      "3. Sequence of actions to move to the defect location:\n",
      "   - Move the robot to the open cafeteria from the meeting room.\n",
      "   - Open any doors in the path if they are found closed.\n",
      "\n",
      "Here is the output with structured JSON:\n",
      "\n",
      "```json\n",
      "{\n",
      "  \"defect_object\": \"Window_16 or Window_17\",\n",
      "  \"room_path\": [\"meeting_room\", \"open_cafeteria\", \"office_1\", \"professor_office\"],\n",
      "  \"actions\": [\n",
      "    \"moveto('meeting_room')\",\n",
      "    \"open('Door_25')\",\n",
      "    \"moveto('open_cafeteria')\",\n",
      "    \"open('Door_27')\",\n",
      "    \"moveto('office_1')\",\n",
      "    \"open('Door_32')\",\n",
      "    \"moveto('professor_office')\"\n",
      "  ],\n",
      "  \"reasoning\": \"Start at meeting room, move to open cafeteria through through open Door_25 in meeting room, then move to office_1 by ensuring Door_27 is opened, finally enter the professor_office by opening Door_32. Check Window_16 or Window_17 in the professor's office.\"\n",
      "}\n",
      "```\n",
      "\n",
      "Now, I'll proceed with executing the planned actions.\n"
     ]
    }
   ],
   "execution_count": 14
  },
  {
   "metadata": {
    "ExecuteTime": {
     "end_time": "2024-09-26T13:23:08.830370Z",
     "start_time": "2024-09-26T13:23:03.132357Z"
    }
   },
   "cell_type": "code",
   "source": [
    "user_input = \"I found some water stains at the top edge of the wall in the office_2. the robot agent is located at the professor room. what should I check?\"\n",
    "result = get_navigation_plan(user_input, prompt)\n",
    "print(result.content)"
   ],
   "id": "31b2fffd571d5779",
   "outputs": [
    {
     "name": "stdout",
     "output_type": "stream",
     "text": [
      "Based on the user's description, it seems like there might be an issue with the ceiling in the \"office_2\" room, as water stains at the top edge of a wall typically indicate a leak or defect in the ceiling above it. \n",
      "\n",
      "Let's start by identifying the defect object and then generate a navigation path from the \"professor_office\" to \"office_2\".\n",
      "\n",
      "1. **Identify the Defect Node:**\n",
      "   - Water stains at the top edge of the wall may indicate an issue with the ceiling in \"office_2\".\n",
      "   - The defect object is likely `Ceiling_76`, which belongs to the room \"office_2\".\n",
      "\n",
      "2. **Generate a Navigation Path:**\n",
      "   - The robot agent is currently in \"professor_office\".\n",
      "   - We need to move it to \"office_2\".\n",
      "\n",
      "3. **Sequence of Actions:**\n",
      "   Following the connections in the graph:\n",
      "   - Current Room: \"professor_office\".\n",
      "   - Next Room: \"open_cafeteria\" (via `Door_32`, which is linked between \"professor_office\" and \"office_1\").\n",
      "   - Final Room: \"office_2\" (via `Door_24`, which is linked between \"open_cafeteria\" and \"office_2\").\n",
      "\n",
      "   We will ensure the doors along the path are open before moving.\n",
      "\n",
      "Here is the breakdown:\n",
      "\n",
      "- Move to \"office_1\" from \"professor_office\": Open `Door_32` (it's already open, but we should check).\n",
      "- Move to \"open_cafeteria\": `Door_32` is open to \"open_cafeteria\".\n",
      "- Move to \"office_2\": Open `Door_24` (already open).\n",
      "\n",
      "Let's execute these steps:\n",
      "\n",
      "```json\n",
      "{\n",
      "  \"defect_object\": \"Ceiling_76\",\n",
      "  \"room_path\": [\"professor_office\", \"open_cafeteria\", \"office_2\"],\n",
      "  \"actions\": [\n",
      "    \"moveto('office_1')\",\n",
      "    \"moveto('open_cafeteria')\",\n",
      "    \"moveto('office_2')\"\n",
      "  ],\n",
      "  \"reasoning\": \"The water stains at the top edge of the wall in 'office_2' likely indicate an issue with 'Ceiling_76'. The navigation path from 'professor_office' to 'office_2' involves moving through 'office_1' and then 'open_cafeteria'. As 'Door_32' is open leading to 'open_cafeteria' and 'Door_24' is open leading to 'office_2', the agent can directly navigate without needing to open any doors.\"\n",
      "}\n",
      "```\n"
     ]
    }
   ],
   "execution_count": 17
  },
  {
   "metadata": {
    "ExecuteTime": {
     "end_time": "2024-09-26T13:27:38.423919Z",
     "start_time": "2024-09-26T13:27:30.622407Z"
    }
   },
   "cell_type": "code",
   "source": [
    "user_input = \"the wooden flooring in the meeting room discolored the robot is located at the open cafeteria\"\n",
    "result = get_navigation_plan(user_input, prompt)\n",
    "print(result.content)"
   ],
   "id": "3a126eb94b1fdeae",
   "outputs": [
    {
     "name": "stdout",
     "output_type": "stream",
     "text": [
      "To address the issue of the discolored wooden flooring in the meeting room, we'll start by identifying the defect node from the 3D scene graph, navigate from the open cafeteria to the meeting room, and perform the necessary actions to reach the defect location. Here is the step-by-step reasoning:\n",
      "\n",
      "### Step 1: Identify the Defect Node\n",
      "\n",
      "1. **Defect Description:** The defect is related to the \"wooden flooring\" in the meeting room.\n",
      "2. **3D Scene Graph Analysis:** From the scene graph, we find `Floor_59` is listed as the floor associated with the meeting room.\n",
      "   - **Defect Object:** `Floor_59`\n",
      "\n",
      "### Step 2: Determine Navigation Path\n",
      "\n",
      "1. **Current Location:** The robot is currently located in the open cafeteria.\n",
      "2. **Target Location:** The defect is in the meeting room.\n",
      "3. **Available Connections:**\n",
      "   - From the scene graph, we see the door connections: \n",
      "     - `Door_25` connects the open cafeteria and the meeting room.\n",
      "4. **Navigation Path:** \n",
      "   - Move from 'open_cafeteria' to 'meeting_room'.\n",
      "\n",
      "### Step 3: Sequence of Actions to Reach the Defect Location\n",
      "\n",
      "1. **Current Room:** Open the door if it is closed between 'open_cafeteria' and 'meeting_room'.\n",
      "   - Check `Door_25` which is currently open.\n",
      "2. **Actions:**\n",
      "   - Move from the open cafeteria to the meeting room through the open door.\n",
      "\n",
      "Based on the above plans, the JSON object for the task execution would be:\n",
      "\n",
      "```json\n",
      "{\n",
      "  \"defect_object\": \"Floor_59\",\n",
      "  \"room_path\": [\"open_cafeteria\", \"meeting_room\"],\n",
      "  \"actions\": [\n",
      "    \"moveto('open_cafeteria')\",\n",
      "    \"moveto('meeting_room')\"\n",
      "  ],\n",
      "  \"reasoning\": \"The robot is currently in the open cafeteria. The path to the meeting room, where the flooring defect ('Floor_59') is located, involves moving through an open door ('Door_25') connecting the two rooms. Since the door is already open, no additional action is needed to open it, allowing direct movement from the open cafeteria to the meeting room.\"\n",
      "}\n",
      "```\n",
      "\n",
      "Let me now execute the actions specified in the sequence.\n"
     ]
    }
   ],
   "execution_count": 19
  },
  {
   "metadata": {
    "ExecuteTime": {
     "end_time": "2024-09-26T13:33:39.380562Z",
     "start_time": "2024-09-26T13:33:33.506053Z"
    }
   },
   "cell_type": "code",
   "source": [
    "user_input = \"I'm currently in the office_2 but I can't get outside. the robot agent is located at the professor room. provide the path for the robot agent to help me out of this room\"\n",
    "result = get_navigation_plan(user_input, prompt)\n",
    "print(result.content)"
   ],
   "id": "60e89bb74e42c2be",
   "outputs": [
    {
     "name": "stdout",
     "output_type": "stream",
     "text": [
      "To help you exit the office_2, let's first identify the problem at hand. Based on the description, the possibility is that a door might be closed preventing you from exiting. We have to find a door connected to office_2, which you can exit through.\n",
      "\n",
      "### Defect Node Identification:\n",
      "\n",
      "1. **Defect Description:** You can’t get outside from office_2.\n",
      "2. **Potential Defect Objects:** Doors leading from office_2.\n",
      "3. **Connected Door:** The door connected to 'office_2' is 'Door_24', which is in the 'open' state and leads to the 'open_cafeteria'.\n",
      "\n",
      "### Navigation Path:\n",
      "\n",
      "1. **Start Location:** professor_office\n",
      "2. **Target Location:** office_2 via open_cafeteria\n",
      "\n",
      "### Action Plan:\n",
      "\n",
      "1. **moveto(professor_office):** Starting in professor_office, the goal is to reach open_cafeteria.\n",
      "2. **open(Door_23):** Check state, if closed then open it, since it's connected between office_1 and open_cafeteria.\n",
      "3. **moveto(open_cafeteria):** Move to open_cafeteria.\n",
      "4. **moveto(office_2):** From open_cafeteria, enter office_2.\n",
      "\n",
      "### Step-by-Step Reasoning:\n",
      "\n",
      "- **Reasoning**: Starting from the professor_office, the agent needs to move through the open_cafeteria to reach office_2. This involves passing through Door_23. Since Door_24 is open leading to office_2, our path is accessible.\n",
      "  \n",
      "Here is the JSON object with the necessary steps:\n",
      "\n",
      "```json\n",
      "{\n",
      "  \"defect_object\": \"Door_24\",\n",
      "  \"room_path\": [\"professor_office\", \"office_1\", \"open_cafeteria\", \"office_2\"],\n",
      "  \"actions\": [\n",
      "    \"moveto('professor_office')\",\n",
      "    \"open('Door_23')\",\n",
      "    \"moveto('open_cafeteria')\",\n",
      "    \"moveto('office_2')\"\n",
      "  ],\n",
      "  \"reasoning\": \"Starting from 'professor_office', move through 'open_cafeteria' where Door_24 is already open leading to 'office_2'. Ensure Door_23 is open to allow passage.\"\n",
      "}\n",
      "```\n",
      "\n",
      "The agent should follow this action sequence to help you exit from office_2.\n"
     ]
    }
   ],
   "execution_count": 21
  },
  {
   "metadata": {
    "ExecuteTime": {
     "end_time": "2024-09-26T13:37:39.033101Z",
     "start_time": "2024-09-26T13:37:32.729376Z"
    }
   },
   "cell_type": "code",
   "source": [
    "user_input = \"the window in the kitchen is broken. the robot agent is located at the professor room\"\n",
    "result = get_navigation_plan(user_input, prompt)\n",
    "print(result.content)"
   ],
   "id": "87e067a61f818c63",
   "outputs": [
    {
     "name": "stdout",
     "output_type": "stream",
     "text": [
      "It seems there is a misunderstanding. Let's clarify the situation using the 3D scene graph provided. According to the scene graph, there is no room explicitly labeled as \"kitchen.\" However, based on the context, it seems the user might be referring to the \"open_cafeteria\" as there are several windows associated with the \"open_cafeteria.\" Furthermore, the agent is currently located at the \"professor_office.\"\n",
      "\n",
      "Here is the step-by-step reasoning and JSON output.\n",
      "\n",
      "1. **Identify the Defect Node:**\n",
      "   - The defect is a \"window\" located in what the user describes as the \"kitchen\". Assuming the \"open_cafeteria\" is meant, we look for windows linked to this room.\n",
      "   - According to the scene graph, the \"open_cafeteria\" doesn’t have any windows, meaning we might need to check similar room descriptions.\n",
      "\n",
      "2. **Generate a Navigation Path:**\n",
      "   - Starting at the \"professor_office,\" navigate to the \"open_cafeteria\" as the assumed \"kitchen.\"\n",
      "\n",
      "3. **Sequence of Actions:**\n",
      "   - Move from \"professor_office\" to \"open_cafeteria\" through connected links. The path might go through doors that need interaction.\n",
      "\n",
      "**Navigation Path:**\n",
      "- Professor office to Open Cafeteria, via: Professor Office -> Door 32\n",
      "\n",
      "**Sequence of Actions:**\n",
      "- Move to \"professor_office\"\n",
      "- Open \"Door_32\"\n",
      "- Move to \"open_cafeteria\"\n",
      "\n",
      "Here's the JSON object with the conclusions:\n",
      "\n",
      "```json\n",
      "{\n",
      "  \"defect_object\": \"Window_in_open_cafeteria_assumed_kitchen\",\n",
      "  \"room_path\": [\"professor_office\", \"open_cafeteria\"],\n",
      "  \"actions\": [\n",
      "    \"moveto('professor_office')\",\n",
      "    \"open('Door_32')\",\n",
      "    \"moveto('open_cafeteria')\"\n",
      "  ],\n",
      "  \"reasoning\": \"User mentioned a window in the kitchen is broken. Assume kitchen refers to open_cafeteria based on scene graph. The robot navigates from professor_office through Door_32 to reach open_cafeteria.\"\n",
      "}\n",
      "```\n",
      "\n",
      "Now let's execute the actions mentioned in the sequence.\n"
     ]
    }
   ],
   "execution_count": 22
  },
  {
   "metadata": {
    "ExecuteTime": {
     "end_time": "2024-09-26T13:38:36.909428Z",
     "start_time": "2024-09-26T13:38:36.125625Z"
    }
   },
   "cell_type": "code",
   "source": [
    "user_input = \"i'm outside of the building. the robot agent is located at the professor room\"\n",
    "result = get_navigation_plan(user_input, prompt)\n",
    "print(result.content)"
   ],
   "id": "6803e61f6991fa6e",
   "outputs": [
    {
     "name": "stdout",
     "output_type": "stream",
     "text": [
      "Please provide a description of the defect or the issue that needs to be addressed.\n"
     ]
    }
   ],
   "execution_count": 23
  },
  {
   "metadata": {
    "ExecuteTime": {
     "end_time": "2024-09-26T13:39:59.418365Z",
     "start_time": "2024-09-26T13:39:53.623765Z"
    }
   },
   "cell_type": "code",
   "source": [
    "user_input = \"the chair in the lecture room is broken the robot agent is located at the professor room\"\n",
    "result = get_navigation_plan(user_input, prompt)\n",
    "print(result.content)"
   ],
   "id": "b55e349f12c68012",
   "outputs": [
    {
     "name": "stdout",
     "output_type": "stream",
     "text": [
      "Before proceeding, let's clarify and analyze the requirements based on the 3D scene graph and the provided description.\n",
      "\n",
      "1. **Defect Node Identification:**\n",
      "   - The defect node referred to in the user's description as \"the chair in the lecture room\" doesn't match any object or asset related to the 3D scene graph provided. Additionally, there isn't a \"lecture room\" listed in the room nodes.\n",
      "   - Based on the context and related entities, there's no direct reference to \"chair\" in the given 3D scene graph. Thus our best approach is to check if the user means any of the available room entities like \"meeting_room\" since a meeting room might contain elements similar to a lecture room setup.\n",
      "\n",
      "2. **Navigation Path and Actions:**\n",
      "   - Given that the defective node's exact identification related to \"chair\" is not possible, we'll assume the closest match for location as the \"meeting_room,\" which could serve a similar function as a lecture room.\n",
      "   - Starting from \"professor_office,\" we need to determine the path to \"meeting_room.\"\n",
      "\n",
      "3. **Path and Action Proposal:**\n",
      "   - **Action Steps:**\n",
      "     - From \"professor_office,\" navigate using the link structure: professor_office -> open any required door -> meeting_room.\n",
      "     - Given the 3D scene graph, the path will involve moving from the \"professor_office\" to adjacent rooms, using doors as necessary.\n",
      "\n",
      "**Detailed Reasoning and Action Recipe:**\n",
      "\n",
      "### Defect Node:\n",
      "Since the user's described defect isn't in the 3D scene graph, I will assume they meant something similar to what's described in rooms, such as \"meeting_room.\"\n",
      "\n",
      "### Navigation Path:\n",
      "1. **Starting Point:** professor_office\n",
      "2. **Potential Path to Meeting Room:**\n",
      "    - Professor Office -> Open Door (if needed) -> Meeting Room\n",
      "\n",
      "### Actions:\n",
      "1. Move to adjacent room paths from \"professor_office\" using linked assets and doors.\n",
      "3. Open doors where required according to the available paths to access \"meeting_room.\"\n",
      "\n",
      "I will now generate the logical path and action sequence based on assumptions and the provided data. Let's proceed with these elements detailed in a JSON output.\n"
     ]
    }
   ],
   "execution_count": 24
  },
  {
   "metadata": {
    "ExecuteTime": {
     "end_time": "2024-09-26T19:28:14.576142Z",
     "start_time": "2024-09-26T19:28:01.287446Z"
    }
   },
   "cell_type": "code",
   "source": [
    "prompt = f\"\"\"\n",
    "    You are an expert in building repairs and navigation. Here is a 3D scene graph representation of the environment: {scene_graph}.\n",
    "\n",
    "    Your tasks are:\n",
    "    1. Identify the defect node based on the user's description from the 3D scene graph.\n",
    "    \n",
    "    2. Check the room connections:\n",
    "       - Rooms are considered connected only if there is a door node directly linking them.\n",
    "       - Create a connectivity map of rooms based on these door connections.\n",
    "    \n",
    "    3. Generate the optimal navigation path to the defect location at room scale:\n",
    "       - The path must move through connected rooms only.\n",
    "       - Each step in the path can only move to an adjacent room connected by a door.\n",
    "    \n",
    "    4. Check the object and asset's state in the navigation path.\n",
    "    \n",
    "    5. Provide the sequence of actions to move to the defect location considering the checked states and using the pre-defined functions: \n",
    "       - moveto(room_node): Can only be used to move to an immediately adjacent room connected by a door.\n",
    "       - open(door_node)\n",
    "       - close(door_node)\n",
    "    \n",
    "    Note: Direct movement between non-adjacent rooms (e.g., from room1 to room3 when the layout is room1 - room2 - room3) is not allowed. The path must go through each intermediate room. \n",
    "\n",
    "    Provide a detailed step-by-step reasoning for your decisions.\n",
    "\n",
    "    Generate the final JSON output as an Object matching the following structure:\n",
    "    {{\n",
    "      \"defect_object\": \"object_name_from_3D_scene\",\n",
    "      \"room_path\": [\"room1\", \"room2\", \"room3\"],\n",
    "      \"actions\": [\"moveto('room1')\", \"open('door1')\", \"moveto('room3')\"],\n",
    "      \"reasoning\": \"Your step-by-step reasoning here.\"\n",
    "    }}\n",
    "    \"\"\"\n",
    "user_input = \"the wall is broken in the professor's office, I'm currently in the meeting room\"\n",
    "\n",
    "result = get_navigation_plan(user_input, prompt)\n",
    "print(result.choices[0].message.content)"
   ],
   "id": "4b6b0611c07c6d5f",
   "outputs": [
    {
     "ename": "AttributeError",
     "evalue": "'ChatCompletion' object has no attribute 'content'",
     "output_type": "error",
     "traceback": [
      "\u001B[0;31m---------------------------------------------------------------------------\u001B[0m",
      "\u001B[0;31mAttributeError\u001B[0m                            Traceback (most recent call last)",
      "Cell \u001B[0;32mIn[8], line 37\u001B[0m\n\u001B[1;32m     34\u001B[0m user_input \u001B[38;5;241m=\u001B[39m \u001B[38;5;124m\"\u001B[39m\u001B[38;5;124mthe wall is broken in the professor\u001B[39m\u001B[38;5;124m'\u001B[39m\u001B[38;5;124ms office, I\u001B[39m\u001B[38;5;124m'\u001B[39m\u001B[38;5;124mm currently in the meeting room\u001B[39m\u001B[38;5;124m\"\u001B[39m\n\u001B[1;32m     36\u001B[0m result \u001B[38;5;241m=\u001B[39m get_navigation_plan(user_input, prompt)\n\u001B[0;32m---> 37\u001B[0m \u001B[38;5;28mprint\u001B[39m(\u001B[43mresult\u001B[49m\u001B[38;5;241;43m.\u001B[39;49m\u001B[43mcontent\u001B[49m)\n",
      "File \u001B[0;32m~/miniconda3/envs/repairPlan/lib/python3.8/site-packages/pydantic/main.py:828\u001B[0m, in \u001B[0;36mBaseModel.__getattr__\u001B[0;34m(self, item)\u001B[0m\n\u001B[1;32m    825\u001B[0m     \u001B[38;5;28;01mreturn\u001B[39;00m \u001B[38;5;28msuper\u001B[39m()\u001B[38;5;241m.\u001B[39m\u001B[38;5;21m__getattribute__\u001B[39m(item)  \u001B[38;5;66;03m# Raises AttributeError if appropriate\u001B[39;00m\n\u001B[1;32m    826\u001B[0m \u001B[38;5;28;01melse\u001B[39;00m:\n\u001B[1;32m    827\u001B[0m     \u001B[38;5;66;03m# this is the current error\u001B[39;00m\n\u001B[0;32m--> 828\u001B[0m     \u001B[38;5;28;01mraise\u001B[39;00m \u001B[38;5;167;01mAttributeError\u001B[39;00m(\u001B[38;5;124mf\u001B[39m\u001B[38;5;124m'\u001B[39m\u001B[38;5;132;01m{\u001B[39;00m\u001B[38;5;28mtype\u001B[39m(\u001B[38;5;28mself\u001B[39m)\u001B[38;5;241m.\u001B[39m\u001B[38;5;18m__name__\u001B[39m\u001B[38;5;132;01m!r}\u001B[39;00m\u001B[38;5;124m object has no attribute \u001B[39m\u001B[38;5;132;01m{\u001B[39;00mitem\u001B[38;5;132;01m!r}\u001B[39;00m\u001B[38;5;124m'\u001B[39m)\n",
      "\u001B[0;31mAttributeError\u001B[0m: 'ChatCompletion' object has no attribute 'content'"
     ]
    }
   ],
   "execution_count": 8
  },
  {
   "metadata": {
    "ExecuteTime": {
     "end_time": "2024-09-26T19:28:40.790864Z",
     "start_time": "2024-09-26T19:28:40.784955Z"
    }
   },
   "cell_type": "code",
   "source": "print(result.choices[0].message.content)\n",
   "id": "9bd0214c45214896",
   "outputs": [
    {
     "name": "stdout",
     "output_type": "stream",
     "text": [
      "Let's break down the tasks given your description:\n",
      "\n",
      "1. **Identify the defect node:** Based on your description, the defect is on the \"wall\" in the \"professor_office\". By examining the provided 3D scene graph, the objects associated with the professor's office are:\n",
      "   - Wall_44\n",
      "   - Wall_75\n",
      "   - Wall_84\n",
      "   - Wall_85\n",
      "\n",
      "   Since you've mentioned a wall, any of these can be the defect. Let's choose one for identification purposes. We'll assume \"Wall_44\" as the defect object.\n",
      "\n",
      "2. **Check the room connections:**\n",
      "   We need to find out how rooms are connected via doors:\n",
      "   - Meeting Room: Door_5, Door_25\n",
      "   - Professor's Office: Door_29, Door_32\n",
      "   - Open Cafeteria: Door_23, Door_24, Door_27\n",
      "   - Office 2: Door_24\n",
      "   - Office 1: Door_32, Door_23\n",
      "\n",
      "   Connections can be mapped as:\n",
      "   - Meeting Room <-> Open Cafeteria (via Door_25)\n",
      "   - Open Cafeteria <-> Professor's Office (Door_29 links Professor's to Office 1, Door_23 links Open Cafeteria to Office 1)\n",
      "   - Professor's Office <-> Office 1 (via Door_32)\n",
      "   - Open Cafeteria <-> Office 2 (via Door_24)\n",
      "   - Office 1 <-> Open Cafeteria \n",
      "\n",
      "3. **Generate the optimal navigation path:**\n",
      "   - You are starting from the \"meeting_room\".\n",
      "   - The connection path is Meeting Room -> Open Cafeteria -> Office 1 -> Professor's Office. Use Door_25, Door_23, and Door_32 respectively.\n",
      "\n",
      "4. **Check the object and asset's state in the navigation path:**\n",
      "   - Door_25 (connecting Meeting Room and Open Cafeteria): Closed\n",
      "   - Door_23 (connecting Open Cafeteria and Office 1): Closed\n",
      "   - Door_32 (connecting Office 1 and Professor's Office): Closed\n",
      "\n",
      "5. **Provide the sequence of actions:** \n",
      "   - Move from \"meeting_room\" to \"open_cafeteria\" via Door_25: Open Door_25, Move, Close Door_25\n",
      "   - Move from \"open_cafeteria\" to \"office_1\" via Door_23: Open Door_23, Move, Close Door_23\n",
      "   - Move from \"office_1\" to \"professor_office\" via Door_32: Open Door_32, Move, Close Door_32\n",
      "\n",
      "Based on the above, here is the detailed output:\n",
      "\n",
      "```json\n",
      "{\n",
      "  \"defect_object\": \"Wall_44\",\n",
      "  \"room_path\": [\"meeting_room\", \"open_cafeteria\", \"office_1\", \"professor_office\"],\n",
      "  \"actions\": [\n",
      "    \"moveto('open_cafeteria')\",\n",
      "    \"open('Door_25')\",\n",
      "    \"close('Door_25')\",\n",
      "    \"moveto('office_1')\",\n",
      "    \"open('Door_23')\",\n",
      "    \"close('Door_23')\",\n",
      "    \"moveto('professor_office')\",\n",
      "    \"open('Door_32')\",\n",
      "    \"close('Door_32')\"\n",
      "  ],\n",
      "  \"reasoning\": \"The defect wall 'Wall_44' is in the professor's office. Navigating from meeting_room to professor_office requires passing through connected open_cafeteria and office_1, using doors 25, 23, and 32 respectively.\"\n",
      "}\n",
      "```\n",
      "\n",
      "I will now execute the navigation actions using the appropriate functions.\n"
     ]
    }
   ],
   "execution_count": 9
  },
  {
   "metadata": {},
   "cell_type": "code",
   "outputs": [],
   "execution_count": null,
   "source": "",
   "id": "1048a4e84e506cdb"
  }
 ],
 "metadata": {
  "kernelspec": {
   "display_name": "Python (repairPlan)",
   "language": "python",
   "name": "repairplan"
  },
  "language_info": {
   "codemirror_mode": {
    "name": "ipython",
    "version": 2
   },
   "file_extension": ".py",
   "mimetype": "text/x-python",
   "name": "python",
   "nbconvert_exporter": "python",
   "pygments_lexer": "ipython2",
   "version": "2.7.6"
  }
 },
 "nbformat": 4,
 "nbformat_minor": 5
}
