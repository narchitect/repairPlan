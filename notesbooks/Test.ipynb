{
 "cells": [
  {
   "metadata": {
    "ExecuteTime": {
     "end_time": "2024-09-25T20:22:15.066986Z",
     "start_time": "2024-09-25T20:22:13.004166Z"
    }
   },
   "cell_type": "code",
   "source": [
    "import main\n",
    "scene_graph_path = \"/Users/nayunkim/Documents/GitHub/repairPlan/data/scene_graph_final.json\"\n",
    "\n",
    "user_input = \"the window in the meeting room is broken and I'm currently in office_1\"\n",
    "\n",
    "result = main.get_navigation_plan(user_input, scene_graph_path)\n",
    "\n",
    "print(result.content)"
   ],
   "id": "4de9bce3aa3d5bb3",
   "outputs": [
    {
     "name": "stdout",
     "output_type": "stream",
     "text": [
      "```json\n",
      "{\n",
      "  \"defect_object\": \"Window_37\",\n",
      "  \"room_sequence\": [\"office_1\", \"open_cafeteria\", \"meeting_room\"],\n",
      "  \"actions\": [\"moveto(office_1)\", \"open(Door_32)\", \"moveto(open_cafeteria)\", \"open(Door_5)\", \"moveto(meeting_room)\"]\n",
      "}\n",
      "```\n"
     ]
    }
   ],
   "execution_count": 1
  }
 ],
 "metadata": {
  "kernelspec": {
   "display_name": "Python (repairPlan)",
   "language": "python",
   "name": "repairplan"
  },
  "language_info": {
   "codemirror_mode": {
    "name": "ipython",
    "version": 2
   },
   "file_extension": ".py",
   "mimetype": "text/x-python",
   "name": "python",
   "nbconvert_exporter": "python",
   "pygments_lexer": "ipython2",
   "version": "2.7.6"
  }
 },
 "nbformat": 4,
 "nbformat_minor": 5
}
