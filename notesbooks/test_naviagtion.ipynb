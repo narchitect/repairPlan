{
 "cells": [
  {
   "metadata": {
    "ExecuteTime": {
     "end_time": "2024-11-12T11:13:02.230749Z",
     "start_time": "2024-11-12T11:13:01.935801Z"
    }
   },
   "cell_type": "code",
   "source": [
    "from planner.planner_navigation_SDK import get_inspectionPlan\n",
    "from utils.loader import load_scene_graph\n",
    "from data.robots import robots_withoutConfig\n",
    "\n",
    "scene_graph = load_scene_graph(\"../data/sceneGraphs/3dsg_withIds.json\")\n",
    "user_input = \"there is a stain on the ceiling in room id 320.\"\n",
    "current_robot_location = \"the robot is currently in room id 332\""
   ],
   "id": "ecc4cd0398a0cf39",
   "outputs": [],
   "execution_count": 1
  },
  {
   "metadata": {
    "ExecuteTime": {
     "end_time": "2024-11-12T11:13:32.070104Z",
     "start_time": "2024-11-12T11:13:02.231698Z"
    }
   },
   "cell_type": "code",
   "source": [
    "inspection_plan = get_inspectionPlan(user_input, scene_graph, robots_withoutConfig, current_robot_location)\n",
    "print(inspection_plan)"
   ],
   "id": "e59f9d33db65f73e",
   "outputs": [
    {
     "name": "stdout",
     "output_type": "stream",
     "text": [
      "[Stage1_output(defect_node=569, reachable_robots=[2, 3, 5, 6, 8, 9], reasoning=\"1. **Identify Defect**: The user's description mentions a stain on the ceiling in room 320. In the 3D scene graph, we locate the ceiling element associated with room 320, which is identified as node 569.\\n\\n2. **Check Reachability**: The ceiling is typically at a height that requires a robot with a significant reach. We compare the max_reach_height of each robot with the typical ceiling height. Given that node 569 is a ceiling, we assume a standard ceiling height of around 3000mm.\\n\\n3. **Robot Analysis**:\\n   - Robot 1: max_reach_height = 2000mm, not sufficient.\\n   - Robot 2: max_reach_height = 3000mm, sufficient.\\n   - Robot 3: max_reach_height = 3700mm, sufficient.\\n   - Robot 4: max_reach_height = 2000mm, not sufficient.\\n   - Robot 5: max_reach_height = 3700mm, sufficient.\\n   - Robot 6: max_reach_height = 3700mm, sufficient.\\n   - Robot 7: max_reach_height = 2000mm, not sufficient.\\n   - Robot 8: max_reach_height = 3700mm, sufficient.\\n   - Robot 9: max_reach_height = 3700mm, sufficient.\\n   - Robot 10: max_reach_height = 2000mm, not sufficient.\\n\\n4. **Reachable Robots**: Based on the reachability analysis, robots 2, 3, 5, 6, 8, and 9 can reach the ceiling in room 320 to address the stain.\"), Stage2_output(defect_node=320, defect_node_ifcGUID='IFC-320-XYZ', reachable_accessible_robots=[2, 3, 5, 6, 8, 9], navigation_path=[Room(room_id=332), Door(door_id=12), Room(room_id=330), Door(door_id=11), Room(room_id=320)], reasoning='1. **Navigation Path Construction**: The robot is currently in room 332. To reach room 320, the most direct path is through room 330. The path is constructed as follows: start from room 332, pass through door 12 to enter room 330, then pass through door 11 to enter room 320.\\n\\n2. **Door Extraction**: The doors involved in this path are door 12 and door 11.\\n\\n3. **Accessibility Check**: We compare the dimensions of doors 12 and 11 with the size of each robot:\\n   - Door 12: width = 900mm, height = 2100mm\\n   - Door 11: width = 900mm, height = 2100mm\\n\\n   Robot dimensions:\\n   - Robot 1: width = 800mm, height = 2000mm\\n   - Robot 2: width = 850mm, height = 2000mm\\n   - Robot 3: width = 850mm, height = 2000mm\\n   - Robot 4: width = 800mm, height = 2000mm\\n   - Robot 5: width = 850mm, height = 2000mm\\n   - Robot 6: width = 850mm, height = 2000mm\\n   - Robot 7: width = 800mm, height = 2000mm\\n   - Robot 8: width = 850mm, height = 2000mm\\n   - Robot 9: width = 850mm, height = 2000mm\\n   - Robot 10: width = 800mm, height = 2000mm\\n\\n   All robots can pass through the doors based on their dimensions.\\n\\n4. **Accessible Robots**: Since all robots can pass through the doors, we focus on those that can reach the ceiling height in room 320. From previous analysis, robots 2, 3, 5, 6, 8, and 9 can reach the ceiling height.\\n\\n5. **Conclusion**: The navigation path is feasible for robots 2, 3, 5, 6, 8, and 9, which can both navigate the path and reach the ceiling to address the defect.')]\n"
     ]
    }
   ],
   "execution_count": 2
  },
  {
   "metadata": {
    "ExecuteTime": {
     "end_time": "2024-11-22T17:23:04.980918Z",
     "start_time": "2024-11-22T17:23:02.890552Z"
    }
   },
   "cell_type": "code",
   "source": [
    "print(\"await\")\n",
    "input(\"Press Enter to continue...\")"
   ],
   "id": "c0d7bb655a6f2ca2",
   "outputs": [
    {
     "name": "stdout",
     "output_type": "stream",
     "text": [
      "await\n"
     ]
    },
    {
     "data": {
      "text/plain": [
       "''"
      ]
     },
     "execution_count": 2,
     "metadata": {},
     "output_type": "execute_result"
    }
   ],
   "execution_count": 2
  },
  {
   "metadata": {},
   "cell_type": "code",
   "outputs": [],
   "execution_count": null,
   "source": "",
   "id": "e6198d194a467c14"
  }
 ],
 "metadata": {
  "kernelspec": {
   "display_name": "Python 3",
   "language": "python",
   "name": "python3"
  },
  "language_info": {
   "codemirror_mode": {
    "name": "ipython",
    "version": 2
   },
   "file_extension": ".py",
   "mimetype": "text/x-python",
   "name": "python",
   "nbconvert_exporter": "python",
   "pygments_lexer": "ipython2",
   "version": "2.7.6"
  }
 },
 "nbformat": 4,
 "nbformat_minor": 5
}
