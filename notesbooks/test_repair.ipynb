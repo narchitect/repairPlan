{
 "cells": [
  {
   "metadata": {
    "ExecuteTime": {
     "end_time": "2024-11-12T12:59:19.226048Z",
     "start_time": "2024-11-12T12:59:18.849728Z"
    }
   },
   "cell_type": "code",
   "source": [
    "from planner.planner_repair_SDK import plan_robot_task\n",
    "from data.robots import robots_withoutConfig\n",
    "from data.robots import robots_withConfig\n",
    "from utils.get_room_nodes import get_associated_nodes"
   ],
   "id": "8a0bfe47a3d247ab",
   "outputs": [],
   "execution_count": 2
  },
  {
   "metadata": {
    "ExecuteTime": {
     "end_time": "2024-11-12T12:59:23.745919Z",
     "start_time": "2024-11-12T12:59:23.737145Z"
    }
   },
   "cell_type": "code",
   "source": [
    "user_description = \"there is a stain on the window\"\n",
    "defect_id = \"54\"\n",
    "room_nodes = get_associated_nodes(defect_id)"
   ],
   "id": "fc98a979279c84c2",
   "outputs": [],
   "execution_count": 3
  },
  {
   "metadata": {},
   "cell_type": "markdown",
   "source": "robots with config vs robot without config",
   "id": "edd3c9e0921555d2"
  },
  {
   "metadata": {},
   "cell_type": "code",
   "outputs": [
    {
     "name": "stdout",
     "output_type": "stream",
     "text": [
      "selected_robot_id=6 action_sequence=['navigateTo<54>', 'scan<54>', 'wipeSurface<54>'] reasoning='Robot 6 is selected because it has the necessary actions and equipment to efficiently clean a stain on a window. It can navigate to the window, scan it, and wipe the surface using its wiper. This robot is optimal for the task as it is specifically equipped for cleaning tasks and does not require additional equipment changes, making it efficient for this specific defect.'\n"
     ]
    }
   ],
   "execution_count": 3,
   "source": [
    "robot_seqeunce = plan_robot_task(user_description, robots_withoutConfig, room_nodes)\n",
    "print(robot_seqeunce)"
   ],
   "id": "initial_id"
  },
  {
   "metadata": {},
   "cell_type": "code",
   "outputs": [],
   "execution_count": 4,
   "source": "robot_seqeunce = plan_robot_task(user_description, robots_withConfig, room_nodes)",
   "id": "9af6374c611a2219"
  },
  {
   "metadata": {},
   "cell_type": "code",
   "outputs": [
    {
     "name": "stdout",
     "output_type": "stream",
     "text": [
      "selected_robot_id=3 action_sequence=['navigateTo<54>', 'scan<54>', 'load<sprayGun>', 'spray<54><cleaning Solution>', 'unload<sprayGun>', 'load<wiper>', 'wipeSurface<54>', 'unload<wiper>'] reasoning=\"Robot 3 is selected because it has the necessary actions and equipment to handle the cleaning task efficiently. It can navigate, scan, spray cleaning solution, and wipe the surface, which are all required for removing a stain from a window. Additionally, it has a sufficient reach height to access the window's location. The action sequence involves navigating to the window, scanning it, loading the spray gun to apply cleaning solution, unloading it, then loading the wiper to clean the surface, and finally unloading the wiper.\"\n"
     ]
    }
   ],
   "execution_count": 5,
   "source": "print(robot_seqeunce)",
   "id": "7ed193b6ee93810f"
  },
  {
   "metadata": {
    "ExecuteTime": {
     "end_time": "2024-11-12T12:59:34.671634Z",
     "start_time": "2024-11-12T12:59:34.649916Z"
    }
   },
   "cell_type": "code",
   "source": [
    "user_description2 = \"the door handle is dirty\"\n",
    "defect_id = \"55\"\n",
    "room_nodes2 = get_associated_nodes(defect_id)"
   ],
   "id": "49121d8a63df6061",
   "outputs": [],
   "execution_count": 5
  },
  {
   "metadata": {
    "ExecuteTime": {
     "end_time": "2024-11-11T23:30:37.920852Z",
     "start_time": "2024-11-11T23:30:35.071780Z"
    }
   },
   "cell_type": "code",
   "source": [
    "robot_seq_doorHandle = plan_robot_task(user_description2, robots_withConfig, room_nodes2)\n",
    "print(robot_seq_doorHandle)"
   ],
   "id": "9f5142c10a5d505d",
   "outputs": [
    {
     "name": "stdout",
     "output_type": "stream",
     "text": [
      "selected_robot_id=6 action_sequence=['navigateTo<55>', 'scan<55>', 'load<wiper>', 'wipeSurface<55>', 'unload<wiper>'] reasoning=\"Robot 6 is selected because it has the necessary actions and equipment to clean the door handle, specifically the 'wipeSurface' action and 'wiper' equipment. It is also efficient as it only carries the essential equipment for this task, minimizing unnecessary actions. The action sequence involves navigating to the door, scanning it, loading the wiper, wiping the surface to clean it, and then unloading the wiper.\"\n"
     ]
    }
   ],
   "execution_count": 8
  },
  {
   "metadata": {},
   "cell_type": "markdown",
   "source": "cleaning solution missing -> but how to determine whether it needs or not ?",
   "id": "2e9f9e7e0cfbf1de"
  },
  {
   "metadata": {
    "ExecuteTime": {
     "end_time": "2024-11-12T12:59:40.883903Z",
     "start_time": "2024-11-12T12:59:37.318165Z"
    }
   },
   "cell_type": "code",
   "source": [
    "user_description3 = \"The door handle has visible smudges and needs to be disinfected.\"\n",
    "print(plan_robot_task(user_description3, robots_withConfig, room_nodes2))"
   ],
   "id": "fa0343c2316adb78",
   "outputs": [
    {
     "name": "stdout",
     "output_type": "stream",
     "text": [
      "selected_robot_id=7 action_sequence=['navigateTo<55>', 'load<sprayGun>', 'spray<55><disinfectant>', 'unload<sprayGun>', 'load<wiper>', 'wipeSurface<55>', 'unload<wiper>'] reasoning='Robot 7 is selected because it has the necessary actions and equipment to perform the task of disinfecting and wiping the door handle. It can navigate, spray disinfectant, and wipe surfaces, which are the required actions for this task. Additionally, it has the spray gun and wiper equipment, and it can handle disinfectant material, making it the most efficient choice for this specific task.'\n"
     ]
    }
   ],
   "execution_count": 6
  },
  {
   "metadata": {},
   "cell_type": "markdown",
   "source": "Painting Use",
   "id": "39639106bb33dc05"
  },
  {
   "metadata": {
    "ExecuteTime": {
     "end_time": "2024-11-11T23:46:06.008593Z",
     "start_time": "2024-11-11T23:46:02.976600Z"
    }
   },
   "cell_type": "code",
   "source": [
    "user_description4 = \"The paint on the ceiling is peeling in a small area.\"\n",
    "defect_id = \"373\"\n",
    "room_nodes3 = get_associated_nodes(defect_id)\n",
    "print(plan_robot_task(user_description4, robots_withConfig, room_nodes3))"
   ],
   "id": "54c3084cb993eb4f",
   "outputs": [
    {
     "name": "stdout",
     "output_type": "stream",
     "text": [
      "selected_robot_id=3 action_sequence=['navigateTo<373>', 'scan<373>', 'load<scraper>', 'smoothSurface<373>', 'unload<scraper>', 'load<sprayGun><paint>', 'spray<373>', 'unload<sprayGun>'] reasoning='Robot 3 is selected because it has a maximum reach height of 3700, which is sufficient to reach the ceiling at a height of 3.0885 meters. It also has all the necessary actions and equipment to perform the repair, including smoothing the surface and spraying paint. The action sequence involves navigating to the defect location, scanning it, smoothing the surface with a scraper, and then spraying paint with a spray gun. Each equipment is loaded and unloaded as required, adhering to the one-arm constraint.'\n"
     ]
    }
   ],
   "execution_count": 14
  },
  {
   "metadata": {},
   "cell_type": "markdown",
   "source": "Crack UseCase",
   "id": "aec06a4ad2a1ead9"
  },
  {
   "metadata": {
    "ExecuteTime": {
     "end_time": "2024-11-11T23:39:28.676744Z",
     "start_time": "2024-11-11T23:39:25.604768Z"
    }
   },
   "cell_type": "code",
   "source": [
    "user_description5 = \"The floor has a visible crack that needs to be filled.\"\n",
    "defect_id = \"431\"\n",
    "room_nodes4 = get_associated_nodes(defect_id)\n",
    "print(plan_robot_task(user_description5, robots_withConfig, room_nodes4))"
   ],
   "id": "4aa602e179fe1fe0",
   "outputs": [
    {
     "name": "stdout",
     "output_type": "stream",
     "text": [
      "selected_robot_id=9 action_sequence=['navigateTo<431>', 'scan<431>', 'load<scraper>', 'smoothSurface<431>', 'unload<scraper>'] reasoning=\"Robot 9 is selected because it has the necessary actions and equipment to perform the task of filling a crack on the floor. It can navigate to the defect location, scan the area, and use a scraper to smooth the surface with filler material. The robot's size and reach are adequate for the task, and it can efficiently complete the repair with the available actions and equipment.\"\n"
     ]
    }
   ],
   "execution_count": 11
  },
  {
   "metadata": {},
   "cell_type": "markdown",
   "source": "spray filler missing",
   "id": "c64525f6395c2bdd"
  },
  {
   "metadata": {
    "ExecuteTime": {
     "end_time": "2024-11-11T23:43:45.621478Z",
     "start_time": "2024-11-11T23:43:41.916623Z"
    }
   },
   "cell_type": "code",
   "source": [
    "user_description6 = \"There is a crack on the wall near the window.\"\n",
    "defect_id = \"432\"\n",
    "room_nodes5 = get_associated_nodes(defect_id)\n",
    "print(plan_robot_task(user_description6, robots_withConfig, room_nodes5))"
   ],
   "id": "9808426cf6605280",
   "outputs": [
    {
     "name": "stdout",
     "output_type": "stream",
     "text": [
      "selected_robot_id=3 action_sequence=['navigateTo<432>', 'scan<432>', 'load<scraper>', 'smoothSurface<432>', 'unload<scraper>', 'load<sprayGun><filler>', 'spray<432>', 'unload<sprayGun>', 'load<sprayGun><paint>', 'spray<432>', 'unload<sprayGun>'] reasoning='Robot 3 is selected because it has the necessary actions and equipment to perform the repair, including smoothing the surface and applying filler and paint. It also has a sufficient reach height to address the crack on the wall near the window, which is located at a height of 1.85 meters. The action sequence involves navigating to the defect location, scanning it, smoothing the surface, applying filler, and then painting over it, with appropriate loading and unloading of equipment between tasks.'\n"
     ]
    }
   ],
   "execution_count": 12
  },
  {
   "metadata": {},
   "cell_type": "markdown",
   "source": "spray filler exist",
   "id": "b7d3db8dc34c382e"
  },
  {
   "metadata": {
    "ExecuteTime": {
     "end_time": "2024-11-11T23:44:43.372980Z",
     "start_time": "2024-11-11T23:44:40.375315Z"
    }
   },
   "cell_type": "code",
   "source": "print(plan_robot_task(user_description6, robots_withConfig, room_nodes5))",
   "id": "32b2796c6ad58f72",
   "outputs": [
    {
     "name": "stdout",
     "output_type": "stream",
     "text": [
      "selected_robot_id=3 action_sequence=['navigateTo<432>', 'scan<432>', 'load<scraper>', 'smoothSurface<432>', 'unload<scraper>', 'load<sprayGun><filler>', 'spray<432>', 'unload<sprayGun>', 'load<sprayGun><paint>', 'spray<432>', 'unload<sprayGun>'] reasoning='Robot 3 is selected because it has the necessary actions and equipment to repair the crack on the wall, including smoothing the surface and applying filler and paint. It also has a sufficient reach height to access the defect location. The action sequence involves navigating to the defect, scanning it, smoothing the surface, applying filler, and then painting over it, with appropriate loading and unloading of equipment.'\n"
     ]
    }
   ],
   "execution_count": 13
  },
  {
   "metadata": {},
   "cell_type": "markdown",
   "source": "Trash pickup",
   "id": "80a75508e68aadbb"
  },
  {
   "metadata": {
    "ExecuteTime": {
     "end_time": "2024-11-11T23:47:50.014157Z",
     "start_time": "2024-11-11T23:47:47.425Z"
    }
   },
   "cell_type": "code",
   "source": [
    "user_description7 = \"there is a plastic bottle on the floor\"\n",
    "print(plan_robot_task(user_description7, robots_withConfig, room_nodes4))"
   ],
   "id": "2aabf94113767cbd",
   "outputs": [
    {
     "name": "stdout",
     "output_type": "stream",
     "text": [
      "selected_robot_id=10 action_sequence=['navigateTo<431>', 'scan<431>', 'load<gripper>', 'pickUp<431>', 'placeInTrashBag<431>', 'unload<gripper>'] reasoning='Robot 10 is selected because it has the necessary actions to handle the task of picking up and disposing of a plastic bottle. It can navigate to the location, scan the area, pick up the object using a gripper, and place it in a trash bag. This robot is efficient for the task as it has all the required actions and equipment to complete the task without unnecessary capabilities.'\n"
     ]
    }
   ],
   "execution_count": 15
  },
  {
   "metadata": {},
   "cell_type": "code",
   "outputs": [],
   "execution_count": null,
   "source": "",
   "id": "4bedf28f0cc22d8e"
  }
 ],
 "metadata": {
  "kernelspec": {
   "display_name": "Python 3",
   "language": "python",
   "name": "python3"
  },
  "language_info": {
   "codemirror_mode": {
    "name": "ipython",
    "version": 2
   },
   "file_extension": ".py",
   "mimetype": "text/x-python",
   "name": "python",
   "nbconvert_exporter": "python",
   "pygments_lexer": "ipython2",
   "version": "2.7.6"
  }
 },
 "nbformat": 4,
 "nbformat_minor": 5
}
