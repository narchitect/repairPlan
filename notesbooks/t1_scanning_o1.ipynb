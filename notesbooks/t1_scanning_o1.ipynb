{
 "cells": [
  {
   "cell_type": "code",
   "execution_count": 1,
   "id": "initial_id",
   "metadata": {
    "ExecuteTime": {
     "end_time": "2024-11-12T00:34:45.215484Z",
     "start_time": "2024-11-12T00:34:44.858992Z"
    },
    "collapsed": true
   },
   "outputs": [
    {
     "name": "stdout",
     "output_type": "stream",
     "text": [
      "{'defect_node': {'id': 4000, 'type': 'window', 'location': [-21.78259598336434, -15.4285, 2.4928653934551823], 'size': [0.8078628612203472, 1.5, 2.0577393266055752]}, 'associated_spaces': [{'id': 8, 'surfaces': [1008, 1061, 2007, 3029, 1206, 1243], 'location': [-18.18925, -15.654699999999998, 7.85], 'size': [6.381, 3.768, 3.7]}], 'associated_nodes': [{'id': 1008, 'type': 'wall', 'components': [4000], 'location': [-21.38, -15.654699999999998, 1.85], 'size': [0.0, 3.768, 3.7]}, {'id': 1061, 'type': 'wall', 'components': [5049], 'location': [-18.18925, -13.7709, 1.85], 'size': [6.381, 0.0, 3.7]}, {'id': 5049, 'type': 'door', 'location': [-17.0185, -13.6709, 1.4], 'size': [2.0, 0.2, 2.8]}, {'id': 2007, 'type': 'ceiling', 'components': [], 'location': [-18.18925, -15.654699999999998, 3.7], 'size': [6.381, 3.768, 0.0]}, {'id': 3029, 'type': 'floor', 'components': [5001, 5049], 'location': [-18.18925, -15.654699999999998, 0.0], 'size': [6.381, 3.768, 0.0]}, {'id': 5001, 'type': 'door', 'location': [-16.456, -17.6085, 1.054], 'size': [1.067, 0.19, 2.108]}, {'id': 1206, 'type': 'wall', 'components': [5001], 'location': [-18.18925, -17.5385, 1.85], 'size': [6.381, 0.0, 3.7]}, {'id': 1243, 'type': 'wall', 'components': [], 'location': [-14.9985, -15.654699999999998, 1.85], 'size': [0.0, 3.768, 3.7]}]}\n",
      "60\n"
     ]
    },
    {
     "data": {
      "application/vnd.plotly.v1+json": {
       "config": {
        "plotlyServerURL": "https://plot.ly"
       },
       "data": [
        {
         "color": "lightblue",
         "flatshading": true,
         "hoverinfo": "text",
         "i": [
          0,
          0,
          4,
          4,
          0,
          0,
          1,
          1,
          2,
          2,
          3,
          3
         ],
         "j": [
          1,
          2,
          5,
          6,
          1,
          5,
          2,
          6,
          3,
          7,
          0,
          4
         ],
         "k": [
          2,
          3,
          6,
          7,
          5,
          4,
          6,
          5,
          7,
          6,
          4,
          7
         ],
         "opacity": 0.5,
         "text": "ID: 1008, Type: wall",
         "type": "mesh3d",
         "x": [
          -21.43,
          -21.33,
          -21.33,
          -21.43,
          -21.43,
          -21.33,
          -21.33,
          -21.43
         ],
         "y": [
          -17.5387,
          -17.5387,
          -13.770699999999998,
          -13.770699999999998,
          -17.5387,
          -17.5387,
          -13.770699999999998,
          -13.770699999999998
         ],
         "z": [
          0,
          0,
          0,
          0,
          3.7,
          3.7,
          3.7,
          3.7
         ]
        },
        {
         "color": "lightblue",
         "flatshading": true,
         "hoverinfo": "text",
         "i": [
          0,
          0,
          4,
          4,
          0,
          0,
          1,
          1,
          2,
          2,
          3,
          3
         ],
         "j": [
          1,
          2,
          5,
          6,
          1,
          5,
          2,
          6,
          3,
          7,
          0,
          4
         ],
         "k": [
          2,
          3,
          6,
          7,
          5,
          4,
          6,
          5,
          7,
          6,
          4,
          7
         ],
         "opacity": 0.5,
         "text": "ID: 1061, Type: wall",
         "type": "mesh3d",
         "x": [
          -21.37975,
          -14.998750000000001,
          -14.998750000000001,
          -21.37975,
          -21.37975,
          -14.998750000000001,
          -14.998750000000001,
          -21.37975
         ],
         "y": [
          -13.8209,
          -13.8209,
          -13.720899999999999,
          -13.720899999999999,
          -13.8209,
          -13.8209,
          -13.720899999999999,
          -13.720899999999999
         ],
         "z": [
          0,
          0,
          0,
          0,
          3.7,
          3.7,
          3.7,
          3.7
         ]
        },
        {
         "color": "lightgreen",
         "flatshading": true,
         "hoverinfo": "text",
         "i": [
          0,
          0,
          4,
          4,
          0,
          0,
          1,
          1,
          2,
          2,
          3,
          3
         ],
         "j": [
          1,
          2,
          5,
          6,
          1,
          5,
          2,
          6,
          3,
          7,
          0,
          4
         ],
         "k": [
          2,
          3,
          6,
          7,
          5,
          4,
          6,
          5,
          7,
          6,
          4,
          7
         ],
         "opacity": 0.5,
         "text": "ID: 5049, Type: door",
         "type": "mesh3d",
         "x": [
          -18.0185,
          -16.0185,
          -16.0185,
          -18.0185,
          -18.0185,
          -16.0185,
          -16.0185,
          -18.0185
         ],
         "y": [
          -13.7709,
          -13.7709,
          -13.5709,
          -13.5709,
          -13.7709,
          -13.7709,
          -13.5709,
          -13.5709
         ],
         "z": [
          0,
          0,
          0,
          0,
          2.8,
          2.8,
          2.8,
          2.8
         ]
        },
        {
         "color": "lightblue",
         "flatshading": true,
         "hoverinfo": "text",
         "i": [
          0,
          0,
          4,
          4,
          0,
          0,
          1,
          1,
          2,
          2,
          3,
          3
         ],
         "j": [
          1,
          2,
          5,
          6,
          1,
          5,
          2,
          6,
          3,
          7,
          0,
          4
         ],
         "k": [
          2,
          3,
          6,
          7,
          5,
          4,
          6,
          5,
          7,
          6,
          4,
          7
         ],
         "opacity": 0.5,
         "text": "ID: 2007, Type: ceiling",
         "type": "mesh3d",
         "x": [
          -21.37975,
          -14.998750000000001,
          -14.998750000000001,
          -21.37975,
          -21.37975,
          -14.998750000000001,
          -14.998750000000001,
          -21.37975
         ],
         "y": [
          -17.5387,
          -17.5387,
          -13.770699999999998,
          -13.770699999999998,
          -17.5387,
          -17.5387,
          -13.770699999999998,
          -13.770699999999998
         ],
         "z": [
          3.6500000000000004,
          3.6500000000000004,
          3.6500000000000004,
          3.6500000000000004,
          3.75,
          3.75,
          3.75,
          3.75
         ]
        },
        {
         "color": "lightblue",
         "flatshading": true,
         "hoverinfo": "text",
         "i": [
          0,
          0,
          4,
          4,
          0,
          0,
          1,
          1,
          2,
          2,
          3,
          3
         ],
         "j": [
          1,
          2,
          5,
          6,
          1,
          5,
          2,
          6,
          3,
          7,
          0,
          4
         ],
         "k": [
          2,
          3,
          6,
          7,
          5,
          4,
          6,
          5,
          7,
          6,
          4,
          7
         ],
         "opacity": 0.5,
         "text": "ID: 3029, Type: floor",
         "type": "mesh3d",
         "x": [
          -21.37975,
          -14.998750000000001,
          -14.998750000000001,
          -21.37975,
          -21.37975,
          -14.998750000000001,
          -14.998750000000001,
          -21.37975
         ],
         "y": [
          -17.5387,
          -17.5387,
          -13.770699999999998,
          -13.770699999999998,
          -17.5387,
          -17.5387,
          -13.770699999999998,
          -13.770699999999998
         ],
         "z": [
          -0.05,
          -0.05,
          -0.05,
          -0.05,
          0.05,
          0.05,
          0.05,
          0.05
         ]
        },
        {
         "color": "lightgreen",
         "flatshading": true,
         "hoverinfo": "text",
         "i": [
          0,
          0,
          4,
          4,
          0,
          0,
          1,
          1,
          2,
          2,
          3,
          3
         ],
         "j": [
          1,
          2,
          5,
          6,
          1,
          5,
          2,
          6,
          3,
          7,
          0,
          4
         ],
         "k": [
          2,
          3,
          6,
          7,
          5,
          4,
          6,
          5,
          7,
          6,
          4,
          7
         ],
         "opacity": 0.5,
         "text": "ID: 5001, Type: door",
         "type": "mesh3d",
         "x": [
          -16.9895,
          -15.9225,
          -15.9225,
          -16.9895,
          -16.9895,
          -15.9225,
          -15.9225,
          -16.9895
         ],
         "y": [
          -17.7035,
          -17.7035,
          -17.5135,
          -17.5135,
          -17.7035,
          -17.7035,
          -17.5135,
          -17.5135
         ],
         "z": [
          0,
          0,
          0,
          0,
          2.108,
          2.108,
          2.108,
          2.108
         ]
        },
        {
         "color": "lightblue",
         "flatshading": true,
         "hoverinfo": "text",
         "i": [
          0,
          0,
          4,
          4,
          0,
          0,
          1,
          1,
          2,
          2,
          3,
          3
         ],
         "j": [
          1,
          2,
          5,
          6,
          1,
          5,
          2,
          6,
          3,
          7,
          0,
          4
         ],
         "k": [
          2,
          3,
          6,
          7,
          5,
          4,
          6,
          5,
          7,
          6,
          4,
          7
         ],
         "opacity": 0.5,
         "text": "ID: 1206, Type: wall",
         "type": "mesh3d",
         "x": [
          -21.37975,
          -14.998750000000001,
          -14.998750000000001,
          -21.37975,
          -21.37975,
          -14.998750000000001,
          -14.998750000000001,
          -21.37975
         ],
         "y": [
          -17.5885,
          -17.5885,
          -17.4885,
          -17.4885,
          -17.5885,
          -17.5885,
          -17.4885,
          -17.4885
         ],
         "z": [
          0,
          0,
          0,
          0,
          3.7,
          3.7,
          3.7,
          3.7
         ]
        },
        {
         "color": "lightblue",
         "flatshading": true,
         "hoverinfo": "text",
         "i": [
          0,
          0,
          4,
          4,
          0,
          0,
          1,
          1,
          2,
          2,
          3,
          3
         ],
         "j": [
          1,
          2,
          5,
          6,
          1,
          5,
          2,
          6,
          3,
          7,
          0,
          4
         ],
         "k": [
          2,
          3,
          6,
          7,
          5,
          4,
          6,
          5,
          7,
          6,
          4,
          7
         ],
         "opacity": 0.5,
         "text": "ID: 1243, Type: wall",
         "type": "mesh3d",
         "x": [
          -15.0485,
          -14.9485,
          -14.9485,
          -15.0485,
          -15.0485,
          -14.9485,
          -14.9485,
          -15.0485
         ],
         "y": [
          -17.5387,
          -17.5387,
          -13.770699999999998,
          -13.770699999999998,
          -17.5387,
          -17.5387,
          -13.770699999999998,
          -13.770699999999998
         ],
         "z": [
          0,
          0,
          0,
          0,
          3.7,
          3.7,
          3.7,
          3.7
         ]
        },
        {
         "marker": {
          "color": "black",
          "size": 10
         },
         "mode": "markers",
         "name": "Camera Position",
         "type": "scatter3d",
         "x": [
          -23.7826
         ],
         "y": [
          -15.4285
         ],
         "z": [
          2.4929
         ]
        },
        {
         "marker": {
          "color": "purple",
          "size": 10
         },
         "mode": "markers",
         "name": "Target Position",
         "type": "scatter3d",
         "x": [
          -21.78259598336434
         ],
         "y": [
          -15.4285
         ],
         "z": [
          2.4928653934551823
         ]
        },
        {
         "color": "yellow",
         "i": [
          0,
          0,
          0,
          0,
          0,
          0,
          0,
          0,
          0,
          0,
          0,
          0,
          0,
          0,
          0,
          0,
          0,
          0,
          0,
          0
         ],
         "j": [
          1,
          2,
          3,
          4,
          5,
          6,
          7,
          8,
          9,
          10,
          11,
          12,
          13,
          14,
          15,
          16,
          17,
          18,
          19,
          20
         ],
         "k": [
          2,
          3,
          4,
          5,
          6,
          7,
          8,
          9,
          10,
          11,
          12,
          13,
          14,
          15,
          16,
          17,
          18,
          19,
          20,
          1
         ],
         "name": "Field of View",
         "opacity": 0.2,
         "type": "mesh3d",
         "x": [
          -23.7826,
          -21.78259598306494,
          -21.78259598306494,
          -21.78259598306494,
          -21.78259598306494,
          -21.78259598306494,
          -21.78259598306494,
          -21.78259598306494,
          -21.78259598306494,
          -21.78259598306494,
          -21.78259598306494,
          -21.78259598306494,
          -21.78259598306494,
          -21.78259598306494,
          -21.78259598306494,
          -21.78259598306494,
          -21.78259598306494,
          -21.78259598306494,
          -21.78259598306494,
          -21.78259598306494,
          -21.78259598306494
         ],
         "y": [
          -15.4285,
          -14.273797142442211,
          -14.33636212828085,
          -14.517277198785374,
          -14.796937398880063,
          -15.145037206509553,
          -15.523854606192154,
          -15.892338854714673,
          -16.210558966127472,
          -16.4440308536652,
          -16.56745421562355,
          -16.56745421562355,
          -16.4440308536652,
          -16.210558966127472,
          -15.892338854714673,
          -15.523854606192154,
          -15.145037206509553,
          -14.796937398880065,
          -14.517277198785374,
          -14.33636212828085,
          -14.273797142442211
         ],
         "z": [
          2.4929,
          2.4929,
          2.8678314049381455,
          3.202133174491081,
          3.4595785247013326,
          3.6122692571974255,
          3.6436589618725828,
          3.550346077163798,
          3.342442502027857,
          3.0424778147870892,
          2.6829578437357173,
          2.3028421562642833,
          1.943322185212911,
          1.6433574979721437,
          1.4354539228362027,
          1.3421410381274177,
          1.3735307428025743,
          1.5262214752986671,
          1.783666825508919,
          2.1179685950618543,
          2.4928999999999997
         ]
        }
       ],
       "layout": {
        "height": 800,
        "scene": {
         "aspectmode": "data",
         "aspectratio": {
          "x": 1,
          "y": 1,
          "z": 1
         },
         "xaxis": {
          "title": {
           "text": "X"
          },
          "visible": true
         },
         "yaxis": {
          "title": {
           "text": "Y"
          },
          "visible": true
         },
         "zaxis": {
          "title": {
           "text": "Z"
          },
          "visible": true
         }
        },
        "template": {
         "data": {
          "bar": [
           {
            "error_x": {
             "color": "#2a3f5f"
            },
            "error_y": {
             "color": "#2a3f5f"
            },
            "marker": {
             "line": {
              "color": "#E5ECF6",
              "width": 0.5
             },
             "pattern": {
              "fillmode": "overlay",
              "size": 10,
              "solidity": 0.2
             }
            },
            "type": "bar"
           }
          ],
          "barpolar": [
           {
            "marker": {
             "line": {
              "color": "#E5ECF6",
              "width": 0.5
             },
             "pattern": {
              "fillmode": "overlay",
              "size": 10,
              "solidity": 0.2
             }
            },
            "type": "barpolar"
           }
          ],
          "carpet": [
           {
            "aaxis": {
             "endlinecolor": "#2a3f5f",
             "gridcolor": "white",
             "linecolor": "white",
             "minorgridcolor": "white",
             "startlinecolor": "#2a3f5f"
            },
            "baxis": {
             "endlinecolor": "#2a3f5f",
             "gridcolor": "white",
             "linecolor": "white",
             "minorgridcolor": "white",
             "startlinecolor": "#2a3f5f"
            },
            "type": "carpet"
           }
          ],
          "choropleth": [
           {
            "colorbar": {
             "outlinewidth": 0,
             "ticks": ""
            },
            "type": "choropleth"
           }
          ],
          "contour": [
           {
            "colorbar": {
             "outlinewidth": 0,
             "ticks": ""
            },
            "colorscale": [
             [
              0,
              "#0d0887"
             ],
             [
              0.1111111111111111,
              "#46039f"
             ],
             [
              0.2222222222222222,
              "#7201a8"
             ],
             [
              0.3333333333333333,
              "#9c179e"
             ],
             [
              0.4444444444444444,
              "#bd3786"
             ],
             [
              0.5555555555555556,
              "#d8576b"
             ],
             [
              0.6666666666666666,
              "#ed7953"
             ],
             [
              0.7777777777777778,
              "#fb9f3a"
             ],
             [
              0.8888888888888888,
              "#fdca26"
             ],
             [
              1,
              "#f0f921"
             ]
            ],
            "type": "contour"
           }
          ],
          "contourcarpet": [
           {
            "colorbar": {
             "outlinewidth": 0,
             "ticks": ""
            },
            "type": "contourcarpet"
           }
          ],
          "heatmap": [
           {
            "colorbar": {
             "outlinewidth": 0,
             "ticks": ""
            },
            "colorscale": [
             [
              0,
              "#0d0887"
             ],
             [
              0.1111111111111111,
              "#46039f"
             ],
             [
              0.2222222222222222,
              "#7201a8"
             ],
             [
              0.3333333333333333,
              "#9c179e"
             ],
             [
              0.4444444444444444,
              "#bd3786"
             ],
             [
              0.5555555555555556,
              "#d8576b"
             ],
             [
              0.6666666666666666,
              "#ed7953"
             ],
             [
              0.7777777777777778,
              "#fb9f3a"
             ],
             [
              0.8888888888888888,
              "#fdca26"
             ],
             [
              1,
              "#f0f921"
             ]
            ],
            "type": "heatmap"
           }
          ],
          "heatmapgl": [
           {
            "colorbar": {
             "outlinewidth": 0,
             "ticks": ""
            },
            "colorscale": [
             [
              0,
              "#0d0887"
             ],
             [
              0.1111111111111111,
              "#46039f"
             ],
             [
              0.2222222222222222,
              "#7201a8"
             ],
             [
              0.3333333333333333,
              "#9c179e"
             ],
             [
              0.4444444444444444,
              "#bd3786"
             ],
             [
              0.5555555555555556,
              "#d8576b"
             ],
             [
              0.6666666666666666,
              "#ed7953"
             ],
             [
              0.7777777777777778,
              "#fb9f3a"
             ],
             [
              0.8888888888888888,
              "#fdca26"
             ],
             [
              1,
              "#f0f921"
             ]
            ],
            "type": "heatmapgl"
           }
          ],
          "histogram": [
           {
            "marker": {
             "pattern": {
              "fillmode": "overlay",
              "size": 10,
              "solidity": 0.2
             }
            },
            "type": "histogram"
           }
          ],
          "histogram2d": [
           {
            "colorbar": {
             "outlinewidth": 0,
             "ticks": ""
            },
            "colorscale": [
             [
              0,
              "#0d0887"
             ],
             [
              0.1111111111111111,
              "#46039f"
             ],
             [
              0.2222222222222222,
              "#7201a8"
             ],
             [
              0.3333333333333333,
              "#9c179e"
             ],
             [
              0.4444444444444444,
              "#bd3786"
             ],
             [
              0.5555555555555556,
              "#d8576b"
             ],
             [
              0.6666666666666666,
              "#ed7953"
             ],
             [
              0.7777777777777778,
              "#fb9f3a"
             ],
             [
              0.8888888888888888,
              "#fdca26"
             ],
             [
              1,
              "#f0f921"
             ]
            ],
            "type": "histogram2d"
           }
          ],
          "histogram2dcontour": [
           {
            "colorbar": {
             "outlinewidth": 0,
             "ticks": ""
            },
            "colorscale": [
             [
              0,
              "#0d0887"
             ],
             [
              0.1111111111111111,
              "#46039f"
             ],
             [
              0.2222222222222222,
              "#7201a8"
             ],
             [
              0.3333333333333333,
              "#9c179e"
             ],
             [
              0.4444444444444444,
              "#bd3786"
             ],
             [
              0.5555555555555556,
              "#d8576b"
             ],
             [
              0.6666666666666666,
              "#ed7953"
             ],
             [
              0.7777777777777778,
              "#fb9f3a"
             ],
             [
              0.8888888888888888,
              "#fdca26"
             ],
             [
              1,
              "#f0f921"
             ]
            ],
            "type": "histogram2dcontour"
           }
          ],
          "mesh3d": [
           {
            "colorbar": {
             "outlinewidth": 0,
             "ticks": ""
            },
            "type": "mesh3d"
           }
          ],
          "parcoords": [
           {
            "line": {
             "colorbar": {
              "outlinewidth": 0,
              "ticks": ""
             }
            },
            "type": "parcoords"
           }
          ],
          "pie": [
           {
            "automargin": true,
            "type": "pie"
           }
          ],
          "scatter": [
           {
            "fillpattern": {
             "fillmode": "overlay",
             "size": 10,
             "solidity": 0.2
            },
            "type": "scatter"
           }
          ],
          "scatter3d": [
           {
            "line": {
             "colorbar": {
              "outlinewidth": 0,
              "ticks": ""
             }
            },
            "marker": {
             "colorbar": {
              "outlinewidth": 0,
              "ticks": ""
             }
            },
            "type": "scatter3d"
           }
          ],
          "scattercarpet": [
           {
            "marker": {
             "colorbar": {
              "outlinewidth": 0,
              "ticks": ""
             }
            },
            "type": "scattercarpet"
           }
          ],
          "scattergeo": [
           {
            "marker": {
             "colorbar": {
              "outlinewidth": 0,
              "ticks": ""
             }
            },
            "type": "scattergeo"
           }
          ],
          "scattergl": [
           {
            "marker": {
             "colorbar": {
              "outlinewidth": 0,
              "ticks": ""
             }
            },
            "type": "scattergl"
           }
          ],
          "scattermapbox": [
           {
            "marker": {
             "colorbar": {
              "outlinewidth": 0,
              "ticks": ""
             }
            },
            "type": "scattermapbox"
           }
          ],
          "scatterpolar": [
           {
            "marker": {
             "colorbar": {
              "outlinewidth": 0,
              "ticks": ""
             }
            },
            "type": "scatterpolar"
           }
          ],
          "scatterpolargl": [
           {
            "marker": {
             "colorbar": {
              "outlinewidth": 0,
              "ticks": ""
             }
            },
            "type": "scatterpolargl"
           }
          ],
          "scatterternary": [
           {
            "marker": {
             "colorbar": {
              "outlinewidth": 0,
              "ticks": ""
             }
            },
            "type": "scatterternary"
           }
          ],
          "surface": [
           {
            "colorbar": {
             "outlinewidth": 0,
             "ticks": ""
            },
            "colorscale": [
             [
              0,
              "#0d0887"
             ],
             [
              0.1111111111111111,
              "#46039f"
             ],
             [
              0.2222222222222222,
              "#7201a8"
             ],
             [
              0.3333333333333333,
              "#9c179e"
             ],
             [
              0.4444444444444444,
              "#bd3786"
             ],
             [
              0.5555555555555556,
              "#d8576b"
             ],
             [
              0.6666666666666666,
              "#ed7953"
             ],
             [
              0.7777777777777778,
              "#fb9f3a"
             ],
             [
              0.8888888888888888,
              "#fdca26"
             ],
             [
              1,
              "#f0f921"
             ]
            ],
            "type": "surface"
           }
          ],
          "table": [
           {
            "cells": {
             "fill": {
              "color": "#EBF0F8"
             },
             "line": {
              "color": "white"
             }
            },
            "header": {
             "fill": {
              "color": "#C8D4E3"
             },
             "line": {
              "color": "white"
             }
            },
            "type": "table"
           }
          ]
         },
         "layout": {
          "annotationdefaults": {
           "arrowcolor": "#2a3f5f",
           "arrowhead": 0,
           "arrowwidth": 1
          },
          "autotypenumbers": "strict",
          "coloraxis": {
           "colorbar": {
            "outlinewidth": 0,
            "ticks": ""
           }
          },
          "colorscale": {
           "diverging": [
            [
             0,
             "#8e0152"
            ],
            [
             0.1,
             "#c51b7d"
            ],
            [
             0.2,
             "#de77ae"
            ],
            [
             0.3,
             "#f1b6da"
            ],
            [
             0.4,
             "#fde0ef"
            ],
            [
             0.5,
             "#f7f7f7"
            ],
            [
             0.6,
             "#e6f5d0"
            ],
            [
             0.7,
             "#b8e186"
            ],
            [
             0.8,
             "#7fbc41"
            ],
            [
             0.9,
             "#4d9221"
            ],
            [
             1,
             "#276419"
            ]
           ],
           "sequential": [
            [
             0,
             "#0d0887"
            ],
            [
             0.1111111111111111,
             "#46039f"
            ],
            [
             0.2222222222222222,
             "#7201a8"
            ],
            [
             0.3333333333333333,
             "#9c179e"
            ],
            [
             0.4444444444444444,
             "#bd3786"
            ],
            [
             0.5555555555555556,
             "#d8576b"
            ],
            [
             0.6666666666666666,
             "#ed7953"
            ],
            [
             0.7777777777777778,
             "#fb9f3a"
            ],
            [
             0.8888888888888888,
             "#fdca26"
            ],
            [
             1,
             "#f0f921"
            ]
           ],
           "sequentialminus": [
            [
             0,
             "#0d0887"
            ],
            [
             0.1111111111111111,
             "#46039f"
            ],
            [
             0.2222222222222222,
             "#7201a8"
            ],
            [
             0.3333333333333333,
             "#9c179e"
            ],
            [
             0.4444444444444444,
             "#bd3786"
            ],
            [
             0.5555555555555556,
             "#d8576b"
            ],
            [
             0.6666666666666666,
             "#ed7953"
            ],
            [
             0.7777777777777778,
             "#fb9f3a"
            ],
            [
             0.8888888888888888,
             "#fdca26"
            ],
            [
             1,
             "#f0f921"
            ]
           ]
          },
          "colorway": [
           "#636efa",
           "#EF553B",
           "#00cc96",
           "#ab63fa",
           "#FFA15A",
           "#19d3f3",
           "#FF6692",
           "#B6E880",
           "#FF97FF",
           "#FECB52"
          ],
          "font": {
           "color": "#2a3f5f"
          },
          "geo": {
           "bgcolor": "white",
           "lakecolor": "white",
           "landcolor": "#E5ECF6",
           "showlakes": true,
           "showland": true,
           "subunitcolor": "white"
          },
          "hoverlabel": {
           "align": "left"
          },
          "hovermode": "closest",
          "mapbox": {
           "style": "light"
          },
          "paper_bgcolor": "white",
          "plot_bgcolor": "#E5ECF6",
          "polar": {
           "angularaxis": {
            "gridcolor": "white",
            "linecolor": "white",
            "ticks": ""
           },
           "bgcolor": "#E5ECF6",
           "radialaxis": {
            "gridcolor": "white",
            "linecolor": "white",
            "ticks": ""
           }
          },
          "scene": {
           "xaxis": {
            "backgroundcolor": "#E5ECF6",
            "gridcolor": "white",
            "gridwidth": 2,
            "linecolor": "white",
            "showbackground": true,
            "ticks": "",
            "zerolinecolor": "white"
           },
           "yaxis": {
            "backgroundcolor": "#E5ECF6",
            "gridcolor": "white",
            "gridwidth": 2,
            "linecolor": "white",
            "showbackground": true,
            "ticks": "",
            "zerolinecolor": "white"
           },
           "zaxis": {
            "backgroundcolor": "#E5ECF6",
            "gridcolor": "white",
            "gridwidth": 2,
            "linecolor": "white",
            "showbackground": true,
            "ticks": "",
            "zerolinecolor": "white"
           }
          },
          "shapedefaults": {
           "line": {
            "color": "#2a3f5f"
           }
          },
          "ternary": {
           "aaxis": {
            "gridcolor": "white",
            "linecolor": "white",
            "ticks": ""
           },
           "baxis": {
            "gridcolor": "white",
            "linecolor": "white",
            "ticks": ""
           },
           "bgcolor": "#E5ECF6",
           "caxis": {
            "gridcolor": "white",
            "linecolor": "white",
            "ticks": ""
           }
          },
          "title": {
           "x": 0.05
          },
          "xaxis": {
           "automargin": true,
           "gridcolor": "white",
           "linecolor": "white",
           "ticks": "",
           "title": {
            "standoff": 15
           },
           "zerolinecolor": "white",
           "zerolinewidth": 2
          },
          "yaxis": {
           "automargin": true,
           "gridcolor": "white",
           "linecolor": "white",
           "ticks": "",
           "title": {
            "standoff": 15
           },
           "zerolinecolor": "white",
           "zerolinewidth": 2
          }
         }
        },
        "title": {
         "text": "Visualization on the optimal scanning position and direction"
        },
        "width": 1200
       }
      }
     },
     "metadata": {},
     "output_type": "display_data"
    }
   ],
   "source": [
    "from planner.planner_scanning_o1 import get_scanning_plan_o1\n",
    "from utils.loader import get_rooms_info, get_robot_info_by_id, get_node_info, get_room_id_by_node_id\n",
    "from visualizer.vis_scanning_withComp import visualize_scanning\n",
    "from data.robots2 import robots_withConfig\n",
    "\n",
    "defect_id = 4000\n",
    "robot_id = 6"
   ]
  },
  {
   "cell_type": "code",
   "execution_count": 2,
   "id": "8142bbbe",
   "metadata": {},
   "outputs": [
    {
     "name": "stdout",
     "output_type": "stream",
     "text": [
      "{'id': 4000, 'type': 'window', 'location': [-21.78259598336434, -15.4285, 2.4928653934551823], 'size': [0.8078628612203472, 1.5, 2.0577393266055752]}\n",
      "{'defect_node': {'id': 4000, 'type': 'window', 'location': [-21.78259598336434, -15.4285, 2.4928653934551823], 'size': [0.8078628612203472, 1.5, 2.0577393266055752]}, 'associated_spaces': [{'id': 8, 'surfaces': [1008, 1061, 2007, 3029, 1206, 1243], 'location': [-18.18925, -15.654699999999998, 7.85], 'size': [6.381, 3.768, 3.7]}], 'associated_nodes': [{'id': 1008, 'type': 'wall', 'components': [4000], 'location': [-21.38, -15.654699999999998, 1.85], 'size': [0.0, 3.768, 3.7]}, {'id': 1061, 'type': 'wall', 'components': [5049], 'location': [-18.18925, -13.7709, 1.85], 'size': [6.381, 0.0, 3.7]}, {'id': 5049, 'type': 'door', 'location': [-17.0185, -13.6709, 1.4], 'size': [2.0, 0.2, 2.8]}, {'id': 2007, 'type': 'ceiling', 'components': [], 'location': [-18.18925, -15.654699999999998, 3.7], 'size': [6.381, 3.768, 0.0]}, {'id': 3029, 'type': 'floor', 'components': [5001, 5049], 'location': [-18.18925, -15.654699999999998, 0.0], 'size': [6.381, 3.768, 0.0]}, {'id': 5001, 'type': 'door', 'location': [-16.456, -17.6085, 1.054], 'size': [1.067, 0.19, 2.108]}, {'id': 1206, 'type': 'wall', 'components': [5001], 'location': [-18.18925, -17.5385, 1.85], 'size': [6.381, 0.0, 3.7]}, {'id': 1243, 'type': 'wall', 'components': [], 'location': [-14.9985, -15.654699999999998, 1.85], 'size': [0.0, 3.768, 3.7]}]}\n",
      "8\n"
     ]
    }
   ],
   "source": [
    "print(get_node_info(defect_id))\n",
    "print(get_rooms_info(defect_id))\n",
    "print(get_room_id_by_node_id(defect_id))"
   ]
  },
  {
   "cell_type": "code",
   "execution_count": 2,
   "id": "3a5edb4d5d3753eb",
   "metadata": {
    "ExecuteTime": {
     "end_time": "2024-11-12T00:34:53.529503Z",
     "start_time": "2024-11-12T00:34:45.223199Z"
    }
   },
   "outputs": [
    {
     "name": "stdout",
     "output_type": "stream",
     "text": [
      "To determine the optimal camera location and direction for scanning the defect (window), we need to ensure that the entire area of the defect is captured within the camera's field of view (FOV) of 60 degrees.\n",
      "\n",
      "**Step 1: Identify the Defect's Position and Size**\n",
      "\n",
      "The defect (window) has the following properties:\n",
      "- **Location** (center of the window): `[-21.7826, -15.4285, 2.4929]` (in meters)\n",
      "- **Size**: `[0.8079, 1.5, 2.0577]` (width, height, depth)\n",
      "\n",
      "For precise calculations:\n",
      "- **Width (horizontal size)**: `1.5` meters (along the y-axis)\n",
      "- **Height (vertical size)**: `2.0577` meters (along the z-axis)\n",
      "\n",
      "**Step 2: Calculate the Required Distance from the Window**\n",
      "\n",
      "The camera must be positioned at a distance where the window fits entirely within the 60-degree FOV.\n",
      "\n",
      "Using the formula:\n",
      "\\[ \\text{Distance} = \\frac{(\\text{Object Size} / 2)}{\\tan(\\text{FOV} / 2)} \\]\n",
      "\n",
      "- **Horizontal distance** (to capture the width):\n",
      "  \\[ \\text{Distance}_\\text{width} = \\frac{1.5 / 2}{\\tan(30^\\circ)} \\approx \\frac{0.75}{0.5774} \\approx 1.2990 \\text{ meters} \\]\n",
      "\n",
      "- **Vertical distance** (to capture the height):\n",
      "  \\[ \\text{Distance}_\\text{height} = \\frac{2.0577 / 2}{\\tan(30^\\circ)} \\approx \\frac{1.0289}{0.5774} \\approx 1.7826 \\text{ meters} \\]\n",
      "\n",
      "**Step 3: Determine the Optimal Camera Distance**\n",
      "\n",
      "The camera must be at least the greater of the two distances to capture both the width and height:\n",
      "- **Optimal distance from the window**: `1.7826` meters\n",
      "\n",
      "**Step 4: Calculate the Camera's Optimal Location**\n",
      "\n",
      "Position the camera directly facing the window, centered horizontally and vertically.\n",
      "\n",
      "- **Camera position along x-axis**:\n",
      "  \\[ x_\\text{camera} = x_\\text{window} + \\text{Optimal distance} \\]\n",
      "  \\[ x_\\text{camera} = -21.7826 + 1.7826 = -20.0000 \\text{ meters} \\]\n",
      "\n",
      "- **Camera position along y-axis** (aligned with window center):\n",
      "  \\[ y_\\text{camera} = y_\\text{window} = -15.4285 \\text{ meters} \\]\n",
      "\n",
      "- **Camera position along z-axis** (aligned with window center):\n",
      "  \\[ z_\\text{camera} = z_\\text{window} = 2.4929 \\text{ meters} \\]\n",
      "\n",
      "**Optimal Camera Location**: `[-20.0000, -15.4285, 2.4929]`\n",
      "\n",
      "**Step 5: Determine the Camera's Optimal Direction**\n",
      "\n",
      "The camera should face directly towards the center of the window.\n",
      "\n",
      "- **Direction vector** (from camera to window center):\n",
      "  \\[ \\text{Direction} = [x_\\text{window} - x_\\text{camera},\\ y_\\text{window} - y_\\text{camera},\\ z_\\text{window} - z_\\text{camera}] \\]\n",
      "  \\[ \\text{Direction} = [-21.7826 - (-20.0000),\\ -15.4285 - (-15.4285),\\ 2.4929 - 2.4929] \\]\n",
      "  \\[ \\text{Direction} = [-1.7826,\\ 0,\\ 0] \\]\n",
      "\n",
      "- **Normalize the direction vector**:\n",
      "  \\[ \\text{Magnitude} = \\sqrt{(-1.7826)^2 + 0^2 + 0^2} = 1.7826 \\]\n",
      "  \\[ \\text{Normalized Direction} = \\left[ \\frac{-1.7826}{1.7826},\\ 0,\\ 0 \\right] = [-1,\\ 0,\\ 0] \\]\n",
      "\n",
      "**Optimal Camera Direction**: `[-1, 0, 0]` (facing directly towards negative x-axis)\n",
      "\n",
      "**Step 6: Verify the Camera's Position Is Within the Room**\n",
      "\n",
      "The room boundaries are:\n",
      "- **x-axis**: From `-21.38` to `-14.9985` meters\n",
      "- **y-axis**: From `-17.5385` to `-13.7709` meters\n",
      "- **z-axis**: From `0.0` to `3.7` meters\n",
      "\n",
      "The calculated camera position `[-20.0000, -15.4285, 2.4929]` lies within these boundaries and has a clear line of sight to the window.\n",
      "\n",
      "**Final Output:**\n",
      "\n",
      "```json\n",
      "{\n",
      "    \"optimal_location\": [-20.0000, -15.4285, 2.4929],\n",
      "    \"optimal_direction\": [-1, 0, 0]\n",
      "}\n",
      "```\n",
      "[-20.0, -15.4285, 2.4929] [-1, 0, 0]\n"
     ]
    }
   ],
   "source": [
    "optimal_location, optimal_direction = get_scanning_plan_o1(defect_id, robot_id)\n",
    "\n",
    "print(optimal_location, optimal_direction)"
   ]
  },
  {
   "cell_type": "code",
   "execution_count": 3,
   "id": "5f064c455a913603",
   "metadata": {
    "ExecuteTime": {
     "end_time": "2024-11-12T00:34:53.816258Z",
     "start_time": "2024-11-12T00:34:53.530849Z"
    }
   },
   "outputs": [
    {
     "name": "stdout",
     "output_type": "stream",
     "text": [
      "{'defect_node': {'id': 4000, 'type': 'window', 'location': [-21.78259598336434, -15.4285, 2.4928653934551823], 'size': [0.8078628612203472, 1.5, 2.0577393266055752]}, 'associated_spaces': [{'id': 8, 'surfaces': [1008, 1061, 2007, 3029, 1206, 1243], 'location': [-18.18925, -15.654699999999998, 7.85], 'size': [6.381, 3.768, 3.7]}], 'associated_nodes': [{'id': 1008, 'type': 'wall', 'components': [4000], 'location': [-21.38, -15.654699999999998, 1.85], 'size': [0.0, 3.768, 3.7]}, {'id': 1061, 'type': 'wall', 'components': [5049], 'location': [-18.18925, -13.7709, 1.85], 'size': [6.381, 0.0, 3.7]}, {'id': 5049, 'type': 'door', 'location': [-17.0185, -13.6709, 1.4], 'size': [2.0, 0.2, 2.8]}, {'id': 2007, 'type': 'ceiling', 'components': [], 'location': [-18.18925, -15.654699999999998, 3.7], 'size': [6.381, 3.768, 0.0]}, {'id': 3029, 'type': 'floor', 'components': [5001, 5049], 'location': [-18.18925, -15.654699999999998, 0.0], 'size': [6.381, 3.768, 0.0]}, {'id': 5001, 'type': 'door', 'location': [-16.456, -17.6085, 1.054], 'size': [1.067, 0.19, 2.108]}, {'id': 1206, 'type': 'wall', 'components': [5001], 'location': [-18.18925, -17.5385, 1.85], 'size': [6.381, 0.0, 3.7]}, {'id': 1243, 'type': 'wall', 'components': [], 'location': [-14.9985, -15.654699999999998, 1.85], 'size': [0.0, 3.768, 3.7]}]}\n",
      "60\n"
     ]
    },
    {
     "data": {
      "application/vnd.plotly.v1+json": {
       "config": {
        "plotlyServerURL": "https://plot.ly"
       },
       "data": [
        {
         "color": "lightblue",
         "flatshading": true,
         "hoverinfo": "skip",
         "i": [
          0,
          0,
          4,
          4,
          0,
          0,
          1,
          1,
          2,
          2,
          3,
          3
         ],
         "j": [
          1,
          2,
          5,
          6,
          1,
          5,
          2,
          6,
          3,
          7,
          0,
          4
         ],
         "k": [
          2,
          3,
          6,
          7,
          5,
          4,
          6,
          5,
          7,
          6,
          4,
          7
         ],
         "opacity": 0.5,
         "type": "mesh3d",
         "x": [
          -21.43,
          -21.33,
          -21.33,
          -21.43,
          -21.43,
          -21.33,
          -21.33,
          -21.43
         ],
         "y": [
          -17.5387,
          -17.5387,
          -13.770699999999998,
          -13.770699999999998,
          -17.5387,
          -17.5387,
          -13.770699999999998,
          -13.770699999999998
         ],
         "z": [
          0,
          0,
          0,
          0,
          3.7,
          3.7,
          3.7,
          3.7
         ]
        },
        {
         "color": "lightblue",
         "flatshading": true,
         "hoverinfo": "skip",
         "i": [
          0,
          0,
          4,
          4,
          0,
          0,
          1,
          1,
          2,
          2,
          3,
          3
         ],
         "j": [
          1,
          2,
          5,
          6,
          1,
          5,
          2,
          6,
          3,
          7,
          0,
          4
         ],
         "k": [
          2,
          3,
          6,
          7,
          5,
          4,
          6,
          5,
          7,
          6,
          4,
          7
         ],
         "opacity": 0.5,
         "type": "mesh3d",
         "x": [
          -21.37975,
          -14.998750000000001,
          -14.998750000000001,
          -21.37975,
          -21.37975,
          -14.998750000000001,
          -14.998750000000001,
          -21.37975
         ],
         "y": [
          -13.8209,
          -13.8209,
          -13.720899999999999,
          -13.720899999999999,
          -13.8209,
          -13.8209,
          -13.720899999999999,
          -13.720899999999999
         ],
         "z": [
          0,
          0,
          0,
          0,
          3.7,
          3.7,
          3.7,
          3.7
         ]
        },
        {
         "color": "lightgreen",
         "flatshading": true,
         "hoverinfo": "skip",
         "i": [
          0,
          0,
          4,
          4,
          0,
          0,
          1,
          1,
          2,
          2,
          3,
          3
         ],
         "j": [
          1,
          2,
          5,
          6,
          1,
          5,
          2,
          6,
          3,
          7,
          0,
          4
         ],
         "k": [
          2,
          3,
          6,
          7,
          5,
          4,
          6,
          5,
          7,
          6,
          4,
          7
         ],
         "opacity": 0.5,
         "type": "mesh3d",
         "x": [
          -21.37975,
          -14.998750000000001,
          -14.998750000000001,
          -21.37975,
          -21.37975,
          -14.998750000000001,
          -14.998750000000001,
          -21.37975
         ],
         "y": [
          -17.5387,
          -17.5387,
          -13.770699999999998,
          -13.770699999999998,
          -17.5387,
          -17.5387,
          -13.770699999999998,
          -13.770699999999998
         ],
         "z": [
          3.6500000000000004,
          3.6500000000000004,
          3.6500000000000004,
          3.6500000000000004,
          3.75,
          3.75,
          3.75,
          3.75
         ]
        },
        {
         "color": "lightgreen",
         "flatshading": true,
         "hoverinfo": "skip",
         "i": [
          0,
          0,
          4,
          4,
          0,
          0,
          1,
          1,
          2,
          2,
          3,
          3
         ],
         "j": [
          1,
          2,
          5,
          6,
          1,
          5,
          2,
          6,
          3,
          7,
          0,
          4
         ],
         "k": [
          2,
          3,
          6,
          7,
          5,
          4,
          6,
          5,
          7,
          6,
          4,
          7
         ],
         "opacity": 0.5,
         "type": "mesh3d",
         "x": [
          -21.37975,
          -14.998750000000001,
          -14.998750000000001,
          -21.37975,
          -21.37975,
          -14.998750000000001,
          -14.998750000000001,
          -21.37975
         ],
         "y": [
          -17.5387,
          -17.5387,
          -13.770699999999998,
          -13.770699999999998,
          -17.5387,
          -17.5387,
          -13.770699999999998,
          -13.770699999999998
         ],
         "z": [
          -0.05,
          -0.05,
          -0.05,
          -0.05,
          0.05,
          0.05,
          0.05,
          0.05
         ]
        },
        {
         "color": "lightblue",
         "flatshading": true,
         "hoverinfo": "skip",
         "i": [
          0,
          0,
          4,
          4,
          0,
          0,
          1,
          1,
          2,
          2,
          3,
          3
         ],
         "j": [
          1,
          2,
          5,
          6,
          1,
          5,
          2,
          6,
          3,
          7,
          0,
          4
         ],
         "k": [
          2,
          3,
          6,
          7,
          5,
          4,
          6,
          5,
          7,
          6,
          4,
          7
         ],
         "opacity": 0.5,
         "type": "mesh3d",
         "x": [
          -21.37975,
          -14.998750000000001,
          -14.998750000000001,
          -21.37975,
          -21.37975,
          -14.998750000000001,
          -14.998750000000001,
          -21.37975
         ],
         "y": [
          -17.5885,
          -17.5885,
          -17.4885,
          -17.4885,
          -17.5885,
          -17.5885,
          -17.4885,
          -17.4885
         ],
         "z": [
          0,
          0,
          0,
          0,
          3.7,
          3.7,
          3.7,
          3.7
         ]
        },
        {
         "color": "lightblue",
         "flatshading": true,
         "hoverinfo": "skip",
         "i": [
          0,
          0,
          4,
          4,
          0,
          0,
          1,
          1,
          2,
          2,
          3,
          3
         ],
         "j": [
          1,
          2,
          5,
          6,
          1,
          5,
          2,
          6,
          3,
          7,
          0,
          4
         ],
         "k": [
          2,
          3,
          6,
          7,
          5,
          4,
          6,
          5,
          7,
          6,
          4,
          7
         ],
         "opacity": 0.5,
         "type": "mesh3d",
         "x": [
          -15.0485,
          -14.9485,
          -14.9485,
          -15.0485,
          -15.0485,
          -14.9485,
          -14.9485,
          -15.0485
         ],
         "y": [
          -17.5387,
          -17.5387,
          -13.770699999999998,
          -13.770699999999998,
          -17.5387,
          -17.5387,
          -13.770699999999998,
          -13.770699999999998
         ],
         "z": [
          0,
          0,
          0,
          0,
          3.7,
          3.7,
          3.7,
          3.7
         ]
        },
        {
         "marker": {
          "color": "black",
          "size": 10
         },
         "mode": "markers",
         "name": "Camera Position",
         "type": "scatter3d",
         "x": [
          -19.598
         ],
         "y": [
          -15.4285
         ],
         "z": [
          2.4928
         ]
        },
        {
         "marker": {
          "color": "purple",
          "size": 10
         },
         "mode": "markers",
         "name": "Target Position",
         "type": "scatter3d",
         "x": [
          -21.78259598336434
         ],
         "y": [
          -15.4285
         ],
         "z": [
          2.4928653934551823
         ]
        },
        {
         "color": "yellow",
         "i": [
          0,
          0,
          0,
          0,
          0,
          0,
          0,
          0,
          0,
          0,
          0,
          0,
          0,
          0,
          0,
          0,
          0,
          0,
          0,
          0
         ],
         "j": [
          1,
          2,
          3,
          4,
          5,
          6,
          7,
          8,
          9,
          10,
          11,
          12,
          13,
          14,
          15,
          16,
          17,
          18,
          19,
          20
         ],
         "k": [
          2,
          3,
          4,
          5,
          6,
          7,
          8,
          9,
          10,
          11,
          12,
          13,
          14,
          15,
          16,
          17,
          18,
          19,
          20,
          1
         ],
         "name": "Field of View",
         "opacity": 0.2,
         "type": "mesh3d",
         "x": [
          -19.598,
          -21.782595984343082,
          -21.782595984343082,
          -21.782595984343082,
          -21.782595984343082,
          -21.782595984343082,
          -21.782595984343082,
          -21.782595984343082,
          -21.782595984343082,
          -21.782595984343082,
          -21.782595984343082,
          -21.782595984343082,
          -21.782595984343082,
          -21.782595984343082,
          -21.782595984343082,
          -21.782595984343082,
          -21.782595984343082,
          -21.782595984343082,
          -21.782595984343082,
          -21.782595984343082,
          -21.782595984343082
         ],
         "y": [
          -15.4285,
          -16.689777079631053,
          -16.621437608476874,
          -16.423824837110047,
          -16.11835317558624,
          -15.738125218312753,
          -15.324344564304813,
          -14.921850767892547,
          -14.574260277251955,
          -14.319239915466111,
          -14.184425095783133,
          -14.184425095783133,
          -14.319239915466111,
          -14.574260277251954,
          -14.921850767892545,
          -15.324344564304813,
          -15.738125218312753,
          -16.118353175586236,
          -16.423824837110047,
          -16.621437608476874,
          -16.689777079631053
         ],
         "z": [
          2.4928,
          2.4928,
          2.0832640017237636,
          1.718107583466508,
          1.4369011091320236,
          1.2701176635824742,
          1.235830821054953,
          1.3377560929524936,
          1.564848294531454,
          1.892498462052186,
          2.285200615847646,
          2.7003993841523535,
          3.0931015379478133,
          3.4207517054685455,
          3.6478439070475055,
          3.749769178945047,
          3.7154823364175256,
          3.5486988908679766,
          3.267492416533492,
          2.9023359982762367,
          2.4928000000000003
         ]
        }
       ],
       "layout": {
        "height": 800,
        "scene": {
         "aspectmode": "data",
         "aspectratio": {
          "x": 1,
          "y": 1,
          "z": 1
         },
         "xaxis": {
          "title": {
           "text": "X"
          },
          "visible": true
         },
         "yaxis": {
          "title": {
           "text": "Y"
          },
          "visible": true
         },
         "zaxis": {
          "title": {
           "text": "Z"
          },
          "visible": true
         }
        },
        "template": {
         "data": {
          "bar": [
           {
            "error_x": {
             "color": "#2a3f5f"
            },
            "error_y": {
             "color": "#2a3f5f"
            },
            "marker": {
             "line": {
              "color": "#E5ECF6",
              "width": 0.5
             },
             "pattern": {
              "fillmode": "overlay",
              "size": 10,
              "solidity": 0.2
             }
            },
            "type": "bar"
           }
          ],
          "barpolar": [
           {
            "marker": {
             "line": {
              "color": "#E5ECF6",
              "width": 0.5
             },
             "pattern": {
              "fillmode": "overlay",
              "size": 10,
              "solidity": 0.2
             }
            },
            "type": "barpolar"
           }
          ],
          "carpet": [
           {
            "aaxis": {
             "endlinecolor": "#2a3f5f",
             "gridcolor": "white",
             "linecolor": "white",
             "minorgridcolor": "white",
             "startlinecolor": "#2a3f5f"
            },
            "baxis": {
             "endlinecolor": "#2a3f5f",
             "gridcolor": "white",
             "linecolor": "white",
             "minorgridcolor": "white",
             "startlinecolor": "#2a3f5f"
            },
            "type": "carpet"
           }
          ],
          "choropleth": [
           {
            "colorbar": {
             "outlinewidth": 0,
             "ticks": ""
            },
            "type": "choropleth"
           }
          ],
          "contour": [
           {
            "colorbar": {
             "outlinewidth": 0,
             "ticks": ""
            },
            "colorscale": [
             [
              0,
              "#0d0887"
             ],
             [
              0.1111111111111111,
              "#46039f"
             ],
             [
              0.2222222222222222,
              "#7201a8"
             ],
             [
              0.3333333333333333,
              "#9c179e"
             ],
             [
              0.4444444444444444,
              "#bd3786"
             ],
             [
              0.5555555555555556,
              "#d8576b"
             ],
             [
              0.6666666666666666,
              "#ed7953"
             ],
             [
              0.7777777777777778,
              "#fb9f3a"
             ],
             [
              0.8888888888888888,
              "#fdca26"
             ],
             [
              1,
              "#f0f921"
             ]
            ],
            "type": "contour"
           }
          ],
          "contourcarpet": [
           {
            "colorbar": {
             "outlinewidth": 0,
             "ticks": ""
            },
            "type": "contourcarpet"
           }
          ],
          "heatmap": [
           {
            "colorbar": {
             "outlinewidth": 0,
             "ticks": ""
            },
            "colorscale": [
             [
              0,
              "#0d0887"
             ],
             [
              0.1111111111111111,
              "#46039f"
             ],
             [
              0.2222222222222222,
              "#7201a8"
             ],
             [
              0.3333333333333333,
              "#9c179e"
             ],
             [
              0.4444444444444444,
              "#bd3786"
             ],
             [
              0.5555555555555556,
              "#d8576b"
             ],
             [
              0.6666666666666666,
              "#ed7953"
             ],
             [
              0.7777777777777778,
              "#fb9f3a"
             ],
             [
              0.8888888888888888,
              "#fdca26"
             ],
             [
              1,
              "#f0f921"
             ]
            ],
            "type": "heatmap"
           }
          ],
          "heatmapgl": [
           {
            "colorbar": {
             "outlinewidth": 0,
             "ticks": ""
            },
            "colorscale": [
             [
              0,
              "#0d0887"
             ],
             [
              0.1111111111111111,
              "#46039f"
             ],
             [
              0.2222222222222222,
              "#7201a8"
             ],
             [
              0.3333333333333333,
              "#9c179e"
             ],
             [
              0.4444444444444444,
              "#bd3786"
             ],
             [
              0.5555555555555556,
              "#d8576b"
             ],
             [
              0.6666666666666666,
              "#ed7953"
             ],
             [
              0.7777777777777778,
              "#fb9f3a"
             ],
             [
              0.8888888888888888,
              "#fdca26"
             ],
             [
              1,
              "#f0f921"
             ]
            ],
            "type": "heatmapgl"
           }
          ],
          "histogram": [
           {
            "marker": {
             "pattern": {
              "fillmode": "overlay",
              "size": 10,
              "solidity": 0.2
             }
            },
            "type": "histogram"
           }
          ],
          "histogram2d": [
           {
            "colorbar": {
             "outlinewidth": 0,
             "ticks": ""
            },
            "colorscale": [
             [
              0,
              "#0d0887"
             ],
             [
              0.1111111111111111,
              "#46039f"
             ],
             [
              0.2222222222222222,
              "#7201a8"
             ],
             [
              0.3333333333333333,
              "#9c179e"
             ],
             [
              0.4444444444444444,
              "#bd3786"
             ],
             [
              0.5555555555555556,
              "#d8576b"
             ],
             [
              0.6666666666666666,
              "#ed7953"
             ],
             [
              0.7777777777777778,
              "#fb9f3a"
             ],
             [
              0.8888888888888888,
              "#fdca26"
             ],
             [
              1,
              "#f0f921"
             ]
            ],
            "type": "histogram2d"
           }
          ],
          "histogram2dcontour": [
           {
            "colorbar": {
             "outlinewidth": 0,
             "ticks": ""
            },
            "colorscale": [
             [
              0,
              "#0d0887"
             ],
             [
              0.1111111111111111,
              "#46039f"
             ],
             [
              0.2222222222222222,
              "#7201a8"
             ],
             [
              0.3333333333333333,
              "#9c179e"
             ],
             [
              0.4444444444444444,
              "#bd3786"
             ],
             [
              0.5555555555555556,
              "#d8576b"
             ],
             [
              0.6666666666666666,
              "#ed7953"
             ],
             [
              0.7777777777777778,
              "#fb9f3a"
             ],
             [
              0.8888888888888888,
              "#fdca26"
             ],
             [
              1,
              "#f0f921"
             ]
            ],
            "type": "histogram2dcontour"
           }
          ],
          "mesh3d": [
           {
            "colorbar": {
             "outlinewidth": 0,
             "ticks": ""
            },
            "type": "mesh3d"
           }
          ],
          "parcoords": [
           {
            "line": {
             "colorbar": {
              "outlinewidth": 0,
              "ticks": ""
             }
            },
            "type": "parcoords"
           }
          ],
          "pie": [
           {
            "automargin": true,
            "type": "pie"
           }
          ],
          "scatter": [
           {
            "fillpattern": {
             "fillmode": "overlay",
             "size": 10,
             "solidity": 0.2
            },
            "type": "scatter"
           }
          ],
          "scatter3d": [
           {
            "line": {
             "colorbar": {
              "outlinewidth": 0,
              "ticks": ""
             }
            },
            "marker": {
             "colorbar": {
              "outlinewidth": 0,
              "ticks": ""
             }
            },
            "type": "scatter3d"
           }
          ],
          "scattercarpet": [
           {
            "marker": {
             "colorbar": {
              "outlinewidth": 0,
              "ticks": ""
             }
            },
            "type": "scattercarpet"
           }
          ],
          "scattergeo": [
           {
            "marker": {
             "colorbar": {
              "outlinewidth": 0,
              "ticks": ""
             }
            },
            "type": "scattergeo"
           }
          ],
          "scattergl": [
           {
            "marker": {
             "colorbar": {
              "outlinewidth": 0,
              "ticks": ""
             }
            },
            "type": "scattergl"
           }
          ],
          "scattermapbox": [
           {
            "marker": {
             "colorbar": {
              "outlinewidth": 0,
              "ticks": ""
             }
            },
            "type": "scattermapbox"
           }
          ],
          "scatterpolar": [
           {
            "marker": {
             "colorbar": {
              "outlinewidth": 0,
              "ticks": ""
             }
            },
            "type": "scatterpolar"
           }
          ],
          "scatterpolargl": [
           {
            "marker": {
             "colorbar": {
              "outlinewidth": 0,
              "ticks": ""
             }
            },
            "type": "scatterpolargl"
           }
          ],
          "scatterternary": [
           {
            "marker": {
             "colorbar": {
              "outlinewidth": 0,
              "ticks": ""
             }
            },
            "type": "scatterternary"
           }
          ],
          "surface": [
           {
            "colorbar": {
             "outlinewidth": 0,
             "ticks": ""
            },
            "colorscale": [
             [
              0,
              "#0d0887"
             ],
             [
              0.1111111111111111,
              "#46039f"
             ],
             [
              0.2222222222222222,
              "#7201a8"
             ],
             [
              0.3333333333333333,
              "#9c179e"
             ],
             [
              0.4444444444444444,
              "#bd3786"
             ],
             [
              0.5555555555555556,
              "#d8576b"
             ],
             [
              0.6666666666666666,
              "#ed7953"
             ],
             [
              0.7777777777777778,
              "#fb9f3a"
             ],
             [
              0.8888888888888888,
              "#fdca26"
             ],
             [
              1,
              "#f0f921"
             ]
            ],
            "type": "surface"
           }
          ],
          "table": [
           {
            "cells": {
             "fill": {
              "color": "#EBF0F8"
             },
             "line": {
              "color": "white"
             }
            },
            "header": {
             "fill": {
              "color": "#C8D4E3"
             },
             "line": {
              "color": "white"
             }
            },
            "type": "table"
           }
          ]
         },
         "layout": {
          "annotationdefaults": {
           "arrowcolor": "#2a3f5f",
           "arrowhead": 0,
           "arrowwidth": 1
          },
          "autotypenumbers": "strict",
          "coloraxis": {
           "colorbar": {
            "outlinewidth": 0,
            "ticks": ""
           }
          },
          "colorscale": {
           "diverging": [
            [
             0,
             "#8e0152"
            ],
            [
             0.1,
             "#c51b7d"
            ],
            [
             0.2,
             "#de77ae"
            ],
            [
             0.3,
             "#f1b6da"
            ],
            [
             0.4,
             "#fde0ef"
            ],
            [
             0.5,
             "#f7f7f7"
            ],
            [
             0.6,
             "#e6f5d0"
            ],
            [
             0.7,
             "#b8e186"
            ],
            [
             0.8,
             "#7fbc41"
            ],
            [
             0.9,
             "#4d9221"
            ],
            [
             1,
             "#276419"
            ]
           ],
           "sequential": [
            [
             0,
             "#0d0887"
            ],
            [
             0.1111111111111111,
             "#46039f"
            ],
            [
             0.2222222222222222,
             "#7201a8"
            ],
            [
             0.3333333333333333,
             "#9c179e"
            ],
            [
             0.4444444444444444,
             "#bd3786"
            ],
            [
             0.5555555555555556,
             "#d8576b"
            ],
            [
             0.6666666666666666,
             "#ed7953"
            ],
            [
             0.7777777777777778,
             "#fb9f3a"
            ],
            [
             0.8888888888888888,
             "#fdca26"
            ],
            [
             1,
             "#f0f921"
            ]
           ],
           "sequentialminus": [
            [
             0,
             "#0d0887"
            ],
            [
             0.1111111111111111,
             "#46039f"
            ],
            [
             0.2222222222222222,
             "#7201a8"
            ],
            [
             0.3333333333333333,
             "#9c179e"
            ],
            [
             0.4444444444444444,
             "#bd3786"
            ],
            [
             0.5555555555555556,
             "#d8576b"
            ],
            [
             0.6666666666666666,
             "#ed7953"
            ],
            [
             0.7777777777777778,
             "#fb9f3a"
            ],
            [
             0.8888888888888888,
             "#fdca26"
            ],
            [
             1,
             "#f0f921"
            ]
           ]
          },
          "colorway": [
           "#636efa",
           "#EF553B",
           "#00cc96",
           "#ab63fa",
           "#FFA15A",
           "#19d3f3",
           "#FF6692",
           "#B6E880",
           "#FF97FF",
           "#FECB52"
          ],
          "font": {
           "color": "#2a3f5f"
          },
          "geo": {
           "bgcolor": "white",
           "lakecolor": "white",
           "landcolor": "#E5ECF6",
           "showlakes": true,
           "showland": true,
           "subunitcolor": "white"
          },
          "hoverlabel": {
           "align": "left"
          },
          "hovermode": "closest",
          "mapbox": {
           "style": "light"
          },
          "paper_bgcolor": "white",
          "plot_bgcolor": "#E5ECF6",
          "polar": {
           "angularaxis": {
            "gridcolor": "white",
            "linecolor": "white",
            "ticks": ""
           },
           "bgcolor": "#E5ECF6",
           "radialaxis": {
            "gridcolor": "white",
            "linecolor": "white",
            "ticks": ""
           }
          },
          "scene": {
           "xaxis": {
            "backgroundcolor": "#E5ECF6",
            "gridcolor": "white",
            "gridwidth": 2,
            "linecolor": "white",
            "showbackground": true,
            "ticks": "",
            "zerolinecolor": "white"
           },
           "yaxis": {
            "backgroundcolor": "#E5ECF6",
            "gridcolor": "white",
            "gridwidth": 2,
            "linecolor": "white",
            "showbackground": true,
            "ticks": "",
            "zerolinecolor": "white"
           },
           "zaxis": {
            "backgroundcolor": "#E5ECF6",
            "gridcolor": "white",
            "gridwidth": 2,
            "linecolor": "white",
            "showbackground": true,
            "ticks": "",
            "zerolinecolor": "white"
           }
          },
          "shapedefaults": {
           "line": {
            "color": "#2a3f5f"
           }
          },
          "ternary": {
           "aaxis": {
            "gridcolor": "white",
            "linecolor": "white",
            "ticks": ""
           },
           "baxis": {
            "gridcolor": "white",
            "linecolor": "white",
            "ticks": ""
           },
           "bgcolor": "#E5ECF6",
           "caxis": {
            "gridcolor": "white",
            "linecolor": "white",
            "ticks": ""
           }
          },
          "title": {
           "x": 0.05
          },
          "xaxis": {
           "automargin": true,
           "gridcolor": "white",
           "linecolor": "white",
           "ticks": "",
           "title": {
            "standoff": 15
           },
           "zerolinecolor": "white",
           "zerolinewidth": 2
          },
          "yaxis": {
           "automargin": true,
           "gridcolor": "white",
           "linecolor": "white",
           "ticks": "",
           "title": {
            "standoff": 15
           },
           "zerolinecolor": "white",
           "zerolinewidth": 2
          }
         }
        },
        "title": {
         "text": "Visualization on the optimal scanning position and direction"
        },
        "width": 1200
       }
      }
     },
     "metadata": {},
     "output_type": "display_data"
    }
   ],
   "source": [
    "optimal_location = [-19.598, -15.4285, 2.4928] \n",
    "optimal_direction = [-1, 0, 0]\n",
    "visualize_scanning(defect_id, robot_id, optimal_location, optimal_direction)\n"
   ]
  }
 ],
 "metadata": {
  "kernelspec": {
   "display_name": "Python 3",
   "language": "python",
   "name": "python3"
  },
  "language_info": {
   "codemirror_mode": {
    "name": "ipython",
    "version": 3
   },
   "file_extension": ".py",
   "mimetype": "text/x-python",
   "name": "python",
   "nbconvert_exporter": "python",
   "pygments_lexer": "ipython3",
   "version": "3.9.20"
  }
 },
 "nbformat": 4,
 "nbformat_minor": 5
}
