{
 "cells": [
  {
   "cell_type": "code",
   "execution_count": 2,
   "metadata": {},
   "outputs": [],
   "source": [
    "from planner.planner_scanning_o1 import get_scanning_plan_o1\n",
    "from visualizer.vis_scanning_withComp import visualize_scanning\n",
    "from data.robots2 import robots_withConfig"
   ]
  },
  {
   "cell_type": "code",
   "execution_count": 2,
   "metadata": {},
   "outputs": [
    {
     "name": "stdout",
     "output_type": "stream",
     "text": [
      "To find the optimal camera location and direction for scanning the defect object in the provided space, we need to consider several factors:\n",
      "\n",
      "1. **Defect Location and Size:**\n",
      "   - The defect is located on the wall with coordinates `[-10.0585, -77.4786, 1.85]` with a size of `[0.0, 9.96, 3.7]`. This suggests the defect extends vertically from the given location.\n",
      "\n",
      "2. **Associate Spaces and Nodes:**\n",
      "   - The main associated space has a location center at `[-5.15925, -77.4786, 7.85]` and size `[9.799, 9.96, 3.7]`.\n",
      "   - In this space, the wall with the defect also has a door `[-10.6715, -77.4786, 1.0425]` that might obstruct part of the view if not considered properly.\n",
      "\n",
      "3. **FOV Consideration:**\n",
      "   - With a 60-degree FOV, the camera should be positioned such that the entire defect area falls within this field of view.\n",
      "   - Elevation should consider the height of the defect, ensuring coverage from the bottom to the top.\n",
      "\n",
      "4. **Optimal Positioning Strategy:**\n",
      "   - Ideally, the camera should be placed perpendicular to the defect-covered wall while maintaining a reasonable distance far enough to cover the whole wall and close enough to ensure detail capture.\n",
      "   - The camera can be placed at the opposite side of the room facing the wall `[-10.0585, -77.4786, 1.85]`, along the y-axis center + any necessary z-axis elevation to capture the full height of the defect.\n",
      "\n",
      "5. **Optimal Direction:**\n",
      "   - Direct the camera to face directly toward the defect's center to capture the entire defect.\n",
      "\n",
      "Given the above considerations, here is the JSON format output for the optimal camera location and direction:\n",
      "\n",
      "```json\n",
      "{\n",
      "    \"optimal_location\": [-5.15925, -77.4786, 1.85],\n",
      "    \"optimal_direction\": [-1, 0, 0]\n",
      "}\n",
      "```\n",
      "\n",
      "### Explanation:\n",
      "- The optimal location is centrally aligned along the y-axis of the defect and positioned across from the wall to maximize the FOV coverage, while the z-coordinate matches the defect's center height, assuming a horizontal alignment for wide coverage.\n",
      "- The optimal direction is straight along the x-axis towards the defect (negative x) since the defect is positioned along the axis perpendicular to this direction.\n",
      "{'defect_node': {'id': 1072, 'type': 'wall', 'components': [5059], 'location': [-10.0585, -77.4786, 1.85], 'size': [0.0, 9.96, 3.7]}, 'associated_spaces': [{'id': 39, 'surfaces': [1040, 1072, 1082, 1118, 2046, 3047], 'location': [-5.15925, -77.4786, 7.85], 'size': [9.799, 9.96, 3.7]}], 'associated_nodes': [{'id': 5059, 'type': 'door', 'location': [-10.6715, -77.4786, 1.0425], 'size': [0.174, 1.4, 2.085]}, {'id': 1040, 'type': 'wall', 'components': [4019, 4036], 'location': [-0.26, -77.4786, 1.85], 'size': [0.0, 9.96, 3.7]}, {'id': 4019, 'type': 'window', 'location': [0.1425959833643427, -74.4286, 1.842865393455182], 'size': [0.8078628612203475, 1.5, 2.057739326605575]}, {'id': 4036, 'type': 'window', 'location': [0.1425959833643427, -80.5286, 1.842865393455182], 'size': [0.8078628612203475, 1.5, 2.057739326605575]}, {'id': 1082, 'type': 'wall', 'components': [], 'location': [-5.15925, -82.4586, 1.85], 'size': [9.799, 0.0, 3.7]}, {'id': 1118, 'type': 'wall', 'components': [], 'location': [-5.15925, -72.4986, 1.85], 'size': [9.799, 0.0, 3.7]}, {'id': 2046, 'type': 'ceiling', 'components': [], 'location': [-5.15925, -77.4786, 3.7], 'size': [9.799, 9.96, 0.0]}, {'id': 3047, 'type': 'floor', 'components': [], 'location': [-5.15925, -77.4786, 0.0], 'size': [9.799, 9.96, 0.0]}]}\n",
      "60\n"
     ]
    },
    {
     "data": {
      "application/vnd.plotly.v1+json": {
       "config": {
        "plotlyServerURL": "https://plot.ly"
       },
       "data": [
        {
         "color": "lightgreen",
         "flatshading": true,
         "hoverinfo": "text",
         "i": [
          0,
          0,
          4,
          4,
          0,
          0,
          1,
          1,
          2,
          2,
          3,
          3
         ],
         "j": [
          1,
          2,
          5,
          6,
          1,
          5,
          2,
          6,
          3,
          7,
          0,
          4
         ],
         "k": [
          2,
          3,
          6,
          7,
          5,
          4,
          6,
          5,
          7,
          6,
          4,
          7
         ],
         "opacity": 0.5,
         "text": "ID: 5059, Type: door",
         "type": "mesh3d",
         "x": [
          -10.7585,
          -10.5845,
          -10.5845,
          -10.7585,
          -10.7585,
          -10.5845,
          -10.5845,
          -10.7585
         ],
         "y": [
          -78.1786,
          -78.1786,
          -76.7786,
          -76.7786,
          -78.1786,
          -78.1786,
          -76.7786,
          -76.7786
         ],
         "z": [
          0,
          0,
          0,
          0,
          2.085,
          2.085,
          2.085,
          2.085
         ]
        },
        {
         "color": "lightblue",
         "flatshading": true,
         "hoverinfo": "text",
         "i": [
          0,
          0,
          4,
          4,
          0,
          0,
          1,
          1,
          2,
          2,
          3,
          3
         ],
         "j": [
          1,
          2,
          5,
          6,
          1,
          5,
          2,
          6,
          3,
          7,
          0,
          4
         ],
         "k": [
          2,
          3,
          6,
          7,
          5,
          4,
          6,
          5,
          7,
          6,
          4,
          7
         ],
         "opacity": 0.5,
         "text": "ID: 1040, Type: wall",
         "type": "mesh3d",
         "x": [
          -0.31,
          -0.21000000000000002,
          -0.21000000000000002,
          -0.31,
          -0.31,
          -0.21000000000000002,
          -0.21000000000000002,
          -0.31
         ],
         "y": [
          -82.4586,
          -82.4586,
          -72.4986,
          -72.4986,
          -82.4586,
          -82.4586,
          -72.4986,
          -72.4986
         ],
         "z": [
          0,
          0,
          0,
          0,
          3.7,
          3.7,
          3.7,
          3.7
         ]
        },
        {
         "color": "lightgreen",
         "flatshading": true,
         "hoverinfo": "text",
         "i": [
          0,
          0,
          4,
          4,
          0,
          0,
          1,
          1,
          2,
          2,
          3,
          3
         ],
         "j": [
          1,
          2,
          5,
          6,
          1,
          5,
          2,
          6,
          3,
          7,
          0,
          4
         ],
         "k": [
          2,
          3,
          6,
          7,
          5,
          4,
          6,
          5,
          7,
          6,
          4,
          7
         ],
         "opacity": 0.5,
         "text": "ID: 4019, Type: window",
         "type": "mesh3d",
         "x": [
          -0.261335447245831,
          0.5465274139745164,
          0.5465274139745164,
          -0.261335447245831,
          -0.261335447245831,
          0.5465274139745164,
          0.5465274139745164,
          -0.261335447245831
         ],
         "y": [
          -75.1786,
          -75.1786,
          -73.6786,
          -73.6786,
          -75.1786,
          -75.1786,
          -73.6786,
          -73.6786
         ],
         "z": [
          0.8139957301523946,
          0.8139957301523946,
          0.8139957301523946,
          0.8139957301523946,
          2.871735056757969,
          2.871735056757969,
          2.871735056757969,
          2.871735056757969
         ]
        },
        {
         "color": "lightgreen",
         "flatshading": true,
         "hoverinfo": "text",
         "i": [
          0,
          0,
          4,
          4,
          0,
          0,
          1,
          1,
          2,
          2,
          3,
          3
         ],
         "j": [
          1,
          2,
          5,
          6,
          1,
          5,
          2,
          6,
          3,
          7,
          0,
          4
         ],
         "k": [
          2,
          3,
          6,
          7,
          5,
          4,
          6,
          5,
          7,
          6,
          4,
          7
         ],
         "opacity": 0.5,
         "text": "ID: 4036, Type: window",
         "type": "mesh3d",
         "x": [
          -0.261335447245831,
          0.5465274139745164,
          0.5465274139745164,
          -0.261335447245831,
          -0.261335447245831,
          0.5465274139745164,
          0.5465274139745164,
          -0.261335447245831
         ],
         "y": [
          -81.2786,
          -81.2786,
          -79.7786,
          -79.7786,
          -81.2786,
          -81.2786,
          -79.7786,
          -79.7786
         ],
         "z": [
          0.8139957301523946,
          0.8139957301523946,
          0.8139957301523946,
          0.8139957301523946,
          2.871735056757969,
          2.871735056757969,
          2.871735056757969,
          2.871735056757969
         ]
        },
        {
         "color": "lightblue",
         "flatshading": true,
         "hoverinfo": "text",
         "i": [
          0,
          0,
          4,
          4,
          0,
          0,
          1,
          1,
          2,
          2,
          3,
          3
         ],
         "j": [
          1,
          2,
          5,
          6,
          1,
          5,
          2,
          6,
          3,
          7,
          0,
          4
         ],
         "k": [
          2,
          3,
          6,
          7,
          5,
          4,
          6,
          5,
          7,
          6,
          4,
          7
         ],
         "opacity": 0.5,
         "text": "ID: 1082, Type: wall",
         "type": "mesh3d",
         "x": [
          -10.05875,
          -0.25975000000000037,
          -0.25975000000000037,
          -10.05875,
          -10.05875,
          -0.25975000000000037,
          -0.25975000000000037,
          -10.05875
         ],
         "y": [
          -82.5086,
          -82.5086,
          -82.4086,
          -82.4086,
          -82.5086,
          -82.5086,
          -82.4086,
          -82.4086
         ],
         "z": [
          0,
          0,
          0,
          0,
          3.7,
          3.7,
          3.7,
          3.7
         ]
        },
        {
         "color": "lightblue",
         "flatshading": true,
         "hoverinfo": "text",
         "i": [
          0,
          0,
          4,
          4,
          0,
          0,
          1,
          1,
          2,
          2,
          3,
          3
         ],
         "j": [
          1,
          2,
          5,
          6,
          1,
          5,
          2,
          6,
          3,
          7,
          0,
          4
         ],
         "k": [
          2,
          3,
          6,
          7,
          5,
          4,
          6,
          5,
          7,
          6,
          4,
          7
         ],
         "opacity": 0.5,
         "text": "ID: 1118, Type: wall",
         "type": "mesh3d",
         "x": [
          -10.05875,
          -0.25975000000000037,
          -0.25975000000000037,
          -10.05875,
          -10.05875,
          -0.25975000000000037,
          -0.25975000000000037,
          -10.05875
         ],
         "y": [
          -72.5486,
          -72.5486,
          -72.4486,
          -72.4486,
          -72.5486,
          -72.5486,
          -72.4486,
          -72.4486
         ],
         "z": [
          0,
          0,
          0,
          0,
          3.7,
          3.7,
          3.7,
          3.7
         ]
        },
        {
         "color": "lightblue",
         "flatshading": true,
         "hoverinfo": "text",
         "i": [
          0,
          0,
          4,
          4,
          0,
          0,
          1,
          1,
          2,
          2,
          3,
          3
         ],
         "j": [
          1,
          2,
          5,
          6,
          1,
          5,
          2,
          6,
          3,
          7,
          0,
          4
         ],
         "k": [
          2,
          3,
          6,
          7,
          5,
          4,
          6,
          5,
          7,
          6,
          4,
          7
         ],
         "opacity": 0.5,
         "text": "ID: 2046, Type: ceiling",
         "type": "mesh3d",
         "x": [
          -10.05875,
          -0.25975000000000037,
          -0.25975000000000037,
          -10.05875,
          -10.05875,
          -0.25975000000000037,
          -0.25975000000000037,
          -10.05875
         ],
         "y": [
          -82.4586,
          -82.4586,
          -72.4986,
          -72.4986,
          -82.4586,
          -82.4586,
          -72.4986,
          -72.4986
         ],
         "z": [
          3.6500000000000004,
          3.6500000000000004,
          3.6500000000000004,
          3.6500000000000004,
          3.75,
          3.75,
          3.75,
          3.75
         ]
        },
        {
         "color": "lightblue",
         "flatshading": true,
         "hoverinfo": "text",
         "i": [
          0,
          0,
          4,
          4,
          0,
          0,
          1,
          1,
          2,
          2,
          3,
          3
         ],
         "j": [
          1,
          2,
          5,
          6,
          1,
          5,
          2,
          6,
          3,
          7,
          0,
          4
         ],
         "k": [
          2,
          3,
          6,
          7,
          5,
          4,
          6,
          5,
          7,
          6,
          4,
          7
         ],
         "opacity": 0.5,
         "text": "ID: 3047, Type: floor",
         "type": "mesh3d",
         "x": [
          -10.05875,
          -0.25975000000000037,
          -0.25975000000000037,
          -10.05875,
          -10.05875,
          -0.25975000000000037,
          -0.25975000000000037,
          -10.05875
         ],
         "y": [
          -82.4586,
          -82.4586,
          -72.4986,
          -72.4986,
          -82.4586,
          -82.4586,
          -72.4986,
          -72.4986
         ],
         "z": [
          -0.05,
          -0.05,
          -0.05,
          -0.05,
          0.05,
          0.05,
          0.05,
          0.05
         ]
        },
        {
         "marker": {
          "color": "black",
          "size": 10
         },
         "mode": "markers",
         "name": "Camera Position",
         "type": "scatter3d",
         "x": [
          -5.15925
         ],
         "y": [
          -77.4786
         ],
         "z": [
          1.85
         ]
        },
        {
         "marker": {
          "color": "purple",
          "size": 10
         },
         "mode": "markers",
         "name": "Target Position",
         "type": "scatter3d",
         "x": [
          -10.0585
         ],
         "y": [
          -77.4786
         ],
         "z": [
          1.85
         ]
        },
        {
         "color": "yellow",
         "i": [
          0,
          0,
          0,
          0,
          0,
          0,
          0,
          0,
          0,
          0,
          0,
          0,
          0,
          0,
          0,
          0,
          0,
          0,
          0,
          0
         ],
         "j": [
          1,
          2,
          3,
          4,
          5,
          6,
          7,
          8,
          9,
          10,
          11,
          12,
          13,
          14,
          15,
          16,
          17,
          18,
          19,
          20
         ],
         "k": [
          2,
          3,
          4,
          5,
          6,
          7,
          8,
          9,
          10,
          11,
          12,
          13,
          14,
          15,
          16,
          17,
          18,
          19,
          20,
          1
         ],
         "name": "Field of View",
         "opacity": 0.2,
         "type": "mesh3d",
         "x": [
          -5.15925,
          -10.0585,
          -10.0585,
          -10.0585,
          -10.0585,
          -10.0585,
          -10.0585,
          -10.0585,
          -10.0585,
          -10.0585,
          -10.0585,
          -10.0585,
          -10.0585,
          -10.0585,
          -10.0585,
          -10.0585,
          -10.0585,
          -10.0585,
          -10.0585,
          -10.0585,
          -10.0585
         ],
         "y": [
          -77.4786,
          -80.30718330632727,
          -80.15392286071092,
          -79.71074967122524,
          -79.02568842949155,
          -78.17297615087209,
          -77.24501744194953,
          -76.34237102759856,
          -75.56285265281633,
          -74.9909352289843,
          -74.68859488318785,
          -74.68859488318785,
          -74.9909352289843,
          -75.56285265281633,
          -76.34237102759856,
          -77.24501744194953,
          -78.17297615087209,
          -79.02568842949155,
          -79.71074967122524,
          -80.15392286071092,
          -80.30718330632727
         ],
         "z": [
          1.85,
          1.85,
          0.9315605018343058,
          0.1126481743520158,
          -0.5179951250301822,
          -0.8920294093852092,
          -0.9689222602632954,
          -0.7403411441562886,
          -0.2310563717958387,
          0.5037431493653479,
          1.3844304896201385,
          2.315569510379861,
          3.1962568506346516,
          3.931056371795837,
          4.440341144156289,
          4.668922260263296,
          4.592029409385209,
          4.217995125030184,
          3.587351825647985,
          2.7684394981656952,
          1.8500000000000008
         ]
        }
       ],
       "layout": {
        "height": 800,
        "scene": {
         "aspectmode": "data",
         "aspectratio": {
          "x": 1,
          "y": 1,
          "z": 1
         },
         "xaxis": {
          "title": {
           "text": "X"
          },
          "visible": true
         },
         "yaxis": {
          "title": {
           "text": "Y"
          },
          "visible": true
         },
         "zaxis": {
          "title": {
           "text": "Z"
          },
          "visible": true
         }
        },
        "template": {
         "data": {
          "bar": [
           {
            "error_x": {
             "color": "#2a3f5f"
            },
            "error_y": {
             "color": "#2a3f5f"
            },
            "marker": {
             "line": {
              "color": "#E5ECF6",
              "width": 0.5
             },
             "pattern": {
              "fillmode": "overlay",
              "size": 10,
              "solidity": 0.2
             }
            },
            "type": "bar"
           }
          ],
          "barpolar": [
           {
            "marker": {
             "line": {
              "color": "#E5ECF6",
              "width": 0.5
             },
             "pattern": {
              "fillmode": "overlay",
              "size": 10,
              "solidity": 0.2
             }
            },
            "type": "barpolar"
           }
          ],
          "carpet": [
           {
            "aaxis": {
             "endlinecolor": "#2a3f5f",
             "gridcolor": "white",
             "linecolor": "white",
             "minorgridcolor": "white",
             "startlinecolor": "#2a3f5f"
            },
            "baxis": {
             "endlinecolor": "#2a3f5f",
             "gridcolor": "white",
             "linecolor": "white",
             "minorgridcolor": "white",
             "startlinecolor": "#2a3f5f"
            },
            "type": "carpet"
           }
          ],
          "choropleth": [
           {
            "colorbar": {
             "outlinewidth": 0,
             "ticks": ""
            },
            "type": "choropleth"
           }
          ],
          "contour": [
           {
            "colorbar": {
             "outlinewidth": 0,
             "ticks": ""
            },
            "colorscale": [
             [
              0,
              "#0d0887"
             ],
             [
              0.1111111111111111,
              "#46039f"
             ],
             [
              0.2222222222222222,
              "#7201a8"
             ],
             [
              0.3333333333333333,
              "#9c179e"
             ],
             [
              0.4444444444444444,
              "#bd3786"
             ],
             [
              0.5555555555555556,
              "#d8576b"
             ],
             [
              0.6666666666666666,
              "#ed7953"
             ],
             [
              0.7777777777777778,
              "#fb9f3a"
             ],
             [
              0.8888888888888888,
              "#fdca26"
             ],
             [
              1,
              "#f0f921"
             ]
            ],
            "type": "contour"
           }
          ],
          "contourcarpet": [
           {
            "colorbar": {
             "outlinewidth": 0,
             "ticks": ""
            },
            "type": "contourcarpet"
           }
          ],
          "heatmap": [
           {
            "colorbar": {
             "outlinewidth": 0,
             "ticks": ""
            },
            "colorscale": [
             [
              0,
              "#0d0887"
             ],
             [
              0.1111111111111111,
              "#46039f"
             ],
             [
              0.2222222222222222,
              "#7201a8"
             ],
             [
              0.3333333333333333,
              "#9c179e"
             ],
             [
              0.4444444444444444,
              "#bd3786"
             ],
             [
              0.5555555555555556,
              "#d8576b"
             ],
             [
              0.6666666666666666,
              "#ed7953"
             ],
             [
              0.7777777777777778,
              "#fb9f3a"
             ],
             [
              0.8888888888888888,
              "#fdca26"
             ],
             [
              1,
              "#f0f921"
             ]
            ],
            "type": "heatmap"
           }
          ],
          "heatmapgl": [
           {
            "colorbar": {
             "outlinewidth": 0,
             "ticks": ""
            },
            "colorscale": [
             [
              0,
              "#0d0887"
             ],
             [
              0.1111111111111111,
              "#46039f"
             ],
             [
              0.2222222222222222,
              "#7201a8"
             ],
             [
              0.3333333333333333,
              "#9c179e"
             ],
             [
              0.4444444444444444,
              "#bd3786"
             ],
             [
              0.5555555555555556,
              "#d8576b"
             ],
             [
              0.6666666666666666,
              "#ed7953"
             ],
             [
              0.7777777777777778,
              "#fb9f3a"
             ],
             [
              0.8888888888888888,
              "#fdca26"
             ],
             [
              1,
              "#f0f921"
             ]
            ],
            "type": "heatmapgl"
           }
          ],
          "histogram": [
           {
            "marker": {
             "pattern": {
              "fillmode": "overlay",
              "size": 10,
              "solidity": 0.2
             }
            },
            "type": "histogram"
           }
          ],
          "histogram2d": [
           {
            "colorbar": {
             "outlinewidth": 0,
             "ticks": ""
            },
            "colorscale": [
             [
              0,
              "#0d0887"
             ],
             [
              0.1111111111111111,
              "#46039f"
             ],
             [
              0.2222222222222222,
              "#7201a8"
             ],
             [
              0.3333333333333333,
              "#9c179e"
             ],
             [
              0.4444444444444444,
              "#bd3786"
             ],
             [
              0.5555555555555556,
              "#d8576b"
             ],
             [
              0.6666666666666666,
              "#ed7953"
             ],
             [
              0.7777777777777778,
              "#fb9f3a"
             ],
             [
              0.8888888888888888,
              "#fdca26"
             ],
             [
              1,
              "#f0f921"
             ]
            ],
            "type": "histogram2d"
           }
          ],
          "histogram2dcontour": [
           {
            "colorbar": {
             "outlinewidth": 0,
             "ticks": ""
            },
            "colorscale": [
             [
              0,
              "#0d0887"
             ],
             [
              0.1111111111111111,
              "#46039f"
             ],
             [
              0.2222222222222222,
              "#7201a8"
             ],
             [
              0.3333333333333333,
              "#9c179e"
             ],
             [
              0.4444444444444444,
              "#bd3786"
             ],
             [
              0.5555555555555556,
              "#d8576b"
             ],
             [
              0.6666666666666666,
              "#ed7953"
             ],
             [
              0.7777777777777778,
              "#fb9f3a"
             ],
             [
              0.8888888888888888,
              "#fdca26"
             ],
             [
              1,
              "#f0f921"
             ]
            ],
            "type": "histogram2dcontour"
           }
          ],
          "mesh3d": [
           {
            "colorbar": {
             "outlinewidth": 0,
             "ticks": ""
            },
            "type": "mesh3d"
           }
          ],
          "parcoords": [
           {
            "line": {
             "colorbar": {
              "outlinewidth": 0,
              "ticks": ""
             }
            },
            "type": "parcoords"
           }
          ],
          "pie": [
           {
            "automargin": true,
            "type": "pie"
           }
          ],
          "scatter": [
           {
            "fillpattern": {
             "fillmode": "overlay",
             "size": 10,
             "solidity": 0.2
            },
            "type": "scatter"
           }
          ],
          "scatter3d": [
           {
            "line": {
             "colorbar": {
              "outlinewidth": 0,
              "ticks": ""
             }
            },
            "marker": {
             "colorbar": {
              "outlinewidth": 0,
              "ticks": ""
             }
            },
            "type": "scatter3d"
           }
          ],
          "scattercarpet": [
           {
            "marker": {
             "colorbar": {
              "outlinewidth": 0,
              "ticks": ""
             }
            },
            "type": "scattercarpet"
           }
          ],
          "scattergeo": [
           {
            "marker": {
             "colorbar": {
              "outlinewidth": 0,
              "ticks": ""
             }
            },
            "type": "scattergeo"
           }
          ],
          "scattergl": [
           {
            "marker": {
             "colorbar": {
              "outlinewidth": 0,
              "ticks": ""
             }
            },
            "type": "scattergl"
           }
          ],
          "scattermapbox": [
           {
            "marker": {
             "colorbar": {
              "outlinewidth": 0,
              "ticks": ""
             }
            },
            "type": "scattermapbox"
           }
          ],
          "scatterpolar": [
           {
            "marker": {
             "colorbar": {
              "outlinewidth": 0,
              "ticks": ""
             }
            },
            "type": "scatterpolar"
           }
          ],
          "scatterpolargl": [
           {
            "marker": {
             "colorbar": {
              "outlinewidth": 0,
              "ticks": ""
             }
            },
            "type": "scatterpolargl"
           }
          ],
          "scatterternary": [
           {
            "marker": {
             "colorbar": {
              "outlinewidth": 0,
              "ticks": ""
             }
            },
            "type": "scatterternary"
           }
          ],
          "surface": [
           {
            "colorbar": {
             "outlinewidth": 0,
             "ticks": ""
            },
            "colorscale": [
             [
              0,
              "#0d0887"
             ],
             [
              0.1111111111111111,
              "#46039f"
             ],
             [
              0.2222222222222222,
              "#7201a8"
             ],
             [
              0.3333333333333333,
              "#9c179e"
             ],
             [
              0.4444444444444444,
              "#bd3786"
             ],
             [
              0.5555555555555556,
              "#d8576b"
             ],
             [
              0.6666666666666666,
              "#ed7953"
             ],
             [
              0.7777777777777778,
              "#fb9f3a"
             ],
             [
              0.8888888888888888,
              "#fdca26"
             ],
             [
              1,
              "#f0f921"
             ]
            ],
            "type": "surface"
           }
          ],
          "table": [
           {
            "cells": {
             "fill": {
              "color": "#EBF0F8"
             },
             "line": {
              "color": "white"
             }
            },
            "header": {
             "fill": {
              "color": "#C8D4E3"
             },
             "line": {
              "color": "white"
             }
            },
            "type": "table"
           }
          ]
         },
         "layout": {
          "annotationdefaults": {
           "arrowcolor": "#2a3f5f",
           "arrowhead": 0,
           "arrowwidth": 1
          },
          "autotypenumbers": "strict",
          "coloraxis": {
           "colorbar": {
            "outlinewidth": 0,
            "ticks": ""
           }
          },
          "colorscale": {
           "diverging": [
            [
             0,
             "#8e0152"
            ],
            [
             0.1,
             "#c51b7d"
            ],
            [
             0.2,
             "#de77ae"
            ],
            [
             0.3,
             "#f1b6da"
            ],
            [
             0.4,
             "#fde0ef"
            ],
            [
             0.5,
             "#f7f7f7"
            ],
            [
             0.6,
             "#e6f5d0"
            ],
            [
             0.7,
             "#b8e186"
            ],
            [
             0.8,
             "#7fbc41"
            ],
            [
             0.9,
             "#4d9221"
            ],
            [
             1,
             "#276419"
            ]
           ],
           "sequential": [
            [
             0,
             "#0d0887"
            ],
            [
             0.1111111111111111,
             "#46039f"
            ],
            [
             0.2222222222222222,
             "#7201a8"
            ],
            [
             0.3333333333333333,
             "#9c179e"
            ],
            [
             0.4444444444444444,
             "#bd3786"
            ],
            [
             0.5555555555555556,
             "#d8576b"
            ],
            [
             0.6666666666666666,
             "#ed7953"
            ],
            [
             0.7777777777777778,
             "#fb9f3a"
            ],
            [
             0.8888888888888888,
             "#fdca26"
            ],
            [
             1,
             "#f0f921"
            ]
           ],
           "sequentialminus": [
            [
             0,
             "#0d0887"
            ],
            [
             0.1111111111111111,
             "#46039f"
            ],
            [
             0.2222222222222222,
             "#7201a8"
            ],
            [
             0.3333333333333333,
             "#9c179e"
            ],
            [
             0.4444444444444444,
             "#bd3786"
            ],
            [
             0.5555555555555556,
             "#d8576b"
            ],
            [
             0.6666666666666666,
             "#ed7953"
            ],
            [
             0.7777777777777778,
             "#fb9f3a"
            ],
            [
             0.8888888888888888,
             "#fdca26"
            ],
            [
             1,
             "#f0f921"
            ]
           ]
          },
          "colorway": [
           "#636efa",
           "#EF553B",
           "#00cc96",
           "#ab63fa",
           "#FFA15A",
           "#19d3f3",
           "#FF6692",
           "#B6E880",
           "#FF97FF",
           "#FECB52"
          ],
          "font": {
           "color": "#2a3f5f"
          },
          "geo": {
           "bgcolor": "white",
           "lakecolor": "white",
           "landcolor": "#E5ECF6",
           "showlakes": true,
           "showland": true,
           "subunitcolor": "white"
          },
          "hoverlabel": {
           "align": "left"
          },
          "hovermode": "closest",
          "mapbox": {
           "style": "light"
          },
          "paper_bgcolor": "white",
          "plot_bgcolor": "#E5ECF6",
          "polar": {
           "angularaxis": {
            "gridcolor": "white",
            "linecolor": "white",
            "ticks": ""
           },
           "bgcolor": "#E5ECF6",
           "radialaxis": {
            "gridcolor": "white",
            "linecolor": "white",
            "ticks": ""
           }
          },
          "scene": {
           "xaxis": {
            "backgroundcolor": "#E5ECF6",
            "gridcolor": "white",
            "gridwidth": 2,
            "linecolor": "white",
            "showbackground": true,
            "ticks": "",
            "zerolinecolor": "white"
           },
           "yaxis": {
            "backgroundcolor": "#E5ECF6",
            "gridcolor": "white",
            "gridwidth": 2,
            "linecolor": "white",
            "showbackground": true,
            "ticks": "",
            "zerolinecolor": "white"
           },
           "zaxis": {
            "backgroundcolor": "#E5ECF6",
            "gridcolor": "white",
            "gridwidth": 2,
            "linecolor": "white",
            "showbackground": true,
            "ticks": "",
            "zerolinecolor": "white"
           }
          },
          "shapedefaults": {
           "line": {
            "color": "#2a3f5f"
           }
          },
          "ternary": {
           "aaxis": {
            "gridcolor": "white",
            "linecolor": "white",
            "ticks": ""
           },
           "baxis": {
            "gridcolor": "white",
            "linecolor": "white",
            "ticks": ""
           },
           "bgcolor": "#E5ECF6",
           "caxis": {
            "gridcolor": "white",
            "linecolor": "white",
            "ticks": ""
           }
          },
          "title": {
           "x": 0.05
          },
          "xaxis": {
           "automargin": true,
           "gridcolor": "white",
           "linecolor": "white",
           "ticks": "",
           "title": {
            "standoff": 15
           },
           "zerolinecolor": "white",
           "zerolinewidth": 2
          },
          "yaxis": {
           "automargin": true,
           "gridcolor": "white",
           "linecolor": "white",
           "ticks": "",
           "title": {
            "standoff": 15
           },
           "zerolinecolor": "white",
           "zerolinewidth": 2
          }
         }
        },
        "title": {
         "text": "Visualization on the optimal scanning position and direction"
        },
        "width": 1200
       }
      }
     },
     "metadata": {},
     "output_type": "display_data"
    }
   ],
   "source": [
    "# the room id: 39\n",
    "# the first wall (left) of the room\n",
    "defect_id = 1072\n",
    "robot_id = 1\n",
    "\n",
    "optimal_location, optimal_direction = get_scanning_plan_o1(defect_id, robot_id, gpt_model=\"gpt-4o\")\n",
    "visualize_scanning(defect_id, robot_id, optimal_location, optimal_direction)"
   ]
  },
  {
   "cell_type": "code",
   "execution_count": 3,
   "metadata": {},
   "outputs": [
    {
     "name": "stdout",
     "output_type": "stream",
     "text": [
      "To determine the optimal camera location and direction for scanning the defect (a door with ID 5059) within the environment described, we follow these steps:\n",
      "\n",
      "1. **Identify the Defect's Room:** The defect (door 5059) is located at `[-10.6715, -77.4786, 1.0425]`. This position is associated with two spaces, but the coordinates match closely with the second associated space (space ID 39) based on its location `[-5.15925, -77.4786, 7.85]` and its dimensions `[9.799, 9.96, 3.7]`.\n",
      "\n",
      "2. **Analyze the Room's Dimensions:**\n",
      "   - The room is roughly 9.799 meters in length, 9.96 meters in width, and has a height of 3.7 meters.\n",
      "\n",
      "3. **Determine the Optimal Camera Location:**\n",
      "   - The camera should be positioned such that it has a clear view of the defect door and captures its entire height of 2.085 meters.\n",
      "   - Position the camera at the center of the room, slightly elevated to ensure full visibility of the door's height.\n",
      "\n",
      "4. **Calculate Optimal Camera Direction:**\n",
      "   - Align the camera towards the defect door at `[-10.6715, -77.4786, 1.0425]`. \n",
      "   - Since the door is centered along the width and height, a straightforward direction vector pointing from the camera's position to the defect's position ensures optimal coverage.\n",
      "\n",
      "Using these considerations, here is the JSON output for the optimal camera location and direction:\n",
      "\n",
      "```json\n",
      "{\n",
      "    \"optimal_location\": [-7.5, -77.4786, 2.5],\n",
      "    \"optimal_direction\": [-1, 0, 0]\n",
      "}\n",
      "```\n",
      "\n",
      "**Explanation:**\n",
      "- **Location `[x: -7.5, y: -77.4786, z: 2.5]`:** This location centralizes the camera width-wise in the room and elevates it to a height of 2.5 meters, a balanced height within the room for capturing the door's full height.\n",
      "- **Direction `[x: -1, y: 0, z: 0]`:** The direction vector points towards the defect's x-position, offering a direct view of the door. Adjustments can be made within the field of view to ensure the full door is captured.\n",
      "\n",
      "This setup should allow the camera with a 60-degree field of view to capture the entire door effectively. Adjustments to the exact positioning might be necessary to avoid occlusions or depending on actual camera hardware specifications.\n",
      "{'defect_node': {'id': 5059, 'type': 'door', 'location': [-10.6715, -77.4786, 1.0425], 'size': [0.174, 1.4, 2.085]}, 'associated_spaces': [{'id': 41, 'surfaces': [1002, 1035, 3003, 2019, 1219, 1227], 'location': [-12.5285, -92.26595, 7.85], 'size': [3.66, 40.035, 3.7]}, {'id': 39, 'surfaces': [1040, 1072, 1082, 1118, 2046, 3047], 'location': [-5.15925, -77.4786, 7.85], 'size': [9.799, 9.96, 3.7]}], 'associated_nodes': [{'id': 1002, 'type': 'wall', 'components': [5068], 'location': [-12.5285, -72.2486, 1.85], 'size': [3.66, 0.0, 3.7]}, {'id': 5068, 'type': 'door', 'location': [-12.5285, -72.20859999999999, 1.25], 'size': [2.8, 0.2, 2.5]}, {'id': 1035, 'type': 'wall', 'components': [5054], 'location': [-12.5285, -112.2833, 1.85], 'size': [3.66, 0.0, 3.7]}, {'id': 5054, 'type': 'door', 'location': [-12.5285, -112.3233, 1.25], 'size': [2.8, 0.2, 2.5]}, {'id': 3003, 'type': 'floor', 'components': [5014, 5018, 5019, 5020, 5022, 5023, 5024, 5027, 5046, 5052, 5054, 5059, 5061, 5063, 5065, 5068], 'location': [-12.5285, -92.26595, 0.0], 'size': [3.66, 40.035, 0.0]}, {'id': 5014, 'type': 'door', 'location': [-14.6785, -108.5286, 1.013], 'size': [0.69, 1.252, 2.026]}, {'id': 5018, 'type': 'door', 'location': [-14.6785, -96.5286, 1.013], 'size': [0.69, 1.252, 2.026]}, {'id': 5019, 'type': 'door', 'location': [-14.6785, -100.5286, 1.013], 'size': [0.69, 1.252, 2.026]}, {'id': 5020, 'type': 'door', 'location': [-14.6785, -92.5286, 1.013], 'size': [0.69, 1.252, 2.026]}, {'id': 5022, 'type': 'door', 'location': [-14.6785, -84.52860000000001, 1.013], 'size': [0.69, 1.252, 2.026]}, {'id': 5023, 'type': 'door', 'location': [-14.6785, -81.5266, 1.105], 'size': [0.69, 1.016, 2.21]}, {'id': 5024, 'type': 'door', 'location': [-14.6785, -76.28059999999999, 1.105], 'size': [0.69, 1.016, 2.21]}, {'id': 5027, 'type': 'door', 'location': [-14.6785, -88.52860000000001, 1.013], 'size': [0.69, 1.252, 2.026]}, {'id': 5046, 'type': 'door', 'location': [-14.3855, -73.7286, 1.0425], 'size': [0.174, 1.4, 2.085]}, {'id': 5052, 'type': 'door', 'location': [-10.6715, -94.5286, 1.0425], 'size': [0.174, 1.4, 2.085]}, {'id': 5061, 'type': 'door', 'location': [-10.6715, -109.2686, 1.0425], 'size': [0.174, 1.4, 2.085]}, {'id': 5063, 'type': 'door', 'location': [-10.6715, -102.5286, 1.0425], 'size': [0.174, 1.4, 2.085]}, {'id': 5065, 'type': 'door', 'location': [-10.6715, -85.0624, 1.0425], 'size': [0.174, 1.4, 2.085]}, {'id': 2019, 'type': 'ceiling', 'components': [], 'location': [-12.5285, -92.26595, 3.7], 'size': [3.66, 40.035, 0.0]}, {'id': 1219, 'type': 'wall', 'components': [5014, 5018, 5019, 5020, 5022, 5023, 5024, 5027, 5046], 'location': [-14.3585, -92.26595, 1.85], 'size': [0.0, 40.035, 3.7]}, {'id': 1227, 'type': 'wall', 'components': [5052, 5059, 5061, 5063, 5065], 'location': [-10.6985, -92.26595, 1.85], 'size': [0.0, 40.035, 3.7]}, {'id': 1040, 'type': 'wall', 'components': [4019, 4036], 'location': [-0.26, -77.4786, 1.85], 'size': [0.0, 9.96, 3.7]}, {'id': 4019, 'type': 'window', 'location': [0.1425959833643427, -74.4286, 1.842865393455182], 'size': [0.8078628612203475, 1.5, 2.057739326605575]}, {'id': 4036, 'type': 'window', 'location': [0.1425959833643427, -80.5286, 1.842865393455182], 'size': [0.8078628612203475, 1.5, 2.057739326605575]}, {'id': 1072, 'type': 'wall', 'components': [5059], 'location': [-10.0585, -77.4786, 1.85], 'size': [0.0, 9.96, 3.7]}, {'id': 1082, 'type': 'wall', 'components': [], 'location': [-5.15925, -82.4586, 1.85], 'size': [9.799, 0.0, 3.7]}, {'id': 1118, 'type': 'wall', 'components': [], 'location': [-5.15925, -72.4986, 1.85], 'size': [9.799, 0.0, 3.7]}, {'id': 2046, 'type': 'ceiling', 'components': [], 'location': [-5.15925, -77.4786, 3.7], 'size': [9.799, 9.96, 0.0]}, {'id': 3047, 'type': 'floor', 'components': [], 'location': [-5.15925, -77.4786, 0.0], 'size': [9.799, 9.96, 0.0]}, {'id': 5059, 'type': 'door', 'location': [-10.6715, -77.4786, 1.0425], 'size': [0.174, 1.4, 2.085]}]}\n",
      "60\n"
     ]
    },
    {
     "data": {
      "application/vnd.plotly.v1+json": {
       "config": {
        "plotlyServerURL": "https://plot.ly"
       },
       "data": [
        {
         "color": "lightblue",
         "flatshading": true,
         "hoverinfo": "text",
         "i": [
          0,
          0,
          4,
          4,
          0,
          0,
          1,
          1,
          2,
          2,
          3,
          3
         ],
         "j": [
          1,
          2,
          5,
          6,
          1,
          5,
          2,
          6,
          3,
          7,
          0,
          4
         ],
         "k": [
          2,
          3,
          6,
          7,
          5,
          4,
          6,
          5,
          7,
          6,
          4,
          7
         ],
         "opacity": 0.5,
         "text": "ID: 1002, Type: wall",
         "type": "mesh3d",
         "x": [
          -14.3585,
          -10.6985,
          -10.6985,
          -14.3585,
          -14.3585,
          -10.6985,
          -10.6985,
          -14.3585
         ],
         "y": [
          -72.2986,
          -72.2986,
          -72.1986,
          -72.1986,
          -72.2986,
          -72.2986,
          -72.1986,
          -72.1986
         ],
         "z": [
          0,
          0,
          0,
          0,
          3.7,
          3.7,
          3.7,
          3.7
         ]
        },
        {
         "color": "lightgreen",
         "flatshading": true,
         "hoverinfo": "text",
         "i": [
          0,
          0,
          4,
          4,
          0,
          0,
          1,
          1,
          2,
          2,
          3,
          3
         ],
         "j": [
          1,
          2,
          5,
          6,
          1,
          5,
          2,
          6,
          3,
          7,
          0,
          4
         ],
         "k": [
          2,
          3,
          6,
          7,
          5,
          4,
          6,
          5,
          7,
          6,
          4,
          7
         ],
         "opacity": 0.5,
         "text": "ID: 5068, Type: door",
         "type": "mesh3d",
         "x": [
          -13.9285,
          -11.128499999999999,
          -11.128499999999999,
          -13.9285,
          -13.9285,
          -11.128499999999999,
          -11.128499999999999,
          -13.9285
         ],
         "y": [
          -72.30859999999998,
          -72.30859999999998,
          -72.1086,
          -72.1086,
          -72.30859999999998,
          -72.30859999999998,
          -72.1086,
          -72.1086
         ],
         "z": [
          0,
          0,
          0,
          0,
          2.5,
          2.5,
          2.5,
          2.5
         ]
        },
        {
         "color": "lightblue",
         "flatshading": true,
         "hoverinfo": "text",
         "i": [
          0,
          0,
          4,
          4,
          0,
          0,
          1,
          1,
          2,
          2,
          3,
          3
         ],
         "j": [
          1,
          2,
          5,
          6,
          1,
          5,
          2,
          6,
          3,
          7,
          0,
          4
         ],
         "k": [
          2,
          3,
          6,
          7,
          5,
          4,
          6,
          5,
          7,
          6,
          4,
          7
         ],
         "opacity": 0.5,
         "text": "ID: 1035, Type: wall",
         "type": "mesh3d",
         "x": [
          -14.3585,
          -10.6985,
          -10.6985,
          -14.3585,
          -14.3585,
          -10.6985,
          -10.6985,
          -14.3585
         ],
         "y": [
          -112.3333,
          -112.3333,
          -112.2333,
          -112.2333,
          -112.3333,
          -112.3333,
          -112.2333,
          -112.2333
         ],
         "z": [
          0,
          0,
          0,
          0,
          3.7,
          3.7,
          3.7,
          3.7
         ]
        },
        {
         "color": "lightgreen",
         "flatshading": true,
         "hoverinfo": "text",
         "i": [
          0,
          0,
          4,
          4,
          0,
          0,
          1,
          1,
          2,
          2,
          3,
          3
         ],
         "j": [
          1,
          2,
          5,
          6,
          1,
          5,
          2,
          6,
          3,
          7,
          0,
          4
         ],
         "k": [
          2,
          3,
          6,
          7,
          5,
          4,
          6,
          5,
          7,
          6,
          4,
          7
         ],
         "opacity": 0.5,
         "text": "ID: 5054, Type: door",
         "type": "mesh3d",
         "x": [
          -13.9285,
          -11.128499999999999,
          -11.128499999999999,
          -13.9285,
          -13.9285,
          -11.128499999999999,
          -11.128499999999999,
          -13.9285
         ],
         "y": [
          -112.4233,
          -112.4233,
          -112.22330000000001,
          -112.22330000000001,
          -112.4233,
          -112.4233,
          -112.22330000000001,
          -112.22330000000001
         ],
         "z": [
          0,
          0,
          0,
          0,
          2.5,
          2.5,
          2.5,
          2.5
         ]
        },
        {
         "color": "lightblue",
         "flatshading": true,
         "hoverinfo": "text",
         "i": [
          0,
          0,
          4,
          4,
          0,
          0,
          1,
          1,
          2,
          2,
          3,
          3
         ],
         "j": [
          1,
          2,
          5,
          6,
          1,
          5,
          2,
          6,
          3,
          7,
          0,
          4
         ],
         "k": [
          2,
          3,
          6,
          7,
          5,
          4,
          6,
          5,
          7,
          6,
          4,
          7
         ],
         "opacity": 0.5,
         "text": "ID: 3003, Type: floor",
         "type": "mesh3d",
         "x": [
          -14.3585,
          -10.6985,
          -10.6985,
          -14.3585,
          -14.3585,
          -10.6985,
          -10.6985,
          -14.3585
         ],
         "y": [
          -112.28345,
          -112.28345,
          -72.24845,
          -72.24845,
          -112.28345,
          -112.28345,
          -72.24845,
          -72.24845
         ],
         "z": [
          -0.05,
          -0.05,
          -0.05,
          -0.05,
          0.05,
          0.05,
          0.05,
          0.05
         ]
        },
        {
         "color": "lightgreen",
         "flatshading": true,
         "hoverinfo": "text",
         "i": [
          0,
          0,
          4,
          4,
          0,
          0,
          1,
          1,
          2,
          2,
          3,
          3
         ],
         "j": [
          1,
          2,
          5,
          6,
          1,
          5,
          2,
          6,
          3,
          7,
          0,
          4
         ],
         "k": [
          2,
          3,
          6,
          7,
          5,
          4,
          6,
          5,
          7,
          6,
          4,
          7
         ],
         "opacity": 0.5,
         "text": "ID: 5014, Type: door",
         "type": "mesh3d",
         "x": [
          -15.0235,
          -14.333499999999999,
          -14.333499999999999,
          -15.0235,
          -15.0235,
          -14.333499999999999,
          -14.333499999999999,
          -15.0235
         ],
         "y": [
          -109.1546,
          -109.1546,
          -107.90259999999999,
          -107.90259999999999,
          -109.1546,
          -109.1546,
          -107.90259999999999,
          -107.90259999999999
         ],
         "z": [
          0,
          0,
          0,
          0,
          2.026,
          2.026,
          2.026,
          2.026
         ]
        },
        {
         "color": "lightgreen",
         "flatshading": true,
         "hoverinfo": "text",
         "i": [
          0,
          0,
          4,
          4,
          0,
          0,
          1,
          1,
          2,
          2,
          3,
          3
         ],
         "j": [
          1,
          2,
          5,
          6,
          1,
          5,
          2,
          6,
          3,
          7,
          0,
          4
         ],
         "k": [
          2,
          3,
          6,
          7,
          5,
          4,
          6,
          5,
          7,
          6,
          4,
          7
         ],
         "opacity": 0.5,
         "text": "ID: 5018, Type: door",
         "type": "mesh3d",
         "x": [
          -15.0235,
          -14.333499999999999,
          -14.333499999999999,
          -15.0235,
          -15.0235,
          -14.333499999999999,
          -14.333499999999999,
          -15.0235
         ],
         "y": [
          -97.1546,
          -97.1546,
          -95.90259999999999,
          -95.90259999999999,
          -97.1546,
          -97.1546,
          -95.90259999999999,
          -95.90259999999999
         ],
         "z": [
          0,
          0,
          0,
          0,
          2.026,
          2.026,
          2.026,
          2.026
         ]
        },
        {
         "color": "lightgreen",
         "flatshading": true,
         "hoverinfo": "text",
         "i": [
          0,
          0,
          4,
          4,
          0,
          0,
          1,
          1,
          2,
          2,
          3,
          3
         ],
         "j": [
          1,
          2,
          5,
          6,
          1,
          5,
          2,
          6,
          3,
          7,
          0,
          4
         ],
         "k": [
          2,
          3,
          6,
          7,
          5,
          4,
          6,
          5,
          7,
          6,
          4,
          7
         ],
         "opacity": 0.5,
         "text": "ID: 5019, Type: door",
         "type": "mesh3d",
         "x": [
          -15.0235,
          -14.333499999999999,
          -14.333499999999999,
          -15.0235,
          -15.0235,
          -14.333499999999999,
          -14.333499999999999,
          -15.0235
         ],
         "y": [
          -101.1546,
          -101.1546,
          -99.90259999999999,
          -99.90259999999999,
          -101.1546,
          -101.1546,
          -99.90259999999999,
          -99.90259999999999
         ],
         "z": [
          0,
          0,
          0,
          0,
          2.026,
          2.026,
          2.026,
          2.026
         ]
        },
        {
         "color": "lightgreen",
         "flatshading": true,
         "hoverinfo": "text",
         "i": [
          0,
          0,
          4,
          4,
          0,
          0,
          1,
          1,
          2,
          2,
          3,
          3
         ],
         "j": [
          1,
          2,
          5,
          6,
          1,
          5,
          2,
          6,
          3,
          7,
          0,
          4
         ],
         "k": [
          2,
          3,
          6,
          7,
          5,
          4,
          6,
          5,
          7,
          6,
          4,
          7
         ],
         "opacity": 0.5,
         "text": "ID: 5020, Type: door",
         "type": "mesh3d",
         "x": [
          -15.0235,
          -14.333499999999999,
          -14.333499999999999,
          -15.0235,
          -15.0235,
          -14.333499999999999,
          -14.333499999999999,
          -15.0235
         ],
         "y": [
          -93.1546,
          -93.1546,
          -91.90259999999999,
          -91.90259999999999,
          -93.1546,
          -93.1546,
          -91.90259999999999,
          -91.90259999999999
         ],
         "z": [
          0,
          0,
          0,
          0,
          2.026,
          2.026,
          2.026,
          2.026
         ]
        },
        {
         "color": "lightgreen",
         "flatshading": true,
         "hoverinfo": "text",
         "i": [
          0,
          0,
          4,
          4,
          0,
          0,
          1,
          1,
          2,
          2,
          3,
          3
         ],
         "j": [
          1,
          2,
          5,
          6,
          1,
          5,
          2,
          6,
          3,
          7,
          0,
          4
         ],
         "k": [
          2,
          3,
          6,
          7,
          5,
          4,
          6,
          5,
          7,
          6,
          4,
          7
         ],
         "opacity": 0.5,
         "text": "ID: 5022, Type: door",
         "type": "mesh3d",
         "x": [
          -15.0235,
          -14.333499999999999,
          -14.333499999999999,
          -15.0235,
          -15.0235,
          -14.333499999999999,
          -14.333499999999999,
          -15.0235
         ],
         "y": [
          -85.15460000000002,
          -85.15460000000002,
          -83.9026,
          -83.9026,
          -85.15460000000002,
          -85.15460000000002,
          -83.9026,
          -83.9026
         ],
         "z": [
          0,
          0,
          0,
          0,
          2.026,
          2.026,
          2.026,
          2.026
         ]
        },
        {
         "color": "lightgreen",
         "flatshading": true,
         "hoverinfo": "text",
         "i": [
          0,
          0,
          4,
          4,
          0,
          0,
          1,
          1,
          2,
          2,
          3,
          3
         ],
         "j": [
          1,
          2,
          5,
          6,
          1,
          5,
          2,
          6,
          3,
          7,
          0,
          4
         ],
         "k": [
          2,
          3,
          6,
          7,
          5,
          4,
          6,
          5,
          7,
          6,
          4,
          7
         ],
         "opacity": 0.5,
         "text": "ID: 5023, Type: door",
         "type": "mesh3d",
         "x": [
          -15.0235,
          -14.333499999999999,
          -14.333499999999999,
          -15.0235,
          -15.0235,
          -14.333499999999999,
          -14.333499999999999,
          -15.0235
         ],
         "y": [
          -82.0346,
          -82.0346,
          -81.0186,
          -81.0186,
          -82.0346,
          -82.0346,
          -81.0186,
          -81.0186
         ],
         "z": [
          0,
          0,
          0,
          0,
          2.21,
          2.21,
          2.21,
          2.21
         ]
        },
        {
         "color": "lightgreen",
         "flatshading": true,
         "hoverinfo": "text",
         "i": [
          0,
          0,
          4,
          4,
          0,
          0,
          1,
          1,
          2,
          2,
          3,
          3
         ],
         "j": [
          1,
          2,
          5,
          6,
          1,
          5,
          2,
          6,
          3,
          7,
          0,
          4
         ],
         "k": [
          2,
          3,
          6,
          7,
          5,
          4,
          6,
          5,
          7,
          6,
          4,
          7
         ],
         "opacity": 0.5,
         "text": "ID: 5024, Type: door",
         "type": "mesh3d",
         "x": [
          -15.0235,
          -14.333499999999999,
          -14.333499999999999,
          -15.0235,
          -15.0235,
          -14.333499999999999,
          -14.333499999999999,
          -15.0235
         ],
         "y": [
          -76.78859999999999,
          -76.78859999999999,
          -75.7726,
          -75.7726,
          -76.78859999999999,
          -76.78859999999999,
          -75.7726,
          -75.7726
         ],
         "z": [
          0,
          0,
          0,
          0,
          2.21,
          2.21,
          2.21,
          2.21
         ]
        },
        {
         "color": "lightgreen",
         "flatshading": true,
         "hoverinfo": "text",
         "i": [
          0,
          0,
          4,
          4,
          0,
          0,
          1,
          1,
          2,
          2,
          3,
          3
         ],
         "j": [
          1,
          2,
          5,
          6,
          1,
          5,
          2,
          6,
          3,
          7,
          0,
          4
         ],
         "k": [
          2,
          3,
          6,
          7,
          5,
          4,
          6,
          5,
          7,
          6,
          4,
          7
         ],
         "opacity": 0.5,
         "text": "ID: 5027, Type: door",
         "type": "mesh3d",
         "x": [
          -15.0235,
          -14.333499999999999,
          -14.333499999999999,
          -15.0235,
          -15.0235,
          -14.333499999999999,
          -14.333499999999999,
          -15.0235
         ],
         "y": [
          -89.15460000000002,
          -89.15460000000002,
          -87.9026,
          -87.9026,
          -89.15460000000002,
          -89.15460000000002,
          -87.9026,
          -87.9026
         ],
         "z": [
          0,
          0,
          0,
          0,
          2.026,
          2.026,
          2.026,
          2.026
         ]
        },
        {
         "color": "lightgreen",
         "flatshading": true,
         "hoverinfo": "text",
         "i": [
          0,
          0,
          4,
          4,
          0,
          0,
          1,
          1,
          2,
          2,
          3,
          3
         ],
         "j": [
          1,
          2,
          5,
          6,
          1,
          5,
          2,
          6,
          3,
          7,
          0,
          4
         ],
         "k": [
          2,
          3,
          6,
          7,
          5,
          4,
          6,
          5,
          7,
          6,
          4,
          7
         ],
         "opacity": 0.5,
         "text": "ID: 5046, Type: door",
         "type": "mesh3d",
         "x": [
          -14.4725,
          -14.2985,
          -14.2985,
          -14.4725,
          -14.4725,
          -14.2985,
          -14.2985,
          -14.4725
         ],
         "y": [
          -74.4286,
          -74.4286,
          -73.0286,
          -73.0286,
          -74.4286,
          -74.4286,
          -73.0286,
          -73.0286
         ],
         "z": [
          0,
          0,
          0,
          0,
          2.085,
          2.085,
          2.085,
          2.085
         ]
        },
        {
         "color": "lightgreen",
         "flatshading": true,
         "hoverinfo": "text",
         "i": [
          0,
          0,
          4,
          4,
          0,
          0,
          1,
          1,
          2,
          2,
          3,
          3
         ],
         "j": [
          1,
          2,
          5,
          6,
          1,
          5,
          2,
          6,
          3,
          7,
          0,
          4
         ],
         "k": [
          2,
          3,
          6,
          7,
          5,
          4,
          6,
          5,
          7,
          6,
          4,
          7
         ],
         "opacity": 0.5,
         "text": "ID: 5052, Type: door",
         "type": "mesh3d",
         "x": [
          -10.7585,
          -10.5845,
          -10.5845,
          -10.7585,
          -10.7585,
          -10.5845,
          -10.5845,
          -10.7585
         ],
         "y": [
          -95.2286,
          -95.2286,
          -93.8286,
          -93.8286,
          -95.2286,
          -95.2286,
          -93.8286,
          -93.8286
         ],
         "z": [
          0,
          0,
          0,
          0,
          2.085,
          2.085,
          2.085,
          2.085
         ]
        },
        {
         "color": "lightgreen",
         "flatshading": true,
         "hoverinfo": "text",
         "i": [
          0,
          0,
          4,
          4,
          0,
          0,
          1,
          1,
          2,
          2,
          3,
          3
         ],
         "j": [
          1,
          2,
          5,
          6,
          1,
          5,
          2,
          6,
          3,
          7,
          0,
          4
         ],
         "k": [
          2,
          3,
          6,
          7,
          5,
          4,
          6,
          5,
          7,
          6,
          4,
          7
         ],
         "opacity": 0.5,
         "text": "ID: 5061, Type: door",
         "type": "mesh3d",
         "x": [
          -10.7585,
          -10.5845,
          -10.5845,
          -10.7585,
          -10.7585,
          -10.5845,
          -10.5845,
          -10.7585
         ],
         "y": [
          -109.96860000000001,
          -109.96860000000001,
          -108.5686,
          -108.5686,
          -109.96860000000001,
          -109.96860000000001,
          -108.5686,
          -108.5686
         ],
         "z": [
          0,
          0,
          0,
          0,
          2.085,
          2.085,
          2.085,
          2.085
         ]
        },
        {
         "color": "lightgreen",
         "flatshading": true,
         "hoverinfo": "text",
         "i": [
          0,
          0,
          4,
          4,
          0,
          0,
          1,
          1,
          2,
          2,
          3,
          3
         ],
         "j": [
          1,
          2,
          5,
          6,
          1,
          5,
          2,
          6,
          3,
          7,
          0,
          4
         ],
         "k": [
          2,
          3,
          6,
          7,
          5,
          4,
          6,
          5,
          7,
          6,
          4,
          7
         ],
         "opacity": 0.5,
         "text": "ID: 5063, Type: door",
         "type": "mesh3d",
         "x": [
          -10.7585,
          -10.5845,
          -10.5845,
          -10.7585,
          -10.7585,
          -10.5845,
          -10.5845,
          -10.7585
         ],
         "y": [
          -103.2286,
          -103.2286,
          -101.8286,
          -101.8286,
          -103.2286,
          -103.2286,
          -101.8286,
          -101.8286
         ],
         "z": [
          0,
          0,
          0,
          0,
          2.085,
          2.085,
          2.085,
          2.085
         ]
        },
        {
         "color": "lightgreen",
         "flatshading": true,
         "hoverinfo": "text",
         "i": [
          0,
          0,
          4,
          4,
          0,
          0,
          1,
          1,
          2,
          2,
          3,
          3
         ],
         "j": [
          1,
          2,
          5,
          6,
          1,
          5,
          2,
          6,
          3,
          7,
          0,
          4
         ],
         "k": [
          2,
          3,
          6,
          7,
          5,
          4,
          6,
          5,
          7,
          6,
          4,
          7
         ],
         "opacity": 0.5,
         "text": "ID: 5065, Type: door",
         "type": "mesh3d",
         "x": [
          -10.7585,
          -10.5845,
          -10.5845,
          -10.7585,
          -10.7585,
          -10.5845,
          -10.5845,
          -10.7585
         ],
         "y": [
          -85.7624,
          -85.7624,
          -84.3624,
          -84.3624,
          -85.7624,
          -85.7624,
          -84.3624,
          -84.3624
         ],
         "z": [
          0,
          0,
          0,
          0,
          2.085,
          2.085,
          2.085,
          2.085
         ]
        },
        {
         "color": "lightblue",
         "flatshading": true,
         "hoverinfo": "text",
         "i": [
          0,
          0,
          4,
          4,
          0,
          0,
          1,
          1,
          2,
          2,
          3,
          3
         ],
         "j": [
          1,
          2,
          5,
          6,
          1,
          5,
          2,
          6,
          3,
          7,
          0,
          4
         ],
         "k": [
          2,
          3,
          6,
          7,
          5,
          4,
          6,
          5,
          7,
          6,
          4,
          7
         ],
         "opacity": 0.5,
         "text": "ID: 2019, Type: ceiling",
         "type": "mesh3d",
         "x": [
          -14.3585,
          -10.6985,
          -10.6985,
          -14.3585,
          -14.3585,
          -10.6985,
          -10.6985,
          -14.3585
         ],
         "y": [
          -112.28345,
          -112.28345,
          -72.24845,
          -72.24845,
          -112.28345,
          -112.28345,
          -72.24845,
          -72.24845
         ],
         "z": [
          3.6500000000000004,
          3.6500000000000004,
          3.6500000000000004,
          3.6500000000000004,
          3.75,
          3.75,
          3.75,
          3.75
         ]
        },
        {
         "color": "lightblue",
         "flatshading": true,
         "hoverinfo": "text",
         "i": [
          0,
          0,
          4,
          4,
          0,
          0,
          1,
          1,
          2,
          2,
          3,
          3
         ],
         "j": [
          1,
          2,
          5,
          6,
          1,
          5,
          2,
          6,
          3,
          7,
          0,
          4
         ],
         "k": [
          2,
          3,
          6,
          7,
          5,
          4,
          6,
          5,
          7,
          6,
          4,
          7
         ],
         "opacity": 0.5,
         "text": "ID: 1219, Type: wall",
         "type": "mesh3d",
         "x": [
          -14.4085,
          -14.308499999999999,
          -14.308499999999999,
          -14.4085,
          -14.4085,
          -14.308499999999999,
          -14.308499999999999,
          -14.4085
         ],
         "y": [
          -112.28345,
          -112.28345,
          -72.24845,
          -72.24845,
          -112.28345,
          -112.28345,
          -72.24845,
          -72.24845
         ],
         "z": [
          0,
          0,
          0,
          0,
          3.7,
          3.7,
          3.7,
          3.7
         ]
        },
        {
         "color": "lightblue",
         "flatshading": true,
         "hoverinfo": "text",
         "i": [
          0,
          0,
          4,
          4,
          0,
          0,
          1,
          1,
          2,
          2,
          3,
          3
         ],
         "j": [
          1,
          2,
          5,
          6,
          1,
          5,
          2,
          6,
          3,
          7,
          0,
          4
         ],
         "k": [
          2,
          3,
          6,
          7,
          5,
          4,
          6,
          5,
          7,
          6,
          4,
          7
         ],
         "opacity": 0.5,
         "text": "ID: 1227, Type: wall",
         "type": "mesh3d",
         "x": [
          -10.7485,
          -10.648499999999999,
          -10.648499999999999,
          -10.7485,
          -10.7485,
          -10.648499999999999,
          -10.648499999999999,
          -10.7485
         ],
         "y": [
          -112.28345,
          -112.28345,
          -72.24845,
          -72.24845,
          -112.28345,
          -112.28345,
          -72.24845,
          -72.24845
         ],
         "z": [
          0,
          0,
          0,
          0,
          3.7,
          3.7,
          3.7,
          3.7
         ]
        },
        {
         "color": "lightblue",
         "flatshading": true,
         "hoverinfo": "text",
         "i": [
          0,
          0,
          4,
          4,
          0,
          0,
          1,
          1,
          2,
          2,
          3,
          3
         ],
         "j": [
          1,
          2,
          5,
          6,
          1,
          5,
          2,
          6,
          3,
          7,
          0,
          4
         ],
         "k": [
          2,
          3,
          6,
          7,
          5,
          4,
          6,
          5,
          7,
          6,
          4,
          7
         ],
         "opacity": 0.5,
         "text": "ID: 1040, Type: wall",
         "type": "mesh3d",
         "x": [
          -0.31,
          -0.21000000000000002,
          -0.21000000000000002,
          -0.31,
          -0.31,
          -0.21000000000000002,
          -0.21000000000000002,
          -0.31
         ],
         "y": [
          -82.4586,
          -82.4586,
          -72.4986,
          -72.4986,
          -82.4586,
          -82.4586,
          -72.4986,
          -72.4986
         ],
         "z": [
          0,
          0,
          0,
          0,
          3.7,
          3.7,
          3.7,
          3.7
         ]
        },
        {
         "color": "lightgreen",
         "flatshading": true,
         "hoverinfo": "text",
         "i": [
          0,
          0,
          4,
          4,
          0,
          0,
          1,
          1,
          2,
          2,
          3,
          3
         ],
         "j": [
          1,
          2,
          5,
          6,
          1,
          5,
          2,
          6,
          3,
          7,
          0,
          4
         ],
         "k": [
          2,
          3,
          6,
          7,
          5,
          4,
          6,
          5,
          7,
          6,
          4,
          7
         ],
         "opacity": 0.5,
         "text": "ID: 4019, Type: window",
         "type": "mesh3d",
         "x": [
          -0.261335447245831,
          0.5465274139745164,
          0.5465274139745164,
          -0.261335447245831,
          -0.261335447245831,
          0.5465274139745164,
          0.5465274139745164,
          -0.261335447245831
         ],
         "y": [
          -75.1786,
          -75.1786,
          -73.6786,
          -73.6786,
          -75.1786,
          -75.1786,
          -73.6786,
          -73.6786
         ],
         "z": [
          0.8139957301523946,
          0.8139957301523946,
          0.8139957301523946,
          0.8139957301523946,
          2.871735056757969,
          2.871735056757969,
          2.871735056757969,
          2.871735056757969
         ]
        },
        {
         "color": "lightgreen",
         "flatshading": true,
         "hoverinfo": "text",
         "i": [
          0,
          0,
          4,
          4,
          0,
          0,
          1,
          1,
          2,
          2,
          3,
          3
         ],
         "j": [
          1,
          2,
          5,
          6,
          1,
          5,
          2,
          6,
          3,
          7,
          0,
          4
         ],
         "k": [
          2,
          3,
          6,
          7,
          5,
          4,
          6,
          5,
          7,
          6,
          4,
          7
         ],
         "opacity": 0.5,
         "text": "ID: 4036, Type: window",
         "type": "mesh3d",
         "x": [
          -0.261335447245831,
          0.5465274139745164,
          0.5465274139745164,
          -0.261335447245831,
          -0.261335447245831,
          0.5465274139745164,
          0.5465274139745164,
          -0.261335447245831
         ],
         "y": [
          -81.2786,
          -81.2786,
          -79.7786,
          -79.7786,
          -81.2786,
          -81.2786,
          -79.7786,
          -79.7786
         ],
         "z": [
          0.8139957301523946,
          0.8139957301523946,
          0.8139957301523946,
          0.8139957301523946,
          2.871735056757969,
          2.871735056757969,
          2.871735056757969,
          2.871735056757969
         ]
        },
        {
         "color": "lightblue",
         "flatshading": true,
         "hoverinfo": "text",
         "i": [
          0,
          0,
          4,
          4,
          0,
          0,
          1,
          1,
          2,
          2,
          3,
          3
         ],
         "j": [
          1,
          2,
          5,
          6,
          1,
          5,
          2,
          6,
          3,
          7,
          0,
          4
         ],
         "k": [
          2,
          3,
          6,
          7,
          5,
          4,
          6,
          5,
          7,
          6,
          4,
          7
         ],
         "opacity": 0.5,
         "text": "ID: 1072, Type: wall",
         "type": "mesh3d",
         "x": [
          -10.108500000000001,
          -10.0085,
          -10.0085,
          -10.108500000000001,
          -10.108500000000001,
          -10.0085,
          -10.0085,
          -10.108500000000001
         ],
         "y": [
          -82.4586,
          -82.4586,
          -72.4986,
          -72.4986,
          -82.4586,
          -82.4586,
          -72.4986,
          -72.4986
         ],
         "z": [
          0,
          0,
          0,
          0,
          3.7,
          3.7,
          3.7,
          3.7
         ]
        },
        {
         "color": "lightblue",
         "flatshading": true,
         "hoverinfo": "text",
         "i": [
          0,
          0,
          4,
          4,
          0,
          0,
          1,
          1,
          2,
          2,
          3,
          3
         ],
         "j": [
          1,
          2,
          5,
          6,
          1,
          5,
          2,
          6,
          3,
          7,
          0,
          4
         ],
         "k": [
          2,
          3,
          6,
          7,
          5,
          4,
          6,
          5,
          7,
          6,
          4,
          7
         ],
         "opacity": 0.5,
         "text": "ID: 1082, Type: wall",
         "type": "mesh3d",
         "x": [
          -10.05875,
          -0.25975000000000037,
          -0.25975000000000037,
          -10.05875,
          -10.05875,
          -0.25975000000000037,
          -0.25975000000000037,
          -10.05875
         ],
         "y": [
          -82.5086,
          -82.5086,
          -82.4086,
          -82.4086,
          -82.5086,
          -82.5086,
          -82.4086,
          -82.4086
         ],
         "z": [
          0,
          0,
          0,
          0,
          3.7,
          3.7,
          3.7,
          3.7
         ]
        },
        {
         "color": "lightblue",
         "flatshading": true,
         "hoverinfo": "text",
         "i": [
          0,
          0,
          4,
          4,
          0,
          0,
          1,
          1,
          2,
          2,
          3,
          3
         ],
         "j": [
          1,
          2,
          5,
          6,
          1,
          5,
          2,
          6,
          3,
          7,
          0,
          4
         ],
         "k": [
          2,
          3,
          6,
          7,
          5,
          4,
          6,
          5,
          7,
          6,
          4,
          7
         ],
         "opacity": 0.5,
         "text": "ID: 1118, Type: wall",
         "type": "mesh3d",
         "x": [
          -10.05875,
          -0.25975000000000037,
          -0.25975000000000037,
          -10.05875,
          -10.05875,
          -0.25975000000000037,
          -0.25975000000000037,
          -10.05875
         ],
         "y": [
          -72.5486,
          -72.5486,
          -72.4486,
          -72.4486,
          -72.5486,
          -72.5486,
          -72.4486,
          -72.4486
         ],
         "z": [
          0,
          0,
          0,
          0,
          3.7,
          3.7,
          3.7,
          3.7
         ]
        },
        {
         "color": "lightblue",
         "flatshading": true,
         "hoverinfo": "text",
         "i": [
          0,
          0,
          4,
          4,
          0,
          0,
          1,
          1,
          2,
          2,
          3,
          3
         ],
         "j": [
          1,
          2,
          5,
          6,
          1,
          5,
          2,
          6,
          3,
          7,
          0,
          4
         ],
         "k": [
          2,
          3,
          6,
          7,
          5,
          4,
          6,
          5,
          7,
          6,
          4,
          7
         ],
         "opacity": 0.5,
         "text": "ID: 2046, Type: ceiling",
         "type": "mesh3d",
         "x": [
          -10.05875,
          -0.25975000000000037,
          -0.25975000000000037,
          -10.05875,
          -10.05875,
          -0.25975000000000037,
          -0.25975000000000037,
          -10.05875
         ],
         "y": [
          -82.4586,
          -82.4586,
          -72.4986,
          -72.4986,
          -82.4586,
          -82.4586,
          -72.4986,
          -72.4986
         ],
         "z": [
          3.6500000000000004,
          3.6500000000000004,
          3.6500000000000004,
          3.6500000000000004,
          3.75,
          3.75,
          3.75,
          3.75
         ]
        },
        {
         "color": "lightblue",
         "flatshading": true,
         "hoverinfo": "text",
         "i": [
          0,
          0,
          4,
          4,
          0,
          0,
          1,
          1,
          2,
          2,
          3,
          3
         ],
         "j": [
          1,
          2,
          5,
          6,
          1,
          5,
          2,
          6,
          3,
          7,
          0,
          4
         ],
         "k": [
          2,
          3,
          6,
          7,
          5,
          4,
          6,
          5,
          7,
          6,
          4,
          7
         ],
         "opacity": 0.5,
         "text": "ID: 3047, Type: floor",
         "type": "mesh3d",
         "x": [
          -10.05875,
          -0.25975000000000037,
          -0.25975000000000037,
          -10.05875,
          -10.05875,
          -0.25975000000000037,
          -0.25975000000000037,
          -10.05875
         ],
         "y": [
          -82.4586,
          -82.4586,
          -72.4986,
          -72.4986,
          -82.4586,
          -82.4586,
          -72.4986,
          -72.4986
         ],
         "z": [
          -0.05,
          -0.05,
          -0.05,
          -0.05,
          0.05,
          0.05,
          0.05,
          0.05
         ]
        },
        {
         "color": "red",
         "flatshading": true,
         "hoverinfo": "text",
         "i": [
          0,
          0,
          4,
          4,
          0,
          0,
          1,
          1,
          2,
          2,
          3,
          3
         ],
         "j": [
          1,
          2,
          5,
          6,
          1,
          5,
          2,
          6,
          3,
          7,
          0,
          4
         ],
         "k": [
          2,
          3,
          6,
          7,
          5,
          4,
          6,
          5,
          7,
          6,
          4,
          7
         ],
         "opacity": 0.5,
         "text": "ID: 5059, Type: door",
         "type": "mesh3d",
         "x": [
          -10.7585,
          -10.5845,
          -10.5845,
          -10.7585,
          -10.7585,
          -10.5845,
          -10.5845,
          -10.7585
         ],
         "y": [
          -78.1786,
          -78.1786,
          -76.7786,
          -76.7786,
          -78.1786,
          -78.1786,
          -76.7786,
          -76.7786
         ],
         "z": [
          0,
          0,
          0,
          0,
          2.085,
          2.085,
          2.085,
          2.085
         ]
        },
        {
         "marker": {
          "color": "black",
          "size": 10
         },
         "mode": "markers",
         "name": "Camera Position",
         "type": "scatter3d",
         "x": [
          -7.5
         ],
         "y": [
          -77.4786
         ],
         "z": [
          2.5
         ]
        },
        {
         "marker": {
          "color": "purple",
          "size": 10
         },
         "mode": "markers",
         "name": "Target Position",
         "type": "scatter3d",
         "x": [
          -10.6715
         ],
         "y": [
          -77.4786
         ],
         "z": [
          1.0425
         ]
        },
        {
         "color": "yellow",
         "i": [
          0,
          0,
          0,
          0,
          0,
          0,
          0,
          0,
          0,
          0,
          0,
          0,
          0,
          0,
          0,
          0,
          0,
          0,
          0,
          0
         ],
         "j": [
          1,
          2,
          3,
          4,
          5,
          6,
          7,
          8,
          9,
          10,
          11,
          12,
          13,
          14,
          15,
          16,
          17,
          18,
          19,
          20
         ],
         "k": [
          2,
          3,
          4,
          5,
          6,
          7,
          8,
          9,
          10,
          11,
          12,
          13,
          14,
          15,
          16,
          17,
          18,
          19,
          20,
          1
         ],
         "name": "Field of View",
         "opacity": 0.2,
         "type": "mesh3d",
         "x": [
          -7.5,
          -10.990375123106398,
          -10.990375123106398,
          -10.990375123106398,
          -10.990375123106398,
          -10.990375123106398,
          -10.990375123106398,
          -10.990375123106398,
          -10.990375123106398,
          -10.990375123106398,
          -10.990375123106398,
          -10.990375123106398,
          -10.990375123106398,
          -10.990375123106398,
          -10.990375123106398,
          -10.990375123106398,
          -10.990375123106398,
          -10.990375123106398,
          -10.990375123106398,
          -10.990375123106398,
          -10.990375123106398
         ],
         "y": [
          -77.4786,
          -79.49376901689826,
          -79.38458160112329,
          -79.06885150451491,
          -78.58079298209788,
          -77.97329474778431,
          -77.31218866156841,
          -76.66911582600954,
          -76.11376316114365,
          -75.7063117453934,
          -75.49091526191546,
          -75.49091526191546,
          -75.7063117453934,
          -76.11376316114365,
          -76.66911582600954,
          -77.31218866156841,
          -77.97329474778431,
          -78.58079298209788,
          -79.06885150451491,
          -79.38458160112329,
          -79.49376901689826
         ],
         "z": [
          2.5,
          2.5,
          1.845675689855414,
          1.262257571602754,
          0.812968051019529,
          0.5464946191061362,
          0.49171380697170664,
          0.6545619656228865,
          1.017391970220288,
          1.5408855598781945,
          2.168314081317203,
          2.8316859186827967,
          3.4591144401218052,
          3.982608029779711,
          4.345438034377113,
          4.508286193028294,
          4.453505380893864,
          4.187031948980471,
          3.7377424283972465,
          3.1543243101445864,
          2.5000000000000004
         ]
        }
       ],
       "layout": {
        "height": 800,
        "scene": {
         "aspectmode": "data",
         "aspectratio": {
          "x": 1,
          "y": 1,
          "z": 1
         },
         "xaxis": {
          "title": {
           "text": "X"
          },
          "visible": true
         },
         "yaxis": {
          "title": {
           "text": "Y"
          },
          "visible": true
         },
         "zaxis": {
          "title": {
           "text": "Z"
          },
          "visible": true
         }
        },
        "template": {
         "data": {
          "bar": [
           {
            "error_x": {
             "color": "#2a3f5f"
            },
            "error_y": {
             "color": "#2a3f5f"
            },
            "marker": {
             "line": {
              "color": "#E5ECF6",
              "width": 0.5
             },
             "pattern": {
              "fillmode": "overlay",
              "size": 10,
              "solidity": 0.2
             }
            },
            "type": "bar"
           }
          ],
          "barpolar": [
           {
            "marker": {
             "line": {
              "color": "#E5ECF6",
              "width": 0.5
             },
             "pattern": {
              "fillmode": "overlay",
              "size": 10,
              "solidity": 0.2
             }
            },
            "type": "barpolar"
           }
          ],
          "carpet": [
           {
            "aaxis": {
             "endlinecolor": "#2a3f5f",
             "gridcolor": "white",
             "linecolor": "white",
             "minorgridcolor": "white",
             "startlinecolor": "#2a3f5f"
            },
            "baxis": {
             "endlinecolor": "#2a3f5f",
             "gridcolor": "white",
             "linecolor": "white",
             "minorgridcolor": "white",
             "startlinecolor": "#2a3f5f"
            },
            "type": "carpet"
           }
          ],
          "choropleth": [
           {
            "colorbar": {
             "outlinewidth": 0,
             "ticks": ""
            },
            "type": "choropleth"
           }
          ],
          "contour": [
           {
            "colorbar": {
             "outlinewidth": 0,
             "ticks": ""
            },
            "colorscale": [
             [
              0,
              "#0d0887"
             ],
             [
              0.1111111111111111,
              "#46039f"
             ],
             [
              0.2222222222222222,
              "#7201a8"
             ],
             [
              0.3333333333333333,
              "#9c179e"
             ],
             [
              0.4444444444444444,
              "#bd3786"
             ],
             [
              0.5555555555555556,
              "#d8576b"
             ],
             [
              0.6666666666666666,
              "#ed7953"
             ],
             [
              0.7777777777777778,
              "#fb9f3a"
             ],
             [
              0.8888888888888888,
              "#fdca26"
             ],
             [
              1,
              "#f0f921"
             ]
            ],
            "type": "contour"
           }
          ],
          "contourcarpet": [
           {
            "colorbar": {
             "outlinewidth": 0,
             "ticks": ""
            },
            "type": "contourcarpet"
           }
          ],
          "heatmap": [
           {
            "colorbar": {
             "outlinewidth": 0,
             "ticks": ""
            },
            "colorscale": [
             [
              0,
              "#0d0887"
             ],
             [
              0.1111111111111111,
              "#46039f"
             ],
             [
              0.2222222222222222,
              "#7201a8"
             ],
             [
              0.3333333333333333,
              "#9c179e"
             ],
             [
              0.4444444444444444,
              "#bd3786"
             ],
             [
              0.5555555555555556,
              "#d8576b"
             ],
             [
              0.6666666666666666,
              "#ed7953"
             ],
             [
              0.7777777777777778,
              "#fb9f3a"
             ],
             [
              0.8888888888888888,
              "#fdca26"
             ],
             [
              1,
              "#f0f921"
             ]
            ],
            "type": "heatmap"
           }
          ],
          "heatmapgl": [
           {
            "colorbar": {
             "outlinewidth": 0,
             "ticks": ""
            },
            "colorscale": [
             [
              0,
              "#0d0887"
             ],
             [
              0.1111111111111111,
              "#46039f"
             ],
             [
              0.2222222222222222,
              "#7201a8"
             ],
             [
              0.3333333333333333,
              "#9c179e"
             ],
             [
              0.4444444444444444,
              "#bd3786"
             ],
             [
              0.5555555555555556,
              "#d8576b"
             ],
             [
              0.6666666666666666,
              "#ed7953"
             ],
             [
              0.7777777777777778,
              "#fb9f3a"
             ],
             [
              0.8888888888888888,
              "#fdca26"
             ],
             [
              1,
              "#f0f921"
             ]
            ],
            "type": "heatmapgl"
           }
          ],
          "histogram": [
           {
            "marker": {
             "pattern": {
              "fillmode": "overlay",
              "size": 10,
              "solidity": 0.2
             }
            },
            "type": "histogram"
           }
          ],
          "histogram2d": [
           {
            "colorbar": {
             "outlinewidth": 0,
             "ticks": ""
            },
            "colorscale": [
             [
              0,
              "#0d0887"
             ],
             [
              0.1111111111111111,
              "#46039f"
             ],
             [
              0.2222222222222222,
              "#7201a8"
             ],
             [
              0.3333333333333333,
              "#9c179e"
             ],
             [
              0.4444444444444444,
              "#bd3786"
             ],
             [
              0.5555555555555556,
              "#d8576b"
             ],
             [
              0.6666666666666666,
              "#ed7953"
             ],
             [
              0.7777777777777778,
              "#fb9f3a"
             ],
             [
              0.8888888888888888,
              "#fdca26"
             ],
             [
              1,
              "#f0f921"
             ]
            ],
            "type": "histogram2d"
           }
          ],
          "histogram2dcontour": [
           {
            "colorbar": {
             "outlinewidth": 0,
             "ticks": ""
            },
            "colorscale": [
             [
              0,
              "#0d0887"
             ],
             [
              0.1111111111111111,
              "#46039f"
             ],
             [
              0.2222222222222222,
              "#7201a8"
             ],
             [
              0.3333333333333333,
              "#9c179e"
             ],
             [
              0.4444444444444444,
              "#bd3786"
             ],
             [
              0.5555555555555556,
              "#d8576b"
             ],
             [
              0.6666666666666666,
              "#ed7953"
             ],
             [
              0.7777777777777778,
              "#fb9f3a"
             ],
             [
              0.8888888888888888,
              "#fdca26"
             ],
             [
              1,
              "#f0f921"
             ]
            ],
            "type": "histogram2dcontour"
           }
          ],
          "mesh3d": [
           {
            "colorbar": {
             "outlinewidth": 0,
             "ticks": ""
            },
            "type": "mesh3d"
           }
          ],
          "parcoords": [
           {
            "line": {
             "colorbar": {
              "outlinewidth": 0,
              "ticks": ""
             }
            },
            "type": "parcoords"
           }
          ],
          "pie": [
           {
            "automargin": true,
            "type": "pie"
           }
          ],
          "scatter": [
           {
            "fillpattern": {
             "fillmode": "overlay",
             "size": 10,
             "solidity": 0.2
            },
            "type": "scatter"
           }
          ],
          "scatter3d": [
           {
            "line": {
             "colorbar": {
              "outlinewidth": 0,
              "ticks": ""
             }
            },
            "marker": {
             "colorbar": {
              "outlinewidth": 0,
              "ticks": ""
             }
            },
            "type": "scatter3d"
           }
          ],
          "scattercarpet": [
           {
            "marker": {
             "colorbar": {
              "outlinewidth": 0,
              "ticks": ""
             }
            },
            "type": "scattercarpet"
           }
          ],
          "scattergeo": [
           {
            "marker": {
             "colorbar": {
              "outlinewidth": 0,
              "ticks": ""
             }
            },
            "type": "scattergeo"
           }
          ],
          "scattergl": [
           {
            "marker": {
             "colorbar": {
              "outlinewidth": 0,
              "ticks": ""
             }
            },
            "type": "scattergl"
           }
          ],
          "scattermapbox": [
           {
            "marker": {
             "colorbar": {
              "outlinewidth": 0,
              "ticks": ""
             }
            },
            "type": "scattermapbox"
           }
          ],
          "scatterpolar": [
           {
            "marker": {
             "colorbar": {
              "outlinewidth": 0,
              "ticks": ""
             }
            },
            "type": "scatterpolar"
           }
          ],
          "scatterpolargl": [
           {
            "marker": {
             "colorbar": {
              "outlinewidth": 0,
              "ticks": ""
             }
            },
            "type": "scatterpolargl"
           }
          ],
          "scatterternary": [
           {
            "marker": {
             "colorbar": {
              "outlinewidth": 0,
              "ticks": ""
             }
            },
            "type": "scatterternary"
           }
          ],
          "surface": [
           {
            "colorbar": {
             "outlinewidth": 0,
             "ticks": ""
            },
            "colorscale": [
             [
              0,
              "#0d0887"
             ],
             [
              0.1111111111111111,
              "#46039f"
             ],
             [
              0.2222222222222222,
              "#7201a8"
             ],
             [
              0.3333333333333333,
              "#9c179e"
             ],
             [
              0.4444444444444444,
              "#bd3786"
             ],
             [
              0.5555555555555556,
              "#d8576b"
             ],
             [
              0.6666666666666666,
              "#ed7953"
             ],
             [
              0.7777777777777778,
              "#fb9f3a"
             ],
             [
              0.8888888888888888,
              "#fdca26"
             ],
             [
              1,
              "#f0f921"
             ]
            ],
            "type": "surface"
           }
          ],
          "table": [
           {
            "cells": {
             "fill": {
              "color": "#EBF0F8"
             },
             "line": {
              "color": "white"
             }
            },
            "header": {
             "fill": {
              "color": "#C8D4E3"
             },
             "line": {
              "color": "white"
             }
            },
            "type": "table"
           }
          ]
         },
         "layout": {
          "annotationdefaults": {
           "arrowcolor": "#2a3f5f",
           "arrowhead": 0,
           "arrowwidth": 1
          },
          "autotypenumbers": "strict",
          "coloraxis": {
           "colorbar": {
            "outlinewidth": 0,
            "ticks": ""
           }
          },
          "colorscale": {
           "diverging": [
            [
             0,
             "#8e0152"
            ],
            [
             0.1,
             "#c51b7d"
            ],
            [
             0.2,
             "#de77ae"
            ],
            [
             0.3,
             "#f1b6da"
            ],
            [
             0.4,
             "#fde0ef"
            ],
            [
             0.5,
             "#f7f7f7"
            ],
            [
             0.6,
             "#e6f5d0"
            ],
            [
             0.7,
             "#b8e186"
            ],
            [
             0.8,
             "#7fbc41"
            ],
            [
             0.9,
             "#4d9221"
            ],
            [
             1,
             "#276419"
            ]
           ],
           "sequential": [
            [
             0,
             "#0d0887"
            ],
            [
             0.1111111111111111,
             "#46039f"
            ],
            [
             0.2222222222222222,
             "#7201a8"
            ],
            [
             0.3333333333333333,
             "#9c179e"
            ],
            [
             0.4444444444444444,
             "#bd3786"
            ],
            [
             0.5555555555555556,
             "#d8576b"
            ],
            [
             0.6666666666666666,
             "#ed7953"
            ],
            [
             0.7777777777777778,
             "#fb9f3a"
            ],
            [
             0.8888888888888888,
             "#fdca26"
            ],
            [
             1,
             "#f0f921"
            ]
           ],
           "sequentialminus": [
            [
             0,
             "#0d0887"
            ],
            [
             0.1111111111111111,
             "#46039f"
            ],
            [
             0.2222222222222222,
             "#7201a8"
            ],
            [
             0.3333333333333333,
             "#9c179e"
            ],
            [
             0.4444444444444444,
             "#bd3786"
            ],
            [
             0.5555555555555556,
             "#d8576b"
            ],
            [
             0.6666666666666666,
             "#ed7953"
            ],
            [
             0.7777777777777778,
             "#fb9f3a"
            ],
            [
             0.8888888888888888,
             "#fdca26"
            ],
            [
             1,
             "#f0f921"
            ]
           ]
          },
          "colorway": [
           "#636efa",
           "#EF553B",
           "#00cc96",
           "#ab63fa",
           "#FFA15A",
           "#19d3f3",
           "#FF6692",
           "#B6E880",
           "#FF97FF",
           "#FECB52"
          ],
          "font": {
           "color": "#2a3f5f"
          },
          "geo": {
           "bgcolor": "white",
           "lakecolor": "white",
           "landcolor": "#E5ECF6",
           "showlakes": true,
           "showland": true,
           "subunitcolor": "white"
          },
          "hoverlabel": {
           "align": "left"
          },
          "hovermode": "closest",
          "mapbox": {
           "style": "light"
          },
          "paper_bgcolor": "white",
          "plot_bgcolor": "#E5ECF6",
          "polar": {
           "angularaxis": {
            "gridcolor": "white",
            "linecolor": "white",
            "ticks": ""
           },
           "bgcolor": "#E5ECF6",
           "radialaxis": {
            "gridcolor": "white",
            "linecolor": "white",
            "ticks": ""
           }
          },
          "scene": {
           "xaxis": {
            "backgroundcolor": "#E5ECF6",
            "gridcolor": "white",
            "gridwidth": 2,
            "linecolor": "white",
            "showbackground": true,
            "ticks": "",
            "zerolinecolor": "white"
           },
           "yaxis": {
            "backgroundcolor": "#E5ECF6",
            "gridcolor": "white",
            "gridwidth": 2,
            "linecolor": "white",
            "showbackground": true,
            "ticks": "",
            "zerolinecolor": "white"
           },
           "zaxis": {
            "backgroundcolor": "#E5ECF6",
            "gridcolor": "white",
            "gridwidth": 2,
            "linecolor": "white",
            "showbackground": true,
            "ticks": "",
            "zerolinecolor": "white"
           }
          },
          "shapedefaults": {
           "line": {
            "color": "#2a3f5f"
           }
          },
          "ternary": {
           "aaxis": {
            "gridcolor": "white",
            "linecolor": "white",
            "ticks": ""
           },
           "baxis": {
            "gridcolor": "white",
            "linecolor": "white",
            "ticks": ""
           },
           "bgcolor": "#E5ECF6",
           "caxis": {
            "gridcolor": "white",
            "linecolor": "white",
            "ticks": ""
           }
          },
          "title": {
           "x": 0.05
          },
          "xaxis": {
           "automargin": true,
           "gridcolor": "white",
           "linecolor": "white",
           "ticks": "",
           "title": {
            "standoff": 15
           },
           "zerolinecolor": "white",
           "zerolinewidth": 2
          },
          "yaxis": {
           "automargin": true,
           "gridcolor": "white",
           "linecolor": "white",
           "ticks": "",
           "title": {
            "standoff": 15
           },
           "zerolinecolor": "white",
           "zerolinewidth": 2
          }
         }
        },
        "title": {
         "text": "Visualization on the optimal scanning position and direction"
        },
        "width": 1200
       }
      }
     },
     "metadata": {},
     "output_type": "display_data"
    }
   ],
   "source": [
    "# the room id: 39\n",
    "# the door of the room\n",
    "defect_id = 5059\n",
    "robot_id = 1\n",
    "\n",
    "optimal_location, optimal_direction = get_scanning_plan_o1(defect_id, robot_id, gpt_model=\"gpt-4o\")\n",
    "visualize_scanning(defect_id, robot_id, optimal_location, optimal_direction)"
   ]
  },
  {
   "cell_type": "code",
   "execution_count": 4,
   "metadata": {},
   "outputs": [
    {
     "name": "stdout",
     "output_type": "stream",
     "text": [
      "To determine the optimal camera location and direction for scanning the defect object, we need to consider several factors including the position and size of the defect window, the associated space dimensions, and the camera's field of view.\n",
      "\n",
      "Given the defect window’s location is [0.1425959833643427, -74.4286, 1.842865393455182] and the associated space’s location is [-5.15925, -77.4786, 7.85] with size [9.799, 9.96, 3.7], we’ll find a camera position that can capture the entire defect window at once.\n",
      "\n",
      "### Calculation:\n",
      "1. **Position the Camera:**\n",
      "   - Since the defect window is linked to walls, and assuming an interior scanning (from the inside looking out), a position offset from the center of the associated space can give a full view.\n",
      "   - A suggested optimal location would be at a point that’s slightly back and centered in the room, perhaps on the center line along the width for a panoramic view. Assume a 45 degree perspective angle.\n",
      "\n",
      "2. **Camera Location:**\n",
      "   - A reasonable starting point for an optimal camera location is halfway along the depth of the room from the window, slightly elevated above the floor for a better width perspective.\n",
      "   - Calculating approximately central to the space: [(0.1425959833643427 + (-5.15925 + 9.799/2)) / 2, -74.4286, 1.5] refined slightly for the most logical positioning.\n",
      "\n",
      "3. **Camera Direction:**\n",
      "   - Point towards the defect window. This typically involves looking at negative along the x-axis (from the middle of the room) with some upwards tilt for full coverage.\n",
      "   - Vectors are normalized directions to the defect window, aiming for its center.\n",
      "\n",
      "### JSON Output:\n",
      "```json\n",
      "{\n",
      "  \"optimal_location\": [-3.5, -74.4286, 1.5],\n",
      "  \"optimal_direction\": [0.5, -0.5, 0.707]\n",
      "}\n",
      "```\n",
      "\n",
      "Note: These calculations position the camera centrally with optimal effectiveness, using considerations of FOV and maintaining a proportional view of the window size/location within the room. Adjustments may be needed based on real-world spatial constraints. If the actual setting prevents this, then:\n",
      "\n",
      "```json\n",
      "{\n",
      "  \"optimal_location\": null,\n",
      "  \"optimal_direction\": null,\n",
      "  \"reason\": \"The geometry or constraints of the associated space prevent positioning the camera optimally at the given FOV.\"\n",
      "}\n",
      "```\n",
      "{'defect_node': {'id': 4019, 'type': 'window', 'location': [0.1425959833643427, -74.4286, 1.842865393455182], 'size': [0.8078628612203475, 1.5, 2.057739326605575]}, 'associated_spaces': [{'id': 39, 'surfaces': [1040, 1072, 1082, 1118, 2046, 3047], 'location': [-5.15925, -77.4786, 7.85], 'size': [9.799, 9.96, 3.7]}], 'associated_nodes': [{'id': 1040, 'type': 'wall', 'components': [4019, 4036], 'location': [-0.26, -77.4786, 1.85], 'size': [0.0, 9.96, 3.7]}, {'id': 4036, 'type': 'window', 'location': [0.1425959833643427, -80.5286, 1.842865393455182], 'size': [0.8078628612203475, 1.5, 2.057739326605575]}, {'id': 1072, 'type': 'wall', 'components': [5059], 'location': [-10.0585, -77.4786, 1.85], 'size': [0.0, 9.96, 3.7]}, {'id': 5059, 'type': 'door', 'location': [-10.6715, -77.4786, 1.0425], 'size': [0.174, 1.4, 2.085]}, {'id': 1082, 'type': 'wall', 'components': [], 'location': [-5.15925, -82.4586, 1.85], 'size': [9.799, 0.0, 3.7]}, {'id': 1118, 'type': 'wall', 'components': [], 'location': [-5.15925, -72.4986, 1.85], 'size': [9.799, 0.0, 3.7]}, {'id': 2046, 'type': 'ceiling', 'components': [], 'location': [-5.15925, -77.4786, 3.7], 'size': [9.799, 9.96, 0.0]}, {'id': 3047, 'type': 'floor', 'components': [], 'location': [-5.15925, -77.4786, 0.0], 'size': [9.799, 9.96, 0.0]}, {'id': 4019, 'type': 'window', 'location': [0.1425959833643427, -74.4286, 1.842865393455182], 'size': [0.8078628612203475, 1.5, 2.057739326605575]}]}\n",
      "60\n"
     ]
    },
    {
     "data": {
      "application/vnd.plotly.v1+json": {
       "config": {
        "plotlyServerURL": "https://plot.ly"
       },
       "data": [
        {
         "color": "lightblue",
         "flatshading": true,
         "hoverinfo": "text",
         "i": [
          0,
          0,
          4,
          4,
          0,
          0,
          1,
          1,
          2,
          2,
          3,
          3
         ],
         "j": [
          1,
          2,
          5,
          6,
          1,
          5,
          2,
          6,
          3,
          7,
          0,
          4
         ],
         "k": [
          2,
          3,
          6,
          7,
          5,
          4,
          6,
          5,
          7,
          6,
          4,
          7
         ],
         "opacity": 0.5,
         "text": "ID: 1040, Type: wall",
         "type": "mesh3d",
         "x": [
          -0.31,
          -0.21000000000000002,
          -0.21000000000000002,
          -0.31,
          -0.31,
          -0.21000000000000002,
          -0.21000000000000002,
          -0.31
         ],
         "y": [
          -82.4586,
          -82.4586,
          -72.4986,
          -72.4986,
          -82.4586,
          -82.4586,
          -72.4986,
          -72.4986
         ],
         "z": [
          0,
          0,
          0,
          0,
          3.7,
          3.7,
          3.7,
          3.7
         ]
        },
        {
         "color": "lightgreen",
         "flatshading": true,
         "hoverinfo": "text",
         "i": [
          0,
          0,
          4,
          4,
          0,
          0,
          1,
          1,
          2,
          2,
          3,
          3
         ],
         "j": [
          1,
          2,
          5,
          6,
          1,
          5,
          2,
          6,
          3,
          7,
          0,
          4
         ],
         "k": [
          2,
          3,
          6,
          7,
          5,
          4,
          6,
          5,
          7,
          6,
          4,
          7
         ],
         "opacity": 0.5,
         "text": "ID: 4036, Type: window",
         "type": "mesh3d",
         "x": [
          -0.261335447245831,
          0.5465274139745164,
          0.5465274139745164,
          -0.261335447245831,
          -0.261335447245831,
          0.5465274139745164,
          0.5465274139745164,
          -0.261335447245831
         ],
         "y": [
          -81.2786,
          -81.2786,
          -79.7786,
          -79.7786,
          -81.2786,
          -81.2786,
          -79.7786,
          -79.7786
         ],
         "z": [
          0.8139957301523946,
          0.8139957301523946,
          0.8139957301523946,
          0.8139957301523946,
          2.871735056757969,
          2.871735056757969,
          2.871735056757969,
          2.871735056757969
         ]
        },
        {
         "color": "lightblue",
         "flatshading": true,
         "hoverinfo": "text",
         "i": [
          0,
          0,
          4,
          4,
          0,
          0,
          1,
          1,
          2,
          2,
          3,
          3
         ],
         "j": [
          1,
          2,
          5,
          6,
          1,
          5,
          2,
          6,
          3,
          7,
          0,
          4
         ],
         "k": [
          2,
          3,
          6,
          7,
          5,
          4,
          6,
          5,
          7,
          6,
          4,
          7
         ],
         "opacity": 0.5,
         "text": "ID: 1072, Type: wall",
         "type": "mesh3d",
         "x": [
          -10.108500000000001,
          -10.0085,
          -10.0085,
          -10.108500000000001,
          -10.108500000000001,
          -10.0085,
          -10.0085,
          -10.108500000000001
         ],
         "y": [
          -82.4586,
          -82.4586,
          -72.4986,
          -72.4986,
          -82.4586,
          -82.4586,
          -72.4986,
          -72.4986
         ],
         "z": [
          0,
          0,
          0,
          0,
          3.7,
          3.7,
          3.7,
          3.7
         ]
        },
        {
         "color": "lightgreen",
         "flatshading": true,
         "hoverinfo": "text",
         "i": [
          0,
          0,
          4,
          4,
          0,
          0,
          1,
          1,
          2,
          2,
          3,
          3
         ],
         "j": [
          1,
          2,
          5,
          6,
          1,
          5,
          2,
          6,
          3,
          7,
          0,
          4
         ],
         "k": [
          2,
          3,
          6,
          7,
          5,
          4,
          6,
          5,
          7,
          6,
          4,
          7
         ],
         "opacity": 0.5,
         "text": "ID: 5059, Type: door",
         "type": "mesh3d",
         "x": [
          -10.7585,
          -10.5845,
          -10.5845,
          -10.7585,
          -10.7585,
          -10.5845,
          -10.5845,
          -10.7585
         ],
         "y": [
          -78.1786,
          -78.1786,
          -76.7786,
          -76.7786,
          -78.1786,
          -78.1786,
          -76.7786,
          -76.7786
         ],
         "z": [
          0,
          0,
          0,
          0,
          2.085,
          2.085,
          2.085,
          2.085
         ]
        },
        {
         "color": "lightblue",
         "flatshading": true,
         "hoverinfo": "text",
         "i": [
          0,
          0,
          4,
          4,
          0,
          0,
          1,
          1,
          2,
          2,
          3,
          3
         ],
         "j": [
          1,
          2,
          5,
          6,
          1,
          5,
          2,
          6,
          3,
          7,
          0,
          4
         ],
         "k": [
          2,
          3,
          6,
          7,
          5,
          4,
          6,
          5,
          7,
          6,
          4,
          7
         ],
         "opacity": 0.5,
         "text": "ID: 1082, Type: wall",
         "type": "mesh3d",
         "x": [
          -10.05875,
          -0.25975000000000037,
          -0.25975000000000037,
          -10.05875,
          -10.05875,
          -0.25975000000000037,
          -0.25975000000000037,
          -10.05875
         ],
         "y": [
          -82.5086,
          -82.5086,
          -82.4086,
          -82.4086,
          -82.5086,
          -82.5086,
          -82.4086,
          -82.4086
         ],
         "z": [
          0,
          0,
          0,
          0,
          3.7,
          3.7,
          3.7,
          3.7
         ]
        },
        {
         "color": "lightblue",
         "flatshading": true,
         "hoverinfo": "text",
         "i": [
          0,
          0,
          4,
          4,
          0,
          0,
          1,
          1,
          2,
          2,
          3,
          3
         ],
         "j": [
          1,
          2,
          5,
          6,
          1,
          5,
          2,
          6,
          3,
          7,
          0,
          4
         ],
         "k": [
          2,
          3,
          6,
          7,
          5,
          4,
          6,
          5,
          7,
          6,
          4,
          7
         ],
         "opacity": 0.5,
         "text": "ID: 1118, Type: wall",
         "type": "mesh3d",
         "x": [
          -10.05875,
          -0.25975000000000037,
          -0.25975000000000037,
          -10.05875,
          -10.05875,
          -0.25975000000000037,
          -0.25975000000000037,
          -10.05875
         ],
         "y": [
          -72.5486,
          -72.5486,
          -72.4486,
          -72.4486,
          -72.5486,
          -72.5486,
          -72.4486,
          -72.4486
         ],
         "z": [
          0,
          0,
          0,
          0,
          3.7,
          3.7,
          3.7,
          3.7
         ]
        },
        {
         "color": "lightblue",
         "flatshading": true,
         "hoverinfo": "text",
         "i": [
          0,
          0,
          4,
          4,
          0,
          0,
          1,
          1,
          2,
          2,
          3,
          3
         ],
         "j": [
          1,
          2,
          5,
          6,
          1,
          5,
          2,
          6,
          3,
          7,
          0,
          4
         ],
         "k": [
          2,
          3,
          6,
          7,
          5,
          4,
          6,
          5,
          7,
          6,
          4,
          7
         ],
         "opacity": 0.5,
         "text": "ID: 2046, Type: ceiling",
         "type": "mesh3d",
         "x": [
          -10.05875,
          -0.25975000000000037,
          -0.25975000000000037,
          -10.05875,
          -10.05875,
          -0.25975000000000037,
          -0.25975000000000037,
          -10.05875
         ],
         "y": [
          -82.4586,
          -82.4586,
          -72.4986,
          -72.4986,
          -82.4586,
          -82.4586,
          -72.4986,
          -72.4986
         ],
         "z": [
          3.6500000000000004,
          3.6500000000000004,
          3.6500000000000004,
          3.6500000000000004,
          3.75,
          3.75,
          3.75,
          3.75
         ]
        },
        {
         "color": "lightblue",
         "flatshading": true,
         "hoverinfo": "text",
         "i": [
          0,
          0,
          4,
          4,
          0,
          0,
          1,
          1,
          2,
          2,
          3,
          3
         ],
         "j": [
          1,
          2,
          5,
          6,
          1,
          5,
          2,
          6,
          3,
          7,
          0,
          4
         ],
         "k": [
          2,
          3,
          6,
          7,
          5,
          4,
          6,
          5,
          7,
          6,
          4,
          7
         ],
         "opacity": 0.5,
         "text": "ID: 3047, Type: floor",
         "type": "mesh3d",
         "x": [
          -10.05875,
          -0.25975000000000037,
          -0.25975000000000037,
          -10.05875,
          -10.05875,
          -0.25975000000000037,
          -0.25975000000000037,
          -10.05875
         ],
         "y": [
          -82.4586,
          -82.4586,
          -72.4986,
          -72.4986,
          -82.4586,
          -82.4586,
          -72.4986,
          -72.4986
         ],
         "z": [
          -0.05,
          -0.05,
          -0.05,
          -0.05,
          0.05,
          0.05,
          0.05,
          0.05
         ]
        },
        {
         "color": "red",
         "flatshading": true,
         "hoverinfo": "text",
         "i": [
          0,
          0,
          4,
          4,
          0,
          0,
          1,
          1,
          2,
          2,
          3,
          3
         ],
         "j": [
          1,
          2,
          5,
          6,
          1,
          5,
          2,
          6,
          3,
          7,
          0,
          4
         ],
         "k": [
          2,
          3,
          6,
          7,
          5,
          4,
          6,
          5,
          7,
          6,
          4,
          7
         ],
         "opacity": 0.5,
         "text": "ID: 4019, Type: window",
         "type": "mesh3d",
         "x": [
          -0.261335447245831,
          0.5465274139745164,
          0.5465274139745164,
          -0.261335447245831,
          -0.261335447245831,
          0.5465274139745164,
          0.5465274139745164,
          -0.261335447245831
         ],
         "y": [
          -75.1786,
          -75.1786,
          -73.6786,
          -73.6786,
          -75.1786,
          -75.1786,
          -73.6786,
          -73.6786
         ],
         "z": [
          0.8139957301523946,
          0.8139957301523946,
          0.8139957301523946,
          0.8139957301523946,
          2.871735056757969,
          2.871735056757969,
          2.871735056757969,
          2.871735056757969
         ]
        },
        {
         "marker": {
          "color": "black",
          "size": 10
         },
         "mode": "markers",
         "name": "Camera Position",
         "type": "scatter3d",
         "x": [
          -3.5
         ],
         "y": [
          -74.4286
         ],
         "z": [
          1.5
         ]
        },
        {
         "marker": {
          "color": "purple",
          "size": 10
         },
         "mode": "markers",
         "name": "Target Position",
         "type": "scatter3d",
         "x": [
          0.1425959833643427
         ],
         "y": [
          -74.4286
         ],
         "z": [
          1.842865393455182
         ]
        },
        {
         "color": "yellow",
         "i": [
          0,
          0,
          0,
          0,
          0,
          0,
          0,
          0,
          0,
          0,
          0,
          0,
          0,
          0,
          0,
          0,
          0,
          0,
          0,
          0
         ],
         "j": [
          1,
          2,
          3,
          4,
          5,
          6,
          7,
          8,
          9,
          10,
          11,
          12,
          13,
          14,
          15,
          16,
          17,
          18,
          19,
          20
         ],
         "k": [
          2,
          3,
          4,
          5,
          6,
          7,
          8,
          9,
          10,
          11,
          12,
          13,
          14,
          15,
          16,
          17,
          18,
          19,
          20,
          1
         ],
         "name": "Field of View",
         "opacity": 0.2,
         "type": "mesh3d",
         "x": [
          -3.5,
          -0.6142589377354435,
          -1.1564426388274112,
          -1.754333891678622,
          -2.3431419018039925,
          -2.8590601850088166,
          -3.246180990010873,
          -3.4625537707899983,
          -3.4847311791791578,
          -3.310309948861439,
          -2.9581913265660083,
          -2.4665328287019426,
          -1.8886132823804382,
          -1.2870592377911296,
          -0.7270584097379911,
          -0.26929557724871866,
          0.036623553854288726,
          0.15754789889162035,
          0.0803734287439406,
          -0.1865368052629628,
          -0.614258937735443
         ],
         "y": [
          -74.4286,
          -74.49783951913223,
          -74.43155544777404,
          -74.56320436015403,
          -74.87852005387246,
          -75.34333318088785,
          -75.90727402656933,
          -76.50923084984346,
          -77.08397228858604,
          -77.56921618987703,
          -77.91237884767662,
          -78.07627326329501,
          -78.04313893371602,
          -77.81656647768166,
          -77.42110853643713,
          -76.89961911407846,
          -76.30860968126032,
          -75.71212528048477,
          -75.17480425198495,
          -74.75487366659358,
          -74.49783951913223
         ],
         "z": [
          1.5,
          4.584766978549951,
          5.015083649306778,
          5.344816563359981,
          5.538234043138579,
          5.574376303527141,
          5.449326769807615,
          5.176636499301947,
          4.785855714044931,
          4.319331575707802,
          3.8276192135472407,
          3.3640032917067573,
          2.9787237890599934,
          2.713531717946168,
          2.597164754149417,
          2.642233063816602,
          2.843852796288406,
          3.1801753250990252,
          3.614754885670105,
          4.10049803941711,
          4.5847669785499505
         ]
        }
       ],
       "layout": {
        "height": 800,
        "scene": {
         "aspectmode": "data",
         "aspectratio": {
          "x": 1,
          "y": 1,
          "z": 1
         },
         "xaxis": {
          "title": {
           "text": "X"
          },
          "visible": true
         },
         "yaxis": {
          "title": {
           "text": "Y"
          },
          "visible": true
         },
         "zaxis": {
          "title": {
           "text": "Z"
          },
          "visible": true
         }
        },
        "template": {
         "data": {
          "bar": [
           {
            "error_x": {
             "color": "#2a3f5f"
            },
            "error_y": {
             "color": "#2a3f5f"
            },
            "marker": {
             "line": {
              "color": "#E5ECF6",
              "width": 0.5
             },
             "pattern": {
              "fillmode": "overlay",
              "size": 10,
              "solidity": 0.2
             }
            },
            "type": "bar"
           }
          ],
          "barpolar": [
           {
            "marker": {
             "line": {
              "color": "#E5ECF6",
              "width": 0.5
             },
             "pattern": {
              "fillmode": "overlay",
              "size": 10,
              "solidity": 0.2
             }
            },
            "type": "barpolar"
           }
          ],
          "carpet": [
           {
            "aaxis": {
             "endlinecolor": "#2a3f5f",
             "gridcolor": "white",
             "linecolor": "white",
             "minorgridcolor": "white",
             "startlinecolor": "#2a3f5f"
            },
            "baxis": {
             "endlinecolor": "#2a3f5f",
             "gridcolor": "white",
             "linecolor": "white",
             "minorgridcolor": "white",
             "startlinecolor": "#2a3f5f"
            },
            "type": "carpet"
           }
          ],
          "choropleth": [
           {
            "colorbar": {
             "outlinewidth": 0,
             "ticks": ""
            },
            "type": "choropleth"
           }
          ],
          "contour": [
           {
            "colorbar": {
             "outlinewidth": 0,
             "ticks": ""
            },
            "colorscale": [
             [
              0,
              "#0d0887"
             ],
             [
              0.1111111111111111,
              "#46039f"
             ],
             [
              0.2222222222222222,
              "#7201a8"
             ],
             [
              0.3333333333333333,
              "#9c179e"
             ],
             [
              0.4444444444444444,
              "#bd3786"
             ],
             [
              0.5555555555555556,
              "#d8576b"
             ],
             [
              0.6666666666666666,
              "#ed7953"
             ],
             [
              0.7777777777777778,
              "#fb9f3a"
             ],
             [
              0.8888888888888888,
              "#fdca26"
             ],
             [
              1,
              "#f0f921"
             ]
            ],
            "type": "contour"
           }
          ],
          "contourcarpet": [
           {
            "colorbar": {
             "outlinewidth": 0,
             "ticks": ""
            },
            "type": "contourcarpet"
           }
          ],
          "heatmap": [
           {
            "colorbar": {
             "outlinewidth": 0,
             "ticks": ""
            },
            "colorscale": [
             [
              0,
              "#0d0887"
             ],
             [
              0.1111111111111111,
              "#46039f"
             ],
             [
              0.2222222222222222,
              "#7201a8"
             ],
             [
              0.3333333333333333,
              "#9c179e"
             ],
             [
              0.4444444444444444,
              "#bd3786"
             ],
             [
              0.5555555555555556,
              "#d8576b"
             ],
             [
              0.6666666666666666,
              "#ed7953"
             ],
             [
              0.7777777777777778,
              "#fb9f3a"
             ],
             [
              0.8888888888888888,
              "#fdca26"
             ],
             [
              1,
              "#f0f921"
             ]
            ],
            "type": "heatmap"
           }
          ],
          "heatmapgl": [
           {
            "colorbar": {
             "outlinewidth": 0,
             "ticks": ""
            },
            "colorscale": [
             [
              0,
              "#0d0887"
             ],
             [
              0.1111111111111111,
              "#46039f"
             ],
             [
              0.2222222222222222,
              "#7201a8"
             ],
             [
              0.3333333333333333,
              "#9c179e"
             ],
             [
              0.4444444444444444,
              "#bd3786"
             ],
             [
              0.5555555555555556,
              "#d8576b"
             ],
             [
              0.6666666666666666,
              "#ed7953"
             ],
             [
              0.7777777777777778,
              "#fb9f3a"
             ],
             [
              0.8888888888888888,
              "#fdca26"
             ],
             [
              1,
              "#f0f921"
             ]
            ],
            "type": "heatmapgl"
           }
          ],
          "histogram": [
           {
            "marker": {
             "pattern": {
              "fillmode": "overlay",
              "size": 10,
              "solidity": 0.2
             }
            },
            "type": "histogram"
           }
          ],
          "histogram2d": [
           {
            "colorbar": {
             "outlinewidth": 0,
             "ticks": ""
            },
            "colorscale": [
             [
              0,
              "#0d0887"
             ],
             [
              0.1111111111111111,
              "#46039f"
             ],
             [
              0.2222222222222222,
              "#7201a8"
             ],
             [
              0.3333333333333333,
              "#9c179e"
             ],
             [
              0.4444444444444444,
              "#bd3786"
             ],
             [
              0.5555555555555556,
              "#d8576b"
             ],
             [
              0.6666666666666666,
              "#ed7953"
             ],
             [
              0.7777777777777778,
              "#fb9f3a"
             ],
             [
              0.8888888888888888,
              "#fdca26"
             ],
             [
              1,
              "#f0f921"
             ]
            ],
            "type": "histogram2d"
           }
          ],
          "histogram2dcontour": [
           {
            "colorbar": {
             "outlinewidth": 0,
             "ticks": ""
            },
            "colorscale": [
             [
              0,
              "#0d0887"
             ],
             [
              0.1111111111111111,
              "#46039f"
             ],
             [
              0.2222222222222222,
              "#7201a8"
             ],
             [
              0.3333333333333333,
              "#9c179e"
             ],
             [
              0.4444444444444444,
              "#bd3786"
             ],
             [
              0.5555555555555556,
              "#d8576b"
             ],
             [
              0.6666666666666666,
              "#ed7953"
             ],
             [
              0.7777777777777778,
              "#fb9f3a"
             ],
             [
              0.8888888888888888,
              "#fdca26"
             ],
             [
              1,
              "#f0f921"
             ]
            ],
            "type": "histogram2dcontour"
           }
          ],
          "mesh3d": [
           {
            "colorbar": {
             "outlinewidth": 0,
             "ticks": ""
            },
            "type": "mesh3d"
           }
          ],
          "parcoords": [
           {
            "line": {
             "colorbar": {
              "outlinewidth": 0,
              "ticks": ""
             }
            },
            "type": "parcoords"
           }
          ],
          "pie": [
           {
            "automargin": true,
            "type": "pie"
           }
          ],
          "scatter": [
           {
            "fillpattern": {
             "fillmode": "overlay",
             "size": 10,
             "solidity": 0.2
            },
            "type": "scatter"
           }
          ],
          "scatter3d": [
           {
            "line": {
             "colorbar": {
              "outlinewidth": 0,
              "ticks": ""
             }
            },
            "marker": {
             "colorbar": {
              "outlinewidth": 0,
              "ticks": ""
             }
            },
            "type": "scatter3d"
           }
          ],
          "scattercarpet": [
           {
            "marker": {
             "colorbar": {
              "outlinewidth": 0,
              "ticks": ""
             }
            },
            "type": "scattercarpet"
           }
          ],
          "scattergeo": [
           {
            "marker": {
             "colorbar": {
              "outlinewidth": 0,
              "ticks": ""
             }
            },
            "type": "scattergeo"
           }
          ],
          "scattergl": [
           {
            "marker": {
             "colorbar": {
              "outlinewidth": 0,
              "ticks": ""
             }
            },
            "type": "scattergl"
           }
          ],
          "scattermapbox": [
           {
            "marker": {
             "colorbar": {
              "outlinewidth": 0,
              "ticks": ""
             }
            },
            "type": "scattermapbox"
           }
          ],
          "scatterpolar": [
           {
            "marker": {
             "colorbar": {
              "outlinewidth": 0,
              "ticks": ""
             }
            },
            "type": "scatterpolar"
           }
          ],
          "scatterpolargl": [
           {
            "marker": {
             "colorbar": {
              "outlinewidth": 0,
              "ticks": ""
             }
            },
            "type": "scatterpolargl"
           }
          ],
          "scatterternary": [
           {
            "marker": {
             "colorbar": {
              "outlinewidth": 0,
              "ticks": ""
             }
            },
            "type": "scatterternary"
           }
          ],
          "surface": [
           {
            "colorbar": {
             "outlinewidth": 0,
             "ticks": ""
            },
            "colorscale": [
             [
              0,
              "#0d0887"
             ],
             [
              0.1111111111111111,
              "#46039f"
             ],
             [
              0.2222222222222222,
              "#7201a8"
             ],
             [
              0.3333333333333333,
              "#9c179e"
             ],
             [
              0.4444444444444444,
              "#bd3786"
             ],
             [
              0.5555555555555556,
              "#d8576b"
             ],
             [
              0.6666666666666666,
              "#ed7953"
             ],
             [
              0.7777777777777778,
              "#fb9f3a"
             ],
             [
              0.8888888888888888,
              "#fdca26"
             ],
             [
              1,
              "#f0f921"
             ]
            ],
            "type": "surface"
           }
          ],
          "table": [
           {
            "cells": {
             "fill": {
              "color": "#EBF0F8"
             },
             "line": {
              "color": "white"
             }
            },
            "header": {
             "fill": {
              "color": "#C8D4E3"
             },
             "line": {
              "color": "white"
             }
            },
            "type": "table"
           }
          ]
         },
         "layout": {
          "annotationdefaults": {
           "arrowcolor": "#2a3f5f",
           "arrowhead": 0,
           "arrowwidth": 1
          },
          "autotypenumbers": "strict",
          "coloraxis": {
           "colorbar": {
            "outlinewidth": 0,
            "ticks": ""
           }
          },
          "colorscale": {
           "diverging": [
            [
             0,
             "#8e0152"
            ],
            [
             0.1,
             "#c51b7d"
            ],
            [
             0.2,
             "#de77ae"
            ],
            [
             0.3,
             "#f1b6da"
            ],
            [
             0.4,
             "#fde0ef"
            ],
            [
             0.5,
             "#f7f7f7"
            ],
            [
             0.6,
             "#e6f5d0"
            ],
            [
             0.7,
             "#b8e186"
            ],
            [
             0.8,
             "#7fbc41"
            ],
            [
             0.9,
             "#4d9221"
            ],
            [
             1,
             "#276419"
            ]
           ],
           "sequential": [
            [
             0,
             "#0d0887"
            ],
            [
             0.1111111111111111,
             "#46039f"
            ],
            [
             0.2222222222222222,
             "#7201a8"
            ],
            [
             0.3333333333333333,
             "#9c179e"
            ],
            [
             0.4444444444444444,
             "#bd3786"
            ],
            [
             0.5555555555555556,
             "#d8576b"
            ],
            [
             0.6666666666666666,
             "#ed7953"
            ],
            [
             0.7777777777777778,
             "#fb9f3a"
            ],
            [
             0.8888888888888888,
             "#fdca26"
            ],
            [
             1,
             "#f0f921"
            ]
           ],
           "sequentialminus": [
            [
             0,
             "#0d0887"
            ],
            [
             0.1111111111111111,
             "#46039f"
            ],
            [
             0.2222222222222222,
             "#7201a8"
            ],
            [
             0.3333333333333333,
             "#9c179e"
            ],
            [
             0.4444444444444444,
             "#bd3786"
            ],
            [
             0.5555555555555556,
             "#d8576b"
            ],
            [
             0.6666666666666666,
             "#ed7953"
            ],
            [
             0.7777777777777778,
             "#fb9f3a"
            ],
            [
             0.8888888888888888,
             "#fdca26"
            ],
            [
             1,
             "#f0f921"
            ]
           ]
          },
          "colorway": [
           "#636efa",
           "#EF553B",
           "#00cc96",
           "#ab63fa",
           "#FFA15A",
           "#19d3f3",
           "#FF6692",
           "#B6E880",
           "#FF97FF",
           "#FECB52"
          ],
          "font": {
           "color": "#2a3f5f"
          },
          "geo": {
           "bgcolor": "white",
           "lakecolor": "white",
           "landcolor": "#E5ECF6",
           "showlakes": true,
           "showland": true,
           "subunitcolor": "white"
          },
          "hoverlabel": {
           "align": "left"
          },
          "hovermode": "closest",
          "mapbox": {
           "style": "light"
          },
          "paper_bgcolor": "white",
          "plot_bgcolor": "#E5ECF6",
          "polar": {
           "angularaxis": {
            "gridcolor": "white",
            "linecolor": "white",
            "ticks": ""
           },
           "bgcolor": "#E5ECF6",
           "radialaxis": {
            "gridcolor": "white",
            "linecolor": "white",
            "ticks": ""
           }
          },
          "scene": {
           "xaxis": {
            "backgroundcolor": "#E5ECF6",
            "gridcolor": "white",
            "gridwidth": 2,
            "linecolor": "white",
            "showbackground": true,
            "ticks": "",
            "zerolinecolor": "white"
           },
           "yaxis": {
            "backgroundcolor": "#E5ECF6",
            "gridcolor": "white",
            "gridwidth": 2,
            "linecolor": "white",
            "showbackground": true,
            "ticks": "",
            "zerolinecolor": "white"
           },
           "zaxis": {
            "backgroundcolor": "#E5ECF6",
            "gridcolor": "white",
            "gridwidth": 2,
            "linecolor": "white",
            "showbackground": true,
            "ticks": "",
            "zerolinecolor": "white"
           }
          },
          "shapedefaults": {
           "line": {
            "color": "#2a3f5f"
           }
          },
          "ternary": {
           "aaxis": {
            "gridcolor": "white",
            "linecolor": "white",
            "ticks": ""
           },
           "baxis": {
            "gridcolor": "white",
            "linecolor": "white",
            "ticks": ""
           },
           "bgcolor": "#E5ECF6",
           "caxis": {
            "gridcolor": "white",
            "linecolor": "white",
            "ticks": ""
           }
          },
          "title": {
           "x": 0.05
          },
          "xaxis": {
           "automargin": true,
           "gridcolor": "white",
           "linecolor": "white",
           "ticks": "",
           "title": {
            "standoff": 15
           },
           "zerolinecolor": "white",
           "zerolinewidth": 2
          },
          "yaxis": {
           "automargin": true,
           "gridcolor": "white",
           "linecolor": "white",
           "ticks": "",
           "title": {
            "standoff": 15
           },
           "zerolinecolor": "white",
           "zerolinewidth": 2
          }
         }
        },
        "title": {
         "text": "Visualization on the optimal scanning position and direction"
        },
        "width": 1200
       }
      }
     },
     "metadata": {},
     "output_type": "display_data"
    }
   ],
   "source": [
    "# the room id: 39\n",
    "# the window (left) of the room\n",
    "defect_id = 4019\n",
    "robot_id = 1\n",
    "\n",
    "optimal_location, optimal_direction = get_scanning_plan_o1(defect_id, robot_id, gpt_model=\"gpt-4o\")\n",
    "visualize_scanning(defect_id, robot_id, optimal_location, optimal_direction)"
   ]
  },
  {
   "cell_type": "code",
   "execution_count": 6,
   "metadata": {},
   "outputs": [
    {
     "name": "stdout",
     "output_type": "stream",
     "text": [
      "To determine the optimal camera location and direction for scanning a specific defect (a window in this particular scenario), we need to consider the geometric properties of the room and the camera's field of view. The defect window is located at coordinates `[0.1425959833643427, -80.5286, 1.842865393455182]`, and the associated space is a room with defined walls, ceiling, and floor.\n",
      "\n",
      "### Step 1: Analyzing the Environment\n",
      "\n",
      "1. **Defect Position and Dimensions**: The defect (window 4036) has its center at approximately `[0.1426, -80.5286, 1.8429]` and dimensions `[0.8079, 1.5, 2.0577]`. The window is placed on the wall (1040).\n",
      "\n",
      "2. **Room Boundaries**: The associated space (room 39) is defined by its location `[-5.15925, -77.4786, 7.85]` and size `[9.799, 9.96, 3.7]`. It extends from `-10.0585` to `-0.2595` in the x-direction and from `-82.4586` to `-72.4986` in the y-direction, with the floor at `z = 0` and ceiling at `z = 3.7`.\n",
      "\n",
      "### Step 2: Optimal Camera Location and Direction\n",
      "\n",
      "3. **Camera Location**: The optimal location will be somewhere facing the window for a clear view while ensuring coverage. Since the window is mounted on the wall parallel to the y-axis, we choose a point opposite this wall.\n",
      "   - **X Coordinate**: Ideally, around the center in the negative x-direction compared to the window, hence `-5.15925` (middle of the room).\n",
      "   - **Y Coordinate**: A little into the room for a clear view, hence slightly greater than the defect y, proposed around `-78.0`.\n",
      "   - **Z Coordinate**: Optimal z is around the middle height of the window to ensure it can capture the entire height, approximately `1.5` (halfway the room's height, allowing to tilt towards the window).\n",
      "\n",
      "4. **Camera Direction**: The camera should directly face the window for full exposure with an added angle accommodating the FoV.\n",
      "   - **X Direction**: Aiming towards the x-coordinate of the window, calculated as `0.1426 - (-5.15925) ~ 5.3`.\n",
      "   - **Y Direction**: Directed towards the defect y-coordinate as `-80.5286 - (-78.0) ~ -2.5286`.\n",
      "   - **Z Direction**: Slight upward tilt is needed, so calculated as `1.8429 - 1.5 ~ 0.3429`.\n",
      "\n",
      "### JSON Output\n",
      "\n",
      "```json\n",
      "{\n",
      "    \"optimal_location\": [-5.15925, -78.0, 1.5],\n",
      "    \"optimal_direction\": [5.316895983364342, -2.5286, 0.342865393455182]\n",
      "}\n",
      "```\n",
      "\n",
      "This result gives a good vantage point for the camera to focus directly on the defect while covering its entire area within a 60-degree FoV.\n",
      "{'defect_node': {'id': 4036, 'type': 'window', 'location': [0.1425959833643427, -80.5286, 1.842865393455182], 'size': [0.8078628612203475, 1.5, 2.057739326605575]}, 'associated_spaces': [{'id': 39, 'surfaces': [1040, 1072, 1082, 1118, 2046, 3047], 'location': [-5.15925, -77.4786, 7.85], 'size': [9.799, 9.96, 3.7]}], 'associated_nodes': [{'id': 1040, 'type': 'wall', 'components': [4019, 4036], 'location': [-0.26, -77.4786, 1.85], 'size': [0.0, 9.96, 3.7]}, {'id': 4019, 'type': 'window', 'location': [0.1425959833643427, -74.4286, 1.842865393455182], 'size': [0.8078628612203475, 1.5, 2.057739326605575]}, {'id': 1072, 'type': 'wall', 'components': [5059], 'location': [-10.0585, -77.4786, 1.85], 'size': [0.0, 9.96, 3.7]}, {'id': 5059, 'type': 'door', 'location': [-10.6715, -77.4786, 1.0425], 'size': [0.174, 1.4, 2.085]}, {'id': 1082, 'type': 'wall', 'components': [], 'location': [-5.15925, -82.4586, 1.85], 'size': [9.799, 0.0, 3.7]}, {'id': 1118, 'type': 'wall', 'components': [], 'location': [-5.15925, -72.4986, 1.85], 'size': [9.799, 0.0, 3.7]}, {'id': 2046, 'type': 'ceiling', 'components': [], 'location': [-5.15925, -77.4786, 3.7], 'size': [9.799, 9.96, 0.0]}, {'id': 3047, 'type': 'floor', 'components': [], 'location': [-5.15925, -77.4786, 0.0], 'size': [9.799, 9.96, 0.0]}, {'id': 4036, 'type': 'window', 'location': [0.1425959833643427, -80.5286, 1.842865393455182], 'size': [0.8078628612203475, 1.5, 2.057739326605575]}]}\n",
      "60\n"
     ]
    },
    {
     "data": {
      "application/vnd.plotly.v1+json": {
       "config": {
        "plotlyServerURL": "https://plot.ly"
       },
       "data": [
        {
         "color": "lightblue",
         "flatshading": true,
         "hoverinfo": "text",
         "i": [
          0,
          0,
          4,
          4,
          0,
          0,
          1,
          1,
          2,
          2,
          3,
          3
         ],
         "j": [
          1,
          2,
          5,
          6,
          1,
          5,
          2,
          6,
          3,
          7,
          0,
          4
         ],
         "k": [
          2,
          3,
          6,
          7,
          5,
          4,
          6,
          5,
          7,
          6,
          4,
          7
         ],
         "opacity": 0.5,
         "text": "ID: 1040, Type: wall",
         "type": "mesh3d",
         "x": [
          -0.31,
          -0.21000000000000002,
          -0.21000000000000002,
          -0.31,
          -0.31,
          -0.21000000000000002,
          -0.21000000000000002,
          -0.31
         ],
         "y": [
          -82.4586,
          -82.4586,
          -72.4986,
          -72.4986,
          -82.4586,
          -82.4586,
          -72.4986,
          -72.4986
         ],
         "z": [
          0,
          0,
          0,
          0,
          3.7,
          3.7,
          3.7,
          3.7
         ]
        },
        {
         "color": "lightgreen",
         "flatshading": true,
         "hoverinfo": "text",
         "i": [
          0,
          0,
          4,
          4,
          0,
          0,
          1,
          1,
          2,
          2,
          3,
          3
         ],
         "j": [
          1,
          2,
          5,
          6,
          1,
          5,
          2,
          6,
          3,
          7,
          0,
          4
         ],
         "k": [
          2,
          3,
          6,
          7,
          5,
          4,
          6,
          5,
          7,
          6,
          4,
          7
         ],
         "opacity": 0.5,
         "text": "ID: 4019, Type: window",
         "type": "mesh3d",
         "x": [
          -0.261335447245831,
          0.5465274139745164,
          0.5465274139745164,
          -0.261335447245831,
          -0.261335447245831,
          0.5465274139745164,
          0.5465274139745164,
          -0.261335447245831
         ],
         "y": [
          -75.1786,
          -75.1786,
          -73.6786,
          -73.6786,
          -75.1786,
          -75.1786,
          -73.6786,
          -73.6786
         ],
         "z": [
          0.8139957301523946,
          0.8139957301523946,
          0.8139957301523946,
          0.8139957301523946,
          2.871735056757969,
          2.871735056757969,
          2.871735056757969,
          2.871735056757969
         ]
        },
        {
         "color": "lightblue",
         "flatshading": true,
         "hoverinfo": "text",
         "i": [
          0,
          0,
          4,
          4,
          0,
          0,
          1,
          1,
          2,
          2,
          3,
          3
         ],
         "j": [
          1,
          2,
          5,
          6,
          1,
          5,
          2,
          6,
          3,
          7,
          0,
          4
         ],
         "k": [
          2,
          3,
          6,
          7,
          5,
          4,
          6,
          5,
          7,
          6,
          4,
          7
         ],
         "opacity": 0.5,
         "text": "ID: 1072, Type: wall",
         "type": "mesh3d",
         "x": [
          -10.108500000000001,
          -10.0085,
          -10.0085,
          -10.108500000000001,
          -10.108500000000001,
          -10.0085,
          -10.0085,
          -10.108500000000001
         ],
         "y": [
          -82.4586,
          -82.4586,
          -72.4986,
          -72.4986,
          -82.4586,
          -82.4586,
          -72.4986,
          -72.4986
         ],
         "z": [
          0,
          0,
          0,
          0,
          3.7,
          3.7,
          3.7,
          3.7
         ]
        },
        {
         "color": "lightgreen",
         "flatshading": true,
         "hoverinfo": "text",
         "i": [
          0,
          0,
          4,
          4,
          0,
          0,
          1,
          1,
          2,
          2,
          3,
          3
         ],
         "j": [
          1,
          2,
          5,
          6,
          1,
          5,
          2,
          6,
          3,
          7,
          0,
          4
         ],
         "k": [
          2,
          3,
          6,
          7,
          5,
          4,
          6,
          5,
          7,
          6,
          4,
          7
         ],
         "opacity": 0.5,
         "text": "ID: 5059, Type: door",
         "type": "mesh3d",
         "x": [
          -10.7585,
          -10.5845,
          -10.5845,
          -10.7585,
          -10.7585,
          -10.5845,
          -10.5845,
          -10.7585
         ],
         "y": [
          -78.1786,
          -78.1786,
          -76.7786,
          -76.7786,
          -78.1786,
          -78.1786,
          -76.7786,
          -76.7786
         ],
         "z": [
          0,
          0,
          0,
          0,
          2.085,
          2.085,
          2.085,
          2.085
         ]
        },
        {
         "color": "lightblue",
         "flatshading": true,
         "hoverinfo": "text",
         "i": [
          0,
          0,
          4,
          4,
          0,
          0,
          1,
          1,
          2,
          2,
          3,
          3
         ],
         "j": [
          1,
          2,
          5,
          6,
          1,
          5,
          2,
          6,
          3,
          7,
          0,
          4
         ],
         "k": [
          2,
          3,
          6,
          7,
          5,
          4,
          6,
          5,
          7,
          6,
          4,
          7
         ],
         "opacity": 0.5,
         "text": "ID: 1082, Type: wall",
         "type": "mesh3d",
         "x": [
          -10.05875,
          -0.25975000000000037,
          -0.25975000000000037,
          -10.05875,
          -10.05875,
          -0.25975000000000037,
          -0.25975000000000037,
          -10.05875
         ],
         "y": [
          -82.5086,
          -82.5086,
          -82.4086,
          -82.4086,
          -82.5086,
          -82.5086,
          -82.4086,
          -82.4086
         ],
         "z": [
          0,
          0,
          0,
          0,
          3.7,
          3.7,
          3.7,
          3.7
         ]
        },
        {
         "color": "lightblue",
         "flatshading": true,
         "hoverinfo": "text",
         "i": [
          0,
          0,
          4,
          4,
          0,
          0,
          1,
          1,
          2,
          2,
          3,
          3
         ],
         "j": [
          1,
          2,
          5,
          6,
          1,
          5,
          2,
          6,
          3,
          7,
          0,
          4
         ],
         "k": [
          2,
          3,
          6,
          7,
          5,
          4,
          6,
          5,
          7,
          6,
          4,
          7
         ],
         "opacity": 0.5,
         "text": "ID: 1118, Type: wall",
         "type": "mesh3d",
         "x": [
          -10.05875,
          -0.25975000000000037,
          -0.25975000000000037,
          -10.05875,
          -10.05875,
          -0.25975000000000037,
          -0.25975000000000037,
          -10.05875
         ],
         "y": [
          -72.5486,
          -72.5486,
          -72.4486,
          -72.4486,
          -72.5486,
          -72.5486,
          -72.4486,
          -72.4486
         ],
         "z": [
          0,
          0,
          0,
          0,
          3.7,
          3.7,
          3.7,
          3.7
         ]
        },
        {
         "color": "lightblue",
         "flatshading": true,
         "hoverinfo": "text",
         "i": [
          0,
          0,
          4,
          4,
          0,
          0,
          1,
          1,
          2,
          2,
          3,
          3
         ],
         "j": [
          1,
          2,
          5,
          6,
          1,
          5,
          2,
          6,
          3,
          7,
          0,
          4
         ],
         "k": [
          2,
          3,
          6,
          7,
          5,
          4,
          6,
          5,
          7,
          6,
          4,
          7
         ],
         "opacity": 0.5,
         "text": "ID: 2046, Type: ceiling",
         "type": "mesh3d",
         "x": [
          -10.05875,
          -0.25975000000000037,
          -0.25975000000000037,
          -10.05875,
          -10.05875,
          -0.25975000000000037,
          -0.25975000000000037,
          -10.05875
         ],
         "y": [
          -82.4586,
          -82.4586,
          -72.4986,
          -72.4986,
          -82.4586,
          -82.4586,
          -72.4986,
          -72.4986
         ],
         "z": [
          3.6500000000000004,
          3.6500000000000004,
          3.6500000000000004,
          3.6500000000000004,
          3.75,
          3.75,
          3.75,
          3.75
         ]
        },
        {
         "color": "lightblue",
         "flatshading": true,
         "hoverinfo": "text",
         "i": [
          0,
          0,
          4,
          4,
          0,
          0,
          1,
          1,
          2,
          2,
          3,
          3
         ],
         "j": [
          1,
          2,
          5,
          6,
          1,
          5,
          2,
          6,
          3,
          7,
          0,
          4
         ],
         "k": [
          2,
          3,
          6,
          7,
          5,
          4,
          6,
          5,
          7,
          6,
          4,
          7
         ],
         "opacity": 0.5,
         "text": "ID: 3047, Type: floor",
         "type": "mesh3d",
         "x": [
          -10.05875,
          -0.25975000000000037,
          -0.25975000000000037,
          -10.05875,
          -10.05875,
          -0.25975000000000037,
          -0.25975000000000037,
          -10.05875
         ],
         "y": [
          -82.4586,
          -82.4586,
          -72.4986,
          -72.4986,
          -82.4586,
          -82.4586,
          -72.4986,
          -72.4986
         ],
         "z": [
          -0.05,
          -0.05,
          -0.05,
          -0.05,
          0.05,
          0.05,
          0.05,
          0.05
         ]
        },
        {
         "color": "red",
         "flatshading": true,
         "hoverinfo": "text",
         "i": [
          0,
          0,
          4,
          4,
          0,
          0,
          1,
          1,
          2,
          2,
          3,
          3
         ],
         "j": [
          1,
          2,
          5,
          6,
          1,
          5,
          2,
          6,
          3,
          7,
          0,
          4
         ],
         "k": [
          2,
          3,
          6,
          7,
          5,
          4,
          6,
          5,
          7,
          6,
          4,
          7
         ],
         "opacity": 0.5,
         "text": "ID: 4036, Type: window",
         "type": "mesh3d",
         "x": [
          -0.261335447245831,
          0.5465274139745164,
          0.5465274139745164,
          -0.261335447245831,
          -0.261335447245831,
          0.5465274139745164,
          0.5465274139745164,
          -0.261335447245831
         ],
         "y": [
          -81.2786,
          -81.2786,
          -79.7786,
          -79.7786,
          -81.2786,
          -81.2786,
          -79.7786,
          -79.7786
         ],
         "z": [
          0.8139957301523946,
          0.8139957301523946,
          0.8139957301523946,
          0.8139957301523946,
          2.871735056757969,
          2.871735056757969,
          2.871735056757969,
          2.871735056757969
         ]
        },
        {
         "marker": {
          "color": "black",
          "size": 10
         },
         "mode": "markers",
         "name": "Camera Position",
         "type": "scatter3d",
         "x": [
          -5.15925
         ],
         "y": [
          -78
         ],
         "z": [
          1.5
         ]
        },
        {
         "marker": {
          "color": "purple",
          "size": 10
         },
         "mode": "markers",
         "name": "Target Position",
         "type": "scatter3d",
         "x": [
          0.1425959833643427
         ],
         "y": [
          -80.5286
         ],
         "z": [
          1.842865393455182
         ]
        },
        {
         "color": "yellow",
         "i": [
          0,
          0,
          0,
          0,
          0,
          0,
          0,
          0,
          0,
          0,
          0,
          0,
          0,
          0,
          0,
          0,
          0,
          0,
          0,
          0
         ],
         "j": [
          1,
          2,
          3,
          4,
          5,
          6,
          7,
          8,
          9,
          10,
          11,
          12,
          13,
          14,
          15,
          16,
          17,
          18,
          19,
          20
         ],
         "k": [
          2,
          3,
          4,
          5,
          6,
          7,
          8,
          9,
          10,
          11,
          12,
          13,
          14,
          15,
          16,
          17,
          18,
          19,
          20,
          1
         ],
         "name": "Field of View",
         "opacity": 0.2,
         "type": "mesh3d",
         "x": [
          -5.15925,
          1.6019468246754425,
          1.4589004737436593,
          1.1735177829639394,
          0.776724395050965,
          0.31151903046888574,
          -0.17168609112486166,
          -0.6205281971056156,
          -0.9863682807875129,
          -1.2295618925098397,
          -1.323755230904796,
          -1.2587409861970524,
          -1.0415644606006405,
          -0.6957601005049332,
          -0.25880117403379455,
          0.221961039013304,
          0.6944284930583642,
          1.1074020083677052,
          1.4161294966132374,
          1.5871555440430054,
          1.6019468246754425
         ],
         "y": [
          -78,
          -77.45409503087102,
          -77.60590574315819,
          -78.0738054803922,
          -78.80709004583126,
          -79.72629667872768,
          -80.73181507744668,
          -81.71468172126154,
          -82.5683877585676,
          -83.20042089360872,
          -83.54229052919868,
          -83.55694978566734,
          -83.24281010511451,
          -82.63391339630749,
          -81.79624306565138,
          -80.82057369126719,
          -79.81263418893961,
          -78.88165044353863,
          -78.12850898957966,
          -77.63482438979287,
          -77.45409503087102
         ],
         "z": [
          1.5,
          1.886608184695248,
          2.9852725842098,
          3.9600539798777654,
          4.7053196821867544,
          5.1403085883027355,
          5.2178829006997365,
          4.929636238940064,
          4.3068046014331625,
          3.416881460331503,
          2.356303796553732,
          1.240001656528201,
          0.18894369833904578,
          -0.6829716393993568,
          -1.281258800682632,
          -1.541084088203927,
          -1.4342914004555833,
          -0.9724533822144172,
          -0.20561734891206673,
          0.7831181165561375,
          1.8866081846952474
         ]
        }
       ],
       "layout": {
        "height": 800,
        "scene": {
         "aspectmode": "data",
         "aspectratio": {
          "x": 1,
          "y": 1,
          "z": 1
         },
         "xaxis": {
          "title": {
           "text": "X"
          },
          "visible": true
         },
         "yaxis": {
          "title": {
           "text": "Y"
          },
          "visible": true
         },
         "zaxis": {
          "title": {
           "text": "Z"
          },
          "visible": true
         }
        },
        "template": {
         "data": {
          "bar": [
           {
            "error_x": {
             "color": "#2a3f5f"
            },
            "error_y": {
             "color": "#2a3f5f"
            },
            "marker": {
             "line": {
              "color": "#E5ECF6",
              "width": 0.5
             },
             "pattern": {
              "fillmode": "overlay",
              "size": 10,
              "solidity": 0.2
             }
            },
            "type": "bar"
           }
          ],
          "barpolar": [
           {
            "marker": {
             "line": {
              "color": "#E5ECF6",
              "width": 0.5
             },
             "pattern": {
              "fillmode": "overlay",
              "size": 10,
              "solidity": 0.2
             }
            },
            "type": "barpolar"
           }
          ],
          "carpet": [
           {
            "aaxis": {
             "endlinecolor": "#2a3f5f",
             "gridcolor": "white",
             "linecolor": "white",
             "minorgridcolor": "white",
             "startlinecolor": "#2a3f5f"
            },
            "baxis": {
             "endlinecolor": "#2a3f5f",
             "gridcolor": "white",
             "linecolor": "white",
             "minorgridcolor": "white",
             "startlinecolor": "#2a3f5f"
            },
            "type": "carpet"
           }
          ],
          "choropleth": [
           {
            "colorbar": {
             "outlinewidth": 0,
             "ticks": ""
            },
            "type": "choropleth"
           }
          ],
          "contour": [
           {
            "colorbar": {
             "outlinewidth": 0,
             "ticks": ""
            },
            "colorscale": [
             [
              0,
              "#0d0887"
             ],
             [
              0.1111111111111111,
              "#46039f"
             ],
             [
              0.2222222222222222,
              "#7201a8"
             ],
             [
              0.3333333333333333,
              "#9c179e"
             ],
             [
              0.4444444444444444,
              "#bd3786"
             ],
             [
              0.5555555555555556,
              "#d8576b"
             ],
             [
              0.6666666666666666,
              "#ed7953"
             ],
             [
              0.7777777777777778,
              "#fb9f3a"
             ],
             [
              0.8888888888888888,
              "#fdca26"
             ],
             [
              1,
              "#f0f921"
             ]
            ],
            "type": "contour"
           }
          ],
          "contourcarpet": [
           {
            "colorbar": {
             "outlinewidth": 0,
             "ticks": ""
            },
            "type": "contourcarpet"
           }
          ],
          "heatmap": [
           {
            "colorbar": {
             "outlinewidth": 0,
             "ticks": ""
            },
            "colorscale": [
             [
              0,
              "#0d0887"
             ],
             [
              0.1111111111111111,
              "#46039f"
             ],
             [
              0.2222222222222222,
              "#7201a8"
             ],
             [
              0.3333333333333333,
              "#9c179e"
             ],
             [
              0.4444444444444444,
              "#bd3786"
             ],
             [
              0.5555555555555556,
              "#d8576b"
             ],
             [
              0.6666666666666666,
              "#ed7953"
             ],
             [
              0.7777777777777778,
              "#fb9f3a"
             ],
             [
              0.8888888888888888,
              "#fdca26"
             ],
             [
              1,
              "#f0f921"
             ]
            ],
            "type": "heatmap"
           }
          ],
          "heatmapgl": [
           {
            "colorbar": {
             "outlinewidth": 0,
             "ticks": ""
            },
            "colorscale": [
             [
              0,
              "#0d0887"
             ],
             [
              0.1111111111111111,
              "#46039f"
             ],
             [
              0.2222222222222222,
              "#7201a8"
             ],
             [
              0.3333333333333333,
              "#9c179e"
             ],
             [
              0.4444444444444444,
              "#bd3786"
             ],
             [
              0.5555555555555556,
              "#d8576b"
             ],
             [
              0.6666666666666666,
              "#ed7953"
             ],
             [
              0.7777777777777778,
              "#fb9f3a"
             ],
             [
              0.8888888888888888,
              "#fdca26"
             ],
             [
              1,
              "#f0f921"
             ]
            ],
            "type": "heatmapgl"
           }
          ],
          "histogram": [
           {
            "marker": {
             "pattern": {
              "fillmode": "overlay",
              "size": 10,
              "solidity": 0.2
             }
            },
            "type": "histogram"
           }
          ],
          "histogram2d": [
           {
            "colorbar": {
             "outlinewidth": 0,
             "ticks": ""
            },
            "colorscale": [
             [
              0,
              "#0d0887"
             ],
             [
              0.1111111111111111,
              "#46039f"
             ],
             [
              0.2222222222222222,
              "#7201a8"
             ],
             [
              0.3333333333333333,
              "#9c179e"
             ],
             [
              0.4444444444444444,
              "#bd3786"
             ],
             [
              0.5555555555555556,
              "#d8576b"
             ],
             [
              0.6666666666666666,
              "#ed7953"
             ],
             [
              0.7777777777777778,
              "#fb9f3a"
             ],
             [
              0.8888888888888888,
              "#fdca26"
             ],
             [
              1,
              "#f0f921"
             ]
            ],
            "type": "histogram2d"
           }
          ],
          "histogram2dcontour": [
           {
            "colorbar": {
             "outlinewidth": 0,
             "ticks": ""
            },
            "colorscale": [
             [
              0,
              "#0d0887"
             ],
             [
              0.1111111111111111,
              "#46039f"
             ],
             [
              0.2222222222222222,
              "#7201a8"
             ],
             [
              0.3333333333333333,
              "#9c179e"
             ],
             [
              0.4444444444444444,
              "#bd3786"
             ],
             [
              0.5555555555555556,
              "#d8576b"
             ],
             [
              0.6666666666666666,
              "#ed7953"
             ],
             [
              0.7777777777777778,
              "#fb9f3a"
             ],
             [
              0.8888888888888888,
              "#fdca26"
             ],
             [
              1,
              "#f0f921"
             ]
            ],
            "type": "histogram2dcontour"
           }
          ],
          "mesh3d": [
           {
            "colorbar": {
             "outlinewidth": 0,
             "ticks": ""
            },
            "type": "mesh3d"
           }
          ],
          "parcoords": [
           {
            "line": {
             "colorbar": {
              "outlinewidth": 0,
              "ticks": ""
             }
            },
            "type": "parcoords"
           }
          ],
          "pie": [
           {
            "automargin": true,
            "type": "pie"
           }
          ],
          "scatter": [
           {
            "fillpattern": {
             "fillmode": "overlay",
             "size": 10,
             "solidity": 0.2
            },
            "type": "scatter"
           }
          ],
          "scatter3d": [
           {
            "line": {
             "colorbar": {
              "outlinewidth": 0,
              "ticks": ""
             }
            },
            "marker": {
             "colorbar": {
              "outlinewidth": 0,
              "ticks": ""
             }
            },
            "type": "scatter3d"
           }
          ],
          "scattercarpet": [
           {
            "marker": {
             "colorbar": {
              "outlinewidth": 0,
              "ticks": ""
             }
            },
            "type": "scattercarpet"
           }
          ],
          "scattergeo": [
           {
            "marker": {
             "colorbar": {
              "outlinewidth": 0,
              "ticks": ""
             }
            },
            "type": "scattergeo"
           }
          ],
          "scattergl": [
           {
            "marker": {
             "colorbar": {
              "outlinewidth": 0,
              "ticks": ""
             }
            },
            "type": "scattergl"
           }
          ],
          "scattermapbox": [
           {
            "marker": {
             "colorbar": {
              "outlinewidth": 0,
              "ticks": ""
             }
            },
            "type": "scattermapbox"
           }
          ],
          "scatterpolar": [
           {
            "marker": {
             "colorbar": {
              "outlinewidth": 0,
              "ticks": ""
             }
            },
            "type": "scatterpolar"
           }
          ],
          "scatterpolargl": [
           {
            "marker": {
             "colorbar": {
              "outlinewidth": 0,
              "ticks": ""
             }
            },
            "type": "scatterpolargl"
           }
          ],
          "scatterternary": [
           {
            "marker": {
             "colorbar": {
              "outlinewidth": 0,
              "ticks": ""
             }
            },
            "type": "scatterternary"
           }
          ],
          "surface": [
           {
            "colorbar": {
             "outlinewidth": 0,
             "ticks": ""
            },
            "colorscale": [
             [
              0,
              "#0d0887"
             ],
             [
              0.1111111111111111,
              "#46039f"
             ],
             [
              0.2222222222222222,
              "#7201a8"
             ],
             [
              0.3333333333333333,
              "#9c179e"
             ],
             [
              0.4444444444444444,
              "#bd3786"
             ],
             [
              0.5555555555555556,
              "#d8576b"
             ],
             [
              0.6666666666666666,
              "#ed7953"
             ],
             [
              0.7777777777777778,
              "#fb9f3a"
             ],
             [
              0.8888888888888888,
              "#fdca26"
             ],
             [
              1,
              "#f0f921"
             ]
            ],
            "type": "surface"
           }
          ],
          "table": [
           {
            "cells": {
             "fill": {
              "color": "#EBF0F8"
             },
             "line": {
              "color": "white"
             }
            },
            "header": {
             "fill": {
              "color": "#C8D4E3"
             },
             "line": {
              "color": "white"
             }
            },
            "type": "table"
           }
          ]
         },
         "layout": {
          "annotationdefaults": {
           "arrowcolor": "#2a3f5f",
           "arrowhead": 0,
           "arrowwidth": 1
          },
          "autotypenumbers": "strict",
          "coloraxis": {
           "colorbar": {
            "outlinewidth": 0,
            "ticks": ""
           }
          },
          "colorscale": {
           "diverging": [
            [
             0,
             "#8e0152"
            ],
            [
             0.1,
             "#c51b7d"
            ],
            [
             0.2,
             "#de77ae"
            ],
            [
             0.3,
             "#f1b6da"
            ],
            [
             0.4,
             "#fde0ef"
            ],
            [
             0.5,
             "#f7f7f7"
            ],
            [
             0.6,
             "#e6f5d0"
            ],
            [
             0.7,
             "#b8e186"
            ],
            [
             0.8,
             "#7fbc41"
            ],
            [
             0.9,
             "#4d9221"
            ],
            [
             1,
             "#276419"
            ]
           ],
           "sequential": [
            [
             0,
             "#0d0887"
            ],
            [
             0.1111111111111111,
             "#46039f"
            ],
            [
             0.2222222222222222,
             "#7201a8"
            ],
            [
             0.3333333333333333,
             "#9c179e"
            ],
            [
             0.4444444444444444,
             "#bd3786"
            ],
            [
             0.5555555555555556,
             "#d8576b"
            ],
            [
             0.6666666666666666,
             "#ed7953"
            ],
            [
             0.7777777777777778,
             "#fb9f3a"
            ],
            [
             0.8888888888888888,
             "#fdca26"
            ],
            [
             1,
             "#f0f921"
            ]
           ],
           "sequentialminus": [
            [
             0,
             "#0d0887"
            ],
            [
             0.1111111111111111,
             "#46039f"
            ],
            [
             0.2222222222222222,
             "#7201a8"
            ],
            [
             0.3333333333333333,
             "#9c179e"
            ],
            [
             0.4444444444444444,
             "#bd3786"
            ],
            [
             0.5555555555555556,
             "#d8576b"
            ],
            [
             0.6666666666666666,
             "#ed7953"
            ],
            [
             0.7777777777777778,
             "#fb9f3a"
            ],
            [
             0.8888888888888888,
             "#fdca26"
            ],
            [
             1,
             "#f0f921"
            ]
           ]
          },
          "colorway": [
           "#636efa",
           "#EF553B",
           "#00cc96",
           "#ab63fa",
           "#FFA15A",
           "#19d3f3",
           "#FF6692",
           "#B6E880",
           "#FF97FF",
           "#FECB52"
          ],
          "font": {
           "color": "#2a3f5f"
          },
          "geo": {
           "bgcolor": "white",
           "lakecolor": "white",
           "landcolor": "#E5ECF6",
           "showlakes": true,
           "showland": true,
           "subunitcolor": "white"
          },
          "hoverlabel": {
           "align": "left"
          },
          "hovermode": "closest",
          "mapbox": {
           "style": "light"
          },
          "paper_bgcolor": "white",
          "plot_bgcolor": "#E5ECF6",
          "polar": {
           "angularaxis": {
            "gridcolor": "white",
            "linecolor": "white",
            "ticks": ""
           },
           "bgcolor": "#E5ECF6",
           "radialaxis": {
            "gridcolor": "white",
            "linecolor": "white",
            "ticks": ""
           }
          },
          "scene": {
           "xaxis": {
            "backgroundcolor": "#E5ECF6",
            "gridcolor": "white",
            "gridwidth": 2,
            "linecolor": "white",
            "showbackground": true,
            "ticks": "",
            "zerolinecolor": "white"
           },
           "yaxis": {
            "backgroundcolor": "#E5ECF6",
            "gridcolor": "white",
            "gridwidth": 2,
            "linecolor": "white",
            "showbackground": true,
            "ticks": "",
            "zerolinecolor": "white"
           },
           "zaxis": {
            "backgroundcolor": "#E5ECF6",
            "gridcolor": "white",
            "gridwidth": 2,
            "linecolor": "white",
            "showbackground": true,
            "ticks": "",
            "zerolinecolor": "white"
           }
          },
          "shapedefaults": {
           "line": {
            "color": "#2a3f5f"
           }
          },
          "ternary": {
           "aaxis": {
            "gridcolor": "white",
            "linecolor": "white",
            "ticks": ""
           },
           "baxis": {
            "gridcolor": "white",
            "linecolor": "white",
            "ticks": ""
           },
           "bgcolor": "#E5ECF6",
           "caxis": {
            "gridcolor": "white",
            "linecolor": "white",
            "ticks": ""
           }
          },
          "title": {
           "x": 0.05
          },
          "xaxis": {
           "automargin": true,
           "gridcolor": "white",
           "linecolor": "white",
           "ticks": "",
           "title": {
            "standoff": 15
           },
           "zerolinecolor": "white",
           "zerolinewidth": 2
          },
          "yaxis": {
           "automargin": true,
           "gridcolor": "white",
           "linecolor": "white",
           "ticks": "",
           "title": {
            "standoff": 15
           },
           "zerolinecolor": "white",
           "zerolinewidth": 2
          }
         }
        },
        "title": {
         "text": "Visualization on the optimal scanning position and direction"
        },
        "width": 1200
       }
      }
     },
     "metadata": {},
     "output_type": "display_data"
    }
   ],
   "source": [
    "# the room id: 39\n",
    "# the window (right) of the room\n",
    "defect_id = 4036\n",
    "robot_id = 1\n",
    "\n",
    "optimal_location, optimal_direction = get_scanning_plan_o1(defect_id, robot_id, gpt_model=\"gpt-4o\")\n",
    "visualize_scanning(defect_id, robot_id, optimal_location, optimal_direction)"
   ]
  },
  {
   "cell_type": "code",
   "execution_count": 11,
   "metadata": {},
   "outputs": [
    {
     "name": "stdout",
     "output_type": "stream",
     "text": [
      "To determine the optimal camera positioning and direction for scanning the defect object on the ceiling, we'll consider several factors: the defect's location, size, and the camera's field of view (FOV).\n",
      "\n",
      "The defect is on the ceiling with a location of `[-5.15925, -77.4786, 3.7]`, and is contained within the space that has a location of `[-5.15925, -77.4786, 7.85]`.\n",
      "\n",
      "**Steps to consider for optimal camera positioning:**\n",
      "\n",
      "1. **Defect Center Location:** The defect's coordinates are approximately central to its containing space along the x and y axes. As the defect is on the ceiling, the camera should be positioned below it to scan upward.\n",
      "\n",
      "2. **Camera Height Positioning:** The ceiling height is 3.7 meters, so positioning the camera at a suitable height below this (e.g., approximately 1.85 meters based on the mid-height of accessible room space) allows a good upward view with a 60-degree FOV.\n",
      "\n",
      "3. **Camera Orientation:** The camera should face upwards towards the ceiling, with the z-axis determined such that the camera points directly at the defect; therefore, the camera direction vector should primarily adjust in the z-direction to ensure full coverage of the defect’s surface.\n",
      "\n",
      "**Calculating Optimal Camera Position and Direction:**\n",
      "\n",
      "- The camera should be centered beneath the defect's location within the room for optimal coverage using the assumption that it can move freely in 3D space. Hence, the camera is optimally placed near the floor center under the defect.\n",
      "- The adoption of a general upward direction vector will assist in ensuring the entire surface area can be captured.\n",
      "\n",
      "Thus, the optimal position and direction are estimated as follows:\n",
      "\n",
      "```json\n",
      "{\n",
      "    \"optimal_location\": [-5.15925, -77.4786, 1.85],\n",
      "    \"optimal_direction\": [0, 0, 1]\n",
      "}\n",
      "```\n",
      "\n",
      "Here, the coordinates `[x, y, z]` for the `optimal_location` are centred below the defect's physical space location, while the `optimal_direction` `[x_value, y_value, z_value]` ensures the camera is pointed directly upwards to suitably capture the defect's size using the defined field of view.\n",
      "{'defect_node': {'id': 2046, 'type': 'ceiling', 'components': [], 'location': [-5.15925, -77.4786, 3.7], 'size': [9.799, 9.96, 0.0]}, 'associated_spaces': [{'id': 39, 'surfaces': [1040, 1072, 1082, 1118, 2046, 3047], 'location': [-5.15925, -77.4786, 7.85], 'size': [9.799, 9.96, 3.7]}], 'associated_nodes': [{'id': 1040, 'type': 'wall', 'components': [4019, 4036], 'location': [-0.26, -77.4786, 1.85], 'size': [0.0, 9.96, 3.7]}, {'id': 4019, 'type': 'window', 'location': [0.1425959833643427, -74.4286, 1.842865393455182], 'size': [0.8078628612203475, 1.5, 2.057739326605575]}, {'id': 4036, 'type': 'window', 'location': [0.1425959833643427, -80.5286, 1.842865393455182], 'size': [0.8078628612203475, 1.5, 2.057739326605575]}, {'id': 1072, 'type': 'wall', 'components': [5059], 'location': [-10.0585, -77.4786, 1.85], 'size': [0.0, 9.96, 3.7]}, {'id': 5059, 'type': 'door', 'location': [-10.6715, -77.4786, 1.0425], 'size': [0.174, 1.4, 2.085]}, {'id': 1082, 'type': 'wall', 'components': [], 'location': [-5.15925, -82.4586, 1.85], 'size': [9.799, 0.0, 3.7]}, {'id': 1118, 'type': 'wall', 'components': [], 'location': [-5.15925, -72.4986, 1.85], 'size': [9.799, 0.0, 3.7]}, {'id': 3047, 'type': 'floor', 'components': [], 'location': [-5.15925, -77.4786, 0.0], 'size': [9.799, 9.96, 0.0]}]}\n",
      "60\n"
     ]
    },
    {
     "data": {
      "application/vnd.plotly.v1+json": {
       "config": {
        "plotlyServerURL": "https://plot.ly"
       },
       "data": [
        {
         "color": "lightblue",
         "flatshading": true,
         "hoverinfo": "text",
         "i": [
          0,
          0,
          4,
          4,
          0,
          0,
          1,
          1,
          2,
          2,
          3,
          3
         ],
         "j": [
          1,
          2,
          5,
          6,
          1,
          5,
          2,
          6,
          3,
          7,
          0,
          4
         ],
         "k": [
          2,
          3,
          6,
          7,
          5,
          4,
          6,
          5,
          7,
          6,
          4,
          7
         ],
         "opacity": 0.5,
         "text": "ID: 1040, Type: wall",
         "type": "mesh3d",
         "x": [
          -0.31,
          -0.21000000000000002,
          -0.21000000000000002,
          -0.31,
          -0.31,
          -0.21000000000000002,
          -0.21000000000000002,
          -0.31
         ],
         "y": [
          -82.4586,
          -82.4586,
          -72.4986,
          -72.4986,
          -82.4586,
          -82.4586,
          -72.4986,
          -72.4986
         ],
         "z": [
          0,
          0,
          0,
          0,
          3.7,
          3.7,
          3.7,
          3.7
         ]
        },
        {
         "color": "lightgreen",
         "flatshading": true,
         "hoverinfo": "text",
         "i": [
          0,
          0,
          4,
          4,
          0,
          0,
          1,
          1,
          2,
          2,
          3,
          3
         ],
         "j": [
          1,
          2,
          5,
          6,
          1,
          5,
          2,
          6,
          3,
          7,
          0,
          4
         ],
         "k": [
          2,
          3,
          6,
          7,
          5,
          4,
          6,
          5,
          7,
          6,
          4,
          7
         ],
         "opacity": 0.5,
         "text": "ID: 4019, Type: window",
         "type": "mesh3d",
         "x": [
          -0.261335447245831,
          0.5465274139745164,
          0.5465274139745164,
          -0.261335447245831,
          -0.261335447245831,
          0.5465274139745164,
          0.5465274139745164,
          -0.261335447245831
         ],
         "y": [
          -75.1786,
          -75.1786,
          -73.6786,
          -73.6786,
          -75.1786,
          -75.1786,
          -73.6786,
          -73.6786
         ],
         "z": [
          0.8139957301523946,
          0.8139957301523946,
          0.8139957301523946,
          0.8139957301523946,
          2.871735056757969,
          2.871735056757969,
          2.871735056757969,
          2.871735056757969
         ]
        },
        {
         "color": "lightgreen",
         "flatshading": true,
         "hoverinfo": "text",
         "i": [
          0,
          0,
          4,
          4,
          0,
          0,
          1,
          1,
          2,
          2,
          3,
          3
         ],
         "j": [
          1,
          2,
          5,
          6,
          1,
          5,
          2,
          6,
          3,
          7,
          0,
          4
         ],
         "k": [
          2,
          3,
          6,
          7,
          5,
          4,
          6,
          5,
          7,
          6,
          4,
          7
         ],
         "opacity": 0.5,
         "text": "ID: 4036, Type: window",
         "type": "mesh3d",
         "x": [
          -0.261335447245831,
          0.5465274139745164,
          0.5465274139745164,
          -0.261335447245831,
          -0.261335447245831,
          0.5465274139745164,
          0.5465274139745164,
          -0.261335447245831
         ],
         "y": [
          -81.2786,
          -81.2786,
          -79.7786,
          -79.7786,
          -81.2786,
          -81.2786,
          -79.7786,
          -79.7786
         ],
         "z": [
          0.8139957301523946,
          0.8139957301523946,
          0.8139957301523946,
          0.8139957301523946,
          2.871735056757969,
          2.871735056757969,
          2.871735056757969,
          2.871735056757969
         ]
        },
        {
         "color": "lightblue",
         "flatshading": true,
         "hoverinfo": "text",
         "i": [
          0,
          0,
          4,
          4,
          0,
          0,
          1,
          1,
          2,
          2,
          3,
          3
         ],
         "j": [
          1,
          2,
          5,
          6,
          1,
          5,
          2,
          6,
          3,
          7,
          0,
          4
         ],
         "k": [
          2,
          3,
          6,
          7,
          5,
          4,
          6,
          5,
          7,
          6,
          4,
          7
         ],
         "opacity": 0.5,
         "text": "ID: 1072, Type: wall",
         "type": "mesh3d",
         "x": [
          -10.108500000000001,
          -10.0085,
          -10.0085,
          -10.108500000000001,
          -10.108500000000001,
          -10.0085,
          -10.0085,
          -10.108500000000001
         ],
         "y": [
          -82.4586,
          -82.4586,
          -72.4986,
          -72.4986,
          -82.4586,
          -82.4586,
          -72.4986,
          -72.4986
         ],
         "z": [
          0,
          0,
          0,
          0,
          3.7,
          3.7,
          3.7,
          3.7
         ]
        },
        {
         "color": "lightgreen",
         "flatshading": true,
         "hoverinfo": "text",
         "i": [
          0,
          0,
          4,
          4,
          0,
          0,
          1,
          1,
          2,
          2,
          3,
          3
         ],
         "j": [
          1,
          2,
          5,
          6,
          1,
          5,
          2,
          6,
          3,
          7,
          0,
          4
         ],
         "k": [
          2,
          3,
          6,
          7,
          5,
          4,
          6,
          5,
          7,
          6,
          4,
          7
         ],
         "opacity": 0.5,
         "text": "ID: 5059, Type: door",
         "type": "mesh3d",
         "x": [
          -10.7585,
          -10.5845,
          -10.5845,
          -10.7585,
          -10.7585,
          -10.5845,
          -10.5845,
          -10.7585
         ],
         "y": [
          -78.1786,
          -78.1786,
          -76.7786,
          -76.7786,
          -78.1786,
          -78.1786,
          -76.7786,
          -76.7786
         ],
         "z": [
          0,
          0,
          0,
          0,
          2.085,
          2.085,
          2.085,
          2.085
         ]
        },
        {
         "color": "lightblue",
         "flatshading": true,
         "hoverinfo": "text",
         "i": [
          0,
          0,
          4,
          4,
          0,
          0,
          1,
          1,
          2,
          2,
          3,
          3
         ],
         "j": [
          1,
          2,
          5,
          6,
          1,
          5,
          2,
          6,
          3,
          7,
          0,
          4
         ],
         "k": [
          2,
          3,
          6,
          7,
          5,
          4,
          6,
          5,
          7,
          6,
          4,
          7
         ],
         "opacity": 0.5,
         "text": "ID: 1082, Type: wall",
         "type": "mesh3d",
         "x": [
          -10.05875,
          -0.25975000000000037,
          -0.25975000000000037,
          -10.05875,
          -10.05875,
          -0.25975000000000037,
          -0.25975000000000037,
          -10.05875
         ],
         "y": [
          -82.5086,
          -82.5086,
          -82.4086,
          -82.4086,
          -82.5086,
          -82.5086,
          -82.4086,
          -82.4086
         ],
         "z": [
          0,
          0,
          0,
          0,
          3.7,
          3.7,
          3.7,
          3.7
         ]
        },
        {
         "color": "lightblue",
         "flatshading": true,
         "hoverinfo": "text",
         "i": [
          0,
          0,
          4,
          4,
          0,
          0,
          1,
          1,
          2,
          2,
          3,
          3
         ],
         "j": [
          1,
          2,
          5,
          6,
          1,
          5,
          2,
          6,
          3,
          7,
          0,
          4
         ],
         "k": [
          2,
          3,
          6,
          7,
          5,
          4,
          6,
          5,
          7,
          6,
          4,
          7
         ],
         "opacity": 0.5,
         "text": "ID: 1118, Type: wall",
         "type": "mesh3d",
         "x": [
          -10.05875,
          -0.25975000000000037,
          -0.25975000000000037,
          -10.05875,
          -10.05875,
          -0.25975000000000037,
          -0.25975000000000037,
          -10.05875
         ],
         "y": [
          -72.5486,
          -72.5486,
          -72.4486,
          -72.4486,
          -72.5486,
          -72.5486,
          -72.4486,
          -72.4486
         ],
         "z": [
          0,
          0,
          0,
          0,
          3.7,
          3.7,
          3.7,
          3.7
         ]
        },
        {
         "color": "lightblue",
         "flatshading": true,
         "hoverinfo": "text",
         "i": [
          0,
          0,
          4,
          4,
          0,
          0,
          1,
          1,
          2,
          2,
          3,
          3
         ],
         "j": [
          1,
          2,
          5,
          6,
          1,
          5,
          2,
          6,
          3,
          7,
          0,
          4
         ],
         "k": [
          2,
          3,
          6,
          7,
          5,
          4,
          6,
          5,
          7,
          6,
          4,
          7
         ],
         "opacity": 0.5,
         "text": "ID: 3047, Type: floor",
         "type": "mesh3d",
         "x": [
          -10.05875,
          -0.25975000000000037,
          -0.25975000000000037,
          -10.05875,
          -10.05875,
          -0.25975000000000037,
          -0.25975000000000037,
          -10.05875
         ],
         "y": [
          -82.4586,
          -82.4586,
          -72.4986,
          -72.4986,
          -82.4586,
          -82.4586,
          -72.4986,
          -72.4986
         ],
         "z": [
          -0.05,
          -0.05,
          -0.05,
          -0.05,
          0.05,
          0.05,
          0.05,
          0.05
         ]
        },
        {
         "marker": {
          "color": "black",
          "size": 10
         },
         "mode": "markers",
         "name": "Camera Position",
         "type": "scatter3d",
         "x": [
          -5.15925
         ],
         "y": [
          -77.4786
         ],
         "z": [
          1.85
         ]
        },
        {
         "marker": {
          "color": "purple",
          "size": 10
         },
         "mode": "markers",
         "name": "Target Position",
         "type": "scatter3d",
         "x": [
          -5.15925
         ],
         "y": [
          -77.4786
         ],
         "z": [
          3.7
         ]
        },
        {
         "color": "yellow",
         "i": [
          0,
          0,
          0,
          0,
          0,
          0,
          0,
          0,
          0,
          0,
          0,
          0,
          0,
          0,
          0,
          0,
          0,
          0,
          0,
          0
         ],
         "j": [
          1,
          2,
          3,
          4,
          5,
          6,
          7,
          8,
          9,
          10,
          11,
          12,
          13,
          14,
          15,
          16,
          17,
          18,
          19,
          20
         ],
         "k": [
          2,
          3,
          4,
          5,
          6,
          7,
          8,
          9,
          10,
          11,
          12,
          13,
          14,
          15,
          16,
          17,
          18,
          19,
          20,
          1
         ],
         "name": "Field of View",
         "opacity": 0.2,
         "type": "mesh3d",
         "x": [
          -5.15925,
          -5.15925,
          -5.506060853009448,
          -5.815289368770479,
          -6.053425839425593,
          -6.194664483311249,
          -6.2236999018190735,
          -6.137385656822806,
          -5.945075236071297,
          -5.667608457656602,
          -5.335053152360615,
          -4.983446847639385,
          -4.650891542343398,
          -4.373424763928703,
          -4.181114343177194,
          -4.094800098180927,
          -4.123835516688751,
          -4.2650741605744065,
          -4.50321063122952,
          -4.8124391469905525,
          -5.15925
         ],
         "y": [
          -77.4786,
          -76.41050200199919,
          -76.46837449766491,
          -76.63572060177238,
          -76.8944057672992,
          -77.21639744264667,
          -77.56680283357521,
          -77.90765007887792,
          -78.2020030907363,
          -78.41796415295791,
          -78.53213053346991,
          -78.53213053346991,
          -78.41796415295791,
          -78.2020030907363,
          -77.90765007887792,
          -77.56680283357521,
          -77.21639744264667,
          -76.8944057672992,
          -76.63572060177238,
          -76.46837449766491,
          -76.41050200199919
         ],
         "z": [
          1.85,
          3.7,
          3.7,
          3.7,
          3.7,
          3.7,
          3.7,
          3.7,
          3.7,
          3.7,
          3.7,
          3.7,
          3.7,
          3.7,
          3.7,
          3.7,
          3.7,
          3.7,
          3.7,
          3.7,
          3.7
         ]
        }
       ],
       "layout": {
        "height": 800,
        "scene": {
         "aspectmode": "data",
         "aspectratio": {
          "x": 1,
          "y": 1,
          "z": 1
         },
         "xaxis": {
          "title": {
           "text": "X"
          },
          "visible": true
         },
         "yaxis": {
          "title": {
           "text": "Y"
          },
          "visible": true
         },
         "zaxis": {
          "title": {
           "text": "Z"
          },
          "visible": true
         }
        },
        "template": {
         "data": {
          "bar": [
           {
            "error_x": {
             "color": "#2a3f5f"
            },
            "error_y": {
             "color": "#2a3f5f"
            },
            "marker": {
             "line": {
              "color": "#E5ECF6",
              "width": 0.5
             },
             "pattern": {
              "fillmode": "overlay",
              "size": 10,
              "solidity": 0.2
             }
            },
            "type": "bar"
           }
          ],
          "barpolar": [
           {
            "marker": {
             "line": {
              "color": "#E5ECF6",
              "width": 0.5
             },
             "pattern": {
              "fillmode": "overlay",
              "size": 10,
              "solidity": 0.2
             }
            },
            "type": "barpolar"
           }
          ],
          "carpet": [
           {
            "aaxis": {
             "endlinecolor": "#2a3f5f",
             "gridcolor": "white",
             "linecolor": "white",
             "minorgridcolor": "white",
             "startlinecolor": "#2a3f5f"
            },
            "baxis": {
             "endlinecolor": "#2a3f5f",
             "gridcolor": "white",
             "linecolor": "white",
             "minorgridcolor": "white",
             "startlinecolor": "#2a3f5f"
            },
            "type": "carpet"
           }
          ],
          "choropleth": [
           {
            "colorbar": {
             "outlinewidth": 0,
             "ticks": ""
            },
            "type": "choropleth"
           }
          ],
          "contour": [
           {
            "colorbar": {
             "outlinewidth": 0,
             "ticks": ""
            },
            "colorscale": [
             [
              0,
              "#0d0887"
             ],
             [
              0.1111111111111111,
              "#46039f"
             ],
             [
              0.2222222222222222,
              "#7201a8"
             ],
             [
              0.3333333333333333,
              "#9c179e"
             ],
             [
              0.4444444444444444,
              "#bd3786"
             ],
             [
              0.5555555555555556,
              "#d8576b"
             ],
             [
              0.6666666666666666,
              "#ed7953"
             ],
             [
              0.7777777777777778,
              "#fb9f3a"
             ],
             [
              0.8888888888888888,
              "#fdca26"
             ],
             [
              1,
              "#f0f921"
             ]
            ],
            "type": "contour"
           }
          ],
          "contourcarpet": [
           {
            "colorbar": {
             "outlinewidth": 0,
             "ticks": ""
            },
            "type": "contourcarpet"
           }
          ],
          "heatmap": [
           {
            "colorbar": {
             "outlinewidth": 0,
             "ticks": ""
            },
            "colorscale": [
             [
              0,
              "#0d0887"
             ],
             [
              0.1111111111111111,
              "#46039f"
             ],
             [
              0.2222222222222222,
              "#7201a8"
             ],
             [
              0.3333333333333333,
              "#9c179e"
             ],
             [
              0.4444444444444444,
              "#bd3786"
             ],
             [
              0.5555555555555556,
              "#d8576b"
             ],
             [
              0.6666666666666666,
              "#ed7953"
             ],
             [
              0.7777777777777778,
              "#fb9f3a"
             ],
             [
              0.8888888888888888,
              "#fdca26"
             ],
             [
              1,
              "#f0f921"
             ]
            ],
            "type": "heatmap"
           }
          ],
          "heatmapgl": [
           {
            "colorbar": {
             "outlinewidth": 0,
             "ticks": ""
            },
            "colorscale": [
             [
              0,
              "#0d0887"
             ],
             [
              0.1111111111111111,
              "#46039f"
             ],
             [
              0.2222222222222222,
              "#7201a8"
             ],
             [
              0.3333333333333333,
              "#9c179e"
             ],
             [
              0.4444444444444444,
              "#bd3786"
             ],
             [
              0.5555555555555556,
              "#d8576b"
             ],
             [
              0.6666666666666666,
              "#ed7953"
             ],
             [
              0.7777777777777778,
              "#fb9f3a"
             ],
             [
              0.8888888888888888,
              "#fdca26"
             ],
             [
              1,
              "#f0f921"
             ]
            ],
            "type": "heatmapgl"
           }
          ],
          "histogram": [
           {
            "marker": {
             "pattern": {
              "fillmode": "overlay",
              "size": 10,
              "solidity": 0.2
             }
            },
            "type": "histogram"
           }
          ],
          "histogram2d": [
           {
            "colorbar": {
             "outlinewidth": 0,
             "ticks": ""
            },
            "colorscale": [
             [
              0,
              "#0d0887"
             ],
             [
              0.1111111111111111,
              "#46039f"
             ],
             [
              0.2222222222222222,
              "#7201a8"
             ],
             [
              0.3333333333333333,
              "#9c179e"
             ],
             [
              0.4444444444444444,
              "#bd3786"
             ],
             [
              0.5555555555555556,
              "#d8576b"
             ],
             [
              0.6666666666666666,
              "#ed7953"
             ],
             [
              0.7777777777777778,
              "#fb9f3a"
             ],
             [
              0.8888888888888888,
              "#fdca26"
             ],
             [
              1,
              "#f0f921"
             ]
            ],
            "type": "histogram2d"
           }
          ],
          "histogram2dcontour": [
           {
            "colorbar": {
             "outlinewidth": 0,
             "ticks": ""
            },
            "colorscale": [
             [
              0,
              "#0d0887"
             ],
             [
              0.1111111111111111,
              "#46039f"
             ],
             [
              0.2222222222222222,
              "#7201a8"
             ],
             [
              0.3333333333333333,
              "#9c179e"
             ],
             [
              0.4444444444444444,
              "#bd3786"
             ],
             [
              0.5555555555555556,
              "#d8576b"
             ],
             [
              0.6666666666666666,
              "#ed7953"
             ],
             [
              0.7777777777777778,
              "#fb9f3a"
             ],
             [
              0.8888888888888888,
              "#fdca26"
             ],
             [
              1,
              "#f0f921"
             ]
            ],
            "type": "histogram2dcontour"
           }
          ],
          "mesh3d": [
           {
            "colorbar": {
             "outlinewidth": 0,
             "ticks": ""
            },
            "type": "mesh3d"
           }
          ],
          "parcoords": [
           {
            "line": {
             "colorbar": {
              "outlinewidth": 0,
              "ticks": ""
             }
            },
            "type": "parcoords"
           }
          ],
          "pie": [
           {
            "automargin": true,
            "type": "pie"
           }
          ],
          "scatter": [
           {
            "fillpattern": {
             "fillmode": "overlay",
             "size": 10,
             "solidity": 0.2
            },
            "type": "scatter"
           }
          ],
          "scatter3d": [
           {
            "line": {
             "colorbar": {
              "outlinewidth": 0,
              "ticks": ""
             }
            },
            "marker": {
             "colorbar": {
              "outlinewidth": 0,
              "ticks": ""
             }
            },
            "type": "scatter3d"
           }
          ],
          "scattercarpet": [
           {
            "marker": {
             "colorbar": {
              "outlinewidth": 0,
              "ticks": ""
             }
            },
            "type": "scattercarpet"
           }
          ],
          "scattergeo": [
           {
            "marker": {
             "colorbar": {
              "outlinewidth": 0,
              "ticks": ""
             }
            },
            "type": "scattergeo"
           }
          ],
          "scattergl": [
           {
            "marker": {
             "colorbar": {
              "outlinewidth": 0,
              "ticks": ""
             }
            },
            "type": "scattergl"
           }
          ],
          "scattermapbox": [
           {
            "marker": {
             "colorbar": {
              "outlinewidth": 0,
              "ticks": ""
             }
            },
            "type": "scattermapbox"
           }
          ],
          "scatterpolar": [
           {
            "marker": {
             "colorbar": {
              "outlinewidth": 0,
              "ticks": ""
             }
            },
            "type": "scatterpolar"
           }
          ],
          "scatterpolargl": [
           {
            "marker": {
             "colorbar": {
              "outlinewidth": 0,
              "ticks": ""
             }
            },
            "type": "scatterpolargl"
           }
          ],
          "scatterternary": [
           {
            "marker": {
             "colorbar": {
              "outlinewidth": 0,
              "ticks": ""
             }
            },
            "type": "scatterternary"
           }
          ],
          "surface": [
           {
            "colorbar": {
             "outlinewidth": 0,
             "ticks": ""
            },
            "colorscale": [
             [
              0,
              "#0d0887"
             ],
             [
              0.1111111111111111,
              "#46039f"
             ],
             [
              0.2222222222222222,
              "#7201a8"
             ],
             [
              0.3333333333333333,
              "#9c179e"
             ],
             [
              0.4444444444444444,
              "#bd3786"
             ],
             [
              0.5555555555555556,
              "#d8576b"
             ],
             [
              0.6666666666666666,
              "#ed7953"
             ],
             [
              0.7777777777777778,
              "#fb9f3a"
             ],
             [
              0.8888888888888888,
              "#fdca26"
             ],
             [
              1,
              "#f0f921"
             ]
            ],
            "type": "surface"
           }
          ],
          "table": [
           {
            "cells": {
             "fill": {
              "color": "#EBF0F8"
             },
             "line": {
              "color": "white"
             }
            },
            "header": {
             "fill": {
              "color": "#C8D4E3"
             },
             "line": {
              "color": "white"
             }
            },
            "type": "table"
           }
          ]
         },
         "layout": {
          "annotationdefaults": {
           "arrowcolor": "#2a3f5f",
           "arrowhead": 0,
           "arrowwidth": 1
          },
          "autotypenumbers": "strict",
          "coloraxis": {
           "colorbar": {
            "outlinewidth": 0,
            "ticks": ""
           }
          },
          "colorscale": {
           "diverging": [
            [
             0,
             "#8e0152"
            ],
            [
             0.1,
             "#c51b7d"
            ],
            [
             0.2,
             "#de77ae"
            ],
            [
             0.3,
             "#f1b6da"
            ],
            [
             0.4,
             "#fde0ef"
            ],
            [
             0.5,
             "#f7f7f7"
            ],
            [
             0.6,
             "#e6f5d0"
            ],
            [
             0.7,
             "#b8e186"
            ],
            [
             0.8,
             "#7fbc41"
            ],
            [
             0.9,
             "#4d9221"
            ],
            [
             1,
             "#276419"
            ]
           ],
           "sequential": [
            [
             0,
             "#0d0887"
            ],
            [
             0.1111111111111111,
             "#46039f"
            ],
            [
             0.2222222222222222,
             "#7201a8"
            ],
            [
             0.3333333333333333,
             "#9c179e"
            ],
            [
             0.4444444444444444,
             "#bd3786"
            ],
            [
             0.5555555555555556,
             "#d8576b"
            ],
            [
             0.6666666666666666,
             "#ed7953"
            ],
            [
             0.7777777777777778,
             "#fb9f3a"
            ],
            [
             0.8888888888888888,
             "#fdca26"
            ],
            [
             1,
             "#f0f921"
            ]
           ],
           "sequentialminus": [
            [
             0,
             "#0d0887"
            ],
            [
             0.1111111111111111,
             "#46039f"
            ],
            [
             0.2222222222222222,
             "#7201a8"
            ],
            [
             0.3333333333333333,
             "#9c179e"
            ],
            [
             0.4444444444444444,
             "#bd3786"
            ],
            [
             0.5555555555555556,
             "#d8576b"
            ],
            [
             0.6666666666666666,
             "#ed7953"
            ],
            [
             0.7777777777777778,
             "#fb9f3a"
            ],
            [
             0.8888888888888888,
             "#fdca26"
            ],
            [
             1,
             "#f0f921"
            ]
           ]
          },
          "colorway": [
           "#636efa",
           "#EF553B",
           "#00cc96",
           "#ab63fa",
           "#FFA15A",
           "#19d3f3",
           "#FF6692",
           "#B6E880",
           "#FF97FF",
           "#FECB52"
          ],
          "font": {
           "color": "#2a3f5f"
          },
          "geo": {
           "bgcolor": "white",
           "lakecolor": "white",
           "landcolor": "#E5ECF6",
           "showlakes": true,
           "showland": true,
           "subunitcolor": "white"
          },
          "hoverlabel": {
           "align": "left"
          },
          "hovermode": "closest",
          "mapbox": {
           "style": "light"
          },
          "paper_bgcolor": "white",
          "plot_bgcolor": "#E5ECF6",
          "polar": {
           "angularaxis": {
            "gridcolor": "white",
            "linecolor": "white",
            "ticks": ""
           },
           "bgcolor": "#E5ECF6",
           "radialaxis": {
            "gridcolor": "white",
            "linecolor": "white",
            "ticks": ""
           }
          },
          "scene": {
           "xaxis": {
            "backgroundcolor": "#E5ECF6",
            "gridcolor": "white",
            "gridwidth": 2,
            "linecolor": "white",
            "showbackground": true,
            "ticks": "",
            "zerolinecolor": "white"
           },
           "yaxis": {
            "backgroundcolor": "#E5ECF6",
            "gridcolor": "white",
            "gridwidth": 2,
            "linecolor": "white",
            "showbackground": true,
            "ticks": "",
            "zerolinecolor": "white"
           },
           "zaxis": {
            "backgroundcolor": "#E5ECF6",
            "gridcolor": "white",
            "gridwidth": 2,
            "linecolor": "white",
            "showbackground": true,
            "ticks": "",
            "zerolinecolor": "white"
           }
          },
          "shapedefaults": {
           "line": {
            "color": "#2a3f5f"
           }
          },
          "ternary": {
           "aaxis": {
            "gridcolor": "white",
            "linecolor": "white",
            "ticks": ""
           },
           "baxis": {
            "gridcolor": "white",
            "linecolor": "white",
            "ticks": ""
           },
           "bgcolor": "#E5ECF6",
           "caxis": {
            "gridcolor": "white",
            "linecolor": "white",
            "ticks": ""
           }
          },
          "title": {
           "x": 0.05
          },
          "xaxis": {
           "automargin": true,
           "gridcolor": "white",
           "linecolor": "white",
           "ticks": "",
           "title": {
            "standoff": 15
           },
           "zerolinecolor": "white",
           "zerolinewidth": 2
          },
          "yaxis": {
           "automargin": true,
           "gridcolor": "white",
           "linecolor": "white",
           "ticks": "",
           "title": {
            "standoff": 15
           },
           "zerolinecolor": "white",
           "zerolinewidth": 2
          }
         }
        },
        "title": {
         "text": "Visualization on the optimal scanning position and direction"
        },
        "width": 1200
       }
      }
     },
     "metadata": {},
     "output_type": "display_data"
    }
   ],
   "source": [
    "# the room id: 39\n",
    "# the ceiling of the room\n",
    "defect_id = 2046\n",
    "robot_id = 1\n",
    "\n",
    "optimal_location, optimal_direction = get_scanning_plan_o1(defect_id, robot_id, gpt_model=\"gpt-4o\")\n",
    "visualize_scanning(defect_id, robot_id, optimal_location, optimal_direction)"
   ]
  },
  {
   "cell_type": "code",
   "execution_count": 10,
   "metadata": {},
   "outputs": [
    {
     "name": "stdout",
     "output_type": "stream",
     "text": [
      "To define the optimal camera position and orientation for scanning the defect, we must consider the dimensions of the defect and associated space as well as ensuring the FOV of the camera can cover the entire defect area. \n",
      "\n",
      "Given:\n",
      "- Defect Node (Floor, ID 3047): Centered at [-5.15925, -77.4786, 0.0] with dimensions [9.799, 9.96, 0.0].\n",
      "\n",
      "Let's walk through the calculations:\n",
      "\n",
      "### Camera Positioning Logic\n",
      "\n",
      "1. **Defect Coverage**: \n",
      "   - The defect is located on the floor and hence spans a large horizontal area. The camera should have a vantage point that maximizes the FOV over this horizontal plane.\n",
      "\n",
      "2. **Camera Elevation**: \n",
      "   - Placing the camera slightly elevated above the defect node will help capture the horizontal extents. Based on typical camera positions, a height above the floor of 1.5 meters (midway in a standard room height) should provide a wide view without missing vertical resolution.\n",
      "\n",
      "3. **Optimal Location Calculation**: \n",
      "   - Horizontally centered, between the walls: [(-5.15925 - 4.8995), -77.4786, 1.85]. This gives the midpoint relative to the floor area along the length.\n",
      "\n",
      "### Camera Direction Logic\n",
      "\n",
      "1. **Horizontal Focus**:\n",
      "   - Since the defect node is mostly horizontal, orienting the camera downwards from overhead is optimal. The camera should be pointing towards the center of the floor defect to ensure the FOV is maximized.\n",
      "\n",
      "2. **Optimal Direction Calculation**:\n",
      "   - Look towards the center of the defect node, given the optimal location calculated, this would approximately align at the center of the room when facing straight down: [0, 0, -1] (facing directly downward).\n",
      "\n",
      "Based on these observations, here is the suggested output:\n",
      "\n",
      "```json\n",
      "{\n",
      "    \"optimal_location\": [-5.15925, -77.4786, 1.85],\n",
      "    \"optimal_direction\": [0, 0, -1]\n",
      "}\n",
      "```\n",
      "\n",
      "This assumes there are no obstructions within the room preventing such positioning, like fixtures or installations that might require different positioning. If such difficulties exist, they must be highlighted as reasons for different strategy adjustment.\n",
      "{'defect_node': {'id': 3047, 'type': 'floor', 'components': [], 'location': [-5.15925, -77.4786, 0.0], 'size': [9.799, 9.96, 0.0]}, 'associated_spaces': [{'id': 39, 'surfaces': [1040, 1072, 1082, 1118, 2046, 3047], 'location': [-5.15925, -77.4786, 7.85], 'size': [9.799, 9.96, 3.7]}], 'associated_nodes': [{'id': 1040, 'type': 'wall', 'components': [4019, 4036], 'location': [-0.26, -77.4786, 1.85], 'size': [0.0, 9.96, 3.7]}, {'id': 4019, 'type': 'window', 'location': [0.1425959833643427, -74.4286, 1.842865393455182], 'size': [0.8078628612203475, 1.5, 2.057739326605575]}, {'id': 4036, 'type': 'window', 'location': [0.1425959833643427, -80.5286, 1.842865393455182], 'size': [0.8078628612203475, 1.5, 2.057739326605575]}, {'id': 1072, 'type': 'wall', 'components': [5059], 'location': [-10.0585, -77.4786, 1.85], 'size': [0.0, 9.96, 3.7]}, {'id': 5059, 'type': 'door', 'location': [-10.6715, -77.4786, 1.0425], 'size': [0.174, 1.4, 2.085]}, {'id': 1082, 'type': 'wall', 'components': [], 'location': [-5.15925, -82.4586, 1.85], 'size': [9.799, 0.0, 3.7]}, {'id': 1118, 'type': 'wall', 'components': [], 'location': [-5.15925, -72.4986, 1.85], 'size': [9.799, 0.0, 3.7]}, {'id': 2046, 'type': 'ceiling', 'components': [], 'location': [-5.15925, -77.4786, 3.7], 'size': [9.799, 9.96, 0.0]}]}\n",
      "60\n"
     ]
    },
    {
     "data": {
      "application/vnd.plotly.v1+json": {
       "config": {
        "plotlyServerURL": "https://plot.ly"
       },
       "data": [
        {
         "color": "lightblue",
         "flatshading": true,
         "hoverinfo": "text",
         "i": [
          0,
          0,
          4,
          4,
          0,
          0,
          1,
          1,
          2,
          2,
          3,
          3
         ],
         "j": [
          1,
          2,
          5,
          6,
          1,
          5,
          2,
          6,
          3,
          7,
          0,
          4
         ],
         "k": [
          2,
          3,
          6,
          7,
          5,
          4,
          6,
          5,
          7,
          6,
          4,
          7
         ],
         "opacity": 0.5,
         "text": "ID: 1040, Type: wall",
         "type": "mesh3d",
         "x": [
          -0.31,
          -0.21000000000000002,
          -0.21000000000000002,
          -0.31,
          -0.31,
          -0.21000000000000002,
          -0.21000000000000002,
          -0.31
         ],
         "y": [
          -82.4586,
          -82.4586,
          -72.4986,
          -72.4986,
          -82.4586,
          -82.4586,
          -72.4986,
          -72.4986
         ],
         "z": [
          0,
          0,
          0,
          0,
          3.7,
          3.7,
          3.7,
          3.7
         ]
        },
        {
         "color": "lightgreen",
         "flatshading": true,
         "hoverinfo": "text",
         "i": [
          0,
          0,
          4,
          4,
          0,
          0,
          1,
          1,
          2,
          2,
          3,
          3
         ],
         "j": [
          1,
          2,
          5,
          6,
          1,
          5,
          2,
          6,
          3,
          7,
          0,
          4
         ],
         "k": [
          2,
          3,
          6,
          7,
          5,
          4,
          6,
          5,
          7,
          6,
          4,
          7
         ],
         "opacity": 0.5,
         "text": "ID: 4019, Type: window",
         "type": "mesh3d",
         "x": [
          -0.261335447245831,
          0.5465274139745164,
          0.5465274139745164,
          -0.261335447245831,
          -0.261335447245831,
          0.5465274139745164,
          0.5465274139745164,
          -0.261335447245831
         ],
         "y": [
          -75.1786,
          -75.1786,
          -73.6786,
          -73.6786,
          -75.1786,
          -75.1786,
          -73.6786,
          -73.6786
         ],
         "z": [
          0.8139957301523946,
          0.8139957301523946,
          0.8139957301523946,
          0.8139957301523946,
          2.871735056757969,
          2.871735056757969,
          2.871735056757969,
          2.871735056757969
         ]
        },
        {
         "color": "lightgreen",
         "flatshading": true,
         "hoverinfo": "text",
         "i": [
          0,
          0,
          4,
          4,
          0,
          0,
          1,
          1,
          2,
          2,
          3,
          3
         ],
         "j": [
          1,
          2,
          5,
          6,
          1,
          5,
          2,
          6,
          3,
          7,
          0,
          4
         ],
         "k": [
          2,
          3,
          6,
          7,
          5,
          4,
          6,
          5,
          7,
          6,
          4,
          7
         ],
         "opacity": 0.5,
         "text": "ID: 4036, Type: window",
         "type": "mesh3d",
         "x": [
          -0.261335447245831,
          0.5465274139745164,
          0.5465274139745164,
          -0.261335447245831,
          -0.261335447245831,
          0.5465274139745164,
          0.5465274139745164,
          -0.261335447245831
         ],
         "y": [
          -81.2786,
          -81.2786,
          -79.7786,
          -79.7786,
          -81.2786,
          -81.2786,
          -79.7786,
          -79.7786
         ],
         "z": [
          0.8139957301523946,
          0.8139957301523946,
          0.8139957301523946,
          0.8139957301523946,
          2.871735056757969,
          2.871735056757969,
          2.871735056757969,
          2.871735056757969
         ]
        },
        {
         "color": "lightblue",
         "flatshading": true,
         "hoverinfo": "text",
         "i": [
          0,
          0,
          4,
          4,
          0,
          0,
          1,
          1,
          2,
          2,
          3,
          3
         ],
         "j": [
          1,
          2,
          5,
          6,
          1,
          5,
          2,
          6,
          3,
          7,
          0,
          4
         ],
         "k": [
          2,
          3,
          6,
          7,
          5,
          4,
          6,
          5,
          7,
          6,
          4,
          7
         ],
         "opacity": 0.5,
         "text": "ID: 1072, Type: wall",
         "type": "mesh3d",
         "x": [
          -10.108500000000001,
          -10.0085,
          -10.0085,
          -10.108500000000001,
          -10.108500000000001,
          -10.0085,
          -10.0085,
          -10.108500000000001
         ],
         "y": [
          -82.4586,
          -82.4586,
          -72.4986,
          -72.4986,
          -82.4586,
          -82.4586,
          -72.4986,
          -72.4986
         ],
         "z": [
          0,
          0,
          0,
          0,
          3.7,
          3.7,
          3.7,
          3.7
         ]
        },
        {
         "color": "lightgreen",
         "flatshading": true,
         "hoverinfo": "text",
         "i": [
          0,
          0,
          4,
          4,
          0,
          0,
          1,
          1,
          2,
          2,
          3,
          3
         ],
         "j": [
          1,
          2,
          5,
          6,
          1,
          5,
          2,
          6,
          3,
          7,
          0,
          4
         ],
         "k": [
          2,
          3,
          6,
          7,
          5,
          4,
          6,
          5,
          7,
          6,
          4,
          7
         ],
         "opacity": 0.5,
         "text": "ID: 5059, Type: door",
         "type": "mesh3d",
         "x": [
          -10.7585,
          -10.5845,
          -10.5845,
          -10.7585,
          -10.7585,
          -10.5845,
          -10.5845,
          -10.7585
         ],
         "y": [
          -78.1786,
          -78.1786,
          -76.7786,
          -76.7786,
          -78.1786,
          -78.1786,
          -76.7786,
          -76.7786
         ],
         "z": [
          0,
          0,
          0,
          0,
          2.085,
          2.085,
          2.085,
          2.085
         ]
        },
        {
         "color": "lightblue",
         "flatshading": true,
         "hoverinfo": "text",
         "i": [
          0,
          0,
          4,
          4,
          0,
          0,
          1,
          1,
          2,
          2,
          3,
          3
         ],
         "j": [
          1,
          2,
          5,
          6,
          1,
          5,
          2,
          6,
          3,
          7,
          0,
          4
         ],
         "k": [
          2,
          3,
          6,
          7,
          5,
          4,
          6,
          5,
          7,
          6,
          4,
          7
         ],
         "opacity": 0.5,
         "text": "ID: 1082, Type: wall",
         "type": "mesh3d",
         "x": [
          -10.05875,
          -0.25975000000000037,
          -0.25975000000000037,
          -10.05875,
          -10.05875,
          -0.25975000000000037,
          -0.25975000000000037,
          -10.05875
         ],
         "y": [
          -82.5086,
          -82.5086,
          -82.4086,
          -82.4086,
          -82.5086,
          -82.5086,
          -82.4086,
          -82.4086
         ],
         "z": [
          0,
          0,
          0,
          0,
          3.7,
          3.7,
          3.7,
          3.7
         ]
        },
        {
         "color": "lightblue",
         "flatshading": true,
         "hoverinfo": "text",
         "i": [
          0,
          0,
          4,
          4,
          0,
          0,
          1,
          1,
          2,
          2,
          3,
          3
         ],
         "j": [
          1,
          2,
          5,
          6,
          1,
          5,
          2,
          6,
          3,
          7,
          0,
          4
         ],
         "k": [
          2,
          3,
          6,
          7,
          5,
          4,
          6,
          5,
          7,
          6,
          4,
          7
         ],
         "opacity": 0.5,
         "text": "ID: 1118, Type: wall",
         "type": "mesh3d",
         "x": [
          -10.05875,
          -0.25975000000000037,
          -0.25975000000000037,
          -10.05875,
          -10.05875,
          -0.25975000000000037,
          -0.25975000000000037,
          -10.05875
         ],
         "y": [
          -72.5486,
          -72.5486,
          -72.4486,
          -72.4486,
          -72.5486,
          -72.5486,
          -72.4486,
          -72.4486
         ],
         "z": [
          0,
          0,
          0,
          0,
          3.7,
          3.7,
          3.7,
          3.7
         ]
        },
        {
         "color": "lightblue",
         "flatshading": true,
         "hoverinfo": "text",
         "i": [
          0,
          0,
          4,
          4,
          0,
          0,
          1,
          1,
          2,
          2,
          3,
          3
         ],
         "j": [
          1,
          2,
          5,
          6,
          1,
          5,
          2,
          6,
          3,
          7,
          0,
          4
         ],
         "k": [
          2,
          3,
          6,
          7,
          5,
          4,
          6,
          5,
          7,
          6,
          4,
          7
         ],
         "opacity": 0.5,
         "text": "ID: 2046, Type: ceiling",
         "type": "mesh3d",
         "x": [
          -10.05875,
          -0.25975000000000037,
          -0.25975000000000037,
          -10.05875,
          -10.05875,
          -0.25975000000000037,
          -0.25975000000000037,
          -10.05875
         ],
         "y": [
          -82.4586,
          -82.4586,
          -72.4986,
          -72.4986,
          -82.4586,
          -82.4586,
          -72.4986,
          -72.4986
         ],
         "z": [
          3.6500000000000004,
          3.6500000000000004,
          3.6500000000000004,
          3.6500000000000004,
          3.75,
          3.75,
          3.75,
          3.75
         ]
        },
        {
         "marker": {
          "color": "black",
          "size": 10
         },
         "mode": "markers",
         "name": "Camera Position",
         "type": "scatter3d",
         "x": [
          -5.15925
         ],
         "y": [
          -77.4786
         ],
         "z": [
          1.85
         ]
        },
        {
         "marker": {
          "color": "purple",
          "size": 10
         },
         "mode": "markers",
         "name": "Target Position",
         "type": "scatter3d",
         "x": [
          -5.15925
         ],
         "y": [
          -77.4786
         ],
         "z": [
          0
         ]
        },
        {
         "color": "yellow",
         "i": [
          0,
          0,
          0,
          0,
          0,
          0,
          0,
          0,
          0,
          0,
          0,
          0,
          0,
          0,
          0,
          0,
          0,
          0,
          0,
          0
         ],
         "j": [
          1,
          2,
          3,
          4,
          5,
          6,
          7,
          8,
          9,
          10,
          11,
          12,
          13,
          14,
          15,
          16,
          17,
          18,
          19,
          20
         ],
         "k": [
          2,
          3,
          4,
          5,
          6,
          7,
          8,
          9,
          10,
          11,
          12,
          13,
          14,
          15,
          16,
          17,
          18,
          19,
          20,
          1
         ],
         "name": "Field of View",
         "opacity": 0.2,
         "type": "mesh3d",
         "x": [
          -5.15925,
          -5.15925,
          -4.8124391469905525,
          -4.503210631229521,
          -4.265074160574407,
          -4.123835516688751,
          -4.094800098180927,
          -4.181114343177194,
          -4.373424763928703,
          -4.650891542343398,
          -4.983446847639385,
          -5.335053152360615,
          -5.667608457656602,
          -5.945075236071297,
          -6.137385656822806,
          -6.2236999018190735,
          -6.194664483311249,
          -6.053425839425594,
          -5.81528936877048,
          -5.506060853009448,
          -5.15925
         ],
         "y": [
          -77.4786,
          -76.41050200199919,
          -76.46837449766491,
          -76.63572060177238,
          -76.8944057672992,
          -77.21639744264667,
          -77.56680283357521,
          -77.90765007887792,
          -78.2020030907363,
          -78.41796415295791,
          -78.53213053346991,
          -78.53213053346991,
          -78.41796415295791,
          -78.2020030907363,
          -77.90765007887792,
          -77.56680283357521,
          -77.21639744264667,
          -76.8944057672992,
          -76.63572060177238,
          -76.46837449766491,
          -76.41050200199919
         ],
         "z": [
          1.85,
          0,
          0,
          0,
          0,
          0,
          0,
          0,
          0,
          0,
          0,
          0,
          0,
          0,
          0,
          0,
          0,
          0,
          0,
          0,
          0
         ]
        }
       ],
       "layout": {
        "height": 800,
        "scene": {
         "aspectmode": "data",
         "aspectratio": {
          "x": 1,
          "y": 1,
          "z": 1
         },
         "xaxis": {
          "title": {
           "text": "X"
          },
          "visible": true
         },
         "yaxis": {
          "title": {
           "text": "Y"
          },
          "visible": true
         },
         "zaxis": {
          "title": {
           "text": "Z"
          },
          "visible": true
         }
        },
        "template": {
         "data": {
          "bar": [
           {
            "error_x": {
             "color": "#2a3f5f"
            },
            "error_y": {
             "color": "#2a3f5f"
            },
            "marker": {
             "line": {
              "color": "#E5ECF6",
              "width": 0.5
             },
             "pattern": {
              "fillmode": "overlay",
              "size": 10,
              "solidity": 0.2
             }
            },
            "type": "bar"
           }
          ],
          "barpolar": [
           {
            "marker": {
             "line": {
              "color": "#E5ECF6",
              "width": 0.5
             },
             "pattern": {
              "fillmode": "overlay",
              "size": 10,
              "solidity": 0.2
             }
            },
            "type": "barpolar"
           }
          ],
          "carpet": [
           {
            "aaxis": {
             "endlinecolor": "#2a3f5f",
             "gridcolor": "white",
             "linecolor": "white",
             "minorgridcolor": "white",
             "startlinecolor": "#2a3f5f"
            },
            "baxis": {
             "endlinecolor": "#2a3f5f",
             "gridcolor": "white",
             "linecolor": "white",
             "minorgridcolor": "white",
             "startlinecolor": "#2a3f5f"
            },
            "type": "carpet"
           }
          ],
          "choropleth": [
           {
            "colorbar": {
             "outlinewidth": 0,
             "ticks": ""
            },
            "type": "choropleth"
           }
          ],
          "contour": [
           {
            "colorbar": {
             "outlinewidth": 0,
             "ticks": ""
            },
            "colorscale": [
             [
              0,
              "#0d0887"
             ],
             [
              0.1111111111111111,
              "#46039f"
             ],
             [
              0.2222222222222222,
              "#7201a8"
             ],
             [
              0.3333333333333333,
              "#9c179e"
             ],
             [
              0.4444444444444444,
              "#bd3786"
             ],
             [
              0.5555555555555556,
              "#d8576b"
             ],
             [
              0.6666666666666666,
              "#ed7953"
             ],
             [
              0.7777777777777778,
              "#fb9f3a"
             ],
             [
              0.8888888888888888,
              "#fdca26"
             ],
             [
              1,
              "#f0f921"
             ]
            ],
            "type": "contour"
           }
          ],
          "contourcarpet": [
           {
            "colorbar": {
             "outlinewidth": 0,
             "ticks": ""
            },
            "type": "contourcarpet"
           }
          ],
          "heatmap": [
           {
            "colorbar": {
             "outlinewidth": 0,
             "ticks": ""
            },
            "colorscale": [
             [
              0,
              "#0d0887"
             ],
             [
              0.1111111111111111,
              "#46039f"
             ],
             [
              0.2222222222222222,
              "#7201a8"
             ],
             [
              0.3333333333333333,
              "#9c179e"
             ],
             [
              0.4444444444444444,
              "#bd3786"
             ],
             [
              0.5555555555555556,
              "#d8576b"
             ],
             [
              0.6666666666666666,
              "#ed7953"
             ],
             [
              0.7777777777777778,
              "#fb9f3a"
             ],
             [
              0.8888888888888888,
              "#fdca26"
             ],
             [
              1,
              "#f0f921"
             ]
            ],
            "type": "heatmap"
           }
          ],
          "heatmapgl": [
           {
            "colorbar": {
             "outlinewidth": 0,
             "ticks": ""
            },
            "colorscale": [
             [
              0,
              "#0d0887"
             ],
             [
              0.1111111111111111,
              "#46039f"
             ],
             [
              0.2222222222222222,
              "#7201a8"
             ],
             [
              0.3333333333333333,
              "#9c179e"
             ],
             [
              0.4444444444444444,
              "#bd3786"
             ],
             [
              0.5555555555555556,
              "#d8576b"
             ],
             [
              0.6666666666666666,
              "#ed7953"
             ],
             [
              0.7777777777777778,
              "#fb9f3a"
             ],
             [
              0.8888888888888888,
              "#fdca26"
             ],
             [
              1,
              "#f0f921"
             ]
            ],
            "type": "heatmapgl"
           }
          ],
          "histogram": [
           {
            "marker": {
             "pattern": {
              "fillmode": "overlay",
              "size": 10,
              "solidity": 0.2
             }
            },
            "type": "histogram"
           }
          ],
          "histogram2d": [
           {
            "colorbar": {
             "outlinewidth": 0,
             "ticks": ""
            },
            "colorscale": [
             [
              0,
              "#0d0887"
             ],
             [
              0.1111111111111111,
              "#46039f"
             ],
             [
              0.2222222222222222,
              "#7201a8"
             ],
             [
              0.3333333333333333,
              "#9c179e"
             ],
             [
              0.4444444444444444,
              "#bd3786"
             ],
             [
              0.5555555555555556,
              "#d8576b"
             ],
             [
              0.6666666666666666,
              "#ed7953"
             ],
             [
              0.7777777777777778,
              "#fb9f3a"
             ],
             [
              0.8888888888888888,
              "#fdca26"
             ],
             [
              1,
              "#f0f921"
             ]
            ],
            "type": "histogram2d"
           }
          ],
          "histogram2dcontour": [
           {
            "colorbar": {
             "outlinewidth": 0,
             "ticks": ""
            },
            "colorscale": [
             [
              0,
              "#0d0887"
             ],
             [
              0.1111111111111111,
              "#46039f"
             ],
             [
              0.2222222222222222,
              "#7201a8"
             ],
             [
              0.3333333333333333,
              "#9c179e"
             ],
             [
              0.4444444444444444,
              "#bd3786"
             ],
             [
              0.5555555555555556,
              "#d8576b"
             ],
             [
              0.6666666666666666,
              "#ed7953"
             ],
             [
              0.7777777777777778,
              "#fb9f3a"
             ],
             [
              0.8888888888888888,
              "#fdca26"
             ],
             [
              1,
              "#f0f921"
             ]
            ],
            "type": "histogram2dcontour"
           }
          ],
          "mesh3d": [
           {
            "colorbar": {
             "outlinewidth": 0,
             "ticks": ""
            },
            "type": "mesh3d"
           }
          ],
          "parcoords": [
           {
            "line": {
             "colorbar": {
              "outlinewidth": 0,
              "ticks": ""
             }
            },
            "type": "parcoords"
           }
          ],
          "pie": [
           {
            "automargin": true,
            "type": "pie"
           }
          ],
          "scatter": [
           {
            "fillpattern": {
             "fillmode": "overlay",
             "size": 10,
             "solidity": 0.2
            },
            "type": "scatter"
           }
          ],
          "scatter3d": [
           {
            "line": {
             "colorbar": {
              "outlinewidth": 0,
              "ticks": ""
             }
            },
            "marker": {
             "colorbar": {
              "outlinewidth": 0,
              "ticks": ""
             }
            },
            "type": "scatter3d"
           }
          ],
          "scattercarpet": [
           {
            "marker": {
             "colorbar": {
              "outlinewidth": 0,
              "ticks": ""
             }
            },
            "type": "scattercarpet"
           }
          ],
          "scattergeo": [
           {
            "marker": {
             "colorbar": {
              "outlinewidth": 0,
              "ticks": ""
             }
            },
            "type": "scattergeo"
           }
          ],
          "scattergl": [
           {
            "marker": {
             "colorbar": {
              "outlinewidth": 0,
              "ticks": ""
             }
            },
            "type": "scattergl"
           }
          ],
          "scattermapbox": [
           {
            "marker": {
             "colorbar": {
              "outlinewidth": 0,
              "ticks": ""
             }
            },
            "type": "scattermapbox"
           }
          ],
          "scatterpolar": [
           {
            "marker": {
             "colorbar": {
              "outlinewidth": 0,
              "ticks": ""
             }
            },
            "type": "scatterpolar"
           }
          ],
          "scatterpolargl": [
           {
            "marker": {
             "colorbar": {
              "outlinewidth": 0,
              "ticks": ""
             }
            },
            "type": "scatterpolargl"
           }
          ],
          "scatterternary": [
           {
            "marker": {
             "colorbar": {
              "outlinewidth": 0,
              "ticks": ""
             }
            },
            "type": "scatterternary"
           }
          ],
          "surface": [
           {
            "colorbar": {
             "outlinewidth": 0,
             "ticks": ""
            },
            "colorscale": [
             [
              0,
              "#0d0887"
             ],
             [
              0.1111111111111111,
              "#46039f"
             ],
             [
              0.2222222222222222,
              "#7201a8"
             ],
             [
              0.3333333333333333,
              "#9c179e"
             ],
             [
              0.4444444444444444,
              "#bd3786"
             ],
             [
              0.5555555555555556,
              "#d8576b"
             ],
             [
              0.6666666666666666,
              "#ed7953"
             ],
             [
              0.7777777777777778,
              "#fb9f3a"
             ],
             [
              0.8888888888888888,
              "#fdca26"
             ],
             [
              1,
              "#f0f921"
             ]
            ],
            "type": "surface"
           }
          ],
          "table": [
           {
            "cells": {
             "fill": {
              "color": "#EBF0F8"
             },
             "line": {
              "color": "white"
             }
            },
            "header": {
             "fill": {
              "color": "#C8D4E3"
             },
             "line": {
              "color": "white"
             }
            },
            "type": "table"
           }
          ]
         },
         "layout": {
          "annotationdefaults": {
           "arrowcolor": "#2a3f5f",
           "arrowhead": 0,
           "arrowwidth": 1
          },
          "autotypenumbers": "strict",
          "coloraxis": {
           "colorbar": {
            "outlinewidth": 0,
            "ticks": ""
           }
          },
          "colorscale": {
           "diverging": [
            [
             0,
             "#8e0152"
            ],
            [
             0.1,
             "#c51b7d"
            ],
            [
             0.2,
             "#de77ae"
            ],
            [
             0.3,
             "#f1b6da"
            ],
            [
             0.4,
             "#fde0ef"
            ],
            [
             0.5,
             "#f7f7f7"
            ],
            [
             0.6,
             "#e6f5d0"
            ],
            [
             0.7,
             "#b8e186"
            ],
            [
             0.8,
             "#7fbc41"
            ],
            [
             0.9,
             "#4d9221"
            ],
            [
             1,
             "#276419"
            ]
           ],
           "sequential": [
            [
             0,
             "#0d0887"
            ],
            [
             0.1111111111111111,
             "#46039f"
            ],
            [
             0.2222222222222222,
             "#7201a8"
            ],
            [
             0.3333333333333333,
             "#9c179e"
            ],
            [
             0.4444444444444444,
             "#bd3786"
            ],
            [
             0.5555555555555556,
             "#d8576b"
            ],
            [
             0.6666666666666666,
             "#ed7953"
            ],
            [
             0.7777777777777778,
             "#fb9f3a"
            ],
            [
             0.8888888888888888,
             "#fdca26"
            ],
            [
             1,
             "#f0f921"
            ]
           ],
           "sequentialminus": [
            [
             0,
             "#0d0887"
            ],
            [
             0.1111111111111111,
             "#46039f"
            ],
            [
             0.2222222222222222,
             "#7201a8"
            ],
            [
             0.3333333333333333,
             "#9c179e"
            ],
            [
             0.4444444444444444,
             "#bd3786"
            ],
            [
             0.5555555555555556,
             "#d8576b"
            ],
            [
             0.6666666666666666,
             "#ed7953"
            ],
            [
             0.7777777777777778,
             "#fb9f3a"
            ],
            [
             0.8888888888888888,
             "#fdca26"
            ],
            [
             1,
             "#f0f921"
            ]
           ]
          },
          "colorway": [
           "#636efa",
           "#EF553B",
           "#00cc96",
           "#ab63fa",
           "#FFA15A",
           "#19d3f3",
           "#FF6692",
           "#B6E880",
           "#FF97FF",
           "#FECB52"
          ],
          "font": {
           "color": "#2a3f5f"
          },
          "geo": {
           "bgcolor": "white",
           "lakecolor": "white",
           "landcolor": "#E5ECF6",
           "showlakes": true,
           "showland": true,
           "subunitcolor": "white"
          },
          "hoverlabel": {
           "align": "left"
          },
          "hovermode": "closest",
          "mapbox": {
           "style": "light"
          },
          "paper_bgcolor": "white",
          "plot_bgcolor": "#E5ECF6",
          "polar": {
           "angularaxis": {
            "gridcolor": "white",
            "linecolor": "white",
            "ticks": ""
           },
           "bgcolor": "#E5ECF6",
           "radialaxis": {
            "gridcolor": "white",
            "linecolor": "white",
            "ticks": ""
           }
          },
          "scene": {
           "xaxis": {
            "backgroundcolor": "#E5ECF6",
            "gridcolor": "white",
            "gridwidth": 2,
            "linecolor": "white",
            "showbackground": true,
            "ticks": "",
            "zerolinecolor": "white"
           },
           "yaxis": {
            "backgroundcolor": "#E5ECF6",
            "gridcolor": "white",
            "gridwidth": 2,
            "linecolor": "white",
            "showbackground": true,
            "ticks": "",
            "zerolinecolor": "white"
           },
           "zaxis": {
            "backgroundcolor": "#E5ECF6",
            "gridcolor": "white",
            "gridwidth": 2,
            "linecolor": "white",
            "showbackground": true,
            "ticks": "",
            "zerolinecolor": "white"
           }
          },
          "shapedefaults": {
           "line": {
            "color": "#2a3f5f"
           }
          },
          "ternary": {
           "aaxis": {
            "gridcolor": "white",
            "linecolor": "white",
            "ticks": ""
           },
           "baxis": {
            "gridcolor": "white",
            "linecolor": "white",
            "ticks": ""
           },
           "bgcolor": "#E5ECF6",
           "caxis": {
            "gridcolor": "white",
            "linecolor": "white",
            "ticks": ""
           }
          },
          "title": {
           "x": 0.05
          },
          "xaxis": {
           "automargin": true,
           "gridcolor": "white",
           "linecolor": "white",
           "ticks": "",
           "title": {
            "standoff": 15
           },
           "zerolinecolor": "white",
           "zerolinewidth": 2
          },
          "yaxis": {
           "automargin": true,
           "gridcolor": "white",
           "linecolor": "white",
           "ticks": "",
           "title": {
            "standoff": 15
           },
           "zerolinecolor": "white",
           "zerolinewidth": 2
          }
         }
        },
        "title": {
         "text": "Visualization on the optimal scanning position and direction"
        },
        "width": 1200
       }
      }
     },
     "metadata": {},
     "output_type": "display_data"
    }
   ],
   "source": [
    "# the room id: 39\n",
    "# the floor of the room\n",
    "defect_id = 3047\n",
    "robot_id = 1\n",
    "\n",
    "optimal_location, optimal_direction = get_scanning_plan_o1(defect_id, robot_id, gpt_model=\"gpt-4o\")\n",
    "visualize_scanning(defect_id, robot_id, optimal_location, optimal_direction)"
   ]
  },
  {
   "cell_type": "markdown",
   "metadata": {},
   "source": [
    "o1 Model Test"
   ]
  },
  {
   "cell_type": "code",
   "execution_count": 12,
   "metadata": {},
   "outputs": [
    {
     "name": "stdout",
     "output_type": "stream",
     "text": [
      "```json\n",
      "{\n",
      "    \"optimal_location\": [-0.25975, -77.4786, 1.85],\n",
      "    \"optimal_direction\": [-1, 0, 0]\n",
      "}\n",
      "```\n",
      "{'defect_node': {'id': 1072, 'type': 'wall', 'components': [5059], 'location': [-10.0585, -77.4786, 1.85], 'size': [0.0, 9.96, 3.7]}, 'associated_spaces': [{'id': 39, 'surfaces': [1040, 1072, 1082, 1118, 2046, 3047], 'location': [-5.15925, -77.4786, 7.85], 'size': [9.799, 9.96, 3.7]}], 'associated_nodes': [{'id': 5059, 'type': 'door', 'location': [-10.6715, -77.4786, 1.0425], 'size': [0.174, 1.4, 2.085]}, {'id': 1040, 'type': 'wall', 'components': [4019, 4036], 'location': [-0.26, -77.4786, 1.85], 'size': [0.0, 9.96, 3.7]}, {'id': 4019, 'type': 'window', 'location': [0.1425959833643427, -74.4286, 1.842865393455182], 'size': [0.8078628612203475, 1.5, 2.057739326605575]}, {'id': 4036, 'type': 'window', 'location': [0.1425959833643427, -80.5286, 1.842865393455182], 'size': [0.8078628612203475, 1.5, 2.057739326605575]}, {'id': 1082, 'type': 'wall', 'components': [], 'location': [-5.15925, -82.4586, 1.85], 'size': [9.799, 0.0, 3.7]}, {'id': 1118, 'type': 'wall', 'components': [], 'location': [-5.15925, -72.4986, 1.85], 'size': [9.799, 0.0, 3.7]}, {'id': 2046, 'type': 'ceiling', 'components': [], 'location': [-5.15925, -77.4786, 3.7], 'size': [9.799, 9.96, 0.0]}, {'id': 3047, 'type': 'floor', 'components': [], 'location': [-5.15925, -77.4786, 0.0], 'size': [9.799, 9.96, 0.0]}]}\n",
      "60\n"
     ]
    },
    {
     "data": {
      "application/vnd.plotly.v1+json": {
       "config": {
        "plotlyServerURL": "https://plot.ly"
       },
       "data": [
        {
         "color": "lightgreen",
         "flatshading": true,
         "hoverinfo": "text",
         "i": [
          0,
          0,
          4,
          4,
          0,
          0,
          1,
          1,
          2,
          2,
          3,
          3
         ],
         "j": [
          1,
          2,
          5,
          6,
          1,
          5,
          2,
          6,
          3,
          7,
          0,
          4
         ],
         "k": [
          2,
          3,
          6,
          7,
          5,
          4,
          6,
          5,
          7,
          6,
          4,
          7
         ],
         "opacity": 0.5,
         "text": "ID: 5059, Type: door",
         "type": "mesh3d",
         "x": [
          -10.7585,
          -10.5845,
          -10.5845,
          -10.7585,
          -10.7585,
          -10.5845,
          -10.5845,
          -10.7585
         ],
         "y": [
          -78.1786,
          -78.1786,
          -76.7786,
          -76.7786,
          -78.1786,
          -78.1786,
          -76.7786,
          -76.7786
         ],
         "z": [
          0,
          0,
          0,
          0,
          2.085,
          2.085,
          2.085,
          2.085
         ]
        },
        {
         "color": "lightblue",
         "flatshading": true,
         "hoverinfo": "text",
         "i": [
          0,
          0,
          4,
          4,
          0,
          0,
          1,
          1,
          2,
          2,
          3,
          3
         ],
         "j": [
          1,
          2,
          5,
          6,
          1,
          5,
          2,
          6,
          3,
          7,
          0,
          4
         ],
         "k": [
          2,
          3,
          6,
          7,
          5,
          4,
          6,
          5,
          7,
          6,
          4,
          7
         ],
         "opacity": 0.5,
         "text": "ID: 1040, Type: wall",
         "type": "mesh3d",
         "x": [
          -0.31,
          -0.21000000000000002,
          -0.21000000000000002,
          -0.31,
          -0.31,
          -0.21000000000000002,
          -0.21000000000000002,
          -0.31
         ],
         "y": [
          -82.4586,
          -82.4586,
          -72.4986,
          -72.4986,
          -82.4586,
          -82.4586,
          -72.4986,
          -72.4986
         ],
         "z": [
          0,
          0,
          0,
          0,
          3.7,
          3.7,
          3.7,
          3.7
         ]
        },
        {
         "color": "lightgreen",
         "flatshading": true,
         "hoverinfo": "text",
         "i": [
          0,
          0,
          4,
          4,
          0,
          0,
          1,
          1,
          2,
          2,
          3,
          3
         ],
         "j": [
          1,
          2,
          5,
          6,
          1,
          5,
          2,
          6,
          3,
          7,
          0,
          4
         ],
         "k": [
          2,
          3,
          6,
          7,
          5,
          4,
          6,
          5,
          7,
          6,
          4,
          7
         ],
         "opacity": 0.5,
         "text": "ID: 4019, Type: window",
         "type": "mesh3d",
         "x": [
          -0.261335447245831,
          0.5465274139745164,
          0.5465274139745164,
          -0.261335447245831,
          -0.261335447245831,
          0.5465274139745164,
          0.5465274139745164,
          -0.261335447245831
         ],
         "y": [
          -75.1786,
          -75.1786,
          -73.6786,
          -73.6786,
          -75.1786,
          -75.1786,
          -73.6786,
          -73.6786
         ],
         "z": [
          0.8139957301523946,
          0.8139957301523946,
          0.8139957301523946,
          0.8139957301523946,
          2.871735056757969,
          2.871735056757969,
          2.871735056757969,
          2.871735056757969
         ]
        },
        {
         "color": "lightgreen",
         "flatshading": true,
         "hoverinfo": "text",
         "i": [
          0,
          0,
          4,
          4,
          0,
          0,
          1,
          1,
          2,
          2,
          3,
          3
         ],
         "j": [
          1,
          2,
          5,
          6,
          1,
          5,
          2,
          6,
          3,
          7,
          0,
          4
         ],
         "k": [
          2,
          3,
          6,
          7,
          5,
          4,
          6,
          5,
          7,
          6,
          4,
          7
         ],
         "opacity": 0.5,
         "text": "ID: 4036, Type: window",
         "type": "mesh3d",
         "x": [
          -0.261335447245831,
          0.5465274139745164,
          0.5465274139745164,
          -0.261335447245831,
          -0.261335447245831,
          0.5465274139745164,
          0.5465274139745164,
          -0.261335447245831
         ],
         "y": [
          -81.2786,
          -81.2786,
          -79.7786,
          -79.7786,
          -81.2786,
          -81.2786,
          -79.7786,
          -79.7786
         ],
         "z": [
          0.8139957301523946,
          0.8139957301523946,
          0.8139957301523946,
          0.8139957301523946,
          2.871735056757969,
          2.871735056757969,
          2.871735056757969,
          2.871735056757969
         ]
        },
        {
         "color": "lightblue",
         "flatshading": true,
         "hoverinfo": "text",
         "i": [
          0,
          0,
          4,
          4,
          0,
          0,
          1,
          1,
          2,
          2,
          3,
          3
         ],
         "j": [
          1,
          2,
          5,
          6,
          1,
          5,
          2,
          6,
          3,
          7,
          0,
          4
         ],
         "k": [
          2,
          3,
          6,
          7,
          5,
          4,
          6,
          5,
          7,
          6,
          4,
          7
         ],
         "opacity": 0.5,
         "text": "ID: 1082, Type: wall",
         "type": "mesh3d",
         "x": [
          -10.05875,
          -0.25975000000000037,
          -0.25975000000000037,
          -10.05875,
          -10.05875,
          -0.25975000000000037,
          -0.25975000000000037,
          -10.05875
         ],
         "y": [
          -82.5086,
          -82.5086,
          -82.4086,
          -82.4086,
          -82.5086,
          -82.5086,
          -82.4086,
          -82.4086
         ],
         "z": [
          0,
          0,
          0,
          0,
          3.7,
          3.7,
          3.7,
          3.7
         ]
        },
        {
         "color": "lightblue",
         "flatshading": true,
         "hoverinfo": "text",
         "i": [
          0,
          0,
          4,
          4,
          0,
          0,
          1,
          1,
          2,
          2,
          3,
          3
         ],
         "j": [
          1,
          2,
          5,
          6,
          1,
          5,
          2,
          6,
          3,
          7,
          0,
          4
         ],
         "k": [
          2,
          3,
          6,
          7,
          5,
          4,
          6,
          5,
          7,
          6,
          4,
          7
         ],
         "opacity": 0.5,
         "text": "ID: 1118, Type: wall",
         "type": "mesh3d",
         "x": [
          -10.05875,
          -0.25975000000000037,
          -0.25975000000000037,
          -10.05875,
          -10.05875,
          -0.25975000000000037,
          -0.25975000000000037,
          -10.05875
         ],
         "y": [
          -72.5486,
          -72.5486,
          -72.4486,
          -72.4486,
          -72.5486,
          -72.5486,
          -72.4486,
          -72.4486
         ],
         "z": [
          0,
          0,
          0,
          0,
          3.7,
          3.7,
          3.7,
          3.7
         ]
        },
        {
         "color": "lightblue",
         "flatshading": true,
         "hoverinfo": "text",
         "i": [
          0,
          0,
          4,
          4,
          0,
          0,
          1,
          1,
          2,
          2,
          3,
          3
         ],
         "j": [
          1,
          2,
          5,
          6,
          1,
          5,
          2,
          6,
          3,
          7,
          0,
          4
         ],
         "k": [
          2,
          3,
          6,
          7,
          5,
          4,
          6,
          5,
          7,
          6,
          4,
          7
         ],
         "opacity": 0.5,
         "text": "ID: 2046, Type: ceiling",
         "type": "mesh3d",
         "x": [
          -10.05875,
          -0.25975000000000037,
          -0.25975000000000037,
          -10.05875,
          -10.05875,
          -0.25975000000000037,
          -0.25975000000000037,
          -10.05875
         ],
         "y": [
          -82.4586,
          -82.4586,
          -72.4986,
          -72.4986,
          -82.4586,
          -82.4586,
          -72.4986,
          -72.4986
         ],
         "z": [
          3.6500000000000004,
          3.6500000000000004,
          3.6500000000000004,
          3.6500000000000004,
          3.75,
          3.75,
          3.75,
          3.75
         ]
        },
        {
         "color": "lightblue",
         "flatshading": true,
         "hoverinfo": "text",
         "i": [
          0,
          0,
          4,
          4,
          0,
          0,
          1,
          1,
          2,
          2,
          3,
          3
         ],
         "j": [
          1,
          2,
          5,
          6,
          1,
          5,
          2,
          6,
          3,
          7,
          0,
          4
         ],
         "k": [
          2,
          3,
          6,
          7,
          5,
          4,
          6,
          5,
          7,
          6,
          4,
          7
         ],
         "opacity": 0.5,
         "text": "ID: 3047, Type: floor",
         "type": "mesh3d",
         "x": [
          -10.05875,
          -0.25975000000000037,
          -0.25975000000000037,
          -10.05875,
          -10.05875,
          -0.25975000000000037,
          -0.25975000000000037,
          -10.05875
         ],
         "y": [
          -82.4586,
          -82.4586,
          -72.4986,
          -72.4986,
          -82.4586,
          -82.4586,
          -72.4986,
          -72.4986
         ],
         "z": [
          -0.05,
          -0.05,
          -0.05,
          -0.05,
          0.05,
          0.05,
          0.05,
          0.05
         ]
        },
        {
         "marker": {
          "color": "black",
          "size": 10
         },
         "mode": "markers",
         "name": "Camera Position",
         "type": "scatter3d",
         "x": [
          -0.25975
         ],
         "y": [
          -77.4786
         ],
         "z": [
          1.85
         ]
        },
        {
         "marker": {
          "color": "purple",
          "size": 10
         },
         "mode": "markers",
         "name": "Target Position",
         "type": "scatter3d",
         "x": [
          -10.0585
         ],
         "y": [
          -77.4786
         ],
         "z": [
          1.85
         ]
        },
        {
         "color": "yellow",
         "i": [
          0,
          0,
          0,
          0,
          0,
          0,
          0,
          0,
          0,
          0,
          0,
          0,
          0,
          0,
          0,
          0,
          0,
          0,
          0,
          0
         ],
         "j": [
          1,
          2,
          3,
          4,
          5,
          6,
          7,
          8,
          9,
          10,
          11,
          12,
          13,
          14,
          15,
          16,
          17,
          18,
          19,
          20
         ],
         "k": [
          2,
          3,
          4,
          5,
          6,
          7,
          8,
          9,
          10,
          11,
          12,
          13,
          14,
          15,
          16,
          17,
          18,
          19,
          20,
          1
         ],
         "name": "Field of View",
         "opacity": 0.2,
         "type": "mesh3d",
         "x": [
          -0.25975,
          -10.0585,
          -10.0585,
          -10.0585,
          -10.0585,
          -10.0585,
          -10.0585,
          -10.0585,
          -10.0585,
          -10.0585,
          -10.0585,
          -10.0585,
          -10.0585,
          -10.0585,
          -10.0585,
          -10.0585,
          -10.0585,
          -10.0585,
          -10.0585,
          -10.0585,
          -10.0585
         ],
         "y": [
          -77.4786,
          -83.13591095022184,
          -82.82938223838163,
          -81.94301324507187,
          -80.57285580414967,
          -78.86738773452218,
          -77.01142296459722,
          -75.20608407545674,
          -73.64700754845823,
          -72.50314351686684,
          -71.89844739738469,
          -71.89844739738469,
          -72.50314351686684,
          -73.64700754845823,
          -75.20608407545674,
          -77.01142296459722,
          -78.86738773452218,
          -80.57285580414967,
          -81.94301324507187,
          -82.82938223838163,
          -83.13591095022184
         ],
         "z": [
          1.85,
          1.85,
          0.013074137337123926,
          -1.6247923052647213,
          -2.8861110846332605,
          -3.6341987396465414,
          -3.787988365107918,
          -3.3308144688067425,
          -2.312218936191146,
          -0.8425823983581768,
          0.9188372220575255,
          2.7811627779424732,
          4.542582398358176,
          6.012218936191143,
          7.030814468806742,
          7.487988365107919,
          7.334198739646542,
          6.586111084633261,
          5.324792305264722,
          3.6869258626628776,
          1.8500000000000014
         ]
        }
       ],
       "layout": {
        "height": 800,
        "scene": {
         "aspectmode": "data",
         "aspectratio": {
          "x": 1,
          "y": 1,
          "z": 1
         },
         "xaxis": {
          "title": {
           "text": "X"
          },
          "visible": true
         },
         "yaxis": {
          "title": {
           "text": "Y"
          },
          "visible": true
         },
         "zaxis": {
          "title": {
           "text": "Z"
          },
          "visible": true
         }
        },
        "template": {
         "data": {
          "bar": [
           {
            "error_x": {
             "color": "#2a3f5f"
            },
            "error_y": {
             "color": "#2a3f5f"
            },
            "marker": {
             "line": {
              "color": "#E5ECF6",
              "width": 0.5
             },
             "pattern": {
              "fillmode": "overlay",
              "size": 10,
              "solidity": 0.2
             }
            },
            "type": "bar"
           }
          ],
          "barpolar": [
           {
            "marker": {
             "line": {
              "color": "#E5ECF6",
              "width": 0.5
             },
             "pattern": {
              "fillmode": "overlay",
              "size": 10,
              "solidity": 0.2
             }
            },
            "type": "barpolar"
           }
          ],
          "carpet": [
           {
            "aaxis": {
             "endlinecolor": "#2a3f5f",
             "gridcolor": "white",
             "linecolor": "white",
             "minorgridcolor": "white",
             "startlinecolor": "#2a3f5f"
            },
            "baxis": {
             "endlinecolor": "#2a3f5f",
             "gridcolor": "white",
             "linecolor": "white",
             "minorgridcolor": "white",
             "startlinecolor": "#2a3f5f"
            },
            "type": "carpet"
           }
          ],
          "choropleth": [
           {
            "colorbar": {
             "outlinewidth": 0,
             "ticks": ""
            },
            "type": "choropleth"
           }
          ],
          "contour": [
           {
            "colorbar": {
             "outlinewidth": 0,
             "ticks": ""
            },
            "colorscale": [
             [
              0,
              "#0d0887"
             ],
             [
              0.1111111111111111,
              "#46039f"
             ],
             [
              0.2222222222222222,
              "#7201a8"
             ],
             [
              0.3333333333333333,
              "#9c179e"
             ],
             [
              0.4444444444444444,
              "#bd3786"
             ],
             [
              0.5555555555555556,
              "#d8576b"
             ],
             [
              0.6666666666666666,
              "#ed7953"
             ],
             [
              0.7777777777777778,
              "#fb9f3a"
             ],
             [
              0.8888888888888888,
              "#fdca26"
             ],
             [
              1,
              "#f0f921"
             ]
            ],
            "type": "contour"
           }
          ],
          "contourcarpet": [
           {
            "colorbar": {
             "outlinewidth": 0,
             "ticks": ""
            },
            "type": "contourcarpet"
           }
          ],
          "heatmap": [
           {
            "colorbar": {
             "outlinewidth": 0,
             "ticks": ""
            },
            "colorscale": [
             [
              0,
              "#0d0887"
             ],
             [
              0.1111111111111111,
              "#46039f"
             ],
             [
              0.2222222222222222,
              "#7201a8"
             ],
             [
              0.3333333333333333,
              "#9c179e"
             ],
             [
              0.4444444444444444,
              "#bd3786"
             ],
             [
              0.5555555555555556,
              "#d8576b"
             ],
             [
              0.6666666666666666,
              "#ed7953"
             ],
             [
              0.7777777777777778,
              "#fb9f3a"
             ],
             [
              0.8888888888888888,
              "#fdca26"
             ],
             [
              1,
              "#f0f921"
             ]
            ],
            "type": "heatmap"
           }
          ],
          "heatmapgl": [
           {
            "colorbar": {
             "outlinewidth": 0,
             "ticks": ""
            },
            "colorscale": [
             [
              0,
              "#0d0887"
             ],
             [
              0.1111111111111111,
              "#46039f"
             ],
             [
              0.2222222222222222,
              "#7201a8"
             ],
             [
              0.3333333333333333,
              "#9c179e"
             ],
             [
              0.4444444444444444,
              "#bd3786"
             ],
             [
              0.5555555555555556,
              "#d8576b"
             ],
             [
              0.6666666666666666,
              "#ed7953"
             ],
             [
              0.7777777777777778,
              "#fb9f3a"
             ],
             [
              0.8888888888888888,
              "#fdca26"
             ],
             [
              1,
              "#f0f921"
             ]
            ],
            "type": "heatmapgl"
           }
          ],
          "histogram": [
           {
            "marker": {
             "pattern": {
              "fillmode": "overlay",
              "size": 10,
              "solidity": 0.2
             }
            },
            "type": "histogram"
           }
          ],
          "histogram2d": [
           {
            "colorbar": {
             "outlinewidth": 0,
             "ticks": ""
            },
            "colorscale": [
             [
              0,
              "#0d0887"
             ],
             [
              0.1111111111111111,
              "#46039f"
             ],
             [
              0.2222222222222222,
              "#7201a8"
             ],
             [
              0.3333333333333333,
              "#9c179e"
             ],
             [
              0.4444444444444444,
              "#bd3786"
             ],
             [
              0.5555555555555556,
              "#d8576b"
             ],
             [
              0.6666666666666666,
              "#ed7953"
             ],
             [
              0.7777777777777778,
              "#fb9f3a"
             ],
             [
              0.8888888888888888,
              "#fdca26"
             ],
             [
              1,
              "#f0f921"
             ]
            ],
            "type": "histogram2d"
           }
          ],
          "histogram2dcontour": [
           {
            "colorbar": {
             "outlinewidth": 0,
             "ticks": ""
            },
            "colorscale": [
             [
              0,
              "#0d0887"
             ],
             [
              0.1111111111111111,
              "#46039f"
             ],
             [
              0.2222222222222222,
              "#7201a8"
             ],
             [
              0.3333333333333333,
              "#9c179e"
             ],
             [
              0.4444444444444444,
              "#bd3786"
             ],
             [
              0.5555555555555556,
              "#d8576b"
             ],
             [
              0.6666666666666666,
              "#ed7953"
             ],
             [
              0.7777777777777778,
              "#fb9f3a"
             ],
             [
              0.8888888888888888,
              "#fdca26"
             ],
             [
              1,
              "#f0f921"
             ]
            ],
            "type": "histogram2dcontour"
           }
          ],
          "mesh3d": [
           {
            "colorbar": {
             "outlinewidth": 0,
             "ticks": ""
            },
            "type": "mesh3d"
           }
          ],
          "parcoords": [
           {
            "line": {
             "colorbar": {
              "outlinewidth": 0,
              "ticks": ""
             }
            },
            "type": "parcoords"
           }
          ],
          "pie": [
           {
            "automargin": true,
            "type": "pie"
           }
          ],
          "scatter": [
           {
            "fillpattern": {
             "fillmode": "overlay",
             "size": 10,
             "solidity": 0.2
            },
            "type": "scatter"
           }
          ],
          "scatter3d": [
           {
            "line": {
             "colorbar": {
              "outlinewidth": 0,
              "ticks": ""
             }
            },
            "marker": {
             "colorbar": {
              "outlinewidth": 0,
              "ticks": ""
             }
            },
            "type": "scatter3d"
           }
          ],
          "scattercarpet": [
           {
            "marker": {
             "colorbar": {
              "outlinewidth": 0,
              "ticks": ""
             }
            },
            "type": "scattercarpet"
           }
          ],
          "scattergeo": [
           {
            "marker": {
             "colorbar": {
              "outlinewidth": 0,
              "ticks": ""
             }
            },
            "type": "scattergeo"
           }
          ],
          "scattergl": [
           {
            "marker": {
             "colorbar": {
              "outlinewidth": 0,
              "ticks": ""
             }
            },
            "type": "scattergl"
           }
          ],
          "scattermapbox": [
           {
            "marker": {
             "colorbar": {
              "outlinewidth": 0,
              "ticks": ""
             }
            },
            "type": "scattermapbox"
           }
          ],
          "scatterpolar": [
           {
            "marker": {
             "colorbar": {
              "outlinewidth": 0,
              "ticks": ""
             }
            },
            "type": "scatterpolar"
           }
          ],
          "scatterpolargl": [
           {
            "marker": {
             "colorbar": {
              "outlinewidth": 0,
              "ticks": ""
             }
            },
            "type": "scatterpolargl"
           }
          ],
          "scatterternary": [
           {
            "marker": {
             "colorbar": {
              "outlinewidth": 0,
              "ticks": ""
             }
            },
            "type": "scatterternary"
           }
          ],
          "surface": [
           {
            "colorbar": {
             "outlinewidth": 0,
             "ticks": ""
            },
            "colorscale": [
             [
              0,
              "#0d0887"
             ],
             [
              0.1111111111111111,
              "#46039f"
             ],
             [
              0.2222222222222222,
              "#7201a8"
             ],
             [
              0.3333333333333333,
              "#9c179e"
             ],
             [
              0.4444444444444444,
              "#bd3786"
             ],
             [
              0.5555555555555556,
              "#d8576b"
             ],
             [
              0.6666666666666666,
              "#ed7953"
             ],
             [
              0.7777777777777778,
              "#fb9f3a"
             ],
             [
              0.8888888888888888,
              "#fdca26"
             ],
             [
              1,
              "#f0f921"
             ]
            ],
            "type": "surface"
           }
          ],
          "table": [
           {
            "cells": {
             "fill": {
              "color": "#EBF0F8"
             },
             "line": {
              "color": "white"
             }
            },
            "header": {
             "fill": {
              "color": "#C8D4E3"
             },
             "line": {
              "color": "white"
             }
            },
            "type": "table"
           }
          ]
         },
         "layout": {
          "annotationdefaults": {
           "arrowcolor": "#2a3f5f",
           "arrowhead": 0,
           "arrowwidth": 1
          },
          "autotypenumbers": "strict",
          "coloraxis": {
           "colorbar": {
            "outlinewidth": 0,
            "ticks": ""
           }
          },
          "colorscale": {
           "diverging": [
            [
             0,
             "#8e0152"
            ],
            [
             0.1,
             "#c51b7d"
            ],
            [
             0.2,
             "#de77ae"
            ],
            [
             0.3,
             "#f1b6da"
            ],
            [
             0.4,
             "#fde0ef"
            ],
            [
             0.5,
             "#f7f7f7"
            ],
            [
             0.6,
             "#e6f5d0"
            ],
            [
             0.7,
             "#b8e186"
            ],
            [
             0.8,
             "#7fbc41"
            ],
            [
             0.9,
             "#4d9221"
            ],
            [
             1,
             "#276419"
            ]
           ],
           "sequential": [
            [
             0,
             "#0d0887"
            ],
            [
             0.1111111111111111,
             "#46039f"
            ],
            [
             0.2222222222222222,
             "#7201a8"
            ],
            [
             0.3333333333333333,
             "#9c179e"
            ],
            [
             0.4444444444444444,
             "#bd3786"
            ],
            [
             0.5555555555555556,
             "#d8576b"
            ],
            [
             0.6666666666666666,
             "#ed7953"
            ],
            [
             0.7777777777777778,
             "#fb9f3a"
            ],
            [
             0.8888888888888888,
             "#fdca26"
            ],
            [
             1,
             "#f0f921"
            ]
           ],
           "sequentialminus": [
            [
             0,
             "#0d0887"
            ],
            [
             0.1111111111111111,
             "#46039f"
            ],
            [
             0.2222222222222222,
             "#7201a8"
            ],
            [
             0.3333333333333333,
             "#9c179e"
            ],
            [
             0.4444444444444444,
             "#bd3786"
            ],
            [
             0.5555555555555556,
             "#d8576b"
            ],
            [
             0.6666666666666666,
             "#ed7953"
            ],
            [
             0.7777777777777778,
             "#fb9f3a"
            ],
            [
             0.8888888888888888,
             "#fdca26"
            ],
            [
             1,
             "#f0f921"
            ]
           ]
          },
          "colorway": [
           "#636efa",
           "#EF553B",
           "#00cc96",
           "#ab63fa",
           "#FFA15A",
           "#19d3f3",
           "#FF6692",
           "#B6E880",
           "#FF97FF",
           "#FECB52"
          ],
          "font": {
           "color": "#2a3f5f"
          },
          "geo": {
           "bgcolor": "white",
           "lakecolor": "white",
           "landcolor": "#E5ECF6",
           "showlakes": true,
           "showland": true,
           "subunitcolor": "white"
          },
          "hoverlabel": {
           "align": "left"
          },
          "hovermode": "closest",
          "mapbox": {
           "style": "light"
          },
          "paper_bgcolor": "white",
          "plot_bgcolor": "#E5ECF6",
          "polar": {
           "angularaxis": {
            "gridcolor": "white",
            "linecolor": "white",
            "ticks": ""
           },
           "bgcolor": "#E5ECF6",
           "radialaxis": {
            "gridcolor": "white",
            "linecolor": "white",
            "ticks": ""
           }
          },
          "scene": {
           "xaxis": {
            "backgroundcolor": "#E5ECF6",
            "gridcolor": "white",
            "gridwidth": 2,
            "linecolor": "white",
            "showbackground": true,
            "ticks": "",
            "zerolinecolor": "white"
           },
           "yaxis": {
            "backgroundcolor": "#E5ECF6",
            "gridcolor": "white",
            "gridwidth": 2,
            "linecolor": "white",
            "showbackground": true,
            "ticks": "",
            "zerolinecolor": "white"
           },
           "zaxis": {
            "backgroundcolor": "#E5ECF6",
            "gridcolor": "white",
            "gridwidth": 2,
            "linecolor": "white",
            "showbackground": true,
            "ticks": "",
            "zerolinecolor": "white"
           }
          },
          "shapedefaults": {
           "line": {
            "color": "#2a3f5f"
           }
          },
          "ternary": {
           "aaxis": {
            "gridcolor": "white",
            "linecolor": "white",
            "ticks": ""
           },
           "baxis": {
            "gridcolor": "white",
            "linecolor": "white",
            "ticks": ""
           },
           "bgcolor": "#E5ECF6",
           "caxis": {
            "gridcolor": "white",
            "linecolor": "white",
            "ticks": ""
           }
          },
          "title": {
           "x": 0.05
          },
          "xaxis": {
           "automargin": true,
           "gridcolor": "white",
           "linecolor": "white",
           "ticks": "",
           "title": {
            "standoff": 15
           },
           "zerolinecolor": "white",
           "zerolinewidth": 2
          },
          "yaxis": {
           "automargin": true,
           "gridcolor": "white",
           "linecolor": "white",
           "ticks": "",
           "title": {
            "standoff": 15
           },
           "zerolinecolor": "white",
           "zerolinewidth": 2
          }
         }
        },
        "title": {
         "text": "Visualization on the optimal scanning position and direction"
        },
        "width": 1200
       }
      }
     },
     "metadata": {},
     "output_type": "display_data"
    }
   ],
   "source": [
    "# the room id: 39\n",
    "# the first wall (left) of the room\n",
    "defect_id = 1072\n",
    "robot_id = 1\n",
    "\n",
    "optimal_location, optimal_direction = get_scanning_plan_o1(defect_id, robot_id, gpt_model=\"o1-preview\")\n",
    "visualize_scanning(defect_id, robot_id, optimal_location, optimal_direction)"
   ]
  },
  {
   "cell_type": "code",
   "execution_count": 21,
   "metadata": {},
   "outputs": [
    {
     "name": "stdout",
     "output_type": "stream",
     "text": [
      "```json\n",
      "{\n",
      "    \"optimal_location\": [-12.5045, -77.4786, 1.7],\n",
      "    \"optimal_direction\": [1.0, 0.0, 0.0]\n",
      "}\n",
      "```\n",
      "{'defect_node': {'id': 5059, 'type': 'door', 'location': [-10.6715, -77.4786, 1.0425], 'size': [0.174, 1.4, 2.085]}, 'associated_spaces': [{'id': 41, 'surfaces': [1002, 1035, 3003, 2019, 1219, 1227], 'location': [-12.5285, -92.26595, 7.85], 'size': [3.66, 40.035, 3.7]}, {'id': 39, 'surfaces': [1040, 1072, 1082, 1118, 2046, 3047], 'location': [-5.15925, -77.4786, 7.85], 'size': [9.799, 9.96, 3.7]}], 'associated_nodes': [{'id': 1002, 'type': 'wall', 'components': [5068], 'location': [-12.5285, -72.2486, 1.85], 'size': [3.66, 0.0, 3.7]}, {'id': 5068, 'type': 'door', 'location': [-12.5285, -72.20859999999999, 1.25], 'size': [2.8, 0.2, 2.5]}, {'id': 1035, 'type': 'wall', 'components': [5054], 'location': [-12.5285, -112.2833, 1.85], 'size': [3.66, 0.0, 3.7]}, {'id': 5054, 'type': 'door', 'location': [-12.5285, -112.3233, 1.25], 'size': [2.8, 0.2, 2.5]}, {'id': 3003, 'type': 'floor', 'components': [5014, 5018, 5019, 5020, 5022, 5023, 5024, 5027, 5046, 5052, 5054, 5059, 5061, 5063, 5065, 5068], 'location': [-12.5285, -92.26595, 0.0], 'size': [3.66, 40.035, 0.0]}, {'id': 5014, 'type': 'door', 'location': [-14.6785, -108.5286, 1.013], 'size': [0.69, 1.252, 2.026]}, {'id': 5018, 'type': 'door', 'location': [-14.6785, -96.5286, 1.013], 'size': [0.69, 1.252, 2.026]}, {'id': 5019, 'type': 'door', 'location': [-14.6785, -100.5286, 1.013], 'size': [0.69, 1.252, 2.026]}, {'id': 5020, 'type': 'door', 'location': [-14.6785, -92.5286, 1.013], 'size': [0.69, 1.252, 2.026]}, {'id': 5022, 'type': 'door', 'location': [-14.6785, -84.52860000000001, 1.013], 'size': [0.69, 1.252, 2.026]}, {'id': 5023, 'type': 'door', 'location': [-14.6785, -81.5266, 1.105], 'size': [0.69, 1.016, 2.21]}, {'id': 5024, 'type': 'door', 'location': [-14.6785, -76.28059999999999, 1.105], 'size': [0.69, 1.016, 2.21]}, {'id': 5027, 'type': 'door', 'location': [-14.6785, -88.52860000000001, 1.013], 'size': [0.69, 1.252, 2.026]}, {'id': 5046, 'type': 'door', 'location': [-14.3855, -73.7286, 1.0425], 'size': [0.174, 1.4, 2.085]}, {'id': 5052, 'type': 'door', 'location': [-10.6715, -94.5286, 1.0425], 'size': [0.174, 1.4, 2.085]}, {'id': 5061, 'type': 'door', 'location': [-10.6715, -109.2686, 1.0425], 'size': [0.174, 1.4, 2.085]}, {'id': 5063, 'type': 'door', 'location': [-10.6715, -102.5286, 1.0425], 'size': [0.174, 1.4, 2.085]}, {'id': 5065, 'type': 'door', 'location': [-10.6715, -85.0624, 1.0425], 'size': [0.174, 1.4, 2.085]}, {'id': 2019, 'type': 'ceiling', 'components': [], 'location': [-12.5285, -92.26595, 3.7], 'size': [3.66, 40.035, 0.0]}, {'id': 1219, 'type': 'wall', 'components': [5014, 5018, 5019, 5020, 5022, 5023, 5024, 5027, 5046], 'location': [-14.3585, -92.26595, 1.85], 'size': [0.0, 40.035, 3.7]}, {'id': 1227, 'type': 'wall', 'components': [5052, 5059, 5061, 5063, 5065], 'location': [-10.6985, -92.26595, 1.85], 'size': [0.0, 40.035, 3.7]}, {'id': 1040, 'type': 'wall', 'components': [4019, 4036], 'location': [-0.26, -77.4786, 1.85], 'size': [0.0, 9.96, 3.7]}, {'id': 4019, 'type': 'window', 'location': [0.1425959833643427, -74.4286, 1.842865393455182], 'size': [0.8078628612203475, 1.5, 2.057739326605575]}, {'id': 4036, 'type': 'window', 'location': [0.1425959833643427, -80.5286, 1.842865393455182], 'size': [0.8078628612203475, 1.5, 2.057739326605575]}, {'id': 1072, 'type': 'wall', 'components': [5059], 'location': [-10.0585, -77.4786, 1.85], 'size': [0.0, 9.96, 3.7]}, {'id': 1082, 'type': 'wall', 'components': [], 'location': [-5.15925, -82.4586, 1.85], 'size': [9.799, 0.0, 3.7]}, {'id': 1118, 'type': 'wall', 'components': [], 'location': [-5.15925, -72.4986, 1.85], 'size': [9.799, 0.0, 3.7]}, {'id': 2046, 'type': 'ceiling', 'components': [], 'location': [-5.15925, -77.4786, 3.7], 'size': [9.799, 9.96, 0.0]}, {'id': 3047, 'type': 'floor', 'components': [], 'location': [-5.15925, -77.4786, 0.0], 'size': [9.799, 9.96, 0.0]}, {'id': 5059, 'type': 'door', 'location': [-10.6715, -77.4786, 1.0425], 'size': [0.174, 1.4, 2.085]}]}\n",
      "60\n"
     ]
    },
    {
     "data": {
      "application/vnd.plotly.v1+json": {
       "config": {
        "plotlyServerURL": "https://plot.ly"
       },
       "data": [
        {
         "color": "lightblue",
         "flatshading": true,
         "hoverinfo": "text",
         "i": [
          0,
          0,
          4,
          4,
          0,
          0,
          1,
          1,
          2,
          2,
          3,
          3
         ],
         "j": [
          1,
          2,
          5,
          6,
          1,
          5,
          2,
          6,
          3,
          7,
          0,
          4
         ],
         "k": [
          2,
          3,
          6,
          7,
          5,
          4,
          6,
          5,
          7,
          6,
          4,
          7
         ],
         "opacity": 0.5,
         "text": "ID: 1002, Type: wall",
         "type": "mesh3d",
         "x": [
          -14.3585,
          -10.6985,
          -10.6985,
          -14.3585,
          -14.3585,
          -10.6985,
          -10.6985,
          -14.3585
         ],
         "y": [
          -72.2986,
          -72.2986,
          -72.1986,
          -72.1986,
          -72.2986,
          -72.2986,
          -72.1986,
          -72.1986
         ],
         "z": [
          0,
          0,
          0,
          0,
          3.7,
          3.7,
          3.7,
          3.7
         ]
        },
        {
         "color": "lightgreen",
         "flatshading": true,
         "hoverinfo": "text",
         "i": [
          0,
          0,
          4,
          4,
          0,
          0,
          1,
          1,
          2,
          2,
          3,
          3
         ],
         "j": [
          1,
          2,
          5,
          6,
          1,
          5,
          2,
          6,
          3,
          7,
          0,
          4
         ],
         "k": [
          2,
          3,
          6,
          7,
          5,
          4,
          6,
          5,
          7,
          6,
          4,
          7
         ],
         "opacity": 0.5,
         "text": "ID: 5068, Type: door",
         "type": "mesh3d",
         "x": [
          -13.9285,
          -11.128499999999999,
          -11.128499999999999,
          -13.9285,
          -13.9285,
          -11.128499999999999,
          -11.128499999999999,
          -13.9285
         ],
         "y": [
          -72.30859999999998,
          -72.30859999999998,
          -72.1086,
          -72.1086,
          -72.30859999999998,
          -72.30859999999998,
          -72.1086,
          -72.1086
         ],
         "z": [
          0,
          0,
          0,
          0,
          2.5,
          2.5,
          2.5,
          2.5
         ]
        },
        {
         "color": "lightblue",
         "flatshading": true,
         "hoverinfo": "text",
         "i": [
          0,
          0,
          4,
          4,
          0,
          0,
          1,
          1,
          2,
          2,
          3,
          3
         ],
         "j": [
          1,
          2,
          5,
          6,
          1,
          5,
          2,
          6,
          3,
          7,
          0,
          4
         ],
         "k": [
          2,
          3,
          6,
          7,
          5,
          4,
          6,
          5,
          7,
          6,
          4,
          7
         ],
         "opacity": 0.5,
         "text": "ID: 1035, Type: wall",
         "type": "mesh3d",
         "x": [
          -14.3585,
          -10.6985,
          -10.6985,
          -14.3585,
          -14.3585,
          -10.6985,
          -10.6985,
          -14.3585
         ],
         "y": [
          -112.3333,
          -112.3333,
          -112.2333,
          -112.2333,
          -112.3333,
          -112.3333,
          -112.2333,
          -112.2333
         ],
         "z": [
          0,
          0,
          0,
          0,
          3.7,
          3.7,
          3.7,
          3.7
         ]
        },
        {
         "color": "lightgreen",
         "flatshading": true,
         "hoverinfo": "text",
         "i": [
          0,
          0,
          4,
          4,
          0,
          0,
          1,
          1,
          2,
          2,
          3,
          3
         ],
         "j": [
          1,
          2,
          5,
          6,
          1,
          5,
          2,
          6,
          3,
          7,
          0,
          4
         ],
         "k": [
          2,
          3,
          6,
          7,
          5,
          4,
          6,
          5,
          7,
          6,
          4,
          7
         ],
         "opacity": 0.5,
         "text": "ID: 5054, Type: door",
         "type": "mesh3d",
         "x": [
          -13.9285,
          -11.128499999999999,
          -11.128499999999999,
          -13.9285,
          -13.9285,
          -11.128499999999999,
          -11.128499999999999,
          -13.9285
         ],
         "y": [
          -112.4233,
          -112.4233,
          -112.22330000000001,
          -112.22330000000001,
          -112.4233,
          -112.4233,
          -112.22330000000001,
          -112.22330000000001
         ],
         "z": [
          0,
          0,
          0,
          0,
          2.5,
          2.5,
          2.5,
          2.5
         ]
        },
        {
         "color": "lightblue",
         "flatshading": true,
         "hoverinfo": "text",
         "i": [
          0,
          0,
          4,
          4,
          0,
          0,
          1,
          1,
          2,
          2,
          3,
          3
         ],
         "j": [
          1,
          2,
          5,
          6,
          1,
          5,
          2,
          6,
          3,
          7,
          0,
          4
         ],
         "k": [
          2,
          3,
          6,
          7,
          5,
          4,
          6,
          5,
          7,
          6,
          4,
          7
         ],
         "opacity": 0.5,
         "text": "ID: 3003, Type: floor",
         "type": "mesh3d",
         "x": [
          -14.3585,
          -10.6985,
          -10.6985,
          -14.3585,
          -14.3585,
          -10.6985,
          -10.6985,
          -14.3585
         ],
         "y": [
          -112.28345,
          -112.28345,
          -72.24845,
          -72.24845,
          -112.28345,
          -112.28345,
          -72.24845,
          -72.24845
         ],
         "z": [
          -0.05,
          -0.05,
          -0.05,
          -0.05,
          0.05,
          0.05,
          0.05,
          0.05
         ]
        },
        {
         "color": "lightgreen",
         "flatshading": true,
         "hoverinfo": "text",
         "i": [
          0,
          0,
          4,
          4,
          0,
          0,
          1,
          1,
          2,
          2,
          3,
          3
         ],
         "j": [
          1,
          2,
          5,
          6,
          1,
          5,
          2,
          6,
          3,
          7,
          0,
          4
         ],
         "k": [
          2,
          3,
          6,
          7,
          5,
          4,
          6,
          5,
          7,
          6,
          4,
          7
         ],
         "opacity": 0.5,
         "text": "ID: 5014, Type: door",
         "type": "mesh3d",
         "x": [
          -15.0235,
          -14.333499999999999,
          -14.333499999999999,
          -15.0235,
          -15.0235,
          -14.333499999999999,
          -14.333499999999999,
          -15.0235
         ],
         "y": [
          -109.1546,
          -109.1546,
          -107.90259999999999,
          -107.90259999999999,
          -109.1546,
          -109.1546,
          -107.90259999999999,
          -107.90259999999999
         ],
         "z": [
          0,
          0,
          0,
          0,
          2.026,
          2.026,
          2.026,
          2.026
         ]
        },
        {
         "color": "lightgreen",
         "flatshading": true,
         "hoverinfo": "text",
         "i": [
          0,
          0,
          4,
          4,
          0,
          0,
          1,
          1,
          2,
          2,
          3,
          3
         ],
         "j": [
          1,
          2,
          5,
          6,
          1,
          5,
          2,
          6,
          3,
          7,
          0,
          4
         ],
         "k": [
          2,
          3,
          6,
          7,
          5,
          4,
          6,
          5,
          7,
          6,
          4,
          7
         ],
         "opacity": 0.5,
         "text": "ID: 5018, Type: door",
         "type": "mesh3d",
         "x": [
          -15.0235,
          -14.333499999999999,
          -14.333499999999999,
          -15.0235,
          -15.0235,
          -14.333499999999999,
          -14.333499999999999,
          -15.0235
         ],
         "y": [
          -97.1546,
          -97.1546,
          -95.90259999999999,
          -95.90259999999999,
          -97.1546,
          -97.1546,
          -95.90259999999999,
          -95.90259999999999
         ],
         "z": [
          0,
          0,
          0,
          0,
          2.026,
          2.026,
          2.026,
          2.026
         ]
        },
        {
         "color": "lightgreen",
         "flatshading": true,
         "hoverinfo": "text",
         "i": [
          0,
          0,
          4,
          4,
          0,
          0,
          1,
          1,
          2,
          2,
          3,
          3
         ],
         "j": [
          1,
          2,
          5,
          6,
          1,
          5,
          2,
          6,
          3,
          7,
          0,
          4
         ],
         "k": [
          2,
          3,
          6,
          7,
          5,
          4,
          6,
          5,
          7,
          6,
          4,
          7
         ],
         "opacity": 0.5,
         "text": "ID: 5019, Type: door",
         "type": "mesh3d",
         "x": [
          -15.0235,
          -14.333499999999999,
          -14.333499999999999,
          -15.0235,
          -15.0235,
          -14.333499999999999,
          -14.333499999999999,
          -15.0235
         ],
         "y": [
          -101.1546,
          -101.1546,
          -99.90259999999999,
          -99.90259999999999,
          -101.1546,
          -101.1546,
          -99.90259999999999,
          -99.90259999999999
         ],
         "z": [
          0,
          0,
          0,
          0,
          2.026,
          2.026,
          2.026,
          2.026
         ]
        },
        {
         "color": "lightgreen",
         "flatshading": true,
         "hoverinfo": "text",
         "i": [
          0,
          0,
          4,
          4,
          0,
          0,
          1,
          1,
          2,
          2,
          3,
          3
         ],
         "j": [
          1,
          2,
          5,
          6,
          1,
          5,
          2,
          6,
          3,
          7,
          0,
          4
         ],
         "k": [
          2,
          3,
          6,
          7,
          5,
          4,
          6,
          5,
          7,
          6,
          4,
          7
         ],
         "opacity": 0.5,
         "text": "ID: 5020, Type: door",
         "type": "mesh3d",
         "x": [
          -15.0235,
          -14.333499999999999,
          -14.333499999999999,
          -15.0235,
          -15.0235,
          -14.333499999999999,
          -14.333499999999999,
          -15.0235
         ],
         "y": [
          -93.1546,
          -93.1546,
          -91.90259999999999,
          -91.90259999999999,
          -93.1546,
          -93.1546,
          -91.90259999999999,
          -91.90259999999999
         ],
         "z": [
          0,
          0,
          0,
          0,
          2.026,
          2.026,
          2.026,
          2.026
         ]
        },
        {
         "color": "lightgreen",
         "flatshading": true,
         "hoverinfo": "text",
         "i": [
          0,
          0,
          4,
          4,
          0,
          0,
          1,
          1,
          2,
          2,
          3,
          3
         ],
         "j": [
          1,
          2,
          5,
          6,
          1,
          5,
          2,
          6,
          3,
          7,
          0,
          4
         ],
         "k": [
          2,
          3,
          6,
          7,
          5,
          4,
          6,
          5,
          7,
          6,
          4,
          7
         ],
         "opacity": 0.5,
         "text": "ID: 5022, Type: door",
         "type": "mesh3d",
         "x": [
          -15.0235,
          -14.333499999999999,
          -14.333499999999999,
          -15.0235,
          -15.0235,
          -14.333499999999999,
          -14.333499999999999,
          -15.0235
         ],
         "y": [
          -85.15460000000002,
          -85.15460000000002,
          -83.9026,
          -83.9026,
          -85.15460000000002,
          -85.15460000000002,
          -83.9026,
          -83.9026
         ],
         "z": [
          0,
          0,
          0,
          0,
          2.026,
          2.026,
          2.026,
          2.026
         ]
        },
        {
         "color": "lightgreen",
         "flatshading": true,
         "hoverinfo": "text",
         "i": [
          0,
          0,
          4,
          4,
          0,
          0,
          1,
          1,
          2,
          2,
          3,
          3
         ],
         "j": [
          1,
          2,
          5,
          6,
          1,
          5,
          2,
          6,
          3,
          7,
          0,
          4
         ],
         "k": [
          2,
          3,
          6,
          7,
          5,
          4,
          6,
          5,
          7,
          6,
          4,
          7
         ],
         "opacity": 0.5,
         "text": "ID: 5023, Type: door",
         "type": "mesh3d",
         "x": [
          -15.0235,
          -14.333499999999999,
          -14.333499999999999,
          -15.0235,
          -15.0235,
          -14.333499999999999,
          -14.333499999999999,
          -15.0235
         ],
         "y": [
          -82.0346,
          -82.0346,
          -81.0186,
          -81.0186,
          -82.0346,
          -82.0346,
          -81.0186,
          -81.0186
         ],
         "z": [
          0,
          0,
          0,
          0,
          2.21,
          2.21,
          2.21,
          2.21
         ]
        },
        {
         "color": "lightgreen",
         "flatshading": true,
         "hoverinfo": "text",
         "i": [
          0,
          0,
          4,
          4,
          0,
          0,
          1,
          1,
          2,
          2,
          3,
          3
         ],
         "j": [
          1,
          2,
          5,
          6,
          1,
          5,
          2,
          6,
          3,
          7,
          0,
          4
         ],
         "k": [
          2,
          3,
          6,
          7,
          5,
          4,
          6,
          5,
          7,
          6,
          4,
          7
         ],
         "opacity": 0.5,
         "text": "ID: 5024, Type: door",
         "type": "mesh3d",
         "x": [
          -15.0235,
          -14.333499999999999,
          -14.333499999999999,
          -15.0235,
          -15.0235,
          -14.333499999999999,
          -14.333499999999999,
          -15.0235
         ],
         "y": [
          -76.78859999999999,
          -76.78859999999999,
          -75.7726,
          -75.7726,
          -76.78859999999999,
          -76.78859999999999,
          -75.7726,
          -75.7726
         ],
         "z": [
          0,
          0,
          0,
          0,
          2.21,
          2.21,
          2.21,
          2.21
         ]
        },
        {
         "color": "lightgreen",
         "flatshading": true,
         "hoverinfo": "text",
         "i": [
          0,
          0,
          4,
          4,
          0,
          0,
          1,
          1,
          2,
          2,
          3,
          3
         ],
         "j": [
          1,
          2,
          5,
          6,
          1,
          5,
          2,
          6,
          3,
          7,
          0,
          4
         ],
         "k": [
          2,
          3,
          6,
          7,
          5,
          4,
          6,
          5,
          7,
          6,
          4,
          7
         ],
         "opacity": 0.5,
         "text": "ID: 5027, Type: door",
         "type": "mesh3d",
         "x": [
          -15.0235,
          -14.333499999999999,
          -14.333499999999999,
          -15.0235,
          -15.0235,
          -14.333499999999999,
          -14.333499999999999,
          -15.0235
         ],
         "y": [
          -89.15460000000002,
          -89.15460000000002,
          -87.9026,
          -87.9026,
          -89.15460000000002,
          -89.15460000000002,
          -87.9026,
          -87.9026
         ],
         "z": [
          0,
          0,
          0,
          0,
          2.026,
          2.026,
          2.026,
          2.026
         ]
        },
        {
         "color": "lightgreen",
         "flatshading": true,
         "hoverinfo": "text",
         "i": [
          0,
          0,
          4,
          4,
          0,
          0,
          1,
          1,
          2,
          2,
          3,
          3
         ],
         "j": [
          1,
          2,
          5,
          6,
          1,
          5,
          2,
          6,
          3,
          7,
          0,
          4
         ],
         "k": [
          2,
          3,
          6,
          7,
          5,
          4,
          6,
          5,
          7,
          6,
          4,
          7
         ],
         "opacity": 0.5,
         "text": "ID: 5046, Type: door",
         "type": "mesh3d",
         "x": [
          -14.4725,
          -14.2985,
          -14.2985,
          -14.4725,
          -14.4725,
          -14.2985,
          -14.2985,
          -14.4725
         ],
         "y": [
          -74.4286,
          -74.4286,
          -73.0286,
          -73.0286,
          -74.4286,
          -74.4286,
          -73.0286,
          -73.0286
         ],
         "z": [
          0,
          0,
          0,
          0,
          2.085,
          2.085,
          2.085,
          2.085
         ]
        },
        {
         "color": "lightgreen",
         "flatshading": true,
         "hoverinfo": "text",
         "i": [
          0,
          0,
          4,
          4,
          0,
          0,
          1,
          1,
          2,
          2,
          3,
          3
         ],
         "j": [
          1,
          2,
          5,
          6,
          1,
          5,
          2,
          6,
          3,
          7,
          0,
          4
         ],
         "k": [
          2,
          3,
          6,
          7,
          5,
          4,
          6,
          5,
          7,
          6,
          4,
          7
         ],
         "opacity": 0.5,
         "text": "ID: 5052, Type: door",
         "type": "mesh3d",
         "x": [
          -10.7585,
          -10.5845,
          -10.5845,
          -10.7585,
          -10.7585,
          -10.5845,
          -10.5845,
          -10.7585
         ],
         "y": [
          -95.2286,
          -95.2286,
          -93.8286,
          -93.8286,
          -95.2286,
          -95.2286,
          -93.8286,
          -93.8286
         ],
         "z": [
          0,
          0,
          0,
          0,
          2.085,
          2.085,
          2.085,
          2.085
         ]
        },
        {
         "color": "lightgreen",
         "flatshading": true,
         "hoverinfo": "text",
         "i": [
          0,
          0,
          4,
          4,
          0,
          0,
          1,
          1,
          2,
          2,
          3,
          3
         ],
         "j": [
          1,
          2,
          5,
          6,
          1,
          5,
          2,
          6,
          3,
          7,
          0,
          4
         ],
         "k": [
          2,
          3,
          6,
          7,
          5,
          4,
          6,
          5,
          7,
          6,
          4,
          7
         ],
         "opacity": 0.5,
         "text": "ID: 5061, Type: door",
         "type": "mesh3d",
         "x": [
          -10.7585,
          -10.5845,
          -10.5845,
          -10.7585,
          -10.7585,
          -10.5845,
          -10.5845,
          -10.7585
         ],
         "y": [
          -109.96860000000001,
          -109.96860000000001,
          -108.5686,
          -108.5686,
          -109.96860000000001,
          -109.96860000000001,
          -108.5686,
          -108.5686
         ],
         "z": [
          0,
          0,
          0,
          0,
          2.085,
          2.085,
          2.085,
          2.085
         ]
        },
        {
         "color": "lightgreen",
         "flatshading": true,
         "hoverinfo": "text",
         "i": [
          0,
          0,
          4,
          4,
          0,
          0,
          1,
          1,
          2,
          2,
          3,
          3
         ],
         "j": [
          1,
          2,
          5,
          6,
          1,
          5,
          2,
          6,
          3,
          7,
          0,
          4
         ],
         "k": [
          2,
          3,
          6,
          7,
          5,
          4,
          6,
          5,
          7,
          6,
          4,
          7
         ],
         "opacity": 0.5,
         "text": "ID: 5063, Type: door",
         "type": "mesh3d",
         "x": [
          -10.7585,
          -10.5845,
          -10.5845,
          -10.7585,
          -10.7585,
          -10.5845,
          -10.5845,
          -10.7585
         ],
         "y": [
          -103.2286,
          -103.2286,
          -101.8286,
          -101.8286,
          -103.2286,
          -103.2286,
          -101.8286,
          -101.8286
         ],
         "z": [
          0,
          0,
          0,
          0,
          2.085,
          2.085,
          2.085,
          2.085
         ]
        },
        {
         "color": "lightgreen",
         "flatshading": true,
         "hoverinfo": "text",
         "i": [
          0,
          0,
          4,
          4,
          0,
          0,
          1,
          1,
          2,
          2,
          3,
          3
         ],
         "j": [
          1,
          2,
          5,
          6,
          1,
          5,
          2,
          6,
          3,
          7,
          0,
          4
         ],
         "k": [
          2,
          3,
          6,
          7,
          5,
          4,
          6,
          5,
          7,
          6,
          4,
          7
         ],
         "opacity": 0.5,
         "text": "ID: 5065, Type: door",
         "type": "mesh3d",
         "x": [
          -10.7585,
          -10.5845,
          -10.5845,
          -10.7585,
          -10.7585,
          -10.5845,
          -10.5845,
          -10.7585
         ],
         "y": [
          -85.7624,
          -85.7624,
          -84.3624,
          -84.3624,
          -85.7624,
          -85.7624,
          -84.3624,
          -84.3624
         ],
         "z": [
          0,
          0,
          0,
          0,
          2.085,
          2.085,
          2.085,
          2.085
         ]
        },
        {
         "color": "lightblue",
         "flatshading": true,
         "hoverinfo": "text",
         "i": [
          0,
          0,
          4,
          4,
          0,
          0,
          1,
          1,
          2,
          2,
          3,
          3
         ],
         "j": [
          1,
          2,
          5,
          6,
          1,
          5,
          2,
          6,
          3,
          7,
          0,
          4
         ],
         "k": [
          2,
          3,
          6,
          7,
          5,
          4,
          6,
          5,
          7,
          6,
          4,
          7
         ],
         "opacity": 0.5,
         "text": "ID: 2019, Type: ceiling",
         "type": "mesh3d",
         "x": [
          -14.3585,
          -10.6985,
          -10.6985,
          -14.3585,
          -14.3585,
          -10.6985,
          -10.6985,
          -14.3585
         ],
         "y": [
          -112.28345,
          -112.28345,
          -72.24845,
          -72.24845,
          -112.28345,
          -112.28345,
          -72.24845,
          -72.24845
         ],
         "z": [
          3.6500000000000004,
          3.6500000000000004,
          3.6500000000000004,
          3.6500000000000004,
          3.75,
          3.75,
          3.75,
          3.75
         ]
        },
        {
         "color": "lightblue",
         "flatshading": true,
         "hoverinfo": "text",
         "i": [
          0,
          0,
          4,
          4,
          0,
          0,
          1,
          1,
          2,
          2,
          3,
          3
         ],
         "j": [
          1,
          2,
          5,
          6,
          1,
          5,
          2,
          6,
          3,
          7,
          0,
          4
         ],
         "k": [
          2,
          3,
          6,
          7,
          5,
          4,
          6,
          5,
          7,
          6,
          4,
          7
         ],
         "opacity": 0.5,
         "text": "ID: 1219, Type: wall",
         "type": "mesh3d",
         "x": [
          -14.4085,
          -14.308499999999999,
          -14.308499999999999,
          -14.4085,
          -14.4085,
          -14.308499999999999,
          -14.308499999999999,
          -14.4085
         ],
         "y": [
          -112.28345,
          -112.28345,
          -72.24845,
          -72.24845,
          -112.28345,
          -112.28345,
          -72.24845,
          -72.24845
         ],
         "z": [
          0,
          0,
          0,
          0,
          3.7,
          3.7,
          3.7,
          3.7
         ]
        },
        {
         "color": "lightblue",
         "flatshading": true,
         "hoverinfo": "text",
         "i": [
          0,
          0,
          4,
          4,
          0,
          0,
          1,
          1,
          2,
          2,
          3,
          3
         ],
         "j": [
          1,
          2,
          5,
          6,
          1,
          5,
          2,
          6,
          3,
          7,
          0,
          4
         ],
         "k": [
          2,
          3,
          6,
          7,
          5,
          4,
          6,
          5,
          7,
          6,
          4,
          7
         ],
         "opacity": 0.5,
         "text": "ID: 1227, Type: wall",
         "type": "mesh3d",
         "x": [
          -10.7485,
          -10.648499999999999,
          -10.648499999999999,
          -10.7485,
          -10.7485,
          -10.648499999999999,
          -10.648499999999999,
          -10.7485
         ],
         "y": [
          -112.28345,
          -112.28345,
          -72.24845,
          -72.24845,
          -112.28345,
          -112.28345,
          -72.24845,
          -72.24845
         ],
         "z": [
          0,
          0,
          0,
          0,
          3.7,
          3.7,
          3.7,
          3.7
         ]
        },
        {
         "color": "lightblue",
         "flatshading": true,
         "hoverinfo": "text",
         "i": [
          0,
          0,
          4,
          4,
          0,
          0,
          1,
          1,
          2,
          2,
          3,
          3
         ],
         "j": [
          1,
          2,
          5,
          6,
          1,
          5,
          2,
          6,
          3,
          7,
          0,
          4
         ],
         "k": [
          2,
          3,
          6,
          7,
          5,
          4,
          6,
          5,
          7,
          6,
          4,
          7
         ],
         "opacity": 0.5,
         "text": "ID: 1040, Type: wall",
         "type": "mesh3d",
         "x": [
          -0.31,
          -0.21000000000000002,
          -0.21000000000000002,
          -0.31,
          -0.31,
          -0.21000000000000002,
          -0.21000000000000002,
          -0.31
         ],
         "y": [
          -82.4586,
          -82.4586,
          -72.4986,
          -72.4986,
          -82.4586,
          -82.4586,
          -72.4986,
          -72.4986
         ],
         "z": [
          0,
          0,
          0,
          0,
          3.7,
          3.7,
          3.7,
          3.7
         ]
        },
        {
         "color": "lightgreen",
         "flatshading": true,
         "hoverinfo": "text",
         "i": [
          0,
          0,
          4,
          4,
          0,
          0,
          1,
          1,
          2,
          2,
          3,
          3
         ],
         "j": [
          1,
          2,
          5,
          6,
          1,
          5,
          2,
          6,
          3,
          7,
          0,
          4
         ],
         "k": [
          2,
          3,
          6,
          7,
          5,
          4,
          6,
          5,
          7,
          6,
          4,
          7
         ],
         "opacity": 0.5,
         "text": "ID: 4019, Type: window",
         "type": "mesh3d",
         "x": [
          -0.261335447245831,
          0.5465274139745164,
          0.5465274139745164,
          -0.261335447245831,
          -0.261335447245831,
          0.5465274139745164,
          0.5465274139745164,
          -0.261335447245831
         ],
         "y": [
          -75.1786,
          -75.1786,
          -73.6786,
          -73.6786,
          -75.1786,
          -75.1786,
          -73.6786,
          -73.6786
         ],
         "z": [
          0.8139957301523946,
          0.8139957301523946,
          0.8139957301523946,
          0.8139957301523946,
          2.871735056757969,
          2.871735056757969,
          2.871735056757969,
          2.871735056757969
         ]
        },
        {
         "color": "lightgreen",
         "flatshading": true,
         "hoverinfo": "text",
         "i": [
          0,
          0,
          4,
          4,
          0,
          0,
          1,
          1,
          2,
          2,
          3,
          3
         ],
         "j": [
          1,
          2,
          5,
          6,
          1,
          5,
          2,
          6,
          3,
          7,
          0,
          4
         ],
         "k": [
          2,
          3,
          6,
          7,
          5,
          4,
          6,
          5,
          7,
          6,
          4,
          7
         ],
         "opacity": 0.5,
         "text": "ID: 4036, Type: window",
         "type": "mesh3d",
         "x": [
          -0.261335447245831,
          0.5465274139745164,
          0.5465274139745164,
          -0.261335447245831,
          -0.261335447245831,
          0.5465274139745164,
          0.5465274139745164,
          -0.261335447245831
         ],
         "y": [
          -81.2786,
          -81.2786,
          -79.7786,
          -79.7786,
          -81.2786,
          -81.2786,
          -79.7786,
          -79.7786
         ],
         "z": [
          0.8139957301523946,
          0.8139957301523946,
          0.8139957301523946,
          0.8139957301523946,
          2.871735056757969,
          2.871735056757969,
          2.871735056757969,
          2.871735056757969
         ]
        },
        {
         "color": "lightblue",
         "flatshading": true,
         "hoverinfo": "text",
         "i": [
          0,
          0,
          4,
          4,
          0,
          0,
          1,
          1,
          2,
          2,
          3,
          3
         ],
         "j": [
          1,
          2,
          5,
          6,
          1,
          5,
          2,
          6,
          3,
          7,
          0,
          4
         ],
         "k": [
          2,
          3,
          6,
          7,
          5,
          4,
          6,
          5,
          7,
          6,
          4,
          7
         ],
         "opacity": 0.5,
         "text": "ID: 1072, Type: wall",
         "type": "mesh3d",
         "x": [
          -10.108500000000001,
          -10.0085,
          -10.0085,
          -10.108500000000001,
          -10.108500000000001,
          -10.0085,
          -10.0085,
          -10.108500000000001
         ],
         "y": [
          -82.4586,
          -82.4586,
          -72.4986,
          -72.4986,
          -82.4586,
          -82.4586,
          -72.4986,
          -72.4986
         ],
         "z": [
          0,
          0,
          0,
          0,
          3.7,
          3.7,
          3.7,
          3.7
         ]
        },
        {
         "color": "lightblue",
         "flatshading": true,
         "hoverinfo": "text",
         "i": [
          0,
          0,
          4,
          4,
          0,
          0,
          1,
          1,
          2,
          2,
          3,
          3
         ],
         "j": [
          1,
          2,
          5,
          6,
          1,
          5,
          2,
          6,
          3,
          7,
          0,
          4
         ],
         "k": [
          2,
          3,
          6,
          7,
          5,
          4,
          6,
          5,
          7,
          6,
          4,
          7
         ],
         "opacity": 0.5,
         "text": "ID: 1082, Type: wall",
         "type": "mesh3d",
         "x": [
          -10.05875,
          -0.25975000000000037,
          -0.25975000000000037,
          -10.05875,
          -10.05875,
          -0.25975000000000037,
          -0.25975000000000037,
          -10.05875
         ],
         "y": [
          -82.5086,
          -82.5086,
          -82.4086,
          -82.4086,
          -82.5086,
          -82.5086,
          -82.4086,
          -82.4086
         ],
         "z": [
          0,
          0,
          0,
          0,
          3.7,
          3.7,
          3.7,
          3.7
         ]
        },
        {
         "color": "lightblue",
         "flatshading": true,
         "hoverinfo": "text",
         "i": [
          0,
          0,
          4,
          4,
          0,
          0,
          1,
          1,
          2,
          2,
          3,
          3
         ],
         "j": [
          1,
          2,
          5,
          6,
          1,
          5,
          2,
          6,
          3,
          7,
          0,
          4
         ],
         "k": [
          2,
          3,
          6,
          7,
          5,
          4,
          6,
          5,
          7,
          6,
          4,
          7
         ],
         "opacity": 0.5,
         "text": "ID: 1118, Type: wall",
         "type": "mesh3d",
         "x": [
          -10.05875,
          -0.25975000000000037,
          -0.25975000000000037,
          -10.05875,
          -10.05875,
          -0.25975000000000037,
          -0.25975000000000037,
          -10.05875
         ],
         "y": [
          -72.5486,
          -72.5486,
          -72.4486,
          -72.4486,
          -72.5486,
          -72.5486,
          -72.4486,
          -72.4486
         ],
         "z": [
          0,
          0,
          0,
          0,
          3.7,
          3.7,
          3.7,
          3.7
         ]
        },
        {
         "color": "lightblue",
         "flatshading": true,
         "hoverinfo": "text",
         "i": [
          0,
          0,
          4,
          4,
          0,
          0,
          1,
          1,
          2,
          2,
          3,
          3
         ],
         "j": [
          1,
          2,
          5,
          6,
          1,
          5,
          2,
          6,
          3,
          7,
          0,
          4
         ],
         "k": [
          2,
          3,
          6,
          7,
          5,
          4,
          6,
          5,
          7,
          6,
          4,
          7
         ],
         "opacity": 0.5,
         "text": "ID: 2046, Type: ceiling",
         "type": "mesh3d",
         "x": [
          -10.05875,
          -0.25975000000000037,
          -0.25975000000000037,
          -10.05875,
          -10.05875,
          -0.25975000000000037,
          -0.25975000000000037,
          -10.05875
         ],
         "y": [
          -82.4586,
          -82.4586,
          -72.4986,
          -72.4986,
          -82.4586,
          -82.4586,
          -72.4986,
          -72.4986
         ],
         "z": [
          3.6500000000000004,
          3.6500000000000004,
          3.6500000000000004,
          3.6500000000000004,
          3.75,
          3.75,
          3.75,
          3.75
         ]
        },
        {
         "color": "lightblue",
         "flatshading": true,
         "hoverinfo": "text",
         "i": [
          0,
          0,
          4,
          4,
          0,
          0,
          1,
          1,
          2,
          2,
          3,
          3
         ],
         "j": [
          1,
          2,
          5,
          6,
          1,
          5,
          2,
          6,
          3,
          7,
          0,
          4
         ],
         "k": [
          2,
          3,
          6,
          7,
          5,
          4,
          6,
          5,
          7,
          6,
          4,
          7
         ],
         "opacity": 0.5,
         "text": "ID: 3047, Type: floor",
         "type": "mesh3d",
         "x": [
          -10.05875,
          -0.25975000000000037,
          -0.25975000000000037,
          -10.05875,
          -10.05875,
          -0.25975000000000037,
          -0.25975000000000037,
          -10.05875
         ],
         "y": [
          -82.4586,
          -82.4586,
          -72.4986,
          -72.4986,
          -82.4586,
          -82.4586,
          -72.4986,
          -72.4986
         ],
         "z": [
          -0.05,
          -0.05,
          -0.05,
          -0.05,
          0.05,
          0.05,
          0.05,
          0.05
         ]
        },
        {
         "color": "red",
         "flatshading": true,
         "hoverinfo": "text",
         "i": [
          0,
          0,
          4,
          4,
          0,
          0,
          1,
          1,
          2,
          2,
          3,
          3
         ],
         "j": [
          1,
          2,
          5,
          6,
          1,
          5,
          2,
          6,
          3,
          7,
          0,
          4
         ],
         "k": [
          2,
          3,
          6,
          7,
          5,
          4,
          6,
          5,
          7,
          6,
          4,
          7
         ],
         "opacity": 0.5,
         "text": "ID: 5059, Type: door",
         "type": "mesh3d",
         "x": [
          -10.7585,
          -10.5845,
          -10.5845,
          -10.7585,
          -10.7585,
          -10.5845,
          -10.5845,
          -10.7585
         ],
         "y": [
          -78.1786,
          -78.1786,
          -76.7786,
          -76.7786,
          -78.1786,
          -78.1786,
          -76.7786,
          -76.7786
         ],
         "z": [
          0,
          0,
          0,
          0,
          2.085,
          2.085,
          2.085,
          2.085
         ]
        },
        {
         "marker": {
          "color": "black",
          "size": 10
         },
         "mode": "markers",
         "name": "Camera Position",
         "type": "scatter3d",
         "x": [
          -12.5045
         ],
         "y": [
          -77.4786
         ],
         "z": [
          1.7
         ]
        },
        {
         "marker": {
          "color": "purple",
          "size": 10
         },
         "mode": "markers",
         "name": "Target Position",
         "type": "scatter3d",
         "x": [
          -10.6715
         ],
         "y": [
          -77.4786
         ],
         "z": [
          1.0425
         ]
        },
        {
         "color": "yellow",
         "i": [
          0,
          0,
          0,
          0,
          0,
          0,
          0,
          0,
          0,
          0,
          0,
          0,
          0,
          0,
          0,
          0,
          0,
          0,
          0,
          0
         ],
         "j": [
          1,
          2,
          3,
          4,
          5,
          6,
          7,
          8,
          9,
          10,
          11,
          12,
          13,
          14,
          15,
          16,
          17,
          18,
          19,
          20
         ],
         "k": [
          2,
          3,
          4,
          5,
          6,
          7,
          8,
          9,
          10,
          11,
          12,
          13,
          14,
          15,
          16,
          17,
          18,
          19,
          20,
          1
         ],
         "name": "Field of View",
         "opacity": 0.2,
         "type": "mesh3d",
         "x": [
          -12.5045,
          -10.55714403613515,
          -10.55714403613515,
          -10.55714403613515,
          -10.55714403613515,
          -10.55714403613515,
          -10.55714403613515,
          -10.55714403613515,
          -10.55714403613515,
          -10.55714403613515,
          -10.55714403613515,
          -10.55714403613515,
          -10.55714403613515,
          -10.55714403613515,
          -10.55714403613515,
          -10.55714403613515,
          -10.55714403613515,
          -10.55714403613515,
          -10.55714403613515,
          -10.55714403613515,
          -10.55714403613515
         ],
         "y": [
          -77.4786,
          -76.3542935100546,
          -76.41521153685372,
          -76.59136420380682,
          -76.86366263615928,
          -77.20259907362019,
          -77.57144449404998,
          -77.93022877291871,
          -78.24007206649924,
          -78.46739804621808,
          -78.58757241484668,
          -78.58757241484668,
          -78.46739804621808,
          -78.24007206649924,
          -77.93022877291871,
          -77.57144449404998,
          -77.20259907362019,
          -76.86366263615928,
          -76.59136420380682,
          -76.41521153685372,
          -76.3542935100546
         ],
         "z": [
          1.7,
          1.7,
          2.06506172050865,
          2.3905633390839593,
          2.641231704675291,
          2.7899030103503804,
          2.820466413266339,
          2.7296098944771647,
          2.5271791675778075,
          2.2351107428641734,
          1.8850547660625323,
          1.5149452339374678,
          1.164889257135827,
          0.872820832422193,
          0.6703901055228356,
          0.5795335867336606,
          0.6100969896496196,
          0.758768295324709,
          1.0094366609160403,
          1.3349382794913494,
          1.6999999999999997
         ]
        }
       ],
       "layout": {
        "height": 800,
        "scene": {
         "aspectmode": "data",
         "aspectratio": {
          "x": 1,
          "y": 1,
          "z": 1
         },
         "xaxis": {
          "title": {
           "text": "X"
          },
          "visible": true
         },
         "yaxis": {
          "title": {
           "text": "Y"
          },
          "visible": true
         },
         "zaxis": {
          "title": {
           "text": "Z"
          },
          "visible": true
         }
        },
        "template": {
         "data": {
          "bar": [
           {
            "error_x": {
             "color": "#2a3f5f"
            },
            "error_y": {
             "color": "#2a3f5f"
            },
            "marker": {
             "line": {
              "color": "#E5ECF6",
              "width": 0.5
             },
             "pattern": {
              "fillmode": "overlay",
              "size": 10,
              "solidity": 0.2
             }
            },
            "type": "bar"
           }
          ],
          "barpolar": [
           {
            "marker": {
             "line": {
              "color": "#E5ECF6",
              "width": 0.5
             },
             "pattern": {
              "fillmode": "overlay",
              "size": 10,
              "solidity": 0.2
             }
            },
            "type": "barpolar"
           }
          ],
          "carpet": [
           {
            "aaxis": {
             "endlinecolor": "#2a3f5f",
             "gridcolor": "white",
             "linecolor": "white",
             "minorgridcolor": "white",
             "startlinecolor": "#2a3f5f"
            },
            "baxis": {
             "endlinecolor": "#2a3f5f",
             "gridcolor": "white",
             "linecolor": "white",
             "minorgridcolor": "white",
             "startlinecolor": "#2a3f5f"
            },
            "type": "carpet"
           }
          ],
          "choropleth": [
           {
            "colorbar": {
             "outlinewidth": 0,
             "ticks": ""
            },
            "type": "choropleth"
           }
          ],
          "contour": [
           {
            "colorbar": {
             "outlinewidth": 0,
             "ticks": ""
            },
            "colorscale": [
             [
              0,
              "#0d0887"
             ],
             [
              0.1111111111111111,
              "#46039f"
             ],
             [
              0.2222222222222222,
              "#7201a8"
             ],
             [
              0.3333333333333333,
              "#9c179e"
             ],
             [
              0.4444444444444444,
              "#bd3786"
             ],
             [
              0.5555555555555556,
              "#d8576b"
             ],
             [
              0.6666666666666666,
              "#ed7953"
             ],
             [
              0.7777777777777778,
              "#fb9f3a"
             ],
             [
              0.8888888888888888,
              "#fdca26"
             ],
             [
              1,
              "#f0f921"
             ]
            ],
            "type": "contour"
           }
          ],
          "contourcarpet": [
           {
            "colorbar": {
             "outlinewidth": 0,
             "ticks": ""
            },
            "type": "contourcarpet"
           }
          ],
          "heatmap": [
           {
            "colorbar": {
             "outlinewidth": 0,
             "ticks": ""
            },
            "colorscale": [
             [
              0,
              "#0d0887"
             ],
             [
              0.1111111111111111,
              "#46039f"
             ],
             [
              0.2222222222222222,
              "#7201a8"
             ],
             [
              0.3333333333333333,
              "#9c179e"
             ],
             [
              0.4444444444444444,
              "#bd3786"
             ],
             [
              0.5555555555555556,
              "#d8576b"
             ],
             [
              0.6666666666666666,
              "#ed7953"
             ],
             [
              0.7777777777777778,
              "#fb9f3a"
             ],
             [
              0.8888888888888888,
              "#fdca26"
             ],
             [
              1,
              "#f0f921"
             ]
            ],
            "type": "heatmap"
           }
          ],
          "heatmapgl": [
           {
            "colorbar": {
             "outlinewidth": 0,
             "ticks": ""
            },
            "colorscale": [
             [
              0,
              "#0d0887"
             ],
             [
              0.1111111111111111,
              "#46039f"
             ],
             [
              0.2222222222222222,
              "#7201a8"
             ],
             [
              0.3333333333333333,
              "#9c179e"
             ],
             [
              0.4444444444444444,
              "#bd3786"
             ],
             [
              0.5555555555555556,
              "#d8576b"
             ],
             [
              0.6666666666666666,
              "#ed7953"
             ],
             [
              0.7777777777777778,
              "#fb9f3a"
             ],
             [
              0.8888888888888888,
              "#fdca26"
             ],
             [
              1,
              "#f0f921"
             ]
            ],
            "type": "heatmapgl"
           }
          ],
          "histogram": [
           {
            "marker": {
             "pattern": {
              "fillmode": "overlay",
              "size": 10,
              "solidity": 0.2
             }
            },
            "type": "histogram"
           }
          ],
          "histogram2d": [
           {
            "colorbar": {
             "outlinewidth": 0,
             "ticks": ""
            },
            "colorscale": [
             [
              0,
              "#0d0887"
             ],
             [
              0.1111111111111111,
              "#46039f"
             ],
             [
              0.2222222222222222,
              "#7201a8"
             ],
             [
              0.3333333333333333,
              "#9c179e"
             ],
             [
              0.4444444444444444,
              "#bd3786"
             ],
             [
              0.5555555555555556,
              "#d8576b"
             ],
             [
              0.6666666666666666,
              "#ed7953"
             ],
             [
              0.7777777777777778,
              "#fb9f3a"
             ],
             [
              0.8888888888888888,
              "#fdca26"
             ],
             [
              1,
              "#f0f921"
             ]
            ],
            "type": "histogram2d"
           }
          ],
          "histogram2dcontour": [
           {
            "colorbar": {
             "outlinewidth": 0,
             "ticks": ""
            },
            "colorscale": [
             [
              0,
              "#0d0887"
             ],
             [
              0.1111111111111111,
              "#46039f"
             ],
             [
              0.2222222222222222,
              "#7201a8"
             ],
             [
              0.3333333333333333,
              "#9c179e"
             ],
             [
              0.4444444444444444,
              "#bd3786"
             ],
             [
              0.5555555555555556,
              "#d8576b"
             ],
             [
              0.6666666666666666,
              "#ed7953"
             ],
             [
              0.7777777777777778,
              "#fb9f3a"
             ],
             [
              0.8888888888888888,
              "#fdca26"
             ],
             [
              1,
              "#f0f921"
             ]
            ],
            "type": "histogram2dcontour"
           }
          ],
          "mesh3d": [
           {
            "colorbar": {
             "outlinewidth": 0,
             "ticks": ""
            },
            "type": "mesh3d"
           }
          ],
          "parcoords": [
           {
            "line": {
             "colorbar": {
              "outlinewidth": 0,
              "ticks": ""
             }
            },
            "type": "parcoords"
           }
          ],
          "pie": [
           {
            "automargin": true,
            "type": "pie"
           }
          ],
          "scatter": [
           {
            "fillpattern": {
             "fillmode": "overlay",
             "size": 10,
             "solidity": 0.2
            },
            "type": "scatter"
           }
          ],
          "scatter3d": [
           {
            "line": {
             "colorbar": {
              "outlinewidth": 0,
              "ticks": ""
             }
            },
            "marker": {
             "colorbar": {
              "outlinewidth": 0,
              "ticks": ""
             }
            },
            "type": "scatter3d"
           }
          ],
          "scattercarpet": [
           {
            "marker": {
             "colorbar": {
              "outlinewidth": 0,
              "ticks": ""
             }
            },
            "type": "scattercarpet"
           }
          ],
          "scattergeo": [
           {
            "marker": {
             "colorbar": {
              "outlinewidth": 0,
              "ticks": ""
             }
            },
            "type": "scattergeo"
           }
          ],
          "scattergl": [
           {
            "marker": {
             "colorbar": {
              "outlinewidth": 0,
              "ticks": ""
             }
            },
            "type": "scattergl"
           }
          ],
          "scattermapbox": [
           {
            "marker": {
             "colorbar": {
              "outlinewidth": 0,
              "ticks": ""
             }
            },
            "type": "scattermapbox"
           }
          ],
          "scatterpolar": [
           {
            "marker": {
             "colorbar": {
              "outlinewidth": 0,
              "ticks": ""
             }
            },
            "type": "scatterpolar"
           }
          ],
          "scatterpolargl": [
           {
            "marker": {
             "colorbar": {
              "outlinewidth": 0,
              "ticks": ""
             }
            },
            "type": "scatterpolargl"
           }
          ],
          "scatterternary": [
           {
            "marker": {
             "colorbar": {
              "outlinewidth": 0,
              "ticks": ""
             }
            },
            "type": "scatterternary"
           }
          ],
          "surface": [
           {
            "colorbar": {
             "outlinewidth": 0,
             "ticks": ""
            },
            "colorscale": [
             [
              0,
              "#0d0887"
             ],
             [
              0.1111111111111111,
              "#46039f"
             ],
             [
              0.2222222222222222,
              "#7201a8"
             ],
             [
              0.3333333333333333,
              "#9c179e"
             ],
             [
              0.4444444444444444,
              "#bd3786"
             ],
             [
              0.5555555555555556,
              "#d8576b"
             ],
             [
              0.6666666666666666,
              "#ed7953"
             ],
             [
              0.7777777777777778,
              "#fb9f3a"
             ],
             [
              0.8888888888888888,
              "#fdca26"
             ],
             [
              1,
              "#f0f921"
             ]
            ],
            "type": "surface"
           }
          ],
          "table": [
           {
            "cells": {
             "fill": {
              "color": "#EBF0F8"
             },
             "line": {
              "color": "white"
             }
            },
            "header": {
             "fill": {
              "color": "#C8D4E3"
             },
             "line": {
              "color": "white"
             }
            },
            "type": "table"
           }
          ]
         },
         "layout": {
          "annotationdefaults": {
           "arrowcolor": "#2a3f5f",
           "arrowhead": 0,
           "arrowwidth": 1
          },
          "autotypenumbers": "strict",
          "coloraxis": {
           "colorbar": {
            "outlinewidth": 0,
            "ticks": ""
           }
          },
          "colorscale": {
           "diverging": [
            [
             0,
             "#8e0152"
            ],
            [
             0.1,
             "#c51b7d"
            ],
            [
             0.2,
             "#de77ae"
            ],
            [
             0.3,
             "#f1b6da"
            ],
            [
             0.4,
             "#fde0ef"
            ],
            [
             0.5,
             "#f7f7f7"
            ],
            [
             0.6,
             "#e6f5d0"
            ],
            [
             0.7,
             "#b8e186"
            ],
            [
             0.8,
             "#7fbc41"
            ],
            [
             0.9,
             "#4d9221"
            ],
            [
             1,
             "#276419"
            ]
           ],
           "sequential": [
            [
             0,
             "#0d0887"
            ],
            [
             0.1111111111111111,
             "#46039f"
            ],
            [
             0.2222222222222222,
             "#7201a8"
            ],
            [
             0.3333333333333333,
             "#9c179e"
            ],
            [
             0.4444444444444444,
             "#bd3786"
            ],
            [
             0.5555555555555556,
             "#d8576b"
            ],
            [
             0.6666666666666666,
             "#ed7953"
            ],
            [
             0.7777777777777778,
             "#fb9f3a"
            ],
            [
             0.8888888888888888,
             "#fdca26"
            ],
            [
             1,
             "#f0f921"
            ]
           ],
           "sequentialminus": [
            [
             0,
             "#0d0887"
            ],
            [
             0.1111111111111111,
             "#46039f"
            ],
            [
             0.2222222222222222,
             "#7201a8"
            ],
            [
             0.3333333333333333,
             "#9c179e"
            ],
            [
             0.4444444444444444,
             "#bd3786"
            ],
            [
             0.5555555555555556,
             "#d8576b"
            ],
            [
             0.6666666666666666,
             "#ed7953"
            ],
            [
             0.7777777777777778,
             "#fb9f3a"
            ],
            [
             0.8888888888888888,
             "#fdca26"
            ],
            [
             1,
             "#f0f921"
            ]
           ]
          },
          "colorway": [
           "#636efa",
           "#EF553B",
           "#00cc96",
           "#ab63fa",
           "#FFA15A",
           "#19d3f3",
           "#FF6692",
           "#B6E880",
           "#FF97FF",
           "#FECB52"
          ],
          "font": {
           "color": "#2a3f5f"
          },
          "geo": {
           "bgcolor": "white",
           "lakecolor": "white",
           "landcolor": "#E5ECF6",
           "showlakes": true,
           "showland": true,
           "subunitcolor": "white"
          },
          "hoverlabel": {
           "align": "left"
          },
          "hovermode": "closest",
          "mapbox": {
           "style": "light"
          },
          "paper_bgcolor": "white",
          "plot_bgcolor": "#E5ECF6",
          "polar": {
           "angularaxis": {
            "gridcolor": "white",
            "linecolor": "white",
            "ticks": ""
           },
           "bgcolor": "#E5ECF6",
           "radialaxis": {
            "gridcolor": "white",
            "linecolor": "white",
            "ticks": ""
           }
          },
          "scene": {
           "xaxis": {
            "backgroundcolor": "#E5ECF6",
            "gridcolor": "white",
            "gridwidth": 2,
            "linecolor": "white",
            "showbackground": true,
            "ticks": "",
            "zerolinecolor": "white"
           },
           "yaxis": {
            "backgroundcolor": "#E5ECF6",
            "gridcolor": "white",
            "gridwidth": 2,
            "linecolor": "white",
            "showbackground": true,
            "ticks": "",
            "zerolinecolor": "white"
           },
           "zaxis": {
            "backgroundcolor": "#E5ECF6",
            "gridcolor": "white",
            "gridwidth": 2,
            "linecolor": "white",
            "showbackground": true,
            "ticks": "",
            "zerolinecolor": "white"
           }
          },
          "shapedefaults": {
           "line": {
            "color": "#2a3f5f"
           }
          },
          "ternary": {
           "aaxis": {
            "gridcolor": "white",
            "linecolor": "white",
            "ticks": ""
           },
           "baxis": {
            "gridcolor": "white",
            "linecolor": "white",
            "ticks": ""
           },
           "bgcolor": "#E5ECF6",
           "caxis": {
            "gridcolor": "white",
            "linecolor": "white",
            "ticks": ""
           }
          },
          "title": {
           "x": 0.05
          },
          "xaxis": {
           "automargin": true,
           "gridcolor": "white",
           "linecolor": "white",
           "ticks": "",
           "title": {
            "standoff": 15
           },
           "zerolinecolor": "white",
           "zerolinewidth": 2
          },
          "yaxis": {
           "automargin": true,
           "gridcolor": "white",
           "linecolor": "white",
           "ticks": "",
           "title": {
            "standoff": 15
           },
           "zerolinecolor": "white",
           "zerolinewidth": 2
          }
         }
        },
        "title": {
         "text": "Visualization on the optimal scanning position and direction"
        },
        "width": 1200
       }
      }
     },
     "metadata": {},
     "output_type": "display_data"
    }
   ],
   "source": [
    "# the room id: 39\n",
    "# the door of the room\n",
    "defect_id = 5059\n",
    "robot_id = 1\n",
    "\n",
    "optimal_location, optimal_direction = get_scanning_plan_o1(defect_id, robot_id, gpt_model=\"o1-preview\")\n",
    "visualize_scanning(defect_id, robot_id, optimal_location, optimal_direction)"
   ]
  },
  {
   "cell_type": "code",
   "execution_count": 14,
   "metadata": {},
   "outputs": [
    {
     "name": "stdout",
     "output_type": "stream",
     "text": [
      "```json\n",
      "{\n",
      "  \"optimal_location\": [-1.63895, -74.4286, 1.84286],\n",
      "  \"optimal_direction\": [1.0, 0.0, 0.0]\n",
      "}\n",
      "```\n",
      "{'defect_node': {'id': 4019, 'type': 'window', 'location': [0.1425959833643427, -74.4286, 1.842865393455182], 'size': [0.8078628612203475, 1.5, 2.057739326605575]}, 'associated_spaces': [{'id': 39, 'surfaces': [1040, 1072, 1082, 1118, 2046, 3047], 'location': [-5.15925, -77.4786, 7.85], 'size': [9.799, 9.96, 3.7]}], 'associated_nodes': [{'id': 1040, 'type': 'wall', 'components': [4019, 4036], 'location': [-0.26, -77.4786, 1.85], 'size': [0.0, 9.96, 3.7]}, {'id': 4036, 'type': 'window', 'location': [0.1425959833643427, -80.5286, 1.842865393455182], 'size': [0.8078628612203475, 1.5, 2.057739326605575]}, {'id': 1072, 'type': 'wall', 'components': [5059], 'location': [-10.0585, -77.4786, 1.85], 'size': [0.0, 9.96, 3.7]}, {'id': 5059, 'type': 'door', 'location': [-10.6715, -77.4786, 1.0425], 'size': [0.174, 1.4, 2.085]}, {'id': 1082, 'type': 'wall', 'components': [], 'location': [-5.15925, -82.4586, 1.85], 'size': [9.799, 0.0, 3.7]}, {'id': 1118, 'type': 'wall', 'components': [], 'location': [-5.15925, -72.4986, 1.85], 'size': [9.799, 0.0, 3.7]}, {'id': 2046, 'type': 'ceiling', 'components': [], 'location': [-5.15925, -77.4786, 3.7], 'size': [9.799, 9.96, 0.0]}, {'id': 3047, 'type': 'floor', 'components': [], 'location': [-5.15925, -77.4786, 0.0], 'size': [9.799, 9.96, 0.0]}, {'id': 4019, 'type': 'window', 'location': [0.1425959833643427, -74.4286, 1.842865393455182], 'size': [0.8078628612203475, 1.5, 2.057739326605575]}]}\n",
      "60\n"
     ]
    },
    {
     "data": {
      "application/vnd.plotly.v1+json": {
       "config": {
        "plotlyServerURL": "https://plot.ly"
       },
       "data": [
        {
         "color": "lightblue",
         "flatshading": true,
         "hoverinfo": "text",
         "i": [
          0,
          0,
          4,
          4,
          0,
          0,
          1,
          1,
          2,
          2,
          3,
          3
         ],
         "j": [
          1,
          2,
          5,
          6,
          1,
          5,
          2,
          6,
          3,
          7,
          0,
          4
         ],
         "k": [
          2,
          3,
          6,
          7,
          5,
          4,
          6,
          5,
          7,
          6,
          4,
          7
         ],
         "opacity": 0.5,
         "text": "ID: 1040, Type: wall",
         "type": "mesh3d",
         "x": [
          -0.31,
          -0.21000000000000002,
          -0.21000000000000002,
          -0.31,
          -0.31,
          -0.21000000000000002,
          -0.21000000000000002,
          -0.31
         ],
         "y": [
          -82.4586,
          -82.4586,
          -72.4986,
          -72.4986,
          -82.4586,
          -82.4586,
          -72.4986,
          -72.4986
         ],
         "z": [
          0,
          0,
          0,
          0,
          3.7,
          3.7,
          3.7,
          3.7
         ]
        },
        {
         "color": "lightgreen",
         "flatshading": true,
         "hoverinfo": "text",
         "i": [
          0,
          0,
          4,
          4,
          0,
          0,
          1,
          1,
          2,
          2,
          3,
          3
         ],
         "j": [
          1,
          2,
          5,
          6,
          1,
          5,
          2,
          6,
          3,
          7,
          0,
          4
         ],
         "k": [
          2,
          3,
          6,
          7,
          5,
          4,
          6,
          5,
          7,
          6,
          4,
          7
         ],
         "opacity": 0.5,
         "text": "ID: 4036, Type: window",
         "type": "mesh3d",
         "x": [
          -0.261335447245831,
          0.5465274139745164,
          0.5465274139745164,
          -0.261335447245831,
          -0.261335447245831,
          0.5465274139745164,
          0.5465274139745164,
          -0.261335447245831
         ],
         "y": [
          -81.2786,
          -81.2786,
          -79.7786,
          -79.7786,
          -81.2786,
          -81.2786,
          -79.7786,
          -79.7786
         ],
         "z": [
          0.8139957301523946,
          0.8139957301523946,
          0.8139957301523946,
          0.8139957301523946,
          2.871735056757969,
          2.871735056757969,
          2.871735056757969,
          2.871735056757969
         ]
        },
        {
         "color": "lightblue",
         "flatshading": true,
         "hoverinfo": "text",
         "i": [
          0,
          0,
          4,
          4,
          0,
          0,
          1,
          1,
          2,
          2,
          3,
          3
         ],
         "j": [
          1,
          2,
          5,
          6,
          1,
          5,
          2,
          6,
          3,
          7,
          0,
          4
         ],
         "k": [
          2,
          3,
          6,
          7,
          5,
          4,
          6,
          5,
          7,
          6,
          4,
          7
         ],
         "opacity": 0.5,
         "text": "ID: 1072, Type: wall",
         "type": "mesh3d",
         "x": [
          -10.108500000000001,
          -10.0085,
          -10.0085,
          -10.108500000000001,
          -10.108500000000001,
          -10.0085,
          -10.0085,
          -10.108500000000001
         ],
         "y": [
          -82.4586,
          -82.4586,
          -72.4986,
          -72.4986,
          -82.4586,
          -82.4586,
          -72.4986,
          -72.4986
         ],
         "z": [
          0,
          0,
          0,
          0,
          3.7,
          3.7,
          3.7,
          3.7
         ]
        },
        {
         "color": "lightgreen",
         "flatshading": true,
         "hoverinfo": "text",
         "i": [
          0,
          0,
          4,
          4,
          0,
          0,
          1,
          1,
          2,
          2,
          3,
          3
         ],
         "j": [
          1,
          2,
          5,
          6,
          1,
          5,
          2,
          6,
          3,
          7,
          0,
          4
         ],
         "k": [
          2,
          3,
          6,
          7,
          5,
          4,
          6,
          5,
          7,
          6,
          4,
          7
         ],
         "opacity": 0.5,
         "text": "ID: 5059, Type: door",
         "type": "mesh3d",
         "x": [
          -10.7585,
          -10.5845,
          -10.5845,
          -10.7585,
          -10.7585,
          -10.5845,
          -10.5845,
          -10.7585
         ],
         "y": [
          -78.1786,
          -78.1786,
          -76.7786,
          -76.7786,
          -78.1786,
          -78.1786,
          -76.7786,
          -76.7786
         ],
         "z": [
          0,
          0,
          0,
          0,
          2.085,
          2.085,
          2.085,
          2.085
         ]
        },
        {
         "color": "lightblue",
         "flatshading": true,
         "hoverinfo": "text",
         "i": [
          0,
          0,
          4,
          4,
          0,
          0,
          1,
          1,
          2,
          2,
          3,
          3
         ],
         "j": [
          1,
          2,
          5,
          6,
          1,
          5,
          2,
          6,
          3,
          7,
          0,
          4
         ],
         "k": [
          2,
          3,
          6,
          7,
          5,
          4,
          6,
          5,
          7,
          6,
          4,
          7
         ],
         "opacity": 0.5,
         "text": "ID: 1082, Type: wall",
         "type": "mesh3d",
         "x": [
          -10.05875,
          -0.25975000000000037,
          -0.25975000000000037,
          -10.05875,
          -10.05875,
          -0.25975000000000037,
          -0.25975000000000037,
          -10.05875
         ],
         "y": [
          -82.5086,
          -82.5086,
          -82.4086,
          -82.4086,
          -82.5086,
          -82.5086,
          -82.4086,
          -82.4086
         ],
         "z": [
          0,
          0,
          0,
          0,
          3.7,
          3.7,
          3.7,
          3.7
         ]
        },
        {
         "color": "lightblue",
         "flatshading": true,
         "hoverinfo": "text",
         "i": [
          0,
          0,
          4,
          4,
          0,
          0,
          1,
          1,
          2,
          2,
          3,
          3
         ],
         "j": [
          1,
          2,
          5,
          6,
          1,
          5,
          2,
          6,
          3,
          7,
          0,
          4
         ],
         "k": [
          2,
          3,
          6,
          7,
          5,
          4,
          6,
          5,
          7,
          6,
          4,
          7
         ],
         "opacity": 0.5,
         "text": "ID: 1118, Type: wall",
         "type": "mesh3d",
         "x": [
          -10.05875,
          -0.25975000000000037,
          -0.25975000000000037,
          -10.05875,
          -10.05875,
          -0.25975000000000037,
          -0.25975000000000037,
          -10.05875
         ],
         "y": [
          -72.5486,
          -72.5486,
          -72.4486,
          -72.4486,
          -72.5486,
          -72.5486,
          -72.4486,
          -72.4486
         ],
         "z": [
          0,
          0,
          0,
          0,
          3.7,
          3.7,
          3.7,
          3.7
         ]
        },
        {
         "color": "lightblue",
         "flatshading": true,
         "hoverinfo": "text",
         "i": [
          0,
          0,
          4,
          4,
          0,
          0,
          1,
          1,
          2,
          2,
          3,
          3
         ],
         "j": [
          1,
          2,
          5,
          6,
          1,
          5,
          2,
          6,
          3,
          7,
          0,
          4
         ],
         "k": [
          2,
          3,
          6,
          7,
          5,
          4,
          6,
          5,
          7,
          6,
          4,
          7
         ],
         "opacity": 0.5,
         "text": "ID: 2046, Type: ceiling",
         "type": "mesh3d",
         "x": [
          -10.05875,
          -0.25975000000000037,
          -0.25975000000000037,
          -10.05875,
          -10.05875,
          -0.25975000000000037,
          -0.25975000000000037,
          -10.05875
         ],
         "y": [
          -82.4586,
          -82.4586,
          -72.4986,
          -72.4986,
          -82.4586,
          -82.4586,
          -72.4986,
          -72.4986
         ],
         "z": [
          3.6500000000000004,
          3.6500000000000004,
          3.6500000000000004,
          3.6500000000000004,
          3.75,
          3.75,
          3.75,
          3.75
         ]
        },
        {
         "color": "lightblue",
         "flatshading": true,
         "hoverinfo": "text",
         "i": [
          0,
          0,
          4,
          4,
          0,
          0,
          1,
          1,
          2,
          2,
          3,
          3
         ],
         "j": [
          1,
          2,
          5,
          6,
          1,
          5,
          2,
          6,
          3,
          7,
          0,
          4
         ],
         "k": [
          2,
          3,
          6,
          7,
          5,
          4,
          6,
          5,
          7,
          6,
          4,
          7
         ],
         "opacity": 0.5,
         "text": "ID: 3047, Type: floor",
         "type": "mesh3d",
         "x": [
          -10.05875,
          -0.25975000000000037,
          -0.25975000000000037,
          -10.05875,
          -10.05875,
          -0.25975000000000037,
          -0.25975000000000037,
          -10.05875
         ],
         "y": [
          -82.4586,
          -82.4586,
          -72.4986,
          -72.4986,
          -82.4586,
          -82.4586,
          -72.4986,
          -72.4986
         ],
         "z": [
          -0.05,
          -0.05,
          -0.05,
          -0.05,
          0.05,
          0.05,
          0.05,
          0.05
         ]
        },
        {
         "color": "red",
         "flatshading": true,
         "hoverinfo": "text",
         "i": [
          0,
          0,
          4,
          4,
          0,
          0,
          1,
          1,
          2,
          2,
          3,
          3
         ],
         "j": [
          1,
          2,
          5,
          6,
          1,
          5,
          2,
          6,
          3,
          7,
          0,
          4
         ],
         "k": [
          2,
          3,
          6,
          7,
          5,
          4,
          6,
          5,
          7,
          6,
          4,
          7
         ],
         "opacity": 0.5,
         "text": "ID: 4019, Type: window",
         "type": "mesh3d",
         "x": [
          -0.261335447245831,
          0.5465274139745164,
          0.5465274139745164,
          -0.261335447245831,
          -0.261335447245831,
          0.5465274139745164,
          0.5465274139745164,
          -0.261335447245831
         ],
         "y": [
          -75.1786,
          -75.1786,
          -73.6786,
          -73.6786,
          -75.1786,
          -75.1786,
          -73.6786,
          -73.6786
         ],
         "z": [
          0.8139957301523946,
          0.8139957301523946,
          0.8139957301523946,
          0.8139957301523946,
          2.871735056757969,
          2.871735056757969,
          2.871735056757969,
          2.871735056757969
         ]
        },
        {
         "marker": {
          "color": "black",
          "size": 10
         },
         "mode": "markers",
         "name": "Camera Position",
         "type": "scatter3d",
         "x": [
          -1.63895
         ],
         "y": [
          -74.4286
         ],
         "z": [
          1.84286
         ]
        },
        {
         "marker": {
          "color": "purple",
          "size": 10
         },
         "mode": "markers",
         "name": "Target Position",
         "type": "scatter3d",
         "x": [
          0.1425959833643427
         ],
         "y": [
          -74.4286
         ],
         "z": [
          1.842865393455182
         ]
        },
        {
         "color": "yellow",
         "i": [
          0,
          0,
          0,
          0,
          0,
          0,
          0,
          0,
          0,
          0,
          0,
          0,
          0,
          0,
          0,
          0,
          0,
          0,
          0,
          0
         ],
         "j": [
          1,
          2,
          3,
          4,
          5,
          6,
          7,
          8,
          9,
          10,
          11,
          12,
          13,
          14,
          15,
          16,
          17,
          18,
          19,
          20
         ],
         "k": [
          2,
          3,
          4,
          5,
          6,
          7,
          8,
          9,
          10,
          11,
          12,
          13,
          14,
          15,
          16,
          17,
          18,
          19,
          20,
          1
         ],
         "name": "Field of View",
         "opacity": 0.2,
         "type": "mesh3d",
         "x": [
          -1.63895,
          0.14259598337250678,
          0.14259598337250678,
          0.14259598337250678,
          0.14259598337250678,
          0.14259598337250678,
          0.14259598337250678,
          0.14259598337250678,
          0.14259598337250678,
          0.14259598337250678,
          0.14259598337250678,
          0.14259598337250678,
          0.14259598337250678,
          0.14259598337250678,
          0.14259598337250678,
          0.14259598337250678,
          0.14259598337250678,
          0.14259598337250678,
          0.14259598337250678,
          0.14259598337250678,
          0.14259598337250678
         ],
         "y": [
          -74.4286,
          -73.40002394692618,
          -73.4557550346024,
          -73.6169089695244,
          -73.86602222228244,
          -74.17609950654982,
          -74.51353913723135,
          -74.84177429442737,
          -75.12523560576244,
          -75.333205639798,
          -75.44314761635871,
          -75.44314761635871,
          -75.333205639798,
          -75.12523560576244,
          -74.84177429442737,
          -74.51353913723135,
          -74.17609950654982,
          -73.86602222228244,
          -73.6169089695244,
          -73.4557550346024,
          -73.40002394692618
         ],
         "z": [
          1.84286,
          1.84286,
          2.1768380984697155,
          2.4746244877660986,
          2.703949391976976,
          2.839961899388581,
          2.8679229443713674,
          2.784802513841135,
          2.5996079961922005,
          2.3324080910008442,
          2.0121580540282586,
          1.6735619459717415,
          1.353311908999156,
          1.0861120038078,
          0.9009174861588654,
          0.8177970556286325,
          0.8457581006114187,
          0.981770608023024,
          1.2110955122339013,
          1.5088819015302843,
          1.8428599999999997
         ]
        }
       ],
       "layout": {
        "height": 800,
        "scene": {
         "aspectmode": "data",
         "aspectratio": {
          "x": 1,
          "y": 1,
          "z": 1
         },
         "xaxis": {
          "title": {
           "text": "X"
          },
          "visible": true
         },
         "yaxis": {
          "title": {
           "text": "Y"
          },
          "visible": true
         },
         "zaxis": {
          "title": {
           "text": "Z"
          },
          "visible": true
         }
        },
        "template": {
         "data": {
          "bar": [
           {
            "error_x": {
             "color": "#2a3f5f"
            },
            "error_y": {
             "color": "#2a3f5f"
            },
            "marker": {
             "line": {
              "color": "#E5ECF6",
              "width": 0.5
             },
             "pattern": {
              "fillmode": "overlay",
              "size": 10,
              "solidity": 0.2
             }
            },
            "type": "bar"
           }
          ],
          "barpolar": [
           {
            "marker": {
             "line": {
              "color": "#E5ECF6",
              "width": 0.5
             },
             "pattern": {
              "fillmode": "overlay",
              "size": 10,
              "solidity": 0.2
             }
            },
            "type": "barpolar"
           }
          ],
          "carpet": [
           {
            "aaxis": {
             "endlinecolor": "#2a3f5f",
             "gridcolor": "white",
             "linecolor": "white",
             "minorgridcolor": "white",
             "startlinecolor": "#2a3f5f"
            },
            "baxis": {
             "endlinecolor": "#2a3f5f",
             "gridcolor": "white",
             "linecolor": "white",
             "minorgridcolor": "white",
             "startlinecolor": "#2a3f5f"
            },
            "type": "carpet"
           }
          ],
          "choropleth": [
           {
            "colorbar": {
             "outlinewidth": 0,
             "ticks": ""
            },
            "type": "choropleth"
           }
          ],
          "contour": [
           {
            "colorbar": {
             "outlinewidth": 0,
             "ticks": ""
            },
            "colorscale": [
             [
              0,
              "#0d0887"
             ],
             [
              0.1111111111111111,
              "#46039f"
             ],
             [
              0.2222222222222222,
              "#7201a8"
             ],
             [
              0.3333333333333333,
              "#9c179e"
             ],
             [
              0.4444444444444444,
              "#bd3786"
             ],
             [
              0.5555555555555556,
              "#d8576b"
             ],
             [
              0.6666666666666666,
              "#ed7953"
             ],
             [
              0.7777777777777778,
              "#fb9f3a"
             ],
             [
              0.8888888888888888,
              "#fdca26"
             ],
             [
              1,
              "#f0f921"
             ]
            ],
            "type": "contour"
           }
          ],
          "contourcarpet": [
           {
            "colorbar": {
             "outlinewidth": 0,
             "ticks": ""
            },
            "type": "contourcarpet"
           }
          ],
          "heatmap": [
           {
            "colorbar": {
             "outlinewidth": 0,
             "ticks": ""
            },
            "colorscale": [
             [
              0,
              "#0d0887"
             ],
             [
              0.1111111111111111,
              "#46039f"
             ],
             [
              0.2222222222222222,
              "#7201a8"
             ],
             [
              0.3333333333333333,
              "#9c179e"
             ],
             [
              0.4444444444444444,
              "#bd3786"
             ],
             [
              0.5555555555555556,
              "#d8576b"
             ],
             [
              0.6666666666666666,
              "#ed7953"
             ],
             [
              0.7777777777777778,
              "#fb9f3a"
             ],
             [
              0.8888888888888888,
              "#fdca26"
             ],
             [
              1,
              "#f0f921"
             ]
            ],
            "type": "heatmap"
           }
          ],
          "heatmapgl": [
           {
            "colorbar": {
             "outlinewidth": 0,
             "ticks": ""
            },
            "colorscale": [
             [
              0,
              "#0d0887"
             ],
             [
              0.1111111111111111,
              "#46039f"
             ],
             [
              0.2222222222222222,
              "#7201a8"
             ],
             [
              0.3333333333333333,
              "#9c179e"
             ],
             [
              0.4444444444444444,
              "#bd3786"
             ],
             [
              0.5555555555555556,
              "#d8576b"
             ],
             [
              0.6666666666666666,
              "#ed7953"
             ],
             [
              0.7777777777777778,
              "#fb9f3a"
             ],
             [
              0.8888888888888888,
              "#fdca26"
             ],
             [
              1,
              "#f0f921"
             ]
            ],
            "type": "heatmapgl"
           }
          ],
          "histogram": [
           {
            "marker": {
             "pattern": {
              "fillmode": "overlay",
              "size": 10,
              "solidity": 0.2
             }
            },
            "type": "histogram"
           }
          ],
          "histogram2d": [
           {
            "colorbar": {
             "outlinewidth": 0,
             "ticks": ""
            },
            "colorscale": [
             [
              0,
              "#0d0887"
             ],
             [
              0.1111111111111111,
              "#46039f"
             ],
             [
              0.2222222222222222,
              "#7201a8"
             ],
             [
              0.3333333333333333,
              "#9c179e"
             ],
             [
              0.4444444444444444,
              "#bd3786"
             ],
             [
              0.5555555555555556,
              "#d8576b"
             ],
             [
              0.6666666666666666,
              "#ed7953"
             ],
             [
              0.7777777777777778,
              "#fb9f3a"
             ],
             [
              0.8888888888888888,
              "#fdca26"
             ],
             [
              1,
              "#f0f921"
             ]
            ],
            "type": "histogram2d"
           }
          ],
          "histogram2dcontour": [
           {
            "colorbar": {
             "outlinewidth": 0,
             "ticks": ""
            },
            "colorscale": [
             [
              0,
              "#0d0887"
             ],
             [
              0.1111111111111111,
              "#46039f"
             ],
             [
              0.2222222222222222,
              "#7201a8"
             ],
             [
              0.3333333333333333,
              "#9c179e"
             ],
             [
              0.4444444444444444,
              "#bd3786"
             ],
             [
              0.5555555555555556,
              "#d8576b"
             ],
             [
              0.6666666666666666,
              "#ed7953"
             ],
             [
              0.7777777777777778,
              "#fb9f3a"
             ],
             [
              0.8888888888888888,
              "#fdca26"
             ],
             [
              1,
              "#f0f921"
             ]
            ],
            "type": "histogram2dcontour"
           }
          ],
          "mesh3d": [
           {
            "colorbar": {
             "outlinewidth": 0,
             "ticks": ""
            },
            "type": "mesh3d"
           }
          ],
          "parcoords": [
           {
            "line": {
             "colorbar": {
              "outlinewidth": 0,
              "ticks": ""
             }
            },
            "type": "parcoords"
           }
          ],
          "pie": [
           {
            "automargin": true,
            "type": "pie"
           }
          ],
          "scatter": [
           {
            "fillpattern": {
             "fillmode": "overlay",
             "size": 10,
             "solidity": 0.2
            },
            "type": "scatter"
           }
          ],
          "scatter3d": [
           {
            "line": {
             "colorbar": {
              "outlinewidth": 0,
              "ticks": ""
             }
            },
            "marker": {
             "colorbar": {
              "outlinewidth": 0,
              "ticks": ""
             }
            },
            "type": "scatter3d"
           }
          ],
          "scattercarpet": [
           {
            "marker": {
             "colorbar": {
              "outlinewidth": 0,
              "ticks": ""
             }
            },
            "type": "scattercarpet"
           }
          ],
          "scattergeo": [
           {
            "marker": {
             "colorbar": {
              "outlinewidth": 0,
              "ticks": ""
             }
            },
            "type": "scattergeo"
           }
          ],
          "scattergl": [
           {
            "marker": {
             "colorbar": {
              "outlinewidth": 0,
              "ticks": ""
             }
            },
            "type": "scattergl"
           }
          ],
          "scattermapbox": [
           {
            "marker": {
             "colorbar": {
              "outlinewidth": 0,
              "ticks": ""
             }
            },
            "type": "scattermapbox"
           }
          ],
          "scatterpolar": [
           {
            "marker": {
             "colorbar": {
              "outlinewidth": 0,
              "ticks": ""
             }
            },
            "type": "scatterpolar"
           }
          ],
          "scatterpolargl": [
           {
            "marker": {
             "colorbar": {
              "outlinewidth": 0,
              "ticks": ""
             }
            },
            "type": "scatterpolargl"
           }
          ],
          "scatterternary": [
           {
            "marker": {
             "colorbar": {
              "outlinewidth": 0,
              "ticks": ""
             }
            },
            "type": "scatterternary"
           }
          ],
          "surface": [
           {
            "colorbar": {
             "outlinewidth": 0,
             "ticks": ""
            },
            "colorscale": [
             [
              0,
              "#0d0887"
             ],
             [
              0.1111111111111111,
              "#46039f"
             ],
             [
              0.2222222222222222,
              "#7201a8"
             ],
             [
              0.3333333333333333,
              "#9c179e"
             ],
             [
              0.4444444444444444,
              "#bd3786"
             ],
             [
              0.5555555555555556,
              "#d8576b"
             ],
             [
              0.6666666666666666,
              "#ed7953"
             ],
             [
              0.7777777777777778,
              "#fb9f3a"
             ],
             [
              0.8888888888888888,
              "#fdca26"
             ],
             [
              1,
              "#f0f921"
             ]
            ],
            "type": "surface"
           }
          ],
          "table": [
           {
            "cells": {
             "fill": {
              "color": "#EBF0F8"
             },
             "line": {
              "color": "white"
             }
            },
            "header": {
             "fill": {
              "color": "#C8D4E3"
             },
             "line": {
              "color": "white"
             }
            },
            "type": "table"
           }
          ]
         },
         "layout": {
          "annotationdefaults": {
           "arrowcolor": "#2a3f5f",
           "arrowhead": 0,
           "arrowwidth": 1
          },
          "autotypenumbers": "strict",
          "coloraxis": {
           "colorbar": {
            "outlinewidth": 0,
            "ticks": ""
           }
          },
          "colorscale": {
           "diverging": [
            [
             0,
             "#8e0152"
            ],
            [
             0.1,
             "#c51b7d"
            ],
            [
             0.2,
             "#de77ae"
            ],
            [
             0.3,
             "#f1b6da"
            ],
            [
             0.4,
             "#fde0ef"
            ],
            [
             0.5,
             "#f7f7f7"
            ],
            [
             0.6,
             "#e6f5d0"
            ],
            [
             0.7,
             "#b8e186"
            ],
            [
             0.8,
             "#7fbc41"
            ],
            [
             0.9,
             "#4d9221"
            ],
            [
             1,
             "#276419"
            ]
           ],
           "sequential": [
            [
             0,
             "#0d0887"
            ],
            [
             0.1111111111111111,
             "#46039f"
            ],
            [
             0.2222222222222222,
             "#7201a8"
            ],
            [
             0.3333333333333333,
             "#9c179e"
            ],
            [
             0.4444444444444444,
             "#bd3786"
            ],
            [
             0.5555555555555556,
             "#d8576b"
            ],
            [
             0.6666666666666666,
             "#ed7953"
            ],
            [
             0.7777777777777778,
             "#fb9f3a"
            ],
            [
             0.8888888888888888,
             "#fdca26"
            ],
            [
             1,
             "#f0f921"
            ]
           ],
           "sequentialminus": [
            [
             0,
             "#0d0887"
            ],
            [
             0.1111111111111111,
             "#46039f"
            ],
            [
             0.2222222222222222,
             "#7201a8"
            ],
            [
             0.3333333333333333,
             "#9c179e"
            ],
            [
             0.4444444444444444,
             "#bd3786"
            ],
            [
             0.5555555555555556,
             "#d8576b"
            ],
            [
             0.6666666666666666,
             "#ed7953"
            ],
            [
             0.7777777777777778,
             "#fb9f3a"
            ],
            [
             0.8888888888888888,
             "#fdca26"
            ],
            [
             1,
             "#f0f921"
            ]
           ]
          },
          "colorway": [
           "#636efa",
           "#EF553B",
           "#00cc96",
           "#ab63fa",
           "#FFA15A",
           "#19d3f3",
           "#FF6692",
           "#B6E880",
           "#FF97FF",
           "#FECB52"
          ],
          "font": {
           "color": "#2a3f5f"
          },
          "geo": {
           "bgcolor": "white",
           "lakecolor": "white",
           "landcolor": "#E5ECF6",
           "showlakes": true,
           "showland": true,
           "subunitcolor": "white"
          },
          "hoverlabel": {
           "align": "left"
          },
          "hovermode": "closest",
          "mapbox": {
           "style": "light"
          },
          "paper_bgcolor": "white",
          "plot_bgcolor": "#E5ECF6",
          "polar": {
           "angularaxis": {
            "gridcolor": "white",
            "linecolor": "white",
            "ticks": ""
           },
           "bgcolor": "#E5ECF6",
           "radialaxis": {
            "gridcolor": "white",
            "linecolor": "white",
            "ticks": ""
           }
          },
          "scene": {
           "xaxis": {
            "backgroundcolor": "#E5ECF6",
            "gridcolor": "white",
            "gridwidth": 2,
            "linecolor": "white",
            "showbackground": true,
            "ticks": "",
            "zerolinecolor": "white"
           },
           "yaxis": {
            "backgroundcolor": "#E5ECF6",
            "gridcolor": "white",
            "gridwidth": 2,
            "linecolor": "white",
            "showbackground": true,
            "ticks": "",
            "zerolinecolor": "white"
           },
           "zaxis": {
            "backgroundcolor": "#E5ECF6",
            "gridcolor": "white",
            "gridwidth": 2,
            "linecolor": "white",
            "showbackground": true,
            "ticks": "",
            "zerolinecolor": "white"
           }
          },
          "shapedefaults": {
           "line": {
            "color": "#2a3f5f"
           }
          },
          "ternary": {
           "aaxis": {
            "gridcolor": "white",
            "linecolor": "white",
            "ticks": ""
           },
           "baxis": {
            "gridcolor": "white",
            "linecolor": "white",
            "ticks": ""
           },
           "bgcolor": "#E5ECF6",
           "caxis": {
            "gridcolor": "white",
            "linecolor": "white",
            "ticks": ""
           }
          },
          "title": {
           "x": 0.05
          },
          "xaxis": {
           "automargin": true,
           "gridcolor": "white",
           "linecolor": "white",
           "ticks": "",
           "title": {
            "standoff": 15
           },
           "zerolinecolor": "white",
           "zerolinewidth": 2
          },
          "yaxis": {
           "automargin": true,
           "gridcolor": "white",
           "linecolor": "white",
           "ticks": "",
           "title": {
            "standoff": 15
           },
           "zerolinecolor": "white",
           "zerolinewidth": 2
          }
         }
        },
        "title": {
         "text": "Visualization on the optimal scanning position and direction"
        },
        "width": 1200
       }
      }
     },
     "metadata": {},
     "output_type": "display_data"
    }
   ],
   "source": [
    "# the room id: 39\n",
    "# the window (left) of the room\n",
    "defect_id = 4019\n",
    "robot_id = 1\n",
    "\n",
    "optimal_location, optimal_direction = get_scanning_plan_o1(defect_id, robot_id, gpt_model=\"o1-preview\")\n",
    "visualize_scanning(defect_id, robot_id, optimal_location, optimal_direction)"
   ]
  },
  {
   "cell_type": "code",
   "execution_count": 16,
   "metadata": {},
   "outputs": [
    {
     "name": "stdout",
     "output_type": "stream",
     "text": [
      "To find the optimal camera location and direction, we need to ensure that the camera can capture the entire area of the defect object (the window) within its field of view (FOV) of 60 degrees.\n",
      "\n",
      "**Defect Object Details:**\n",
      "- **Location:** `[0.1426, -80.5286, 1.8429]` (center of the window)\n",
      "- **Size:** Width (`x_size`) = `0.8079` units, Height (`z_size`) = `2.0577` units\n",
      "\n",
      "**Room Dimensions:**\n",
      "- **X-axis range:** `-10.05875` to `-0.25975`\n",
      "- **Y-axis range:** `-82.4586` to `-72.4986`\n",
      "- **Z-axis (Height):** `0` to `3.7` units\n",
      "\n",
      "**Calculations:**\n",
      "\n",
      "1. **Determine the Minimum Distance Required to Capture the Window's Width and Height:**\n",
      "\n",
      "   Using the formula for the field of view:\n",
      "   \\[\n",
      "   \\text{Size Captured} = 2 \\times d \\times \\tan\\left(\\frac{\\text{FOV}}{2}\\right)\n",
      "   \\]\n",
      "   Where:\n",
      "   - `d` is the distance from the camera to the object\n",
      "   - FOV is `60` degrees, so half of FOV is `30` degrees\n",
      "   - \\(\\tan(30^\\circ) = 0.57735\\)\n",
      "\n",
      "   - **For Width:**\n",
      "     \\[\n",
      "     d_{\\text{width}} = \\frac{\\text{Window Width}}{2 \\times \\tan(30^\\circ)} = \\frac{0.8079}{1.1547} \\approx 0.7 \\text{ units}\n",
      "     \\]\n",
      "   \n",
      "   - **For Height:**\n",
      "     \\[\n",
      "     d_{\\text{height}} = \\frac{\\text{Window Height}}{2 \\times \\tan(30^\\circ)} = \\frac{2.0577}{1.1547} \\approx 1.7826 \\text{ units}\n",
      "     \\]\n",
      "     \n",
      "   - **Minimum Required Distance:**\n",
      "     \\[\n",
      "     d = \\max(d_{\\text{width}}, d_{\\text{height}}) = 1.7826 \\text{ units}\n",
      "     \\]\n",
      "\n",
      "2. **Determine the Optimal Camera Location:**\n",
      "\n",
      "   - **X-coordinate:**\n",
      "     \\[\n",
      "     x_{\\text{camera}} = x_{\\text{window}} - d = 0.1426 - 1.7826 \\approx -1.64\n",
      "     \\]\n",
      "     This positions the camera directly facing the window at an adequate distance to capture its full width and height.\n",
      "\n",
      "   - **Y-coordinate:**\n",
      "     \\[\n",
      "     y_{\\text{camera}} = y_{\\text{window}} = -80.5286\n",
      "     \\]\n",
      "     Align the camera horizontally with the center of the window.\n",
      "\n",
      "   - **Z-coordinate:**\n",
      "     \\[\n",
      "     z_{\\text{camera}} = z_{\\text{window}} = 1.8429\n",
      "     \\]\n",
      "     Align the camera vertically with the center of the window.\n",
      "\n",
      "3. **Determine the Optimal Camera Direction:**\n",
      "\n",
      "   - **Direction Vector:**\n",
      "     \\[\n",
      "     \\text{Direction} = \\left( \\frac{x_{\\text{window}} - x_{\\text{camera}}}{|\\vec{d}|}, \\frac{y_{\\text{window}} - y_{\\text{camera}}}{|\\vec{d}|}, \\frac{z_{\\text{window}} - z_{\\text{camera}}}{|\\vec{d}|} \\right)\n",
      "     \\]\n",
      "     Since \\( y_{\\text{window}} = y_{\\text{camera}} \\) and \\( z_{\\text{window}} = z_{\\text{camera}} \\), the direction simplifies to pointing along the positive x-axis:\n",
      "     \\[\n",
      "     \\text{Optimal Direction} = [1, 0, 0]\n",
      "     \\]\n",
      "\n",
      "**Final Answer in JSON Format:**\n",
      "\n",
      "```json\n",
      "{\n",
      "    \"optimal_location\": [-1.64, -80.5286, 1.8429],\n",
      "    \"optimal_direction\": [1, 0, 0]\n",
      "}\n",
      "```\n",
      "{'defect_node': {'id': 4036, 'type': 'window', 'location': [0.1425959833643427, -80.5286, 1.842865393455182], 'size': [0.8078628612203475, 1.5, 2.057739326605575]}, 'associated_spaces': [{'id': 39, 'surfaces': [1040, 1072, 1082, 1118, 2046, 3047], 'location': [-5.15925, -77.4786, 7.85], 'size': [9.799, 9.96, 3.7]}], 'associated_nodes': [{'id': 1040, 'type': 'wall', 'components': [4019, 4036], 'location': [-0.26, -77.4786, 1.85], 'size': [0.0, 9.96, 3.7]}, {'id': 4019, 'type': 'window', 'location': [0.1425959833643427, -74.4286, 1.842865393455182], 'size': [0.8078628612203475, 1.5, 2.057739326605575]}, {'id': 1072, 'type': 'wall', 'components': [5059], 'location': [-10.0585, -77.4786, 1.85], 'size': [0.0, 9.96, 3.7]}, {'id': 5059, 'type': 'door', 'location': [-10.6715, -77.4786, 1.0425], 'size': [0.174, 1.4, 2.085]}, {'id': 1082, 'type': 'wall', 'components': [], 'location': [-5.15925, -82.4586, 1.85], 'size': [9.799, 0.0, 3.7]}, {'id': 1118, 'type': 'wall', 'components': [], 'location': [-5.15925, -72.4986, 1.85], 'size': [9.799, 0.0, 3.7]}, {'id': 2046, 'type': 'ceiling', 'components': [], 'location': [-5.15925, -77.4786, 3.7], 'size': [9.799, 9.96, 0.0]}, {'id': 3047, 'type': 'floor', 'components': [], 'location': [-5.15925, -77.4786, 0.0], 'size': [9.799, 9.96, 0.0]}, {'id': 4036, 'type': 'window', 'location': [0.1425959833643427, -80.5286, 1.842865393455182], 'size': [0.8078628612203475, 1.5, 2.057739326605575]}]}\n",
      "60\n"
     ]
    },
    {
     "data": {
      "application/vnd.plotly.v1+json": {
       "config": {
        "plotlyServerURL": "https://plot.ly"
       },
       "data": [
        {
         "color": "lightblue",
         "flatshading": true,
         "hoverinfo": "text",
         "i": [
          0,
          0,
          4,
          4,
          0,
          0,
          1,
          1,
          2,
          2,
          3,
          3
         ],
         "j": [
          1,
          2,
          5,
          6,
          1,
          5,
          2,
          6,
          3,
          7,
          0,
          4
         ],
         "k": [
          2,
          3,
          6,
          7,
          5,
          4,
          6,
          5,
          7,
          6,
          4,
          7
         ],
         "opacity": 0.5,
         "text": "ID: 1040, Type: wall",
         "type": "mesh3d",
         "x": [
          -0.31,
          -0.21000000000000002,
          -0.21000000000000002,
          -0.31,
          -0.31,
          -0.21000000000000002,
          -0.21000000000000002,
          -0.31
         ],
         "y": [
          -82.4586,
          -82.4586,
          -72.4986,
          -72.4986,
          -82.4586,
          -82.4586,
          -72.4986,
          -72.4986
         ],
         "z": [
          0,
          0,
          0,
          0,
          3.7,
          3.7,
          3.7,
          3.7
         ]
        },
        {
         "color": "lightgreen",
         "flatshading": true,
         "hoverinfo": "text",
         "i": [
          0,
          0,
          4,
          4,
          0,
          0,
          1,
          1,
          2,
          2,
          3,
          3
         ],
         "j": [
          1,
          2,
          5,
          6,
          1,
          5,
          2,
          6,
          3,
          7,
          0,
          4
         ],
         "k": [
          2,
          3,
          6,
          7,
          5,
          4,
          6,
          5,
          7,
          6,
          4,
          7
         ],
         "opacity": 0.5,
         "text": "ID: 4019, Type: window",
         "type": "mesh3d",
         "x": [
          -0.261335447245831,
          0.5465274139745164,
          0.5465274139745164,
          -0.261335447245831,
          -0.261335447245831,
          0.5465274139745164,
          0.5465274139745164,
          -0.261335447245831
         ],
         "y": [
          -75.1786,
          -75.1786,
          -73.6786,
          -73.6786,
          -75.1786,
          -75.1786,
          -73.6786,
          -73.6786
         ],
         "z": [
          0.8139957301523946,
          0.8139957301523946,
          0.8139957301523946,
          0.8139957301523946,
          2.871735056757969,
          2.871735056757969,
          2.871735056757969,
          2.871735056757969
         ]
        },
        {
         "color": "lightblue",
         "flatshading": true,
         "hoverinfo": "text",
         "i": [
          0,
          0,
          4,
          4,
          0,
          0,
          1,
          1,
          2,
          2,
          3,
          3
         ],
         "j": [
          1,
          2,
          5,
          6,
          1,
          5,
          2,
          6,
          3,
          7,
          0,
          4
         ],
         "k": [
          2,
          3,
          6,
          7,
          5,
          4,
          6,
          5,
          7,
          6,
          4,
          7
         ],
         "opacity": 0.5,
         "text": "ID: 1072, Type: wall",
         "type": "mesh3d",
         "x": [
          -10.108500000000001,
          -10.0085,
          -10.0085,
          -10.108500000000001,
          -10.108500000000001,
          -10.0085,
          -10.0085,
          -10.108500000000001
         ],
         "y": [
          -82.4586,
          -82.4586,
          -72.4986,
          -72.4986,
          -82.4586,
          -82.4586,
          -72.4986,
          -72.4986
         ],
         "z": [
          0,
          0,
          0,
          0,
          3.7,
          3.7,
          3.7,
          3.7
         ]
        },
        {
         "color": "lightgreen",
         "flatshading": true,
         "hoverinfo": "text",
         "i": [
          0,
          0,
          4,
          4,
          0,
          0,
          1,
          1,
          2,
          2,
          3,
          3
         ],
         "j": [
          1,
          2,
          5,
          6,
          1,
          5,
          2,
          6,
          3,
          7,
          0,
          4
         ],
         "k": [
          2,
          3,
          6,
          7,
          5,
          4,
          6,
          5,
          7,
          6,
          4,
          7
         ],
         "opacity": 0.5,
         "text": "ID: 5059, Type: door",
         "type": "mesh3d",
         "x": [
          -10.7585,
          -10.5845,
          -10.5845,
          -10.7585,
          -10.7585,
          -10.5845,
          -10.5845,
          -10.7585
         ],
         "y": [
          -78.1786,
          -78.1786,
          -76.7786,
          -76.7786,
          -78.1786,
          -78.1786,
          -76.7786,
          -76.7786
         ],
         "z": [
          0,
          0,
          0,
          0,
          2.085,
          2.085,
          2.085,
          2.085
         ]
        },
        {
         "color": "lightblue",
         "flatshading": true,
         "hoverinfo": "text",
         "i": [
          0,
          0,
          4,
          4,
          0,
          0,
          1,
          1,
          2,
          2,
          3,
          3
         ],
         "j": [
          1,
          2,
          5,
          6,
          1,
          5,
          2,
          6,
          3,
          7,
          0,
          4
         ],
         "k": [
          2,
          3,
          6,
          7,
          5,
          4,
          6,
          5,
          7,
          6,
          4,
          7
         ],
         "opacity": 0.5,
         "text": "ID: 1082, Type: wall",
         "type": "mesh3d",
         "x": [
          -10.05875,
          -0.25975000000000037,
          -0.25975000000000037,
          -10.05875,
          -10.05875,
          -0.25975000000000037,
          -0.25975000000000037,
          -10.05875
         ],
         "y": [
          -82.5086,
          -82.5086,
          -82.4086,
          -82.4086,
          -82.5086,
          -82.5086,
          -82.4086,
          -82.4086
         ],
         "z": [
          0,
          0,
          0,
          0,
          3.7,
          3.7,
          3.7,
          3.7
         ]
        },
        {
         "color": "lightblue",
         "flatshading": true,
         "hoverinfo": "text",
         "i": [
          0,
          0,
          4,
          4,
          0,
          0,
          1,
          1,
          2,
          2,
          3,
          3
         ],
         "j": [
          1,
          2,
          5,
          6,
          1,
          5,
          2,
          6,
          3,
          7,
          0,
          4
         ],
         "k": [
          2,
          3,
          6,
          7,
          5,
          4,
          6,
          5,
          7,
          6,
          4,
          7
         ],
         "opacity": 0.5,
         "text": "ID: 1118, Type: wall",
         "type": "mesh3d",
         "x": [
          -10.05875,
          -0.25975000000000037,
          -0.25975000000000037,
          -10.05875,
          -10.05875,
          -0.25975000000000037,
          -0.25975000000000037,
          -10.05875
         ],
         "y": [
          -72.5486,
          -72.5486,
          -72.4486,
          -72.4486,
          -72.5486,
          -72.5486,
          -72.4486,
          -72.4486
         ],
         "z": [
          0,
          0,
          0,
          0,
          3.7,
          3.7,
          3.7,
          3.7
         ]
        },
        {
         "color": "lightblue",
         "flatshading": true,
         "hoverinfo": "text",
         "i": [
          0,
          0,
          4,
          4,
          0,
          0,
          1,
          1,
          2,
          2,
          3,
          3
         ],
         "j": [
          1,
          2,
          5,
          6,
          1,
          5,
          2,
          6,
          3,
          7,
          0,
          4
         ],
         "k": [
          2,
          3,
          6,
          7,
          5,
          4,
          6,
          5,
          7,
          6,
          4,
          7
         ],
         "opacity": 0.5,
         "text": "ID: 2046, Type: ceiling",
         "type": "mesh3d",
         "x": [
          -10.05875,
          -0.25975000000000037,
          -0.25975000000000037,
          -10.05875,
          -10.05875,
          -0.25975000000000037,
          -0.25975000000000037,
          -10.05875
         ],
         "y": [
          -82.4586,
          -82.4586,
          -72.4986,
          -72.4986,
          -82.4586,
          -82.4586,
          -72.4986,
          -72.4986
         ],
         "z": [
          3.6500000000000004,
          3.6500000000000004,
          3.6500000000000004,
          3.6500000000000004,
          3.75,
          3.75,
          3.75,
          3.75
         ]
        },
        {
         "color": "lightblue",
         "flatshading": true,
         "hoverinfo": "text",
         "i": [
          0,
          0,
          4,
          4,
          0,
          0,
          1,
          1,
          2,
          2,
          3,
          3
         ],
         "j": [
          1,
          2,
          5,
          6,
          1,
          5,
          2,
          6,
          3,
          7,
          0,
          4
         ],
         "k": [
          2,
          3,
          6,
          7,
          5,
          4,
          6,
          5,
          7,
          6,
          4,
          7
         ],
         "opacity": 0.5,
         "text": "ID: 3047, Type: floor",
         "type": "mesh3d",
         "x": [
          -10.05875,
          -0.25975000000000037,
          -0.25975000000000037,
          -10.05875,
          -10.05875,
          -0.25975000000000037,
          -0.25975000000000037,
          -10.05875
         ],
         "y": [
          -82.4586,
          -82.4586,
          -72.4986,
          -72.4986,
          -82.4586,
          -82.4586,
          -72.4986,
          -72.4986
         ],
         "z": [
          -0.05,
          -0.05,
          -0.05,
          -0.05,
          0.05,
          0.05,
          0.05,
          0.05
         ]
        },
        {
         "color": "red",
         "flatshading": true,
         "hoverinfo": "text",
         "i": [
          0,
          0,
          4,
          4,
          0,
          0,
          1,
          1,
          2,
          2,
          3,
          3
         ],
         "j": [
          1,
          2,
          5,
          6,
          1,
          5,
          2,
          6,
          3,
          7,
          0,
          4
         ],
         "k": [
          2,
          3,
          6,
          7,
          5,
          4,
          6,
          5,
          7,
          6,
          4,
          7
         ],
         "opacity": 0.5,
         "text": "ID: 4036, Type: window",
         "type": "mesh3d",
         "x": [
          -0.261335447245831,
          0.5465274139745164,
          0.5465274139745164,
          -0.261335447245831,
          -0.261335447245831,
          0.5465274139745164,
          0.5465274139745164,
          -0.261335447245831
         ],
         "y": [
          -81.2786,
          -81.2786,
          -79.7786,
          -79.7786,
          -81.2786,
          -81.2786,
          -79.7786,
          -79.7786
         ],
         "z": [
          0.8139957301523946,
          0.8139957301523946,
          0.8139957301523946,
          0.8139957301523946,
          2.871735056757969,
          2.871735056757969,
          2.871735056757969,
          2.871735056757969
         ]
        },
        {
         "marker": {
          "color": "black",
          "size": 10
         },
         "mode": "markers",
         "name": "Camera Position",
         "type": "scatter3d",
         "x": [
          -1.64
         ],
         "y": [
          -80.5286
         ],
         "z": [
          1.8429
         ]
        },
        {
         "marker": {
          "color": "purple",
          "size": 10
         },
         "mode": "markers",
         "name": "Target Position",
         "type": "scatter3d",
         "x": [
          0.1425959833643427
         ],
         "y": [
          -80.5286
         ],
         "z": [
          1.842865393455182
         ]
        },
        {
         "color": "yellow",
         "i": [
          0,
          0,
          0,
          0,
          0,
          0,
          0,
          0,
          0,
          0,
          0,
          0,
          0,
          0,
          0,
          0,
          0,
          0,
          0,
          0
         ],
         "j": [
          1,
          2,
          3,
          4,
          5,
          6,
          7,
          8,
          9,
          10,
          11,
          12,
          13,
          14,
          15,
          16,
          17,
          18,
          19,
          20
         ],
         "k": [
          2,
          3,
          4,
          5,
          6,
          7,
          8,
          9,
          10,
          11,
          12,
          13,
          14,
          15,
          16,
          17,
          18,
          19,
          20,
          1
         ],
         "name": "Field of View",
         "opacity": 0.2,
         "type": "mesh3d",
         "x": [
          -1.64,
          0.14259598370026105,
          0.14259598370026105,
          0.14259598370026105,
          0.14259598370026105,
          0.14259598370026105,
          0.14259598370026105,
          0.14259598370026105,
          0.14259598370026105,
          0.14259598370026105,
          0.14259598370026105,
          0.14259598370026105,
          0.14259598370026105,
          0.14259598370026105,
          0.14259598370026105,
          0.14259598370026105,
          0.14259598370026105,
          0.14259598370026105,
          0.14259598370026105,
          0.14259598370026105,
          0.14259598370026105
         ],
         "y": [
          -80.5286,
          -79.49941772895431,
          -79.55518166319237,
          -79.71643057836526,
          -79.9656906524793,
          -80.27595068883568,
          -80.61358919831468,
          -80.942017809413,
          -81.22564618602317,
          -81.43373879259177,
          -81.54374556630759,
          -81.54374556630759,
          -81.43373879259177,
          -81.22564618602317,
          -80.942017809413,
          -80.61358919831468,
          -80.27595068883568,
          -79.9656906524793,
          -79.71643057836526,
          -79.55518166319237,
          -79.49941772895431
         ],
         "z": [
          1.8429,
          1.8429,
          2.1770749371234066,
          2.4750368345510867,
          2.7044968973415524,
          2.8405895672517367,
          2.8685670918015234,
          2.7853976720899194,
          2.6000940052491908,
          2.3327366188641716,
          2.0122978342269606,
          1.6735021657730393,
          1.3530633811358286,
          1.0857059947508096,
          0.9004023279100807,
          0.8172329081984768,
          0.845210432748263,
          0.9813031026584474,
          1.2107631654489128,
          1.5087250628765931,
          1.8428999999999998
         ]
        }
       ],
       "layout": {
        "height": 800,
        "scene": {
         "aspectmode": "data",
         "aspectratio": {
          "x": 1,
          "y": 1,
          "z": 1
         },
         "xaxis": {
          "title": {
           "text": "X"
          },
          "visible": true
         },
         "yaxis": {
          "title": {
           "text": "Y"
          },
          "visible": true
         },
         "zaxis": {
          "title": {
           "text": "Z"
          },
          "visible": true
         }
        },
        "template": {
         "data": {
          "bar": [
           {
            "error_x": {
             "color": "#2a3f5f"
            },
            "error_y": {
             "color": "#2a3f5f"
            },
            "marker": {
             "line": {
              "color": "#E5ECF6",
              "width": 0.5
             },
             "pattern": {
              "fillmode": "overlay",
              "size": 10,
              "solidity": 0.2
             }
            },
            "type": "bar"
           }
          ],
          "barpolar": [
           {
            "marker": {
             "line": {
              "color": "#E5ECF6",
              "width": 0.5
             },
             "pattern": {
              "fillmode": "overlay",
              "size": 10,
              "solidity": 0.2
             }
            },
            "type": "barpolar"
           }
          ],
          "carpet": [
           {
            "aaxis": {
             "endlinecolor": "#2a3f5f",
             "gridcolor": "white",
             "linecolor": "white",
             "minorgridcolor": "white",
             "startlinecolor": "#2a3f5f"
            },
            "baxis": {
             "endlinecolor": "#2a3f5f",
             "gridcolor": "white",
             "linecolor": "white",
             "minorgridcolor": "white",
             "startlinecolor": "#2a3f5f"
            },
            "type": "carpet"
           }
          ],
          "choropleth": [
           {
            "colorbar": {
             "outlinewidth": 0,
             "ticks": ""
            },
            "type": "choropleth"
           }
          ],
          "contour": [
           {
            "colorbar": {
             "outlinewidth": 0,
             "ticks": ""
            },
            "colorscale": [
             [
              0,
              "#0d0887"
             ],
             [
              0.1111111111111111,
              "#46039f"
             ],
             [
              0.2222222222222222,
              "#7201a8"
             ],
             [
              0.3333333333333333,
              "#9c179e"
             ],
             [
              0.4444444444444444,
              "#bd3786"
             ],
             [
              0.5555555555555556,
              "#d8576b"
             ],
             [
              0.6666666666666666,
              "#ed7953"
             ],
             [
              0.7777777777777778,
              "#fb9f3a"
             ],
             [
              0.8888888888888888,
              "#fdca26"
             ],
             [
              1,
              "#f0f921"
             ]
            ],
            "type": "contour"
           }
          ],
          "contourcarpet": [
           {
            "colorbar": {
             "outlinewidth": 0,
             "ticks": ""
            },
            "type": "contourcarpet"
           }
          ],
          "heatmap": [
           {
            "colorbar": {
             "outlinewidth": 0,
             "ticks": ""
            },
            "colorscale": [
             [
              0,
              "#0d0887"
             ],
             [
              0.1111111111111111,
              "#46039f"
             ],
             [
              0.2222222222222222,
              "#7201a8"
             ],
             [
              0.3333333333333333,
              "#9c179e"
             ],
             [
              0.4444444444444444,
              "#bd3786"
             ],
             [
              0.5555555555555556,
              "#d8576b"
             ],
             [
              0.6666666666666666,
              "#ed7953"
             ],
             [
              0.7777777777777778,
              "#fb9f3a"
             ],
             [
              0.8888888888888888,
              "#fdca26"
             ],
             [
              1,
              "#f0f921"
             ]
            ],
            "type": "heatmap"
           }
          ],
          "heatmapgl": [
           {
            "colorbar": {
             "outlinewidth": 0,
             "ticks": ""
            },
            "colorscale": [
             [
              0,
              "#0d0887"
             ],
             [
              0.1111111111111111,
              "#46039f"
             ],
             [
              0.2222222222222222,
              "#7201a8"
             ],
             [
              0.3333333333333333,
              "#9c179e"
             ],
             [
              0.4444444444444444,
              "#bd3786"
             ],
             [
              0.5555555555555556,
              "#d8576b"
             ],
             [
              0.6666666666666666,
              "#ed7953"
             ],
             [
              0.7777777777777778,
              "#fb9f3a"
             ],
             [
              0.8888888888888888,
              "#fdca26"
             ],
             [
              1,
              "#f0f921"
             ]
            ],
            "type": "heatmapgl"
           }
          ],
          "histogram": [
           {
            "marker": {
             "pattern": {
              "fillmode": "overlay",
              "size": 10,
              "solidity": 0.2
             }
            },
            "type": "histogram"
           }
          ],
          "histogram2d": [
           {
            "colorbar": {
             "outlinewidth": 0,
             "ticks": ""
            },
            "colorscale": [
             [
              0,
              "#0d0887"
             ],
             [
              0.1111111111111111,
              "#46039f"
             ],
             [
              0.2222222222222222,
              "#7201a8"
             ],
             [
              0.3333333333333333,
              "#9c179e"
             ],
             [
              0.4444444444444444,
              "#bd3786"
             ],
             [
              0.5555555555555556,
              "#d8576b"
             ],
             [
              0.6666666666666666,
              "#ed7953"
             ],
             [
              0.7777777777777778,
              "#fb9f3a"
             ],
             [
              0.8888888888888888,
              "#fdca26"
             ],
             [
              1,
              "#f0f921"
             ]
            ],
            "type": "histogram2d"
           }
          ],
          "histogram2dcontour": [
           {
            "colorbar": {
             "outlinewidth": 0,
             "ticks": ""
            },
            "colorscale": [
             [
              0,
              "#0d0887"
             ],
             [
              0.1111111111111111,
              "#46039f"
             ],
             [
              0.2222222222222222,
              "#7201a8"
             ],
             [
              0.3333333333333333,
              "#9c179e"
             ],
             [
              0.4444444444444444,
              "#bd3786"
             ],
             [
              0.5555555555555556,
              "#d8576b"
             ],
             [
              0.6666666666666666,
              "#ed7953"
             ],
             [
              0.7777777777777778,
              "#fb9f3a"
             ],
             [
              0.8888888888888888,
              "#fdca26"
             ],
             [
              1,
              "#f0f921"
             ]
            ],
            "type": "histogram2dcontour"
           }
          ],
          "mesh3d": [
           {
            "colorbar": {
             "outlinewidth": 0,
             "ticks": ""
            },
            "type": "mesh3d"
           }
          ],
          "parcoords": [
           {
            "line": {
             "colorbar": {
              "outlinewidth": 0,
              "ticks": ""
             }
            },
            "type": "parcoords"
           }
          ],
          "pie": [
           {
            "automargin": true,
            "type": "pie"
           }
          ],
          "scatter": [
           {
            "fillpattern": {
             "fillmode": "overlay",
             "size": 10,
             "solidity": 0.2
            },
            "type": "scatter"
           }
          ],
          "scatter3d": [
           {
            "line": {
             "colorbar": {
              "outlinewidth": 0,
              "ticks": ""
             }
            },
            "marker": {
             "colorbar": {
              "outlinewidth": 0,
              "ticks": ""
             }
            },
            "type": "scatter3d"
           }
          ],
          "scattercarpet": [
           {
            "marker": {
             "colorbar": {
              "outlinewidth": 0,
              "ticks": ""
             }
            },
            "type": "scattercarpet"
           }
          ],
          "scattergeo": [
           {
            "marker": {
             "colorbar": {
              "outlinewidth": 0,
              "ticks": ""
             }
            },
            "type": "scattergeo"
           }
          ],
          "scattergl": [
           {
            "marker": {
             "colorbar": {
              "outlinewidth": 0,
              "ticks": ""
             }
            },
            "type": "scattergl"
           }
          ],
          "scattermapbox": [
           {
            "marker": {
             "colorbar": {
              "outlinewidth": 0,
              "ticks": ""
             }
            },
            "type": "scattermapbox"
           }
          ],
          "scatterpolar": [
           {
            "marker": {
             "colorbar": {
              "outlinewidth": 0,
              "ticks": ""
             }
            },
            "type": "scatterpolar"
           }
          ],
          "scatterpolargl": [
           {
            "marker": {
             "colorbar": {
              "outlinewidth": 0,
              "ticks": ""
             }
            },
            "type": "scatterpolargl"
           }
          ],
          "scatterternary": [
           {
            "marker": {
             "colorbar": {
              "outlinewidth": 0,
              "ticks": ""
             }
            },
            "type": "scatterternary"
           }
          ],
          "surface": [
           {
            "colorbar": {
             "outlinewidth": 0,
             "ticks": ""
            },
            "colorscale": [
             [
              0,
              "#0d0887"
             ],
             [
              0.1111111111111111,
              "#46039f"
             ],
             [
              0.2222222222222222,
              "#7201a8"
             ],
             [
              0.3333333333333333,
              "#9c179e"
             ],
             [
              0.4444444444444444,
              "#bd3786"
             ],
             [
              0.5555555555555556,
              "#d8576b"
             ],
             [
              0.6666666666666666,
              "#ed7953"
             ],
             [
              0.7777777777777778,
              "#fb9f3a"
             ],
             [
              0.8888888888888888,
              "#fdca26"
             ],
             [
              1,
              "#f0f921"
             ]
            ],
            "type": "surface"
           }
          ],
          "table": [
           {
            "cells": {
             "fill": {
              "color": "#EBF0F8"
             },
             "line": {
              "color": "white"
             }
            },
            "header": {
             "fill": {
              "color": "#C8D4E3"
             },
             "line": {
              "color": "white"
             }
            },
            "type": "table"
           }
          ]
         },
         "layout": {
          "annotationdefaults": {
           "arrowcolor": "#2a3f5f",
           "arrowhead": 0,
           "arrowwidth": 1
          },
          "autotypenumbers": "strict",
          "coloraxis": {
           "colorbar": {
            "outlinewidth": 0,
            "ticks": ""
           }
          },
          "colorscale": {
           "diverging": [
            [
             0,
             "#8e0152"
            ],
            [
             0.1,
             "#c51b7d"
            ],
            [
             0.2,
             "#de77ae"
            ],
            [
             0.3,
             "#f1b6da"
            ],
            [
             0.4,
             "#fde0ef"
            ],
            [
             0.5,
             "#f7f7f7"
            ],
            [
             0.6,
             "#e6f5d0"
            ],
            [
             0.7,
             "#b8e186"
            ],
            [
             0.8,
             "#7fbc41"
            ],
            [
             0.9,
             "#4d9221"
            ],
            [
             1,
             "#276419"
            ]
           ],
           "sequential": [
            [
             0,
             "#0d0887"
            ],
            [
             0.1111111111111111,
             "#46039f"
            ],
            [
             0.2222222222222222,
             "#7201a8"
            ],
            [
             0.3333333333333333,
             "#9c179e"
            ],
            [
             0.4444444444444444,
             "#bd3786"
            ],
            [
             0.5555555555555556,
             "#d8576b"
            ],
            [
             0.6666666666666666,
             "#ed7953"
            ],
            [
             0.7777777777777778,
             "#fb9f3a"
            ],
            [
             0.8888888888888888,
             "#fdca26"
            ],
            [
             1,
             "#f0f921"
            ]
           ],
           "sequentialminus": [
            [
             0,
             "#0d0887"
            ],
            [
             0.1111111111111111,
             "#46039f"
            ],
            [
             0.2222222222222222,
             "#7201a8"
            ],
            [
             0.3333333333333333,
             "#9c179e"
            ],
            [
             0.4444444444444444,
             "#bd3786"
            ],
            [
             0.5555555555555556,
             "#d8576b"
            ],
            [
             0.6666666666666666,
             "#ed7953"
            ],
            [
             0.7777777777777778,
             "#fb9f3a"
            ],
            [
             0.8888888888888888,
             "#fdca26"
            ],
            [
             1,
             "#f0f921"
            ]
           ]
          },
          "colorway": [
           "#636efa",
           "#EF553B",
           "#00cc96",
           "#ab63fa",
           "#FFA15A",
           "#19d3f3",
           "#FF6692",
           "#B6E880",
           "#FF97FF",
           "#FECB52"
          ],
          "font": {
           "color": "#2a3f5f"
          },
          "geo": {
           "bgcolor": "white",
           "lakecolor": "white",
           "landcolor": "#E5ECF6",
           "showlakes": true,
           "showland": true,
           "subunitcolor": "white"
          },
          "hoverlabel": {
           "align": "left"
          },
          "hovermode": "closest",
          "mapbox": {
           "style": "light"
          },
          "paper_bgcolor": "white",
          "plot_bgcolor": "#E5ECF6",
          "polar": {
           "angularaxis": {
            "gridcolor": "white",
            "linecolor": "white",
            "ticks": ""
           },
           "bgcolor": "#E5ECF6",
           "radialaxis": {
            "gridcolor": "white",
            "linecolor": "white",
            "ticks": ""
           }
          },
          "scene": {
           "xaxis": {
            "backgroundcolor": "#E5ECF6",
            "gridcolor": "white",
            "gridwidth": 2,
            "linecolor": "white",
            "showbackground": true,
            "ticks": "",
            "zerolinecolor": "white"
           },
           "yaxis": {
            "backgroundcolor": "#E5ECF6",
            "gridcolor": "white",
            "gridwidth": 2,
            "linecolor": "white",
            "showbackground": true,
            "ticks": "",
            "zerolinecolor": "white"
           },
           "zaxis": {
            "backgroundcolor": "#E5ECF6",
            "gridcolor": "white",
            "gridwidth": 2,
            "linecolor": "white",
            "showbackground": true,
            "ticks": "",
            "zerolinecolor": "white"
           }
          },
          "shapedefaults": {
           "line": {
            "color": "#2a3f5f"
           }
          },
          "ternary": {
           "aaxis": {
            "gridcolor": "white",
            "linecolor": "white",
            "ticks": ""
           },
           "baxis": {
            "gridcolor": "white",
            "linecolor": "white",
            "ticks": ""
           },
           "bgcolor": "#E5ECF6",
           "caxis": {
            "gridcolor": "white",
            "linecolor": "white",
            "ticks": ""
           }
          },
          "title": {
           "x": 0.05
          },
          "xaxis": {
           "automargin": true,
           "gridcolor": "white",
           "linecolor": "white",
           "ticks": "",
           "title": {
            "standoff": 15
           },
           "zerolinecolor": "white",
           "zerolinewidth": 2
          },
          "yaxis": {
           "automargin": true,
           "gridcolor": "white",
           "linecolor": "white",
           "ticks": "",
           "title": {
            "standoff": 15
           },
           "zerolinecolor": "white",
           "zerolinewidth": 2
          }
         }
        },
        "title": {
         "text": "Visualization on the optimal scanning position and direction"
        },
        "width": 1200
       }
      }
     },
     "metadata": {},
     "output_type": "display_data"
    }
   ],
   "source": [
    "# the room id: 39\n",
    "# the window (right) of the room\n",
    "defect_id = 4036\n",
    "robot_id = 1\n",
    "\n",
    "optimal_location, optimal_direction = get_scanning_plan_o1(defect_id, robot_id, gpt_model=\"o1-preview\")\n",
    "visualize_scanning(defect_id, robot_id, optimal_location, optimal_direction)"
   ]
  },
  {
   "cell_type": "code",
   "execution_count": 18,
   "metadata": {},
   "outputs": [
    {
     "name": "stdout",
     "output_type": "stream",
     "text": [
      "```json\n",
      "{\n",
      "  \"optimal_location\": [-0.26, -72.4986, 0.0],\n",
      "  \"optimal_direction\": [-0.67823, -0.68919, 0.25603]\n",
      "}\n",
      "```\n",
      "\n",
      "**Explanation:**\n",
      "\n",
      "To scan the entire ceiling defect (ID: 2046) within the room, we need to position the camera in such a way that its field of view (FOV) encompasses the entire ceiling area. The ceiling has dimensions of approximately 9.799 meters in the x-direction and 9.96 meters in the y-direction.\n",
      "\n",
      "Given the camera's FOV of 60 degrees, the width (W) of the area captured at a distance (D) from the camera is calculated using the formula:\n",
      "\n",
      "\\[ W = 2 \\times D \\times \\tan\\left(\\frac{\\text{FOV}}{2}\\right) \\]\n",
      "\n",
      "To cover the ceiling's largest dimension (approximately 9.96 meters), the required distance is:\n",
      "\n",
      "\\[ D = \\frac{W}{2 \\times \\tan\\left(\\frac{60^\\circ}{2}\\right)} = \\frac{9.96}{1.1547} \\approx 8.625 \\text{ meters} \\]\n",
      "\n",
      "However, since the room's height is only 3.7 meters, we cannot achieve this distance vertically. Therefore, we maximize the distance horizontally by placing the camera at one corner of the floor and directing it toward the opposite corner of the ceiling.\n",
      "\n",
      "**Optimal Location:**\n",
      "\n",
      "- **Position:** The camera is placed at the coordinates `[-0.26, -72.4986, 0.0]`, which is one corner of the room at floor level.\n",
      "- **Reasoning:** This position maximizes the horizontal distance within the room, allowing the camera to be as far from the ceiling as possible.\n",
      "\n",
      "**Optimal Direction:**\n",
      "\n",
      "- **Direction Vector:** The camera is directed towards the opposite corner of the ceiling at `[-10.0585, -82.4586, 3.7]`.\n",
      "- **Normalized Direction Vector:** Calculated as the unit vector pointing from the camera location to the target point:\n",
      "\n",
      "  \\[\n",
      "  \\text{Direction Vector} = \\frac{[-9.7985, -9.96, 3.7]}{14.456} \\approx [-0.67823, -0.68919, 0.25603]\n",
      "  \\]\n",
      "\n",
      "**Conclusion:**\n",
      "\n",
      "By positioning the camera at this optimal location and directing it appropriately, the camera's FOV will encompass the entire ceiling defect, allowing for a complete scan of the defect area.\n",
      "{'defect_node': {'id': 2046, 'type': 'ceiling', 'components': [], 'location': [-5.15925, -77.4786, 3.7], 'size': [9.799, 9.96, 0.0]}, 'associated_spaces': [{'id': 39, 'surfaces': [1040, 1072, 1082, 1118, 2046, 3047], 'location': [-5.15925, -77.4786, 7.85], 'size': [9.799, 9.96, 3.7]}], 'associated_nodes': [{'id': 1040, 'type': 'wall', 'components': [4019, 4036], 'location': [-0.26, -77.4786, 1.85], 'size': [0.0, 9.96, 3.7]}, {'id': 4019, 'type': 'window', 'location': [0.1425959833643427, -74.4286, 1.842865393455182], 'size': [0.8078628612203475, 1.5, 2.057739326605575]}, {'id': 4036, 'type': 'window', 'location': [0.1425959833643427, -80.5286, 1.842865393455182], 'size': [0.8078628612203475, 1.5, 2.057739326605575]}, {'id': 1072, 'type': 'wall', 'components': [5059], 'location': [-10.0585, -77.4786, 1.85], 'size': [0.0, 9.96, 3.7]}, {'id': 5059, 'type': 'door', 'location': [-10.6715, -77.4786, 1.0425], 'size': [0.174, 1.4, 2.085]}, {'id': 1082, 'type': 'wall', 'components': [], 'location': [-5.15925, -82.4586, 1.85], 'size': [9.799, 0.0, 3.7]}, {'id': 1118, 'type': 'wall', 'components': [], 'location': [-5.15925, -72.4986, 1.85], 'size': [9.799, 0.0, 3.7]}, {'id': 3047, 'type': 'floor', 'components': [], 'location': [-5.15925, -77.4786, 0.0], 'size': [9.799, 9.96, 0.0]}]}\n",
      "60\n"
     ]
    },
    {
     "data": {
      "application/vnd.plotly.v1+json": {
       "config": {
        "plotlyServerURL": "https://plot.ly"
       },
       "data": [
        {
         "color": "lightblue",
         "flatshading": true,
         "hoverinfo": "text",
         "i": [
          0,
          0,
          4,
          4,
          0,
          0,
          1,
          1,
          2,
          2,
          3,
          3
         ],
         "j": [
          1,
          2,
          5,
          6,
          1,
          5,
          2,
          6,
          3,
          7,
          0,
          4
         ],
         "k": [
          2,
          3,
          6,
          7,
          5,
          4,
          6,
          5,
          7,
          6,
          4,
          7
         ],
         "opacity": 0.5,
         "text": "ID: 1040, Type: wall",
         "type": "mesh3d",
         "x": [
          -0.31,
          -0.21000000000000002,
          -0.21000000000000002,
          -0.31,
          -0.31,
          -0.21000000000000002,
          -0.21000000000000002,
          -0.31
         ],
         "y": [
          -82.4586,
          -82.4586,
          -72.4986,
          -72.4986,
          -82.4586,
          -82.4586,
          -72.4986,
          -72.4986
         ],
         "z": [
          0,
          0,
          0,
          0,
          3.7,
          3.7,
          3.7,
          3.7
         ]
        },
        {
         "color": "lightgreen",
         "flatshading": true,
         "hoverinfo": "text",
         "i": [
          0,
          0,
          4,
          4,
          0,
          0,
          1,
          1,
          2,
          2,
          3,
          3
         ],
         "j": [
          1,
          2,
          5,
          6,
          1,
          5,
          2,
          6,
          3,
          7,
          0,
          4
         ],
         "k": [
          2,
          3,
          6,
          7,
          5,
          4,
          6,
          5,
          7,
          6,
          4,
          7
         ],
         "opacity": 0.5,
         "text": "ID: 4019, Type: window",
         "type": "mesh3d",
         "x": [
          -0.261335447245831,
          0.5465274139745164,
          0.5465274139745164,
          -0.261335447245831,
          -0.261335447245831,
          0.5465274139745164,
          0.5465274139745164,
          -0.261335447245831
         ],
         "y": [
          -75.1786,
          -75.1786,
          -73.6786,
          -73.6786,
          -75.1786,
          -75.1786,
          -73.6786,
          -73.6786
         ],
         "z": [
          0.8139957301523946,
          0.8139957301523946,
          0.8139957301523946,
          0.8139957301523946,
          2.871735056757969,
          2.871735056757969,
          2.871735056757969,
          2.871735056757969
         ]
        },
        {
         "color": "lightgreen",
         "flatshading": true,
         "hoverinfo": "text",
         "i": [
          0,
          0,
          4,
          4,
          0,
          0,
          1,
          1,
          2,
          2,
          3,
          3
         ],
         "j": [
          1,
          2,
          5,
          6,
          1,
          5,
          2,
          6,
          3,
          7,
          0,
          4
         ],
         "k": [
          2,
          3,
          6,
          7,
          5,
          4,
          6,
          5,
          7,
          6,
          4,
          7
         ],
         "opacity": 0.5,
         "text": "ID: 4036, Type: window",
         "type": "mesh3d",
         "x": [
          -0.261335447245831,
          0.5465274139745164,
          0.5465274139745164,
          -0.261335447245831,
          -0.261335447245831,
          0.5465274139745164,
          0.5465274139745164,
          -0.261335447245831
         ],
         "y": [
          -81.2786,
          -81.2786,
          -79.7786,
          -79.7786,
          -81.2786,
          -81.2786,
          -79.7786,
          -79.7786
         ],
         "z": [
          0.8139957301523946,
          0.8139957301523946,
          0.8139957301523946,
          0.8139957301523946,
          2.871735056757969,
          2.871735056757969,
          2.871735056757969,
          2.871735056757969
         ]
        },
        {
         "color": "lightblue",
         "flatshading": true,
         "hoverinfo": "text",
         "i": [
          0,
          0,
          4,
          4,
          0,
          0,
          1,
          1,
          2,
          2,
          3,
          3
         ],
         "j": [
          1,
          2,
          5,
          6,
          1,
          5,
          2,
          6,
          3,
          7,
          0,
          4
         ],
         "k": [
          2,
          3,
          6,
          7,
          5,
          4,
          6,
          5,
          7,
          6,
          4,
          7
         ],
         "opacity": 0.5,
         "text": "ID: 1072, Type: wall",
         "type": "mesh3d",
         "x": [
          -10.108500000000001,
          -10.0085,
          -10.0085,
          -10.108500000000001,
          -10.108500000000001,
          -10.0085,
          -10.0085,
          -10.108500000000001
         ],
         "y": [
          -82.4586,
          -82.4586,
          -72.4986,
          -72.4986,
          -82.4586,
          -82.4586,
          -72.4986,
          -72.4986
         ],
         "z": [
          0,
          0,
          0,
          0,
          3.7,
          3.7,
          3.7,
          3.7
         ]
        },
        {
         "color": "lightgreen",
         "flatshading": true,
         "hoverinfo": "text",
         "i": [
          0,
          0,
          4,
          4,
          0,
          0,
          1,
          1,
          2,
          2,
          3,
          3
         ],
         "j": [
          1,
          2,
          5,
          6,
          1,
          5,
          2,
          6,
          3,
          7,
          0,
          4
         ],
         "k": [
          2,
          3,
          6,
          7,
          5,
          4,
          6,
          5,
          7,
          6,
          4,
          7
         ],
         "opacity": 0.5,
         "text": "ID: 5059, Type: door",
         "type": "mesh3d",
         "x": [
          -10.7585,
          -10.5845,
          -10.5845,
          -10.7585,
          -10.7585,
          -10.5845,
          -10.5845,
          -10.7585
         ],
         "y": [
          -78.1786,
          -78.1786,
          -76.7786,
          -76.7786,
          -78.1786,
          -78.1786,
          -76.7786,
          -76.7786
         ],
         "z": [
          0,
          0,
          0,
          0,
          2.085,
          2.085,
          2.085,
          2.085
         ]
        },
        {
         "color": "lightblue",
         "flatshading": true,
         "hoverinfo": "text",
         "i": [
          0,
          0,
          4,
          4,
          0,
          0,
          1,
          1,
          2,
          2,
          3,
          3
         ],
         "j": [
          1,
          2,
          5,
          6,
          1,
          5,
          2,
          6,
          3,
          7,
          0,
          4
         ],
         "k": [
          2,
          3,
          6,
          7,
          5,
          4,
          6,
          5,
          7,
          6,
          4,
          7
         ],
         "opacity": 0.5,
         "text": "ID: 1082, Type: wall",
         "type": "mesh3d",
         "x": [
          -10.05875,
          -0.25975000000000037,
          -0.25975000000000037,
          -10.05875,
          -10.05875,
          -0.25975000000000037,
          -0.25975000000000037,
          -10.05875
         ],
         "y": [
          -82.5086,
          -82.5086,
          -82.4086,
          -82.4086,
          -82.5086,
          -82.5086,
          -82.4086,
          -82.4086
         ],
         "z": [
          0,
          0,
          0,
          0,
          3.7,
          3.7,
          3.7,
          3.7
         ]
        },
        {
         "color": "lightblue",
         "flatshading": true,
         "hoverinfo": "text",
         "i": [
          0,
          0,
          4,
          4,
          0,
          0,
          1,
          1,
          2,
          2,
          3,
          3
         ],
         "j": [
          1,
          2,
          5,
          6,
          1,
          5,
          2,
          6,
          3,
          7,
          0,
          4
         ],
         "k": [
          2,
          3,
          6,
          7,
          5,
          4,
          6,
          5,
          7,
          6,
          4,
          7
         ],
         "opacity": 0.5,
         "text": "ID: 1118, Type: wall",
         "type": "mesh3d",
         "x": [
          -10.05875,
          -0.25975000000000037,
          -0.25975000000000037,
          -10.05875,
          -10.05875,
          -0.25975000000000037,
          -0.25975000000000037,
          -10.05875
         ],
         "y": [
          -72.5486,
          -72.5486,
          -72.4486,
          -72.4486,
          -72.5486,
          -72.5486,
          -72.4486,
          -72.4486
         ],
         "z": [
          0,
          0,
          0,
          0,
          3.7,
          3.7,
          3.7,
          3.7
         ]
        },
        {
         "color": "lightblue",
         "flatshading": true,
         "hoverinfo": "text",
         "i": [
          0,
          0,
          4,
          4,
          0,
          0,
          1,
          1,
          2,
          2,
          3,
          3
         ],
         "j": [
          1,
          2,
          5,
          6,
          1,
          5,
          2,
          6,
          3,
          7,
          0,
          4
         ],
         "k": [
          2,
          3,
          6,
          7,
          5,
          4,
          6,
          5,
          7,
          6,
          4,
          7
         ],
         "opacity": 0.5,
         "text": "ID: 3047, Type: floor",
         "type": "mesh3d",
         "x": [
          -10.05875,
          -0.25975000000000037,
          -0.25975000000000037,
          -10.05875,
          -10.05875,
          -0.25975000000000037,
          -0.25975000000000037,
          -10.05875
         ],
         "y": [
          -82.4586,
          -82.4586,
          -72.4986,
          -72.4986,
          -82.4586,
          -82.4586,
          -72.4986,
          -72.4986
         ],
         "z": [
          -0.05,
          -0.05,
          -0.05,
          -0.05,
          0.05,
          0.05,
          0.05,
          0.05
         ]
        },
        {
         "marker": {
          "color": "black",
          "size": 10
         },
         "mode": "markers",
         "name": "Camera Position",
         "type": "scatter3d",
         "x": [
          -0.26
         ],
         "y": [
          -72.4986
         ],
         "z": [
          0
         ]
        },
        {
         "marker": {
          "color": "purple",
          "size": 10
         },
         "mode": "markers",
         "name": "Target Position",
         "type": "scatter3d",
         "x": [
          -5.15925
         ],
         "y": [
          -77.4786
         ],
         "z": [
          3.7
         ]
        },
        {
         "color": "yellow",
         "i": [
          0,
          0,
          0,
          0,
          0,
          0,
          0,
          0,
          0,
          0,
          0,
          0,
          0,
          0,
          0,
          0,
          0,
          0,
          0,
          0
         ],
         "j": [
          1,
          2,
          3,
          4,
          5,
          6,
          7,
          8,
          9,
          10,
          11,
          12,
          13,
          14,
          15,
          16,
          17,
          18,
          19,
          20
         ],
         "k": [
          2,
          3,
          4,
          5,
          6,
          7,
          8,
          9,
          10,
          11,
          12,
          13,
          14,
          15,
          16,
          17,
          18,
          19,
          20,
          1
         ],
         "name": "Field of View",
         "opacity": 0.2,
         "type": "mesh3d",
         "x": [
          -0.26,
          -2.475460967276822,
          -3.0251754173403596,
          -3.85609673210965,
          -4.878181694056823,
          -5.980671538272682,
          -7.044094383243919,
          -7.953211863012333,
          -8.609506992233888,
          -8.941860010189254,
          -8.914255310394555,
          -8.529684290403594,
          -7.829821187466594,
          -6.890507028281713,
          -5.813531076957522,
          -4.715600388823677,
          -3.715692790089401,
          -2.9221637842425316,
          -2.4210045519377417,
          -2.2665234722819623,
          -2.475460967276822
         ],
         "y": [
          -72.4986,
          -80.11127617906158,
          -79.1821230605457,
          -78.11894951310182,
          -77.03696688743281,
          -76.05342478972014,
          -75.27490526747903,
          -74.78577299091933,
          -74.63903303187557,
          -74.85058694181518,
          -75.3975095719991,
          -76.22053336906788,
          -77.23047093407914,
          -78.31787986106795,
          -79.36492251990711,
          -80.2581355919706,
          -80.90072558127153,
          -81.22305789165812,
          -81.19020281579887,
          -80.80572071096215,
          -80.11127617906158
         ],
         "z": [
          0,
          4.523600503126685,
          5.568517920161259,
          6.229271792156211,
          6.434259184428193,
          6.161266532317425,
          5.439876825597549,
          4.348263832506273,
          3.004720758965817,
          1.5548413442130393,
          0.1557425200334906,
          -1.040961646717936,
          -1.9055896907953687,
          -2.344445747536606,
          -2.3099729536404032,
          -1.8059069712259228,
          -0.8868711708773559,
          0.34754265812779533,
          1.763566623512772,
          3.207752556752447,
          4.523600503126684
         ]
        }
       ],
       "layout": {
        "height": 800,
        "scene": {
         "aspectmode": "data",
         "aspectratio": {
          "x": 1,
          "y": 1,
          "z": 1
         },
         "xaxis": {
          "title": {
           "text": "X"
          },
          "visible": true
         },
         "yaxis": {
          "title": {
           "text": "Y"
          },
          "visible": true
         },
         "zaxis": {
          "title": {
           "text": "Z"
          },
          "visible": true
         }
        },
        "template": {
         "data": {
          "bar": [
           {
            "error_x": {
             "color": "#2a3f5f"
            },
            "error_y": {
             "color": "#2a3f5f"
            },
            "marker": {
             "line": {
              "color": "#E5ECF6",
              "width": 0.5
             },
             "pattern": {
              "fillmode": "overlay",
              "size": 10,
              "solidity": 0.2
             }
            },
            "type": "bar"
           }
          ],
          "barpolar": [
           {
            "marker": {
             "line": {
              "color": "#E5ECF6",
              "width": 0.5
             },
             "pattern": {
              "fillmode": "overlay",
              "size": 10,
              "solidity": 0.2
             }
            },
            "type": "barpolar"
           }
          ],
          "carpet": [
           {
            "aaxis": {
             "endlinecolor": "#2a3f5f",
             "gridcolor": "white",
             "linecolor": "white",
             "minorgridcolor": "white",
             "startlinecolor": "#2a3f5f"
            },
            "baxis": {
             "endlinecolor": "#2a3f5f",
             "gridcolor": "white",
             "linecolor": "white",
             "minorgridcolor": "white",
             "startlinecolor": "#2a3f5f"
            },
            "type": "carpet"
           }
          ],
          "choropleth": [
           {
            "colorbar": {
             "outlinewidth": 0,
             "ticks": ""
            },
            "type": "choropleth"
           }
          ],
          "contour": [
           {
            "colorbar": {
             "outlinewidth": 0,
             "ticks": ""
            },
            "colorscale": [
             [
              0,
              "#0d0887"
             ],
             [
              0.1111111111111111,
              "#46039f"
             ],
             [
              0.2222222222222222,
              "#7201a8"
             ],
             [
              0.3333333333333333,
              "#9c179e"
             ],
             [
              0.4444444444444444,
              "#bd3786"
             ],
             [
              0.5555555555555556,
              "#d8576b"
             ],
             [
              0.6666666666666666,
              "#ed7953"
             ],
             [
              0.7777777777777778,
              "#fb9f3a"
             ],
             [
              0.8888888888888888,
              "#fdca26"
             ],
             [
              1,
              "#f0f921"
             ]
            ],
            "type": "contour"
           }
          ],
          "contourcarpet": [
           {
            "colorbar": {
             "outlinewidth": 0,
             "ticks": ""
            },
            "type": "contourcarpet"
           }
          ],
          "heatmap": [
           {
            "colorbar": {
             "outlinewidth": 0,
             "ticks": ""
            },
            "colorscale": [
             [
              0,
              "#0d0887"
             ],
             [
              0.1111111111111111,
              "#46039f"
             ],
             [
              0.2222222222222222,
              "#7201a8"
             ],
             [
              0.3333333333333333,
              "#9c179e"
             ],
             [
              0.4444444444444444,
              "#bd3786"
             ],
             [
              0.5555555555555556,
              "#d8576b"
             ],
             [
              0.6666666666666666,
              "#ed7953"
             ],
             [
              0.7777777777777778,
              "#fb9f3a"
             ],
             [
              0.8888888888888888,
              "#fdca26"
             ],
             [
              1,
              "#f0f921"
             ]
            ],
            "type": "heatmap"
           }
          ],
          "heatmapgl": [
           {
            "colorbar": {
             "outlinewidth": 0,
             "ticks": ""
            },
            "colorscale": [
             [
              0,
              "#0d0887"
             ],
             [
              0.1111111111111111,
              "#46039f"
             ],
             [
              0.2222222222222222,
              "#7201a8"
             ],
             [
              0.3333333333333333,
              "#9c179e"
             ],
             [
              0.4444444444444444,
              "#bd3786"
             ],
             [
              0.5555555555555556,
              "#d8576b"
             ],
             [
              0.6666666666666666,
              "#ed7953"
             ],
             [
              0.7777777777777778,
              "#fb9f3a"
             ],
             [
              0.8888888888888888,
              "#fdca26"
             ],
             [
              1,
              "#f0f921"
             ]
            ],
            "type": "heatmapgl"
           }
          ],
          "histogram": [
           {
            "marker": {
             "pattern": {
              "fillmode": "overlay",
              "size": 10,
              "solidity": 0.2
             }
            },
            "type": "histogram"
           }
          ],
          "histogram2d": [
           {
            "colorbar": {
             "outlinewidth": 0,
             "ticks": ""
            },
            "colorscale": [
             [
              0,
              "#0d0887"
             ],
             [
              0.1111111111111111,
              "#46039f"
             ],
             [
              0.2222222222222222,
              "#7201a8"
             ],
             [
              0.3333333333333333,
              "#9c179e"
             ],
             [
              0.4444444444444444,
              "#bd3786"
             ],
             [
              0.5555555555555556,
              "#d8576b"
             ],
             [
              0.6666666666666666,
              "#ed7953"
             ],
             [
              0.7777777777777778,
              "#fb9f3a"
             ],
             [
              0.8888888888888888,
              "#fdca26"
             ],
             [
              1,
              "#f0f921"
             ]
            ],
            "type": "histogram2d"
           }
          ],
          "histogram2dcontour": [
           {
            "colorbar": {
             "outlinewidth": 0,
             "ticks": ""
            },
            "colorscale": [
             [
              0,
              "#0d0887"
             ],
             [
              0.1111111111111111,
              "#46039f"
             ],
             [
              0.2222222222222222,
              "#7201a8"
             ],
             [
              0.3333333333333333,
              "#9c179e"
             ],
             [
              0.4444444444444444,
              "#bd3786"
             ],
             [
              0.5555555555555556,
              "#d8576b"
             ],
             [
              0.6666666666666666,
              "#ed7953"
             ],
             [
              0.7777777777777778,
              "#fb9f3a"
             ],
             [
              0.8888888888888888,
              "#fdca26"
             ],
             [
              1,
              "#f0f921"
             ]
            ],
            "type": "histogram2dcontour"
           }
          ],
          "mesh3d": [
           {
            "colorbar": {
             "outlinewidth": 0,
             "ticks": ""
            },
            "type": "mesh3d"
           }
          ],
          "parcoords": [
           {
            "line": {
             "colorbar": {
              "outlinewidth": 0,
              "ticks": ""
             }
            },
            "type": "parcoords"
           }
          ],
          "pie": [
           {
            "automargin": true,
            "type": "pie"
           }
          ],
          "scatter": [
           {
            "fillpattern": {
             "fillmode": "overlay",
             "size": 10,
             "solidity": 0.2
            },
            "type": "scatter"
           }
          ],
          "scatter3d": [
           {
            "line": {
             "colorbar": {
              "outlinewidth": 0,
              "ticks": ""
             }
            },
            "marker": {
             "colorbar": {
              "outlinewidth": 0,
              "ticks": ""
             }
            },
            "type": "scatter3d"
           }
          ],
          "scattercarpet": [
           {
            "marker": {
             "colorbar": {
              "outlinewidth": 0,
              "ticks": ""
             }
            },
            "type": "scattercarpet"
           }
          ],
          "scattergeo": [
           {
            "marker": {
             "colorbar": {
              "outlinewidth": 0,
              "ticks": ""
             }
            },
            "type": "scattergeo"
           }
          ],
          "scattergl": [
           {
            "marker": {
             "colorbar": {
              "outlinewidth": 0,
              "ticks": ""
             }
            },
            "type": "scattergl"
           }
          ],
          "scattermapbox": [
           {
            "marker": {
             "colorbar": {
              "outlinewidth": 0,
              "ticks": ""
             }
            },
            "type": "scattermapbox"
           }
          ],
          "scatterpolar": [
           {
            "marker": {
             "colorbar": {
              "outlinewidth": 0,
              "ticks": ""
             }
            },
            "type": "scatterpolar"
           }
          ],
          "scatterpolargl": [
           {
            "marker": {
             "colorbar": {
              "outlinewidth": 0,
              "ticks": ""
             }
            },
            "type": "scatterpolargl"
           }
          ],
          "scatterternary": [
           {
            "marker": {
             "colorbar": {
              "outlinewidth": 0,
              "ticks": ""
             }
            },
            "type": "scatterternary"
           }
          ],
          "surface": [
           {
            "colorbar": {
             "outlinewidth": 0,
             "ticks": ""
            },
            "colorscale": [
             [
              0,
              "#0d0887"
             ],
             [
              0.1111111111111111,
              "#46039f"
             ],
             [
              0.2222222222222222,
              "#7201a8"
             ],
             [
              0.3333333333333333,
              "#9c179e"
             ],
             [
              0.4444444444444444,
              "#bd3786"
             ],
             [
              0.5555555555555556,
              "#d8576b"
             ],
             [
              0.6666666666666666,
              "#ed7953"
             ],
             [
              0.7777777777777778,
              "#fb9f3a"
             ],
             [
              0.8888888888888888,
              "#fdca26"
             ],
             [
              1,
              "#f0f921"
             ]
            ],
            "type": "surface"
           }
          ],
          "table": [
           {
            "cells": {
             "fill": {
              "color": "#EBF0F8"
             },
             "line": {
              "color": "white"
             }
            },
            "header": {
             "fill": {
              "color": "#C8D4E3"
             },
             "line": {
              "color": "white"
             }
            },
            "type": "table"
           }
          ]
         },
         "layout": {
          "annotationdefaults": {
           "arrowcolor": "#2a3f5f",
           "arrowhead": 0,
           "arrowwidth": 1
          },
          "autotypenumbers": "strict",
          "coloraxis": {
           "colorbar": {
            "outlinewidth": 0,
            "ticks": ""
           }
          },
          "colorscale": {
           "diverging": [
            [
             0,
             "#8e0152"
            ],
            [
             0.1,
             "#c51b7d"
            ],
            [
             0.2,
             "#de77ae"
            ],
            [
             0.3,
             "#f1b6da"
            ],
            [
             0.4,
             "#fde0ef"
            ],
            [
             0.5,
             "#f7f7f7"
            ],
            [
             0.6,
             "#e6f5d0"
            ],
            [
             0.7,
             "#b8e186"
            ],
            [
             0.8,
             "#7fbc41"
            ],
            [
             0.9,
             "#4d9221"
            ],
            [
             1,
             "#276419"
            ]
           ],
           "sequential": [
            [
             0,
             "#0d0887"
            ],
            [
             0.1111111111111111,
             "#46039f"
            ],
            [
             0.2222222222222222,
             "#7201a8"
            ],
            [
             0.3333333333333333,
             "#9c179e"
            ],
            [
             0.4444444444444444,
             "#bd3786"
            ],
            [
             0.5555555555555556,
             "#d8576b"
            ],
            [
             0.6666666666666666,
             "#ed7953"
            ],
            [
             0.7777777777777778,
             "#fb9f3a"
            ],
            [
             0.8888888888888888,
             "#fdca26"
            ],
            [
             1,
             "#f0f921"
            ]
           ],
           "sequentialminus": [
            [
             0,
             "#0d0887"
            ],
            [
             0.1111111111111111,
             "#46039f"
            ],
            [
             0.2222222222222222,
             "#7201a8"
            ],
            [
             0.3333333333333333,
             "#9c179e"
            ],
            [
             0.4444444444444444,
             "#bd3786"
            ],
            [
             0.5555555555555556,
             "#d8576b"
            ],
            [
             0.6666666666666666,
             "#ed7953"
            ],
            [
             0.7777777777777778,
             "#fb9f3a"
            ],
            [
             0.8888888888888888,
             "#fdca26"
            ],
            [
             1,
             "#f0f921"
            ]
           ]
          },
          "colorway": [
           "#636efa",
           "#EF553B",
           "#00cc96",
           "#ab63fa",
           "#FFA15A",
           "#19d3f3",
           "#FF6692",
           "#B6E880",
           "#FF97FF",
           "#FECB52"
          ],
          "font": {
           "color": "#2a3f5f"
          },
          "geo": {
           "bgcolor": "white",
           "lakecolor": "white",
           "landcolor": "#E5ECF6",
           "showlakes": true,
           "showland": true,
           "subunitcolor": "white"
          },
          "hoverlabel": {
           "align": "left"
          },
          "hovermode": "closest",
          "mapbox": {
           "style": "light"
          },
          "paper_bgcolor": "white",
          "plot_bgcolor": "#E5ECF6",
          "polar": {
           "angularaxis": {
            "gridcolor": "white",
            "linecolor": "white",
            "ticks": ""
           },
           "bgcolor": "#E5ECF6",
           "radialaxis": {
            "gridcolor": "white",
            "linecolor": "white",
            "ticks": ""
           }
          },
          "scene": {
           "xaxis": {
            "backgroundcolor": "#E5ECF6",
            "gridcolor": "white",
            "gridwidth": 2,
            "linecolor": "white",
            "showbackground": true,
            "ticks": "",
            "zerolinecolor": "white"
           },
           "yaxis": {
            "backgroundcolor": "#E5ECF6",
            "gridcolor": "white",
            "gridwidth": 2,
            "linecolor": "white",
            "showbackground": true,
            "ticks": "",
            "zerolinecolor": "white"
           },
           "zaxis": {
            "backgroundcolor": "#E5ECF6",
            "gridcolor": "white",
            "gridwidth": 2,
            "linecolor": "white",
            "showbackground": true,
            "ticks": "",
            "zerolinecolor": "white"
           }
          },
          "shapedefaults": {
           "line": {
            "color": "#2a3f5f"
           }
          },
          "ternary": {
           "aaxis": {
            "gridcolor": "white",
            "linecolor": "white",
            "ticks": ""
           },
           "baxis": {
            "gridcolor": "white",
            "linecolor": "white",
            "ticks": ""
           },
           "bgcolor": "#E5ECF6",
           "caxis": {
            "gridcolor": "white",
            "linecolor": "white",
            "ticks": ""
           }
          },
          "title": {
           "x": 0.05
          },
          "xaxis": {
           "automargin": true,
           "gridcolor": "white",
           "linecolor": "white",
           "ticks": "",
           "title": {
            "standoff": 15
           },
           "zerolinecolor": "white",
           "zerolinewidth": 2
          },
          "yaxis": {
           "automargin": true,
           "gridcolor": "white",
           "linecolor": "white",
           "ticks": "",
           "title": {
            "standoff": 15
           },
           "zerolinecolor": "white",
           "zerolinewidth": 2
          }
         }
        },
        "title": {
         "text": "Visualization on the optimal scanning position and direction"
        },
        "width": 1200
       }
      }
     },
     "metadata": {},
     "output_type": "display_data"
    }
   ],
   "source": [
    "# the room id: 39\n",
    "# the ceiling of the room\n",
    "defect_id = 2046\n",
    "robot_id = 1\n",
    "\n",
    "optimal_location, optimal_direction = get_scanning_plan_o1(defect_id, robot_id, gpt_model=\"o1-preview\")\n",
    "visualize_scanning(defect_id, robot_id, optimal_location, optimal_direction)"
   ]
  },
  {
   "cell_type": "code",
   "execution_count": 3,
   "metadata": {},
   "outputs": [],
   "source": [
    "# the room id: 39\n",
    "# the floor of the room\n",
    "defect_id = 3047\n",
    "robot_id = 1\n",
    "\n",
    "optimal_location, optimal_direction = get_scanning_plan_o1(defect_id, robot_id, gpt_model=\"o1-preview\")\n",
    "visualize_scanning(defect_id, robot_id, optimal_location, optimal_direction)"
   ]
  }
 ],
 "metadata": {
  "kernelspec": {
   "display_name": "repairPlan",
   "language": "python",
   "name": "python3"
  },
  "language_info": {
   "codemirror_mode": {
    "name": "ipython",
    "version": 3
   },
   "file_extension": ".py",
   "mimetype": "text/x-python",
   "name": "python",
   "nbconvert_exporter": "python",
   "pygments_lexer": "ipython3",
   "version": "3.9.20"
  }
 },
 "nbformat": 4,
 "nbformat_minor": 2
}
