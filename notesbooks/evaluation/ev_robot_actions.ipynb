{
 "cells": [
  {
   "cell_type": "code",
   "execution_count": 1,
   "metadata": {},
   "outputs": [],
   "source": [
    "from evaluation.robot_seletion_evl import evaluate_robot_actions, requests"
   ]
  },
  {
   "cell_type": "code",
   "execution_count": 2,
   "metadata": {},
   "outputs": [
    {
     "name": "stdout",
     "output_type": "stream",
     "text": [
      "Evaluating Robot Actions for direct_requests:\n",
      "\n",
      "Test 1: The floor needs to be wiped with cleaning solution\n",
      "Predicted Actions: ['loadArm(sprayGun, cleaningSolution)', 'spraySurface(3047)', 'unloadArm()', 'loadArm(wiper)', 'wipeSurface(3047)', 'unloadArm()']\n",
      "Ground Truth Actions: ['loadArm(sprayGun, cleaningSolution)', 'spraySurface(3047)', 'unloadArm()', 'loadArm(wiper)', 'wipeSurface(3047)', 'unloadArm()']\n",
      "Repair Plan Result: Correct\n",
      "\n",
      "Test 2: The door handle needs to be disinfected\n",
      "Predicted Actions: ['loadArm(sprayGun, disinfectant)', 'spraySurface(5059)', 'unloadArm()', 'loadArm(wiper)', 'wipeSurface(5059)', 'unloadArm()']\n",
      "Ground Truth Actions: ['loadArm(sprayGun, disinfectant)', 'spraySurface(5059)', 'unloadArm()', 'loadArm(wiper)', 'wipeSurface(5059)', 'unloadArm()']\n",
      "Repair Plan Result: Correct\n",
      "\n",
      "Test 3: The wall needs to be painted\n",
      "Predicted Actions: ['loadArm(sprayGun, paint)', 'spraySurface(1082)', 'unloadArm()', 'loadArm(roller)', 'spreadPaint(1082)', 'unloadArm()']\n",
      "Ground Truth Actions: ['loadArm(sprayGun, paint)', 'spraySurface(1082)', 'unloadArm()', 'loadArm(roller)', 'rollSurface(1082)', 'unloadArm()']\n",
      "Repair Plan Result: Incorrect\n",
      "\n",
      "Test 4: The crack on the wall needs to be filled with filler\n",
      "Predicted Actions: ['loadArm(sprayGun, filler)', 'spraySurface(1082)', 'unloadArm()', 'loadArm(scraper)', 'spreadFiller(1082)', 'unloadArm()']\n",
      "Ground Truth Actions: ['loadArm(sprayGun, filler)', 'spraySurface(1082)', 'unloadArm()']\n",
      "Repair Plan Result: Incorrect\n",
      "\n",
      "Test 5: The trashes on the floor need to be collected\n",
      "Predicted Actions: ['loadArm(gripper)', 'scanTrashes(3047)', 'collectTrashes()', 'placeInTrashBag()', 'unloadArm()']\n",
      "Ground Truth Actions: ['loadArm(gripper)', 'scanTrashes(3047)', 'collectTrashes()', 'placeInTrashBag()', 'unloadArm()']\n",
      "Repair Plan Result: Correct\n",
      "\n",
      "direct_requests Robot Actions Accuracy: 60.00%\n",
      "\n"
     ]
    }
   ],
   "source": [
    "evaluate_robot_actions(requests[\"direct_requests\"], \"direct_requests\")\n"
   ]
  },
  {
   "cell_type": "code",
   "execution_count": 3,
   "metadata": {},
   "outputs": [
    {
     "name": "stdout",
     "output_type": "stream",
     "text": [
      "Evaluating Robot Actions for indirect_requests:\n",
      "\n",
      "Test 1: I dropped coffee on the floor\n",
      "Predicted Actions: ['loadArm(sprayGun, cleaningSolution)', 'spraySurface(3047)', 'unloadArm()', 'loadArm(wiper)', 'wipeSurface(3047)', 'unloadArm()']\n",
      "Ground Truth Actions: ['loadArm(sprayGun, cleaning Solution)', 'spraySurface(3047)', 'unloadArm()', 'loadArm(wiper)', 'wipeSurface(3047)', 'unloadArm()']\n",
      "Repair Plan Result: Incorrect\n",
      "\n",
      "Test 2: The door handle is contaminated with germs\n",
      "Predicted Actions: ['loadArm(sprayGun, disinfectant)', 'spraySurface(5059)', 'unloadArm()', 'loadArm(wiper)', 'wipeSurface(5059)', 'unloadArm()']\n",
      "Ground Truth Actions: ['loadArm(sprayGun, cleaning Solution)', 'spraySurface(5059)', 'unloadArm()', 'loadArm(wiper)', 'wipeSurface(5059)', 'unloadArm()']\n",
      "Repair Plan Result: Incorrect\n",
      "\n",
      "Test 3: The paint on the wall is worn out\n",
      "Predicted Actions: ['loadArm(sprayGun, paint)', 'spraySurface(1082)', 'unloadArm()', 'loadArm(roller, paint)', 'spreadPaint(1082)', 'unloadArm()']\n",
      "Ground Truth Actions: ['loadArm(sprayGun, paint)', 'spraySurface(1082)', 'unloadArm()', 'loadArm(roller, paint)', 'rollSurface(1082)', 'unloadArm()']\n",
      "Repair Plan Result: Incorrect\n",
      "\n",
      "Test 4: There is a crack on the wall\n",
      "Predicted Actions: ['loadArm(sprayGun, filler)', 'spraySurface(1082)', 'unloadArm()', 'loadArm(scraper)', 'spreadFiller(1082)', 'unloadArm()']\n",
      "Ground Truth Actions: ['loadArm(scrapper, filler)', 'polishSurface(1082)', 'unloadArm()']\n",
      "Repair Plan Result: Incorrect\n",
      "\n",
      "Test 5: There are trashes on the floor\n",
      "Predicted Actions: ['scanTrashes(3047)', 'loadArm(gripper)', 'collectTrashes()', 'placeInTrashBag()', 'unloadArm()']\n",
      "Ground Truth Actions: ['loadArm(gripper)', 'scanTrashes(3047)', 'collectTrashes()', 'placeInTrashBag()', 'unloadArm()']\n",
      "Repair Plan Result: Incorrect\n",
      "\n",
      "indirect_requests Robot Actions Accuracy: 0.00%\n",
      "\n"
     ]
    }
   ],
   "source": [
    "evaluate_robot_actions(requests[\"indirect_requests\"], \"indirect_requests\")"
   ]
  },
  {
   "cell_type": "code",
   "execution_count": 2,
   "metadata": {},
   "outputs": [
    {
     "name": "stdout",
     "output_type": "stream",
     "text": [
      "Evaluating Robot Actions for different_height_requests:\n",
      "\n",
      "Test 1: The crack on the ceiling needs to be filled\n",
      "Predicted Actions: ['loadArm(sprayGun, filler)', 'spraySurface(2046)', 'unloadArm()', 'loadArm(scraper)', 'spreadFiller(2046)', 'unloadArm()']\n",
      "Test 2: The ceiling needs to be painted\n",
      "Predicted Actions: ['loadArm(sprayGun, paint)', 'spraySurface(2046)', 'unloadArm()', 'loadArm(roller)', 'spreadPaint(2046)', 'unloadArm()']\n"
     ]
    }
   ],
   "source": [
    "evaluate_robot_actions(requests[\"different_height_requests\"], \"different_height_requests\")"
   ]
  },
  {
   "cell_type": "code",
   "execution_count": 2,
   "metadata": {},
   "outputs": [
    {
     "name": "stdout",
     "output_type": "stream",
     "text": [
      "Evaluating Robot Actions for multiple_tasks_requests:\n",
      "\n",
      "Test 1: The wall needs to be filled and painted\n",
      "Predicted Actions: ['loadArm(sprayGun, filler)', 'spraySurface(1082)', 'unloadArm()', 'loadArm(roller, paint)', 'spreadPaint(1082)', 'unloadArm()']\n",
      "Test 2: The trash on the floor needs to be collected and then the wall needs to be painted\n",
      "Predicted Actions: ['scanTrashes(3047)', 'loadArm(gripper)', 'collectTrashes()', 'placeInTrashBag()', 'unloadArm()', 'loadArm(sprayGun, paint)', 'spraySurface(1082)', 'unloadArm()']\n",
      "Test 3: All windows in the room need to be cleaned and disinfected\n",
      "Predicted Actions: ['loadArm(sprayGun, cleaningSolution)', 'spraySurface(4019)', 'spraySurface(4036)', 'unloadArm()', 'loadArm(sprayGun, disinfectant)', 'spraySurface(4019)', 'spraySurface(4036)', 'unloadArm()']\n"
     ]
    }
   ],
   "source": [
    "evaluate_robot_actions(requests[\"multiple_tasks_requests\"], \"multiple_tasks_requests\")\n"
   ]
  }
 ],
 "metadata": {
  "kernelspec": {
   "display_name": "repairPlan",
   "language": "python",
   "name": "python3"
  },
  "language_info": {
   "codemirror_mode": {
    "name": "ipython",
    "version": 3
   },
   "file_extension": ".py",
   "mimetype": "text/x-python",
   "name": "python",
   "nbconvert_exporter": "python",
   "pygments_lexer": "ipython3",
   "version": "3.9.20"
  }
 },
 "nbformat": 4,
 "nbformat_minor": 2
}
