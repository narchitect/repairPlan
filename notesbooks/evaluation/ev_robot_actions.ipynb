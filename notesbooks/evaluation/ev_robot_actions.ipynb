{
 "cells": [
  {
   "cell_type": "code",
   "execution_count": 2,
   "metadata": {},
   "outputs": [],
   "source": [
    "from evaluation.robot_evls import evaluate_robot_actions, requests\n",
    "from planner.planner_repair_o1 import get_repair_plan\n"
   ]
  },
  {
   "cell_type": "code",
   "execution_count": 2,
   "metadata": {},
   "outputs": [
    {
     "name": "stdout",
     "output_type": "stream",
     "text": [
      "Evaluating Robot Actions for direct_requests:\n",
      "\n",
      "Test 1: The floor needs to be wiped with cleaning solution\n",
      "Predicted Actions: ['loadArm(sprayGun, cleaningSolution)', 'spraySurface(3047)', 'unloadArm()', 'loadArm(wiper)', 'wipeSurface(3047)', 'unloadArm()']\n",
      "Ground Truth Actions: ['loadArm(sprayGun, cleaningSolution)', 'spraySurface(3047)', 'unloadArm()', 'loadArm(wiper)', 'wipeSurface(3047)', 'unloadArm()']\n",
      "Repair Plan Result: Correct\n",
      "\n",
      "Test 2: The door handle needs to be disinfected\n",
      "Predicted Actions: ['loadArm(sprayGun, disinfectant)', 'spraySurface(5059)', 'unloadArm()', 'loadArm(wiper)', 'wipeSurface(5059)', 'unloadArm()']\n",
      "Ground Truth Actions: ['loadArm(sprayGun, disinfectant)', 'spraySurface(5059)', 'unloadArm()', 'loadArm(wiper)', 'wipeSurface(5059)', 'unloadArm()']\n",
      "Repair Plan Result: Correct\n",
      "\n",
      "Test 3: The wall needs to be painted\n",
      "Predicted Actions: ['loadArm(sprayGun, paint)', 'spraySurface(1082)', 'unloadArm()', 'loadArm(roller)', 'spreadPaint(1082)', 'unloadArm()']\n",
      "Ground Truth Actions: ['loadArm(sprayGun, paint)', 'spraySurface(1082)', 'unloadArm()', 'loadArm(roller)', 'spreadPaint(1082)', 'unloadArm()']\n",
      "Repair Plan Result: Correct\n",
      "\n",
      "Test 4: The crack on the wall needs to be filled with filler\n",
      "Predicted Actions: ['loadArm(sprayGun, filler)', 'spraySurface(1082)', 'unloadArm()', 'loadArm(scraper)', 'spreadFiller(1082)', 'unloadArm()']\n",
      "Ground Truth Actions: ['loadArm(sprayGun, filler)', 'spraySurface(1082)', 'unloadArm()', 'loadArm(scraper)', 'spreadFiller(1082)', 'unloadArm()']\n",
      "Repair Plan Result: Correct\n",
      "\n",
      "Test 5: The trashes on the floor need to be collected\n",
      "Predicted Actions: ['scanTrashes(3047)', 'loadArm(gripper)', 'collectTrashes()', 'placeInTrashBag()', 'unloadArm()']\n",
      "Ground Truth Actions: ['scanTrashes(3047)', 'loadArm(gripper)', 'collectTrashes()', 'placeInTrashBag()', 'unloadArm()']\n",
      "Repair Plan Result: Correct\n",
      "\n",
      "direct_requests Robot Actions Accuracy: 100.00%\n",
      "\n"
     ]
    }
   ],
   "source": [
    "evaluate_robot_actions(requests[\"direct_requests\"], \"direct_requests\")\n"
   ]
  },
  {
   "cell_type": "code",
   "execution_count": 3,
   "metadata": {},
   "outputs": [
    {
     "name": "stdout",
     "output_type": "stream",
     "text": [
      "Evaluating Robot Actions for indirect_requests:\n",
      "\n",
      "Test 1: I dropped coffee on the floor\n",
      "Predicted Actions: ['loadArm(sprayGun, cleaningSolution)', 'spraySurface(3047)', 'unloadArm()', 'loadArm(wiper)', 'wipeSurface(3047)', 'unloadArm()']\n",
      "Ground Truth Actions: ['loadArm(sprayGun, cleaningSolution)', 'spraySurface(3047)', 'unloadArm()', 'loadArm(wiper)', 'wipeSurface(3047)', 'unloadArm()']\n",
      "Repair Plan Result: Correct\n",
      "\n",
      "Test 2: The door handle is contaminated with germs\n",
      "Predicted Actions: ['loadArm(sprayGun, disinfectant)', 'spraySurface(5059)', 'unloadArm()', 'loadArm(wiper)', 'wipeSurface(5059)', 'unloadArm()']\n",
      "Ground Truth Actions: ['loadArm(sprayGun, disinfectant)', 'spraySurface(5059)', 'unloadArm()', 'loadArm(wiper)', 'wipeSurface(5059)', 'unloadArm()']\n",
      "Repair Plan Result: Correct\n",
      "\n",
      "Test 3: The paint on the wall is worn out\n",
      "Predicted Actions: ['loadArm(sprayGun, paint)', 'spraySurface(1082)', 'unloadArm()', 'loadArm(roller)', 'spreadPaint(1082)', 'unloadArm()']\n",
      "Ground Truth Actions: ['loadArm(sprayGun, paint)', 'spraySurface(1082)', 'unloadArm()', 'loadArm(roller)', 'spreadPaint(1082)', 'unloadArm()']\n",
      "Repair Plan Result: Correct\n",
      "\n",
      "Test 4: There is a crack on the wall\n",
      "Predicted Actions: ['loadArm(sprayGun, filler)', 'spraySurface(1082)', 'unloadArm()', 'loadArm(scraper)', 'spreadFiller(1082)', 'unloadArm()']\n",
      "Ground Truth Actions: ['loadArm(sprayGun, filler)', 'spraySurface(1082)', 'unloadArm()', 'loadArm(scraper)', 'spreadFiller(1082)', 'unloadArm()']\n",
      "Repair Plan Result: Correct\n",
      "\n",
      "Test 5: There are trashes on the floor\n",
      "Predicted Actions: ['scanTrashes(3047)', 'collectTrashes()', 'placeInTrashBag()', 'unloadArm()']\n",
      "Ground Truth Actions: ['scanTrashes(3047)', 'loadArm(gripper)', 'collectTrashes()', 'placeInTrashBag()', 'unloadArm()']\n",
      "Repair Plan Result: Incorrect\n",
      "\n",
      "indirect_requests Robot Actions Accuracy: 80.00%\n",
      "\n"
     ]
    }
   ],
   "source": [
    "evaluate_robot_actions(requests[\"indirect_requests\"], \"indirect_requests\")"
   ]
  },
  {
   "cell_type": "code",
   "execution_count": 4,
   "metadata": {},
   "outputs": [
    {
     "name": "stdout",
     "output_type": "stream",
     "text": [
      "Evaluating Robot Actions for multiple_tasks_requests:\n",
      "\n",
      "Test 1: The wall needs to be filled and painted\n",
      "Predicted Actions: ['loadArm(sprayGun, filler)', 'spraySurface(1082)', 'unloadArm()', 'loadArm(scraper)', 'spreadFiller(1082)', 'unloadArm()', 'loadArm(sprayGun, paint)', 'spraySurface(1082)', 'unloadArm()', 'loadArm(roller)', 'spreadPaint(1082)', 'unloadArm()']\n",
      "Ground Truth Actions: ['loadArm(sprayGun, filler)', 'spraySurface(1082)', 'unloadArm()', 'loadArm(scraper)', 'spreadFiller(1082)', 'unloadArm()', 'loadArm(sprayGun, paint)', 'spraySurface(1082)', 'unloadArm()', 'loadArm(roller)', 'spreadPaint(1082)', 'unloadArm()']\n",
      "Repair Plan Result: Correct\n",
      "\n",
      "Test 2: The trash on the floor needs to be collected and then the wall needs to be painted\n",
      "Predicted Actions: ['scanTrashes(3047)', 'loadArm(gripper)', 'collectTrashes()', 'placeInTrashBag()', 'unloadArm()', 'loadArm(sprayGun, paint)', 'spraySurface(1082)', 'unloadArm()']\n",
      "Ground Truth Actions: ['scanTrashes(3047)', 'loadArm(gripper)', 'collectTrashes()', 'placeInTrashBag()', 'unloadArm()', 'loadArm(sprayGun, paint)', 'spraySurface(1082)', 'unloadArm()', 'loadArm(roller)', 'rollSurface(1082)', 'unloadArm()']\n",
      "Repair Plan Result: Incorrect\n",
      "\n",
      "Test 3: All windows in the room need to be cleaned and disinfected\n",
      "Predicted Actions: ['loadArm(sprayGun, cleaningSolution)', 'spraySurface(4019)', 'spraySurface(4036)', 'unloadArm()', 'loadArm(sprayGun, disinfectant)', 'spraySurface(4019)', 'spraySurface(4036)', 'unloadArm()', 'loadArm(wiper)', 'wipeSurface(4019)', 'wipeSurface(4036)', 'unloadArm()']\n",
      "Ground Truth Actions: ['loadArm(sprayGun, cleaningSolution)', 'spraySurface(4019)', 'spraySurface(4036)', 'unloadArm()', 'loadArm(sprayGun, disinfectant)', 'spraySurface(4019)', 'spraySurface(4036)', 'unloadArm()', 'loadArm(wiper)', 'wipeSurface(4019)', 'wipeSurface(4036)', 'unloadArm()']\n",
      "Repair Plan Result: Correct\n",
      "\n",
      "multiple_tasks_requests Robot Actions Accuracy: 66.67%\n",
      "\n"
     ]
    }
   ],
   "source": [
    "evaluate_robot_actions(requests[\"multiple_tasks_requests\"], \"multiple_tasks_requests\")\n"
   ]
  },
  {
   "cell_type": "code",
   "execution_count": 3,
   "metadata": {},
   "outputs": [
    {
     "name": "stdout",
     "output_type": "stream",
     "text": [
      "['loadArm(sprayGun, paint)', 'spraySurface(1118)', 'spreadPaint(1118)', 'spraySurface(1082)', 'spreadPaint(1082)', 'spraySurface(1072)', 'spreadPaint(1072)', 'spraySurface(1040)', 'spreadPaint(1040)', 'unloadArm()']\n"
     ]
    }
   ],
   "source": [
    "#additional mutiple task requests\n",
    "user_input = \"the surfaces in the room need to be painted again\"\n",
    "defect_ids = [1118, 1082, 1072, 1040, 3047, 2046]\n",
    "robot_id = 3\n",
    "action_sequence = get_repair_plan(user_input, defect_ids, robot_id, gpt_model=\"gpt-4o\")\n",
    "print(action_sequence)"
   ]
  }
 ],
 "metadata": {
  "kernelspec": {
   "display_name": "repairPlan",
   "language": "python",
   "name": "python3"
  },
  "language_info": {
   "codemirror_mode": {
    "name": "ipython",
    "version": 3
   },
   "file_extension": ".py",
   "mimetype": "text/x-python",
   "name": "python",
   "nbconvert_exporter": "python",
   "pygments_lexer": "ipython3",
   "version": "3.9.20"
  }
 },
 "nbformat": 4,
 "nbformat_minor": 2
}
