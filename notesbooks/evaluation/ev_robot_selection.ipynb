{
 "cells": [
  {
   "cell_type": "code",
   "execution_count": 2,
   "metadata": {},
   "outputs": [],
   "source": [
    "from evaluation.robot_seletion_evl import evaluate_robot_selection, requests\n",
    "# print(requests.keys())\n"
   ]
  },
  {
   "cell_type": "code",
   "execution_count": 3,
   "metadata": {},
   "outputs": [
    {
     "name": "stdout",
     "output_type": "stream",
     "text": [
      "Evaluating Robot Selection for direct_requests:\n",
      "\n",
      "Test 1: The floor needs to be wiped with cleaning solution\n",
      "Predicted Robot ID: 1\n",
      "Ground Truth Robot ID: 1\n",
      "Robot Selection Result: Correct\n",
      "\n",
      "Test 2: The door handle needs to be disinfected\n",
      "Predicted Robot ID: 2\n",
      "Ground Truth Robot ID: 2\n",
      "Robot Selection Result: Correct\n",
      "\n",
      "Test 3: The wall needs to be painted\n",
      "Predicted Robot ID: 7\n",
      "Ground Truth Robot ID: 3\n",
      "Robot Selection Result: Incorrect\n",
      "\n",
      "Test 4: The crack on the wall needs to be filled with filler\n",
      "Predicted Robot ID: 4\n",
      "Ground Truth Robot ID: 4\n",
      "Robot Selection Result: Correct\n",
      "\n",
      "Test 5: The trashes on the floor need to be collected\n",
      "Predicted Robot ID: 5\n",
      "Ground Truth Robot ID: 5\n",
      "Robot Selection Result: Correct\n",
      "\n",
      "direct_requests Robot Selection Accuracy: 80.00%\n",
      "\n"
     ]
    }
   ],
   "source": [
    "evaluate_robot_selection(requests[\"direct_requests\"], \"direct_requests\", gpt_model=\"gpt-4o\")"
   ]
  },
  {
   "cell_type": "code",
   "execution_count": 4,
   "metadata": {},
   "outputs": [
    {
     "name": "stdout",
     "output_type": "stream",
     "text": [
      "Evaluating Robot Selection for indirect_requests:\n",
      "\n",
      "Test 1: I dropped coffee on the floor\n",
      "Predicted Robot ID: 1\n",
      "Ground Truth Robot ID: 1\n",
      "Robot Selection Result: Correct\n",
      "\n",
      "Test 2: The door handle is contaminated with germs\n",
      "Predicted Robot ID: 2\n",
      "Ground Truth Robot ID: 2\n",
      "Robot Selection Result: Correct\n",
      "\n",
      "Test 3: The paint on the wall is worn out\n",
      "Predicted Robot ID: 3\n",
      "Ground Truth Robot ID: 3\n",
      "Robot Selection Result: Correct\n",
      "\n",
      "Test 4: There is a crack on the wall\n",
      "Predicted Robot ID: 6\n",
      "Ground Truth Robot ID: 4\n",
      "Robot Selection Result: Incorrect\n",
      "\n",
      "Test 5: There are trashes on the floor\n",
      "Predicted Robot ID: 5\n",
      "Ground Truth Robot ID: 5\n",
      "Robot Selection Result: Correct\n",
      "\n",
      "indirect_requests Robot Selection Accuracy: 80.00%\n",
      "\n"
     ]
    }
   ],
   "source": [
    "evaluate_robot_selection(requests[\"indirect_requests\"], \"indirect_requests\", gpt_model=\"gpt-4o\")"
   ]
  },
  {
   "cell_type": "code",
   "execution_count": 4,
   "metadata": {},
   "outputs": [
    {
     "name": "stdout",
     "output_type": "stream",
     "text": [
      "Evaluating Robot Selection for different_height_requests:\n",
      "\n",
      "Test 1: The crack on the ceiling needs to be filled\n",
      "Predicted Robot ID: 6\n",
      "Ground Truth Robot ID: 6\n",
      "Robot Selection Result: Correct\n",
      "\n",
      "Test 2: The ceiling needs to be painted\n",
      "Predicted Robot ID: 7\n",
      "Ground Truth Robot ID: 7\n",
      "Robot Selection Result: Correct\n",
      "\n",
      "different_height_requests Robot Selection Accuracy: 100.00%\n",
      "\n"
     ]
    }
   ],
   "source": [
    "evaluate_robot_selection(requests[\"different_height_requests\"], \"different_height_requests\", gpt_model=\"gpt-4o\")"
   ]
  },
  {
   "cell_type": "code",
   "execution_count": null,
   "metadata": {},
   "outputs": [],
   "source": [
    "# evaluate_robot_selection(requests[\"multiple_tasks_requests\"], \"multiple_tasks_requests\", gpt_model=\"gpt-4o\")\n"
   ]
  }
 ],
 "metadata": {
  "kernelspec": {
   "display_name": "repairPlan",
   "language": "python",
   "name": "python3"
  },
  "language_info": {
   "codemirror_mode": {
    "name": "ipython",
    "version": 3
   },
   "file_extension": ".py",
   "mimetype": "text/x-python",
   "name": "python",
   "nbconvert_exporter": "python",
   "pygments_lexer": "ipython3",
   "version": "3.9.20"
  }
 },
 "nbformat": 4,
 "nbformat_minor": 2
}
