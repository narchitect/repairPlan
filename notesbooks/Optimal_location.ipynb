{
 "cells": [
  {
   "cell_type": "code",
   "id": "initial_id",
   "metadata": {
    "collapsed": true,
    "ExecuteTime": {
     "end_time": "2024-11-05T19:02:01.773171Z",
     "start_time": "2024-11-05T19:01:51.340152Z"
    }
   },
   "source": [
    "from planner.planner_optimalLoation import find_optimal_location\n",
    "from utils.get_room_nodes import get_associated_nodes\n",
    "defect_node_id = '537'\n",
    "robot_ids = ['1', '5', '7']\n",
    "\n",
    "user_input = \"there is a stain on the ceiling in room id 8. the robot is currently in room id 3\"\n",
    "env_info = get_associated_nodes(defect_node_id)\n",
    "camera_FOV = '90'\n",
    "optimal_location = find_optimal_location(env_info, camera_FOV)\n",
    "\n",
    "print(optimal_location)"
   ],
   "outputs": [
    {
     "name": "stdout",
     "output_type": "stream",
     "text": [
      "### Chain of Thought:\n",
      "\n",
      "1. **Understanding the Environment**:\n",
      "   - The defect is located on the floor at coordinates `{'x': -26.1239, 'y': -10.06045, 'z': 0.0}`.\n",
      "   - The room (ID: 119) has a size of `{'x': 8.168, 'y': 5.181, 'z': 3.7}` and is bounded by walls, a ceiling, and a door.\n",
      "   - The robot's camera has a 90-degree Field of View (FOV), meaning it can capture a wide area but needs to be positioned carefully to cover the defect and avoid obstacles.\n",
      "\n",
      "2. **Defining the Problem**:\n",
      "   - The goal is to find the optimal location for the robot to scan the defect on the floor.\n",
      "   - The robot should be positioned such that the defect is within the camera's FOV, and the robot should avoid obstacles like walls and doors.\n",
      "\n",
      "3. **Analyzing the Defect Location**:\n",
      "   - The defect is located at `{'x': -26.1239, 'y': -10.06045, 'z': 0.0}`.\n",
      "   - The defect is on the floor, so the robot's camera should be positioned at a height above the floor (z > 0) to capture the defect.\n",
      "\n",
      "4. **Field of View (FOV) Consideration**:\n",
      "   - The camera has a 90-degree FOV, which means it can cover a wide area in front of it. The robot should be positioned such that the defect is within this FOV.\n",
      "   - The FOV can be visualized as a cone extending from the camera's position. The camera should be placed at a distance where the defect is within this cone.\n",
      "\n",
      "5. **Avoiding Obstacles**:\n",
      "   - The room has walls at the following locations:\n",
      "     - Wall 1: `{'x': -26.1239, 'y': -7.47, 'z': 1.85}` (north wall)\n",
      "     - Wall 2: `{'x': -26.1239, 'y': -12.6509, 'z': 1.2385}` (south wall)\n",
      "     - Wall 3: `{'x': -22.04, 'y': -10.06045, 'z': 1.85}` (east wall)\n",
      "     - Wall 4: `{'x': -30.2078, 'y': -10.06045, 'z': 1.85}` (west wall)\n",
      "   - The robot should avoid being too close to these walls to ensure the camera has a clear view of the defect.\n",
      "\n",
      "6. **Calculating the Optimal Position**:\n",
      "   - The robot should be positioned at a height above the floor to capture the defect. A reasonable height for the camera would be around 1.5 meters (z = 1.5), which is typical for scanning floors.\n",
      "   - The robot should be positioned at a distance from the defect such that the defect is within the camera's FOV. Given the 90-degree FOV, the robot should be positioned at a distance where the defect is within a 45-degree angle from the camera's centerline.\n",
      "   - The robot should be positioned along the y-axis (north-south direction) to avoid the east and west walls. A position along the y-axis, slightly north or south of the defect, would provide a clear view.\n",
      "\n",
      "7. **Choosing the Optimal Location**:\n",
      "   - The robot should be positioned at a height of 1.5 meters (z = 1.5).\n",
      "   - The robot should be positioned along the y-axis, slightly north or south of the defect. A position 1 meter north of the defect (y = -9.06045) would provide a clear view.\n",
      "   - The robot should be positioned at the same x-coordinate as the defect (x = -26.1239) to ensure the defect is within the camera's FOV.\n",
      "\n",
      "### Final Calculation:\n",
      "- The optimal location for the robot is:\n",
      "  - x = -26.1239 (same as the defect)\n",
      "  - y = -9.06045 (1 meter north of the defect)\n",
      "  - z = 1.5 (height above the floor)\n",
      "\n",
      "### Output in JSON Format:\n",
      "```json\n",
      "{\n",
      "  \"optimal_location\": {\n",
      "    \"x\": -26.1239,\n",
      "    \"y\": -9.06045,\n",
      "    \"z\": 1.5\n",
      "  }\n",
      "}\n",
      "```\n"
     ]
    }
   ],
   "execution_count": 1
  },
  {
   "metadata": {
    "ExecuteTime": {
     "end_time": "2024-11-05T19:02:43.227306Z",
     "start_time": "2024-11-05T19:02:33.682128Z"
    }
   },
   "cell_type": "code",
   "source": [
    "optimal_location = find_optimal_location(env_info, camera_FOV)\n",
    "\n",
    "print(optimal_location)"
   ],
   "id": "a6c0294da675f28c",
   "outputs": [
    {
     "name": "stdout",
     "output_type": "stream",
     "text": [
      "### Chain of Thought:\n",
      "\n",
      "1. **Understanding the Environment**:\n",
      "   - The defect is located on the floor at coordinates `{'x': -26.1239, 'y': -10.06045, 'z': 0.0}`.\n",
      "   - The room (ID: 119) has a size of `{'x': 8.168, 'y': 5.181, 'z': 3.7}` and is bounded by walls, a ceiling, and a door.\n",
      "   - The robot's camera has a 90-degree Field of View (FOV), meaning it can capture a wide area but needs to be positioned carefully to cover the defect and avoid obstacles.\n",
      "\n",
      "2. **Defining the Problem**:\n",
      "   - The goal is to find the optimal location for the robot to scan the defect on the floor.\n",
      "   - The robot should be positioned such that the defect is within the camera's FOV, and the robot should avoid obstacles like walls and doors.\n",
      "\n",
      "3. **Analyzing the Defect Location**:\n",
      "   - The defect is located at `{'x': -26.1239, 'y': -10.06045, 'z': 0.0}`.\n",
      "   - The defect is on the floor, so the robot's camera should be positioned at a height above the floor (z > 0) to capture the defect.\n",
      "\n",
      "4. **Field of View (FOV) Consideration**:\n",
      "   - The camera has a 90-degree FOV, which means it can cover a wide area in front of it. The robot should be positioned such that the defect is within this FOV.\n",
      "   - The FOV can be visualized as a cone extending from the camera's position. The camera should be placed at a distance where the defect is within this cone.\n",
      "\n",
      "5. **Avoiding Obstacles**:\n",
      "   - The room has walls at the following locations:\n",
      "     - Wall 1: `{'x': -26.1239, 'y': -7.47, 'z': 1.85}` (north wall)\n",
      "     - Wall 2: `{'x': -26.1239, 'y': -12.6509, 'z': 1.2385}` (south wall)\n",
      "     - Wall 3: `{'x': -22.04, 'y': -10.06045, 'z': 1.85}` (east wall)\n",
      "     - Wall 4: `{'x': -30.2078, 'y': -10.06045, 'z': 1.85}` (west wall)\n",
      "   - The robot should avoid being too close to these walls to ensure the camera has a clear view of the defect.\n",
      "\n",
      "6. **Calculating the Optimal Position**:\n",
      "   - The robot should be positioned at a height above the floor to capture the defect. A reasonable height for the camera would be around 1.5 meters (z = 1.5), which is typical for scanning floors.\n",
      "   - The robot should be positioned at a distance from the defect such that the defect is within the camera's FOV. Given the 90-degree FOV, the robot should be positioned at a distance where the defect is within a 45-degree angle from the camera's centerline.\n",
      "   - The robot should be positioned along the y-axis (north-south direction) to avoid the east and west walls. A position along the y-axis, slightly north or south of the defect, would provide a clear view.\n",
      "\n",
      "7. **Choosing the Optimal Location**:\n",
      "   - The robot should be positioned at a height of 1.5 meters (z = 1.5).\n",
      "   - The robot should be positioned along the y-axis, slightly north or south of the defect. A position 1 meter north of the defect (y = -9.06045) would provide a clear view.\n",
      "   - The robot should be positioned at the same x-coordinate as the defect (x = -26.1239) to ensure the defect is within the camera's FOV.\n",
      "\n",
      "### Final Calculation:\n",
      "- The optimal location for the robot is:\n",
      "  - x = -26.1239 (same as the defect)\n",
      "  - y = -9.06045 (1 meter north of the defect)\n",
      "  - z = 1.5 (height above the floor)\n",
      "\n",
      "### Output in JSON Format:\n",
      "```json\n",
      "{\n",
      "  \"optimal_location\": {\n",
      "    \"x\": -26.1239,\n",
      "    \"y\": -9.06045,\n",
      "    \"z\": 1.5\n",
      "  }\n",
      "}\n",
      "```\n"
     ]
    }
   ],
   "execution_count": 2
  },
  {
   "metadata": {},
   "cell_type": "code",
   "outputs": [],
   "execution_count": null,
   "source": "",
   "id": "f935a546e4f67fb3"
  }
 ],
 "metadata": {
  "kernelspec": {
   "display_name": "Python 3",
   "language": "python",
   "name": "python3"
  },
  "language_info": {
   "codemirror_mode": {
    "name": "ipython",
    "version": 2
   },
   "file_extension": ".py",
   "mimetype": "text/x-python",
   "name": "python",
   "nbconvert_exporter": "python",
   "pygments_lexer": "ipython2",
   "version": "2.7.6"
  }
 },
 "nbformat": 4,
 "nbformat_minor": 5
}
