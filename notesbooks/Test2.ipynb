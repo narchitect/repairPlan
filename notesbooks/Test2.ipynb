{
 "cells": [
  {
   "metadata": {
    "ExecuteTime": {
     "end_time": "2024-10-29T19:26:49.097754Z",
     "start_time": "2024-10-29T19:26:48.843836Z"
    }
   },
   "cell_type": "code",
   "source": [
    "from planner2_ChainOfThought import (load_scene_graph, generate_prompt, get_navigation_plan)\n",
    "from robots import robots"
   ],
   "id": "initial_id",
   "outputs": [],
   "execution_count": 1
  },
  {
   "metadata": {
    "ExecuteTime": {
     "end_time": "2024-10-29T19:26:49.106449Z",
     "start_time": "2024-10-29T19:26:49.098794Z"
    }
   },
   "cell_type": "code",
   "source": [
    "scene_graph = load_scene_graph(\"/Users/nayunkim/Documents/GitHub/repairPlan/data/sceneGraphs/3D_Scene_Graph_large_withCOR.json\")\n",
    "prompt = generate_prompt(scene_graph, robots)"
   ],
   "id": "8fa3490f396a07af",
   "outputs": [],
   "execution_count": 2
  },
  {
   "metadata": {
    "ExecuteTime": {
     "end_time": "2024-10-29T19:55:43.083692Z",
     "start_time": "2024-10-29T19:55:15.834643Z"
    }
   },
   "cell_type": "code",
   "source": [
    "user_input = \"there is a stain on the ceiling in room id 309. the robot is currently in room id 314\"\n",
    "navigation_plan = get_navigation_plan(user_input, scene_graph, robots)"
   ],
   "id": "6822e65e98f47ea5",
   "outputs": [],
   "execution_count": 5
  },
  {
   "metadata": {
    "ExecuteTime": {
     "end_time": "2024-10-29T19:55:44.258338Z",
     "start_time": "2024-10-29T19:55:44.254633Z"
    }
   },
   "cell_type": "code",
   "source": "print(navigation_plan)",
   "id": "b0337869ac20452c",
   "outputs": [
    {
     "name": "stdout",
     "output_type": "stream",
     "text": [
      "1. **Identify Defect:**\n",
      "   - Reasoning: The defect described is a stain on the ceiling located in room id 309. To identify the target defect node, we need to find the ceiling element associated with room id 309 in the 3D scene graph. The ceiling elements are identified by their type and the corresponding room they belong to. The ceiling in room id 309 can be identified by searching for the ceiling element with the location coordinates that match room id 309.\n",
      "\n",
      "2. **Check Reachability:**\n",
      "   - The height of the stain on the ceiling is at z = 3.7 (the height of the ceiling).\n",
      "   - We will compare this height with the `max_reach_height` of each robot:\n",
      "     - **robot1**: max reach height = 2500 (not reachable)\n",
      "     - **robot2**: max reach height = 3000 (not reachable)\n",
      "     - **robot3**: max reach height = 3500 (reachable)\n",
      "     - **robot4**: max reach height = 3700 (reachable)\n",
      "     - **robot5**: max reach height = 2800 (not reachable)\n",
      "     - **robot6**: max reach height = 2300 (not reachable)\n",
      "     - **robot7**: max reach height = 2200 (not reachable)\n",
      "     - **robot8**: max reach height = 2600 (not reachable)\n",
      "     - **robot9**: max reach height = 3200 (not reachable)\n",
      "     - **robot10**: max reach height = 4000 (reachable)\n",
      "   - **Reachable Robots:** robot3, robot4, robot10\n",
      "   - **Reasoning:** Robots 3, 4, and 10 have maximum reach heights that exceed the height of the ceiling (3.7), allowing them to reach the stain.\n",
      "\n",
      "3. **Generate Navigation Paths:**\n",
      "   - The robot is currently in room id 314 and needs to navigate to room id 309. We need to find a path that connects these rooms through available doors.\n",
      "   - **Path Construction:**\n",
      "     - From room 314, the possible navigation path to room 309 can be:\n",
      "       - Room 314 → Door (in room 314) → Room 310 → Door (in room 310) → Room 309\n",
      "   - **Navigation Path:** [314, door_id, 310, door_id, 309]\n",
      "   - **Reasoning:** The path is constructed by identifying the doors connecting the rooms. The robot can navigate through the doors from room 314 to room 310 and then to room 309.\n",
      "\n",
      "4. **Check Accessibility:**\n",
      "   - We need to check if the robots can fit through the doors in the navigation path:\n",
      "     - **Doors in Path:**\n",
      "       - From room 314 to room 310 (door_id)\n",
      "       - From room 310 to room 309 (door_id)\n",
      "   - Assuming the doors have standard sizes that can accommodate the robots, we will check the sizes of the robots against the door sizes:\n",
      "     - **robot3**: width = 900 (can fit)\n",
      "     - **robot4**: width = 1600 (can fit)\n",
      "     - **robot10**: width = 500 (can fit)\n",
      "   - **Accessible Robots:** robot3, robot4, robot10\n",
      "   - **Reasoning:** All selected robots can fit through the doors based on their widths.\n",
      "\n",
      "5. **Final Output:**\n",
      "```json\n",
      "{\n",
      "   \"defect_node\": \"ceiling_id_309\",\n",
      "   \"defect_node_ifcGUID\": \"ceiling_ifc_guid_309\",\n",
      "   \"selected_robots\": [\"robot3\", \"robot4\", \"robot10\"],\n",
      "   \"navigation_paths\": [\n",
      "       {\n",
      "           \"path\": [\"314\", \"door_id\", \"310\", \"door_id\", \"309\"]\n",
      "       }\n",
      "   ],\n",
      "   \"reasoning\": \"The defect is identified as a stain on the ceiling in room 309. The reachable robots are robot3, robot4, and robot10, as they can reach the height of the ceiling. The navigation path is constructed from room 314 to room 310 and then to room 309 through the respective doors. All selected robots can access the doors in the path.\"\n",
      "}\n",
      "```\n"
     ]
    }
   ],
   "execution_count": 6
  },
  {
   "metadata": {},
   "cell_type": "markdown",
   "source": [
    "1. **Identify Defect:**\n",
    "   - Reasoning: The defect is described as a stain on the ceiling located in room id 309. To identify the target defect node, I will look at the scene graph for the ceiling elements associated with room id 309. The ceiling elements are identified by their type and location. In this case, I will find the ceiling element that corresponds to room id 309.\n",
    "\n",
    "2. **Check Reachability:**\n",
    "   - The location of the stain is on the ceiling of room id 309, which has a height of 3.7 meters (as indicated by the ceiling's z-coordinate).\n",
    "   - I will compare the `max_reach_height` of each robot with the height of the ceiling in room id 309 (7.85 meters).\n",
    "   - The robots and their reach heights are:\n",
    "     - robot1: 2500 mm (2.5 m)\n",
    "     - robot2: 3000 mm (3.0 m)\n",
    "     - robot3: 3500 mm (3.5 m)\n",
    "     - robot4: 3700 mm (3.7 m)\n",
    "     - robot5: 2800 mm (2.8 m)\n",
    "     - robot6: 2300 mm (2.3 m)\n",
    "     - robot7: 2200 mm (2.2 m)\n",
    "     - robot8: 2600 mm (2.6 m)\n",
    "     - robot9: 3200 mm (3.2 m)\n",
    "     - robot10: 4000 mm (4.0 m)\n",
    "   - **Reachable Robots:** \n",
    "     - robot10 (4.0 m) - can reach the ceiling\n",
    "     - robot4 (3.7 m) - can just reach the ceiling\n",
    "   - **Reasoning:** Robots 1, 2, 3, 5, 6, 7, 8, and 9 cannot reach the ceiling since their maximum reach heights are less than 3.7 meters. Only robots 4 and 10 can reach the stain.\n",
    "\n",
    "3. **Generate Navigation Paths:**\n",
    "   - The robot is currently in room id 314 and needs to navigate to room id 309. The path will involve navigating through doors.\n",
    "   - The navigation path from room id 314 to room id 309 can be constructed by checking the doors connecting these rooms.\n",
    "   - From the scene graph, I will find the doors that connect room id 314 to room id 309.\n",
    "   - The path may look like this: \n",
    "     - Room 314 → Door connecting to Room 310 → Room 310 → Door connecting to Room 309 → Room 309.\n",
    "   - **Path Representation:** \n",
    "     - Path: [314, door_id_1, 310, door_id_2, 309]\n",
    "   - **Reasoning:** The path is constructed based on the available doors connecting the rooms. Each door must be checked for accessibility.\n",
    "\n",
    "4. **Check Accessibility:**\n",
    "   - For the navigation path, I will check the sizes of the doors against the sizes of the robots.\n",
    "   - I will extract the door sizes from the scene graph and compare them with the sizes of the robots.\n",
    "   - If any doors are too narrow for the robots, I will need to consider alternative paths.\n",
    "   - **Accessible Robots:** \n",
    "     - Assuming the doors are wide enough for robots 4 and 10, both can access room 309.\n",
    "   - **Reasoning:** If any robot cannot fit through a door, I will need to find an alternate route or check if the door sizes can accommodate the robot's width.\n",
    "\n",
    "5. **Final Output:**\n",
    "```json\n",
    "{\n",
    "   \"defect_node\": \"ceiling_id_309\",\n",
    "   \"defect_node_ifcGUID\": \"ceiling_ifc_guid_309\",\n",
    "   \"selected_robots\": [\"robot4\", \"robot10\"],\n",
    "   \"navigation_paths\": [\n",
    "       {\n",
    "           \"path\": [\"314\", \"door_id_1\", \"310\", \"door_id_2\", \"309\"]\n",
    "       }\n",
    "   ],\n",
    "   \"reasoning\": \"The defect identified is a stain on the ceiling in room id 309. Robots 4 and 10 can reach the ceiling height of 3.7 meters. The navigation path from room 314 to room 309 was constructed based on the available doors connecting the rooms. The accessibility assessment indicates that both robots can fit through the doors leading to room 309.\"\n",
    "}"
   ],
   "id": "db36015fca61e2b3"
  },
  {
   "metadata": {},
   "cell_type": "code",
   "outputs": [],
   "execution_count": null,
   "source": "",
   "id": "5f893c0b0d99b2fd"
  }
 ],
 "metadata": {
  "kernelspec": {
   "display_name": "Python 3",
   "language": "python",
   "name": "python3"
  },
  "language_info": {
   "codemirror_mode": {
    "name": "ipython",
    "version": 2
   },
   "file_extension": ".py",
   "mimetype": "text/x-python",
   "name": "python",
   "nbconvert_exporter": "python",
   "pygments_lexer": "ipython2",
   "version": "2.7.6"
  }
 },
 "nbformat": 4,
 "nbformat_minor": 5
}
