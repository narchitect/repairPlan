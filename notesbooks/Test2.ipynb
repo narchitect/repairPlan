{
 "cells": [
  {
   "metadata": {
    "ExecuteTime": {
     "end_time": "2024-10-23T22:14:33.630345Z",
     "start_time": "2024-10-23T22:14:33.095172Z"
    }
   },
   "cell_type": "code",
   "source": [
    "from planner2 import load_scene_graph, generate_prompt, get_navigation_plan\n",
    "from robots import robots"
   ],
   "id": "initial_id",
   "outputs": [],
   "execution_count": 1
  },
  {
   "metadata": {
    "ExecuteTime": {
     "end_time": "2024-10-23T22:14:48.742565Z",
     "start_time": "2024-10-23T22:14:48.725213Z"
    }
   },
   "cell_type": "code",
   "source": [
    "scene_graph = load_scene_graph(\"/Users/nayunkim/Documents/GitHub/repairPlan/data/3D_Scene_Graph_large.json\")\n",
    "prompt = generate_prompt(scene_graph, robots)"
   ],
   "id": "8fa3490f396a07af",
   "outputs": [],
   "execution_count": 2
  },
  {
   "metadata": {
    "ExecuteTime": {
     "end_time": "2024-10-23T22:17:14.031911Z",
     "start_time": "2024-10-23T22:17:01.690779Z"
    }
   },
   "cell_type": "code",
   "source": [
    "user_input = \"there is a stain on the ceiling in room id 309. the robot is currently in room id 314\"\n",
    "navigation_plan = get_navigation_plan(user_input, scene_graph, robots)"
   ],
   "id": "6822e65e98f47ea5",
   "outputs": [],
   "execution_count": 5
  },
  {
   "metadata": {
    "ExecuteTime": {
     "end_time": "2024-10-23T22:17:18.214748Z",
     "start_time": "2024-10-23T22:17:18.211469Z"
    }
   },
   "cell_type": "code",
   "source": "print(navigation_plan)",
   "id": "b0337869ac20452c",
   "outputs": [
    {
     "name": "stdout",
     "output_type": "stream",
     "text": [
      "1. **Identify Defect:**\n",
      "   - Reasoning: The defect described is a stain on the ceiling in room ID 309. In the 3D scene graph, the ceiling in room 309 is represented by the element with ID 698. This is identified as the target defect node based on the description provided.\n",
      "\n",
      "2. **Check Reachability:**\n",
      "   - Reasoning: The ceiling in room 309 is at a height of 3.7 meters. We need to compare this height with each robot's `max_reach_height` to determine which robots can reach the defect.\n",
      "     - **robot1**: Max reach height is 2.5 meters. Not reachable.\n",
      "     - **robot2**: Max reach height is 3.0 meters. Not reachable.\n",
      "     - **robot3**: Max reach height is 3.5 meters. Not reachable.\n",
      "     - **robot4**: Max reach height is 3.7 meters. Reachable.\n",
      "     - **robot5**: Max reach height is 2.8 meters. Not reachable.\n",
      "     - **robot6**: Max reach height is 2.3 meters. Not reachable.\n",
      "     - **robot7**: Max reach height is 2.2 meters. Not reachable.\n",
      "     - **robot8**: Max reach height is 2.6 meters. Not reachable.\n",
      "     - **robot9**: Max reach height is 3.2 meters. Not reachable.\n",
      "     - **robot10**: Max reach height is 4.0 meters. Reachable.\n",
      "   - Reachable Robots: robot4, robot10\n",
      "\n",
      "3. **Generate Navigation Paths:**\n",
      "   - Reasoning: The robot is currently in room 314 and needs to navigate to room 309. We will construct a path considering the connectivity through doors.\n",
      "     - Path 1: [314, 23, 313, 21, 312, 20, 311, 28, 5, 18, 309]\n",
      "       - Doors: 23, 21, 20, 28, 18\n",
      "   - This path uses the connectivity between rooms as indicated by the linked doors in the 3D scene graph.\n",
      "\n",
      "4. **Check Accessibility:**\n",
      "   - Reasoning: We need to compare the door sizes with each robot's size to determine accessibility.\n",
      "     - **robot4**: Width 1600 mm, Height 2400 mm\n",
      "       - Door 23: Width 914 mm, Height 2108 mm - Not accessible.\n",
      "       - Door 21: Width 914 mm, Height 2108 mm - Not accessible.\n",
      "       - Door 20: Width 914 mm, Height 2108 mm - Not accessible.\n",
      "       - Door 28: Width 690 mm, Height 2026 mm - Not accessible.\n",
      "       - Door 18: Width 690 mm, Height 2026 mm - Not accessible.\n",
      "     - **robot10**: Width 500 mm, Height 1800 mm\n",
      "       - Door 23: Width 914 mm, Height 2108 mm - Accessible.\n",
      "       - Door 21: Width 914 mm, Height 2108 mm - Accessible.\n",
      "       - Door 20: Width 914 mm, Height 2108 mm - Accessible.\n",
      "       - Door 28: Width 690 mm, Height 2026 mm - Accessible.\n",
      "       - Door 18: Width 690 mm, Height 2026 mm - Accessible.\n",
      "   - Accessible Robots: robot10\n",
      "\n",
      "**Final Output:**\n",
      "```json\n",
      "{\n",
      "  \"defect_node\": \"ceiling_309\",\n",
      "  \"selected_robots\": [\"robot10\"],\n",
      "  \"navigation_paths\": [\n",
      "    {\n",
      "      \"path\": [\"314\", \"23\", \"313\", \"21\", \"312\", \"20\", \"311\", \"28\", \"5\", \"18\", \"309\"],\n",
      "      \"doors\": [\"23\", \"21\", \"20\", \"28\", \"18\"],\n",
      "      \"accessible_robots\": [\"robot10\"]\n",
      "    }\n",
      "  ],\n",
      "  \"reasoning\": \"The defect is a stain on the ceiling in room 309. Robot10 is selected because it can reach the ceiling height of 3.7 meters and is able to navigate through all the doors on the path from room 314 to room 309.\"\n",
      "}\n",
      "```\n"
     ]
    }
   ],
   "execution_count": 6
  },
  {
   "metadata": {},
   "cell_type": "code",
   "outputs": [],
   "execution_count": null,
   "source": "",
   "id": "b2762fa7b2a31e9"
  }
 ],
 "metadata": {
  "kernelspec": {
   "display_name": "Python 3",
   "language": "python",
   "name": "python3"
  },
  "language_info": {
   "codemirror_mode": {
    "name": "ipython",
    "version": 2
   },
   "file_extension": ".py",
   "mimetype": "text/x-python",
   "name": "python",
   "nbconvert_exporter": "python",
   "pygments_lexer": "ipython2",
   "version": "2.7.6"
  }
 },
 "nbformat": 4,
 "nbformat_minor": 5
}
