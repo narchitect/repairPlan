{
 "cells": [
  {
   "metadata": {
    "ExecuteTime": {
     "end_time": "2024-11-07T20:07:03.362049Z",
     "start_time": "2024-11-07T20:07:03.065496Z"
    }
   },
   "cell_type": "code",
   "source": [
    "from planner.planner2_ChainOfThought import (load_scene_graph, generate_prompt, get_navigation_plan)\n",
    "from data.robots2 import robots"
   ],
   "id": "initial_id",
   "outputs": [],
   "execution_count": 1
  },
  {
   "metadata": {},
   "cell_type": "markdown",
   "source": "",
   "id": "634bbdb61164544a"
  },
  {
   "metadata": {
    "ExecuteTime": {
     "end_time": "2024-11-07T20:07:03.371475Z",
     "start_time": "2024-11-07T20:07:03.363072Z"
    }
   },
   "cell_type": "code",
   "source": [
    "scene_graph = load_scene_graph(\"/Users/nayunkim/Documents/GitHub/repairPlan/data/sceneGraphs/3dsg_withCOR.json\")\n",
    "prompt = generate_prompt(scene_graph, robots)"
   ],
   "id": "8fa3490f396a07af",
   "outputs": [],
   "execution_count": 2
  },
  {
   "metadata": {
    "ExecuteTime": {
     "end_time": "2024-11-07T20:07:22.797724Z",
     "start_time": "2024-11-07T20:07:03.372237Z"
    }
   },
   "cell_type": "code",
   "source": [
    "user_input = \"there is a stain on the ceiling in room id 320. the robot is currently in room id 332\"\n",
    "navigation_plan, json_output= get_navigation_plan(user_input, scene_graph, robots)"
   ],
   "id": "6822e65e98f47ea5",
   "outputs": [],
   "execution_count": 3
  },
  {
   "metadata": {
    "ExecuteTime": {
     "end_time": "2024-11-07T20:07:22.807763Z",
     "start_time": "2024-11-07T20:07:22.801891Z"
    }
   },
   "cell_type": "code",
   "source": "print(navigation_plan)",
   "id": "b0337869ac20452c",
   "outputs": [
    {
     "name": "stdout",
     "output_type": "stream",
     "text": [
      "### 1. **Identify Defect:**\n",
      "   - **Reasoning:**\n",
      "     - The defect described is a \"stain on the ceiling\" in **room 320**. Based on the 3D scene graph, the ceiling element in **room 320** is identified as **element id 569** with an `ifc_guid` of **\"1T7BPQ_hn69uk5$Jp8cvMf\"**.\n",
      "     - The ceiling is located at a height of **3.7 meters** in **room 320**, which is critical for determining the reachability of the robots.\n",
      "\n",
      "### 2. **Check Reachability:**\n",
      "   - **Reasoning:**\n",
      "     - The stain is on the ceiling, which is located at a height of **3.7 meters**.\n",
      "     - We need to check which robots can reach this height. The following robots have the following maximum reach heights:\n",
      "       - **Robot 1**: Max reach height = 2.0 meters (cannot reach the ceiling).\n",
      "       - **Robot 2**: Max reach height = 3.0 meters (cannot reach the ceiling).\n",
      "       - **Robot 3**: Max reach height = 3.7 meters (can reach the ceiling).\n",
      "       - **Robot 4**: Max reach height = 2.0 meters (cannot reach the ceiling).\n",
      "       - **Robot 5**: Max reach height = 3.7 meters (can reach the ceiling).\n",
      "       - **Robot 6**: Max reach height = 3.7 meters (can reach the ceiling).\n",
      "       - **Robot 7**: Max reach height = 2.0 meters (cannot reach the ceiling).\n",
      "       - **Robot 8**: Max reach height = 3.7 meters (can reach the ceiling).\n",
      "       - **Robot 9**: Max reach height = 3.7 meters (can reach the ceiling).\n",
      "       - **Robot 10**: Max reach height = 2.0 meters (cannot reach the ceiling).\n",
      "     - Therefore, **robots 3, 5, 6, 8, and 9** can reach the ceiling.\n",
      "\n",
      "### 3. **Generate Navigation Paths:**\n",
      "   - **Reasoning:**\n",
      "     - The robot is currently in **room 332**, and the defect is in **room 320**. We need to find a path from **room 332** to **room 320**.\n",
      "     - Based on the 3D scene graph, the following doors and spaces are connected:\n",
      "       - **Room 332** is connected to **Room 290** via **door 219**.\n",
      "       - **Room 290** is connected to **Room 3** via **door 219**.\n",
      "       - **Room 3** is connected to **Room 320** via **door 448**.\n",
      "     - Therefore, the navigation path is: **[332, door 219, 290, door 219, 3, door 448, 320]**.\n",
      "\n",
      "### 4. **Check Accessibility:**\n",
      "   - **Reasoning:**\n",
      "     - We need to check if the robots can pass through the doors along the navigation path.\n",
      "     - The door dimensions along the path are as follows:\n",
      "       - **Door 219** (between rooms 332 and 290): Width = 2.0 meters.\n",
      "       - **Door 448** (between rooms 3 and 320): Width = 2.0 meters.\n",
      "     - The robot dimensions are as follows:\n",
      "       - **Robot 3**: Width = 1.6 meters (can pass through all doors).\n",
      "       - **Robot 5**: Width = 0.7 meters (can pass through all doors).\n",
      "       - **Robot 6**: Width = 0.7 meters (can pass through all doors).\n",
      "       - **Robot 8**: Width = 0.7 meters (can pass through all doors).\n",
      "       - **Robot 9**: Width = 0.7 meters (can pass through all doors).\n",
      "     - All selected robots can pass through the doors.\n",
      "\n",
      "### 5. **Final Output:**\n",
      "```json\n",
      "{\n",
      "   \"defect_node\": \"569\",\n",
      "   \"defect_node_ifcGUID\": \"1T7BPQ_hn69uk5$Jp8cvMf\",\n",
      "   \"selected_robots\": [\"3\", \"5\", \"6\", \"8\", \"9\"],\n",
      "   \"navigation_paths\": [\n",
      "       {\n",
      "           \"path\": [\"332\", \"door 219\", \"290\", \"door 219\", \"3\", \"door 448\", \"320\"]\n",
      "       }\n",
      "   ],\n",
      "   \"reasoning\": \"The defect is a stain on the ceiling in room 320, which is at a height of 3.7 meters. Robots 3, 5, 6, 8, and 9 can reach this height. The navigation path from room 332 to room 320 passes through doors 219 and 448, which are wide enough for all selected robots to pass through.\"\n",
      "}\n",
      "```\n"
     ]
    }
   ],
   "execution_count": 4
  },
  {
   "metadata": {},
   "cell_type": "markdown",
   "source": [
    "1. **Identify Defect:**\n",
    "   - Reasoning: The defect is described as a stain on the ceiling located in room id 309. To identify the target defect node, I will look at the scene graph for the ceiling elements associated with room id 309. The ceiling elements are identified by their type and location. In this case, I will find the ceiling element that corresponds to room id 309.\n",
    "\n",
    "2. **Check Reachability:**\n",
    "   - The location of the stain is on the ceiling of room id 309, which has a height of 3.7 meters (as indicated by the ceiling's z-coordinate).\n",
    "   - I will compare the `max_reach_height` of each robot with the height of the ceiling in room id 309 (7.85 meters).\n",
    "   - The robots and their reach heights are:\n",
    "     - robot1: 2500 mm (2.5 m)\n",
    "     - robot2: 3000 mm (3.0 m)\n",
    "     - robot3: 3500 mm (3.5 m)\n",
    "     - robot4: 3700 mm (3.7 m)\n",
    "     - robot5: 2800 mm (2.8 m)\n",
    "     - robot6: 2300 mm (2.3 m)\n",
    "     - robot7: 2200 mm (2.2 m)\n",
    "     - robot8: 2600 mm (2.6 m)\n",
    "     - robot9: 3200 mm (3.2 m)\n",
    "     - robot10: 4000 mm (4.0 m)\n",
    "   - **Reachable Robots:** \n",
    "     - robot10 (4.0 m) - can reach the ceiling\n",
    "     - robot4 (3.7 m) - can just reach the ceiling\n",
    "   - **Reasoning:** Robots 1, 2, 3, 5, 6, 7, 8, and 9 cannot reach the ceiling since their maximum reach heights are less than 3.7 meters. Only robots 4 and 10 can reach the stain.\n",
    "\n",
    "3. **Generate Navigation Paths:**\n",
    "   - The robot is currently in room id 314 and needs to navigate to room id 309. The path will involve navigating through doors.\n",
    "   - The navigation path from room id 314 to room id 309 can be constructed by checking the doors connecting these rooms.\n",
    "   - From the scene graph, I will find the doors that connect room id 314 to room id 309.\n",
    "   - The path may look like this: \n",
    "     - Room 314 → Door connecting to Room 310 → Room 310 → Door connecting to Room 309 → Room 309.\n",
    "   - **Path Representation:** \n",
    "     - Path: [314, door_id_1, 310, door_id_2, 309]\n",
    "   - **Reasoning:** The path is constructed based on the available doors connecting the rooms. Each door must be checked for accessibility.\n",
    "\n",
    "4. **Check Accessibility:**\n",
    "   - For the navigation path, I will check the sizes of the doors against the sizes of the robots.\n",
    "   - I will extract the door sizes from the scene graph and compare them with the sizes of the robots.\n",
    "   - If any doors are too narrow for the robots, I will need to consider alternative paths.\n",
    "   - **Accessible Robots:** \n",
    "     - Assuming the doors are wide enough for robots 4 and 10, both can access room 309.\n",
    "   - **Reasoning:** If any robot cannot fit through a door, I will need to find an alternate route or check if the door sizes can accommodate the robot's width.\n",
    "\n",
    "5. **Final Output:**\n",
    "```json\n",
    "{\n",
    "   \"defect_node\": \"ceiling_id_309\",\n",
    "   \"defect_node_ifcGUID\": \"ceiling_ifc_guid_309\",\n",
    "   \"selected_robots\": [\"robot4\", \"robot10\"],\n",
    "   \"navigation_paths\": [\n",
    "       {\n",
    "           \"path\": [\"314\", \"door_id_1\", \"310\", \"door_id_2\", \"309\"]\n",
    "       }\n",
    "   ],\n",
    "   \"reasoning\": \"The defect identified is a stain on the ceiling in room id 309. Robots 4 and 10 can reach the ceiling height of 3.7 meters. The navigation path from room 314 to room 309 was constructed based on the available doors connecting the rooms. The accessibility assessment indicates that both robots can fit through the doors leading to room 309.\"\n",
    "}"
   ],
   "id": "db36015fca61e2b3"
  },
  {
   "metadata": {
    "ExecuteTime": {
     "end_time": "2024-11-07T20:07:29.743969Z",
     "start_time": "2024-11-07T20:07:22.809109Z"
    }
   },
   "cell_type": "code",
   "source": [
    "from planner.planner_repairPlan import plan_robot_task\n",
    "from data.robots import robots\n",
    "\n",
    "import json\n",
    "user_input = \"there is a stain on the ceiling in room id 8. the robot is currently in room id 3\"\n",
    "repair_plan = plan_robot_task(json_output, user_input, robots)\n",
    "print(repair_plan)"
   ],
   "id": "fb3a19dfde854a55",
   "outputs": [
    {
     "name": "stdout",
     "output_type": "stream",
     "text": [
      "Based on the provided information, the defect is a stain on the ceiling in room 320, which is at a height of 3.7 meters. The robot needs to be able to clean the surface and reach a height of at least 3.7 meters. \n",
      "\n",
      "### Robot Selection:\n",
      "- **Robot 3**: Max reach height is 3500 mm (3.5 meters), which is insufficient to reach the ceiling at 3.7 meters.\n",
      "- **Robot 5**: Max reach height is 2800 mm (2.8 meters), which is insufficient.\n",
      "- **Robot 6**: Max reach height is 2300 mm (2.3 meters), which is insufficient.\n",
      "- **Robot 8**: Max reach height is 2600 mm (2.6 meters), which is insufficient.\n",
      "- **Robot 9**: Max reach height is 3200 mm (3.2 meters), which is also insufficient.\n",
      "\n",
      "None of the selected robots can reach the required height of 3.7 meters. However, **Robot 10** (which is not in the selected list but is part of the environment information) has a max reach height of 4000 mm (4 meters), which is sufficient to reach the ceiling. Additionally, Robot 10 has the \"CleanSurface\" action, which is required to clean the stain.\n",
      "\n",
      "### Action Sequence:\n",
      "The robot is currently in room 3, and it needs to navigate to room 320, passing through doors 219 and 448. The robot will need to load the cleaning equipment, clean the surface, and then unload the equipment.\n",
      "\n",
      "### Action Plan:\n",
      "1. **Navigate to room 320**: The robot will follow the path from room 332 to room 320, passing through doors 219 and 448.\n",
      "2. **Load cleaning equipment**: The robot will load the cleaning equipment to clean the stain.\n",
      "3. **Clean the stain**: The robot will clean the stain on the ceiling in room 320.\n",
      "4. **Unload cleaning equipment**: After cleaning, the robot will unload the cleaning equipment.\n",
      "\n",
      "### JSON Output:\n",
      "```json\n",
      "{\n",
      "    \"selected_robot_id\": \"10\",\n",
      "    \"action_sequence\": [\n",
      "        \"NavigateToLocation<332>\",\n",
      "        \"NavigateToLocation<door 219>\",\n",
      "        \"NavigateToLocation<290>\",\n",
      "        \"NavigateToLocation<door 219>\",\n",
      "        \"NavigateToLocation<3>\",\n",
      "        \"NavigateToLocation<door 448>\",\n",
      "        \"NavigateToLocation<320>\",\n",
      "        \"GraspObject<cleaning_equipment>\",\n",
      "        \"CleanSurface<ceiling_320>\",\n",
      "        \"ReleaseObject<cleaning_equipment>\"\n",
      "    ]\n",
      "}\n",
      "```\n",
      "\n",
      "### Explanation:\n",
      "- **NavigateToLocation**: The robot navigates through the specified path from room 332 to room 320.\n",
      "- **GraspObject**: The robot loads the cleaning equipment.\n",
      "- **CleanSurface**: The robot cleans the stain on the ceiling in room 320.\n",
      "- **ReleaseObject**: The robot unloads the cleaning equipment after completing the task.\n",
      "\n",
      "This action sequence ensures that the robot efficiently navigates to the defect location, performs the necessary cleaning, and unloads the equipment afterward.\n"
     ]
    }
   ],
   "execution_count": 5
  },
  {
   "metadata": {
    "ExecuteTime": {
     "end_time": "2024-11-07T20:07:29.749210Z",
     "start_time": "2024-11-07T20:07:29.746199Z"
    }
   },
   "cell_type": "code",
   "source": "",
   "id": "a563f6a63c255071",
   "outputs": [],
   "execution_count": 5
  },
  {
   "metadata": {
    "ExecuteTime": {
     "end_time": "2024-11-07T20:07:29.753110Z",
     "start_time": "2024-11-07T20:07:29.751053Z"
    }
   },
   "cell_type": "code",
   "source": "",
   "id": "e7231f89e2ccf6a4",
   "outputs": [],
   "execution_count": 5
  }
 ],
 "metadata": {
  "kernelspec": {
   "display_name": "Python 3",
   "language": "python",
   "name": "python3"
  },
  "language_info": {
   "codemirror_mode": {
    "name": "ipython",
    "version": 2
   },
   "file_extension": ".py",
   "mimetype": "text/x-python",
   "name": "python",
   "nbconvert_exporter": "python",
   "pygments_lexer": "ipython2",
   "version": "2.7.6"
  }
 },
 "nbformat": 4,
 "nbformat_minor": 5
}
