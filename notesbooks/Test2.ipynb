{
 "cells": [
  {
   "metadata": {
    "ExecuteTime": {
     "end_time": "2024-11-03T22:47:53.113277Z",
     "start_time": "2024-11-03T22:47:52.717319Z"
    }
   },
   "cell_type": "code",
   "source": [
    "from planner.planner2_ChainOfThought import (load_scene_graph, generate_prompt, get_navigation_plan)\n",
    "from data.robots import robots"
   ],
   "id": "initial_id",
   "outputs": [],
   "execution_count": 1
  },
  {
   "metadata": {
    "ExecuteTime": {
     "end_time": "2024-11-03T22:47:54.221353Z",
     "start_time": "2024-11-03T22:47:54.202918Z"
    }
   },
   "cell_type": "code",
   "source": [
    "scene_graph = load_scene_graph(\"/Users/nayunkim/Documents/GitHub/repairPlan/data/sceneGraphs/3dsg_withSize.json\")\n",
    "prompt = generate_prompt(scene_graph, robots)"
   ],
   "id": "8fa3490f396a07af",
   "outputs": [],
   "execution_count": 2
  },
  {
   "metadata": {
    "ExecuteTime": {
     "end_time": "2024-11-03T22:48:14.511340Z",
     "start_time": "2024-11-03T22:47:55.379567Z"
    }
   },
   "cell_type": "code",
   "source": [
    "user_input = \"there is a stain on the ceiling in room id 8. the robot is currently in room id 3\"\n",
    "navigation_plan, json_output= get_navigation_plan(user_input, scene_graph, robots)"
   ],
   "id": "6822e65e98f47ea5",
   "outputs": [],
   "execution_count": 3
  },
  {
   "metadata": {
    "ExecuteTime": {
     "end_time": "2024-11-03T22:48:19.123719Z",
     "start_time": "2024-11-03T22:48:19.120761Z"
    }
   },
   "cell_type": "code",
   "source": "print(navigation_plan)",
   "id": "b0337869ac20452c",
   "outputs": [
    {
     "name": "stdout",
     "output_type": "stream",
     "text": [
      "1. **Identify Defect:**\n",
      "   - Reasoning: The defect described is a stain on the ceiling in room ID 8. To identify the target defect node within the 3D scene graph, I will look for the ceiling element in room ID 8. The ceiling is represented in the scene graph, and I will locate its corresponding ID and IFC GUID.\n",
      "\n",
      "2. **Check Reachability:**\n",
      "   - The ceiling in room ID 8 has a height of 3.7 meters. I will compare this with the maximum reach height of each robot:\n",
      "     - Robot 1: Max reach height = 2500 mm (2.5 m) - Not reachable\n",
      "     - Robot 2: Max reach height = 3000 mm (3.0 m) - Not reachable\n",
      "     - Robot 3: Max reach height = 3500 mm (3.5 m) - Not reachable\n",
      "     - Robot 4: Max reach height = 3700 mm (3.7 m) - Reachable\n",
      "     - Robot 5: Max reach height = 2800 mm (2.8 m) - Not reachable\n",
      "     - Robot 6: Max reach height = 2300 mm (2.3 m) - Not reachable\n",
      "     - Robot 7: Max reach height = 2200 mm (2.2 m) - Not reachable\n",
      "     - Robot 8: Max reach height = 2600 mm (2.6 m) - Not reachable\n",
      "     - Robot 9: Max reach height = 3200 mm (3.2 m) - Not reachable\n",
      "     - Robot 10: Max reach height = 4000 mm (4.0 m) - Reachable\n",
      "   - Reachable Robots: Robot 4 and Robot 10.\n",
      "   - Reasoning: Robots 4 and 10 can reach the ceiling in room ID 8 due to their maximum reach heights being equal to or greater than the ceiling height.\n",
      "\n",
      "3. **Generate Navigation Paths:**\n",
      "   - The robot is currently in room ID 3 and needs to navigate to room ID 8. I will identify the doors connecting these rooms:\n",
      "     - Room ID 3 has doors leading to room ID 4.\n",
      "     - Room ID 4 has doors leading to room ID 8.\n",
      "   - Possible navigation path: [3, door to 4, 4, door to 8, 8].\n",
      "   - Extracted doors:\n",
      "     - Door from room 3 to room 4.\n",
      "     - Door from room 4 to room 8.\n",
      "   - Reasoning: The path is constructed by identifying the rooms and the connecting doors, ensuring a direct route from the current location to the defect location.\n",
      "\n",
      "4. **Check Accessibility:**\n",
      "   - I will compare the door sizes with each robot's size to determine accessibility:\n",
      "     - Robot 4: Width = 1600 mm, Height = 2400 mm.\n",
      "     - Robot 10: Width = 500 mm, Height = 1800 mm.\n",
      "   - I will need to check the sizes of the doors connecting room ID 3 to room ID 4 and room ID 4 to room ID 8 to ensure both robots can pass through.\n",
      "   - Assuming the doors are standard sizes (typically around 900 mm wide), both robots can access through these doors.\n",
      "   - Accessible Robots: Robot 4 and Robot 10.\n",
      "   - Reasoning: Both robots can fit through the doors based on their dimensions.\n",
      "\n",
      "5. **Final Output:**\n",
      "```json\n",
      "{\n",
      "   \"defect_node\": \"8\",\n",
      "   \"defect_node_ifcGUID\": \"2Vw5Ga4Dz31wA6t7ociBOo\",\n",
      "   \"selected_robots\": [\"4\", \"10\"],\n",
      "   \"navigation_paths\": [\n",
      "       {\n",
      "           \"path\": [\"3\", \"door to 4\", \"4\", \"door to 8\", \"8\"]\n",
      "       }\n",
      "   ],\n",
      "   \"reasoning\": \"The defect is a stain on the ceiling in room ID 8. The ceiling height is 3.7 meters, making it reachable by robots 4 and 10. The navigation path from room 3 to room 8 was constructed through room 4, utilizing the doors connecting these rooms. Both robots can access the doors based on their dimensions.\"\n",
      "}\n",
      "```\n"
     ]
    }
   ],
   "execution_count": 4
  },
  {
   "metadata": {},
   "cell_type": "markdown",
   "source": [
    "1. **Identify Defect:**\n",
    "   - Reasoning: The defect is described as a stain on the ceiling located in room id 309. To identify the target defect node, I will look at the scene graph for the ceiling elements associated with room id 309. The ceiling elements are identified by their type and location. In this case, I will find the ceiling element that corresponds to room id 309.\n",
    "\n",
    "2. **Check Reachability:**\n",
    "   - The location of the stain is on the ceiling of room id 309, which has a height of 3.7 meters (as indicated by the ceiling's z-coordinate).\n",
    "   - I will compare the `max_reach_height` of each robot with the height of the ceiling in room id 309 (7.85 meters).\n",
    "   - The robots and their reach heights are:\n",
    "     - robot1: 2500 mm (2.5 m)\n",
    "     - robot2: 3000 mm (3.0 m)\n",
    "     - robot3: 3500 mm (3.5 m)\n",
    "     - robot4: 3700 mm (3.7 m)\n",
    "     - robot5: 2800 mm (2.8 m)\n",
    "     - robot6: 2300 mm (2.3 m)\n",
    "     - robot7: 2200 mm (2.2 m)\n",
    "     - robot8: 2600 mm (2.6 m)\n",
    "     - robot9: 3200 mm (3.2 m)\n",
    "     - robot10: 4000 mm (4.0 m)\n",
    "   - **Reachable Robots:** \n",
    "     - robot10 (4.0 m) - can reach the ceiling\n",
    "     - robot4 (3.7 m) - can just reach the ceiling\n",
    "   - **Reasoning:** Robots 1, 2, 3, 5, 6, 7, 8, and 9 cannot reach the ceiling since their maximum reach heights are less than 3.7 meters. Only robots 4 and 10 can reach the stain.\n",
    "\n",
    "3. **Generate Navigation Paths:**\n",
    "   - The robot is currently in room id 314 and needs to navigate to room id 309. The path will involve navigating through doors.\n",
    "   - The navigation path from room id 314 to room id 309 can be constructed by checking the doors connecting these rooms.\n",
    "   - From the scene graph, I will find the doors that connect room id 314 to room id 309.\n",
    "   - The path may look like this: \n",
    "     - Room 314 → Door connecting to Room 310 → Room 310 → Door connecting to Room 309 → Room 309.\n",
    "   - **Path Representation:** \n",
    "     - Path: [314, door_id_1, 310, door_id_2, 309]\n",
    "   - **Reasoning:** The path is constructed based on the available doors connecting the rooms. Each door must be checked for accessibility.\n",
    "\n",
    "4. **Check Accessibility:**\n",
    "   - For the navigation path, I will check the sizes of the doors against the sizes of the robots.\n",
    "   - I will extract the door sizes from the scene graph and compare them with the sizes of the robots.\n",
    "   - If any doors are too narrow for the robots, I will need to consider alternative paths.\n",
    "   - **Accessible Robots:** \n",
    "     - Assuming the doors are wide enough for robots 4 and 10, both can access room 309.\n",
    "   - **Reasoning:** If any robot cannot fit through a door, I will need to find an alternate route or check if the door sizes can accommodate the robot's width.\n",
    "\n",
    "5. **Final Output:**\n",
    "```json\n",
    "{\n",
    "   \"defect_node\": \"ceiling_id_309\",\n",
    "   \"defect_node_ifcGUID\": \"ceiling_ifc_guid_309\",\n",
    "   \"selected_robots\": [\"robot4\", \"robot10\"],\n",
    "   \"navigation_paths\": [\n",
    "       {\n",
    "           \"path\": [\"314\", \"door_id_1\", \"310\", \"door_id_2\", \"309\"]\n",
    "       }\n",
    "   ],\n",
    "   \"reasoning\": \"The defect identified is a stain on the ceiling in room id 309. Robots 4 and 10 can reach the ceiling height of 3.7 meters. The navigation path from room 314 to room 309 was constructed based on the available doors connecting the rooms. The accessibility assessment indicates that both robots can fit through the doors leading to room 309.\"\n",
    "}"
   ],
   "id": "db36015fca61e2b3"
  },
  {
   "metadata": {
    "ExecuteTime": {
     "end_time": "2024-11-03T22:48:37.830730Z",
     "start_time": "2024-11-03T22:48:34.073555Z"
    }
   },
   "cell_type": "code",
   "source": [
    "from planner.planner_repairPlan import plan_robot_task\n",
    "from data.robots import robots\n",
    "\n",
    "import json\n",
    "user_input = \"there is a stain on the ceiling in room id 8. the robot is currently in room id 3\"\n",
    "repair_plan = plan_robot_task(json_output, user_input, robots)\n",
    "print(repair_plan)"
   ],
   "id": "fb3a19dfde854a55",
   "outputs": [
    {
     "name": "stdout",
     "output_type": "stream",
     "text": [
      "```json\n",
      "{\n",
      "    \"best_robot\": \"10\",\n",
      "    \"tools\": [\"cleaning_solution\", \"cleaning_cloth\", \"ladder\"],\n",
      "    \"action_sequence\": [\n",
      "        \"NavigateToLocation(room_8)\",\n",
      "        \"ScanObject(Ceiling_ID_in_room_8)\",\n",
      "        \"GraspObject(ladder)\",\n",
      "        \"ReleaseObject(ladder_at_position)\",\n",
      "        \"ClimbLadder\",\n",
      "        \"GraspObject(cleaning_solution)\",\n",
      "        \"GraspObject(cleaning_cloth)\",\n",
      "        \"CleanSurface(Ceiling_ID_in_room_8)\",\n",
      "        \"ReleaseObject(cleaning_solution)\",\n",
      "        \"ReleaseObject(cleaning_cloth)\",\n",
      "        \"DescendLadder\",\n",
      "        \"GraspObject(ladder)\",\n",
      "        \"ReleaseObject(ladder_to_storage)\"\n",
      "    ]\n",
      "}\n",
      "```\n",
      "\n",
      "### Explanation:\n",
      "1. **Best Robot**: Robot 10 is selected because it has the necessary action \"CleanSurface\" to address the stain on the ceiling, which Robot 4 lacks.\n",
      "2. **Tools**: The tools required for cleaning the stain are a cleaning solution, a cleaning cloth, and a ladder (to reach the ceiling).\n",
      "3. **Action Sequence**: The robot navigates to room 8, scans the ceiling to confirm the defect, uses a ladder to reach the ceiling, and then cleans the surface using the cleaning solution and cloth. After cleaning, the robot returns the tools to their storage location.\n"
     ]
    }
   ],
   "execution_count": 6
  },
  {
   "metadata": {},
   "cell_type": "code",
   "source": "",
   "id": "a563f6a63c255071",
   "outputs": [],
   "execution_count": null
  },
  {
   "metadata": {},
   "cell_type": "code",
   "outputs": [],
   "execution_count": null,
   "source": "",
   "id": "e7231f89e2ccf6a4"
  }
 ],
 "metadata": {
  "kernelspec": {
   "display_name": "Python 3",
   "language": "python",
   "name": "python3"
  },
  "language_info": {
   "codemirror_mode": {
    "name": "ipython",
    "version": 2
   },
   "file_extension": ".py",
   "mimetype": "text/x-python",
   "name": "python",
   "nbconvert_exporter": "python",
   "pygments_lexer": "ipython2",
   "version": "2.7.6"
  }
 },
 "nbformat": 4,
 "nbformat_minor": 5
}
