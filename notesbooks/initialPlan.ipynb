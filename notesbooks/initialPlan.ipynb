{
 "cells": [
  {
   "cell_type": "code",
   "id": "initial_id",
   "metadata": {
    "collapsed": true,
    "ExecuteTime": {
     "end_time": "2024-11-18T21:48:41.592690Z",
     "start_time": "2024-11-18T21:48:41.193452Z"
    }
   },
   "source": [
    "from planner.planner_navigation import get_inspectionPlan\n",
    "from utils.loader import load_scene_graph\n",
    "from data.robots import robots\n",
    "\n",
    "scene_graph = load_scene_graph(\"../data/sceneGraphs/3dsg_withCOR.json\")\n",
    "user_input = \"there is a stain on the ceiling in room id 320.\"\n",
    "current_robot_location = \"the robot is currently in room id 332\""
   ],
   "outputs": [
    {
     "ename": "ImportError",
     "evalue": "cannot import name 'get_inspectionPlan' from 'planner.planner_navigation' (/Users/nayunkim/Documents/GitHub/repairPlan/planner/planner_navigation.py)",
     "output_type": "error",
     "traceback": [
      "\u001B[0;31m---------------------------------------------------------------------------\u001B[0m",
      "\u001B[0;31mImportError\u001B[0m                               Traceback (most recent call last)",
      "Cell \u001B[0;32mIn[1], line 1\u001B[0m\n\u001B[0;32m----> 1\u001B[0m \u001B[38;5;28;01mfrom\u001B[39;00m \u001B[38;5;21;01mplanner\u001B[39;00m\u001B[38;5;21;01m.\u001B[39;00m\u001B[38;5;21;01mplanner_navigation\u001B[39;00m \u001B[38;5;28;01mimport\u001B[39;00m get_inspectionPlan\n\u001B[1;32m      2\u001B[0m \u001B[38;5;28;01mfrom\u001B[39;00m \u001B[38;5;21;01mutils\u001B[39;00m\u001B[38;5;21;01m.\u001B[39;00m\u001B[38;5;21;01mloader\u001B[39;00m \u001B[38;5;28;01mimport\u001B[39;00m load_scene_graph\n\u001B[1;32m      3\u001B[0m \u001B[38;5;28;01mfrom\u001B[39;00m \u001B[38;5;21;01mdata\u001B[39;00m\u001B[38;5;21;01m.\u001B[39;00m\u001B[38;5;21;01mrobots\u001B[39;00m \u001B[38;5;28;01mimport\u001B[39;00m robots\n",
      "\u001B[0;31mImportError\u001B[0m: cannot import name 'get_inspectionPlan' from 'planner.planner_navigation' (/Users/nayunkim/Documents/GitHub/repairPlan/planner/planner_navigation.py)"
     ]
    }
   ],
   "execution_count": 1
  },
  {
   "metadata": {},
   "cell_type": "code",
   "source": "get_inspectionPlan(user_input, scene_graph, robots, current_robot_location)",
   "id": "7db8abed58f6d2d2",
   "outputs": [],
   "execution_count": null
  },
  {
   "metadata": {},
   "cell_type": "code",
   "source": [
    "new_sceneGraph = load_scene_graph(\"../data/sceneGraphs/new3dsg.json\")\n",
    "get_inspectionPlan(user_input, new_sceneGraph, robots, current_robot_location)"
   ],
   "id": "8be6df769bcd3082",
   "outputs": [],
   "execution_count": null
  },
  {
   "metadata": {},
   "cell_type": "code",
   "source": [
    "from planner.planner_navigation import get_inspectionPlan\n",
    "from utils.loader import load_scene_graph\n",
    "from data.robots import robots\n",
    "\n",
    "get_inspectionPlan(user_input, new_sceneGraph, robots, current_robot_location)"
   ],
   "id": "2d3385cb14b3a822",
   "outputs": [],
   "execution_count": null
  },
  {
   "metadata": {},
   "cell_type": "code",
   "source": "from visualizer.vis_navigation import overlay_navigation_path",
   "id": "39edd57c6c0bd904",
   "outputs": [],
   "execution_count": null
  },
  {
   "metadata": {},
   "cell_type": "code",
   "source": [
    "navigation_path1 = ['332', '101', '330', '102', '328', '103', '320']\n",
    "navigation_path2 = ['332', '45', '330', '42', '320']\n",
    "\n",
    "# overlay_navigation_path(navigation_path1, load_scene_graph(\"../data/sceneGraphs/3dsg_withCOR.json\"), '../data/image/top_view.png', \"navigation_path1.png\")\n",
    "# there is no 101 node\n",
    "overlay_navigation_path(navigation_path2, load_scene_graph(\"../data/sceneGraphs/3dsg_withCOR.json\"), '../data/image/top_view.png', \"navigation_path2.png\")\n"
   ],
   "id": "d7e4d635d7489c12",
   "outputs": [],
   "execution_count": null
  },
  {
   "metadata": {},
   "cell_type": "code",
   "source": "",
   "id": "4465cfb6e4acfe01",
   "outputs": [],
   "execution_count": null
  }
 ],
 "metadata": {
  "kernelspec": {
   "display_name": "Python 3",
   "language": "python",
   "name": "python3"
  },
  "language_info": {
   "codemirror_mode": {
    "name": "ipython",
    "version": 2
   },
   "file_extension": ".py",
   "mimetype": "text/x-python",
   "name": "python",
   "nbconvert_exporter": "python",
   "pygments_lexer": "ipython2",
   "version": "2.7.6"
  }
 },
 "nbformat": 4,
 "nbformat_minor": 5
}
