{
 "cells": [
  {
   "cell_type": "code",
   "execution_count": 1,
   "metadata": {},
   "outputs": [],
   "source": [
    "from planner.planner_repair import get_repair_plan\n",
    "\n",
    "user_info = \"the window is dirty in the room 57\"\n",
    "defect_id = 4068\n",
    "robot_id = 1\n"
   ]
  },
  {
   "cell_type": "code",
   "execution_count": 2,
   "metadata": {},
   "outputs": [
    {
     "name": "stdout",
     "output_type": "stream",
     "text": [
      "['loadArm(sprayGun, cleaning Solution)', 'spray(4068)', 'unloadArm()', 'loadArm(wiper)', 'wipeSurface(4068)', 'unloadArm()']\n",
      "To clean the dirty window in room 57, the robot needs to perform a series of actions using its available equipment and materials. The window is identified by node ID 4068 in the environmental context. The robot will first load the spray gun with cleaning solution to apply the cleaning agent to the window. After spraying, the robot will unload the spray gun and load the wiper to wipe the window clean. Finally, the robot will unload the wiper to complete the task. This sequence ensures that the robot uses the correct equipment and materials in the right order, adhering to its single-arm constraint and the requirement to unload equipment after use.\n"
     ]
    }
   ],
   "source": [
    "actions, reasoning = get_repair_plan(user_info, defect_id, robot_id)\n",
    "print(actions)\n",
    "print(reasoning)"
   ]
  }
 ],
 "metadata": {
  "kernelspec": {
   "display_name": "repairPlan",
   "language": "python",
   "name": "python3"
  },
  "language_info": {
   "codemirror_mode": {
    "name": "ipython",
    "version": 3
   },
   "file_extension": ".py",
   "mimetype": "text/x-python",
   "name": "python",
   "nbconvert_exporter": "python",
   "pygments_lexer": "ipython3",
   "version": "3.9.20"
  }
 },
 "nbformat": 4,
 "nbformat_minor": 2
}
